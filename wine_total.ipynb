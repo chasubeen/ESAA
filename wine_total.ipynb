{
 "cells": [
  {
   "cell_type": "markdown",
   "metadata": {},
   "source": [
    "# **0. 라이브러리 import**"
   ]
  },
  {
   "cell_type": "code",
   "execution_count": 1,
   "metadata": {},
   "outputs": [],
   "source": [
    "import numpy as np\n",
    "import pandas as pd\n",
    "%matplotlib inline\n",
    "import matplotlib.pyplot as plt \n",
    "import seaborn as sns \n",
    "\n",
    "from sklearn.model_selection import train_test_split\n",
    "from sklearn.preprocessing import StandardScaler,MinMaxScaler\n",
    "from sklearn.metrics import accuracy_score\n",
    "\n",
    "#경고 메시지 숨기기\n",
    "import warnings\n",
    "warnings.filterwarnings(action = 'ignore')"
   ]
  },
  {
   "cell_type": "markdown",
   "metadata": {},
   "source": [
    "# **1. 데이터 불러오기**"
   ]
  },
  {
   "cell_type": "markdown",
   "metadata": {},
   "source": [
    "## **📌 Data Description**\n",
    "- index: 구분자\n",
    "- quality: 품질(target 변수) - 범주형\n",
    "- fixed acidity: 산도\n",
    "- volatile acidity: 휘발성산\n",
    "- citric acid: 시트르산\n",
    "- residual sugar: 잔당(발효 후 와인 속에 남아있는 당분)\n",
    "- chlorides: 염화물\n",
    "- free sulfur dioxide: 독립 이산화황\n",
    "- total sulfur dioxide: 총 이산화황\n",
    "- density: 밀도\n",
    "- pH: 수소이온농도\n",
    "- sulphates: 황산염\n",
    "- alcohol: 도수\n",
    "- type: 종류(white vs red)"
   ]
  },
  {
   "cell_type": "code",
   "execution_count": 2,
   "metadata": {},
   "outputs": [],
   "source": [
    "train = pd.read_csv('./data/train.csv')\n",
    "test = pd.read_csv('./data/test.csv')"
   ]
  },
  {
   "cell_type": "code",
   "execution_count": 3,
   "metadata": {},
   "outputs": [
    {
     "data": {
      "text/html": [
       "<div>\n",
       "<style scoped>\n",
       "    .dataframe tbody tr th:only-of-type {\n",
       "        vertical-align: middle;\n",
       "    }\n",
       "\n",
       "    .dataframe tbody tr th {\n",
       "        vertical-align: top;\n",
       "    }\n",
       "\n",
       "    .dataframe thead th {\n",
       "        text-align: right;\n",
       "    }\n",
       "</style>\n",
       "<table border=\"1\" class=\"dataframe\">\n",
       "  <thead>\n",
       "    <tr style=\"text-align: right;\">\n",
       "      <th></th>\n",
       "      <th>index</th>\n",
       "      <th>quality</th>\n",
       "      <th>fixed acidity</th>\n",
       "      <th>volatile acidity</th>\n",
       "      <th>citric acid</th>\n",
       "      <th>residual sugar</th>\n",
       "      <th>chlorides</th>\n",
       "      <th>free sulfur dioxide</th>\n",
       "      <th>total sulfur dioxide</th>\n",
       "      <th>density</th>\n",
       "      <th>pH</th>\n",
       "      <th>sulphates</th>\n",
       "      <th>alcohol</th>\n",
       "      <th>type</th>\n",
       "    </tr>\n",
       "  </thead>\n",
       "  <tbody>\n",
       "    <tr>\n",
       "      <th>0</th>\n",
       "      <td>0</td>\n",
       "      <td>5</td>\n",
       "      <td>5.6</td>\n",
       "      <td>0.695</td>\n",
       "      <td>0.06</td>\n",
       "      <td>6.8</td>\n",
       "      <td>0.042</td>\n",
       "      <td>9.0</td>\n",
       "      <td>84.0</td>\n",
       "      <td>0.99432</td>\n",
       "      <td>3.44</td>\n",
       "      <td>0.44</td>\n",
       "      <td>10.2</td>\n",
       "      <td>white</td>\n",
       "    </tr>\n",
       "    <tr>\n",
       "      <th>1</th>\n",
       "      <td>1</td>\n",
       "      <td>5</td>\n",
       "      <td>8.8</td>\n",
       "      <td>0.610</td>\n",
       "      <td>0.14</td>\n",
       "      <td>2.4</td>\n",
       "      <td>0.067</td>\n",
       "      <td>10.0</td>\n",
       "      <td>42.0</td>\n",
       "      <td>0.99690</td>\n",
       "      <td>3.19</td>\n",
       "      <td>0.59</td>\n",
       "      <td>9.5</td>\n",
       "      <td>red</td>\n",
       "    </tr>\n",
       "    <tr>\n",
       "      <th>2</th>\n",
       "      <td>2</td>\n",
       "      <td>5</td>\n",
       "      <td>7.9</td>\n",
       "      <td>0.210</td>\n",
       "      <td>0.39</td>\n",
       "      <td>2.0</td>\n",
       "      <td>0.057</td>\n",
       "      <td>21.0</td>\n",
       "      <td>138.0</td>\n",
       "      <td>0.99176</td>\n",
       "      <td>3.05</td>\n",
       "      <td>0.52</td>\n",
       "      <td>10.9</td>\n",
       "      <td>white</td>\n",
       "    </tr>\n",
       "    <tr>\n",
       "      <th>3</th>\n",
       "      <td>3</td>\n",
       "      <td>6</td>\n",
       "      <td>7.0</td>\n",
       "      <td>0.210</td>\n",
       "      <td>0.31</td>\n",
       "      <td>6.0</td>\n",
       "      <td>0.046</td>\n",
       "      <td>29.0</td>\n",
       "      <td>108.0</td>\n",
       "      <td>0.99390</td>\n",
       "      <td>3.26</td>\n",
       "      <td>0.50</td>\n",
       "      <td>10.8</td>\n",
       "      <td>white</td>\n",
       "    </tr>\n",
       "    <tr>\n",
       "      <th>4</th>\n",
       "      <td>4</td>\n",
       "      <td>6</td>\n",
       "      <td>7.8</td>\n",
       "      <td>0.400</td>\n",
       "      <td>0.26</td>\n",
       "      <td>9.5</td>\n",
       "      <td>0.059</td>\n",
       "      <td>32.0</td>\n",
       "      <td>178.0</td>\n",
       "      <td>0.99550</td>\n",
       "      <td>3.04</td>\n",
       "      <td>0.43</td>\n",
       "      <td>10.9</td>\n",
       "      <td>white</td>\n",
       "    </tr>\n",
       "  </tbody>\n",
       "</table>\n",
       "</div>"
      ],
      "text/plain": [
       "   index  quality  fixed acidity  volatile acidity  citric acid  \\\n",
       "0      0        5            5.6             0.695         0.06   \n",
       "1      1        5            8.8             0.610         0.14   \n",
       "2      2        5            7.9             0.210         0.39   \n",
       "3      3        6            7.0             0.210         0.31   \n",
       "4      4        6            7.8             0.400         0.26   \n",
       "\n",
       "   residual sugar  chlorides  free sulfur dioxide  total sulfur dioxide  \\\n",
       "0             6.8      0.042                  9.0                  84.0   \n",
       "1             2.4      0.067                 10.0                  42.0   \n",
       "2             2.0      0.057                 21.0                 138.0   \n",
       "3             6.0      0.046                 29.0                 108.0   \n",
       "4             9.5      0.059                 32.0                 178.0   \n",
       "\n",
       "   density    pH  sulphates  alcohol   type  \n",
       "0  0.99432  3.44       0.44     10.2  white  \n",
       "1  0.99690  3.19       0.59      9.5    red  \n",
       "2  0.99176  3.05       0.52     10.9  white  \n",
       "3  0.99390  3.26       0.50     10.8  white  \n",
       "4  0.99550  3.04       0.43     10.9  white  "
      ]
     },
     "execution_count": 3,
     "metadata": {},
     "output_type": "execute_result"
    }
   ],
   "source": [
    "### train 데이터\n",
    "# index를 제외하면 총 13개 변수를 가짐\n",
    "# quality(와인의 품질) - target 변수\n",
    "\n",
    "train.head()"
   ]
  },
  {
   "cell_type": "code",
   "execution_count": 4,
   "metadata": {},
   "outputs": [
    {
     "data": {
      "text/html": [
       "<div>\n",
       "<style scoped>\n",
       "    .dataframe tbody tr th:only-of-type {\n",
       "        vertical-align: middle;\n",
       "    }\n",
       "\n",
       "    .dataframe tbody tr th {\n",
       "        vertical-align: top;\n",
       "    }\n",
       "\n",
       "    .dataframe thead th {\n",
       "        text-align: right;\n",
       "    }\n",
       "</style>\n",
       "<table border=\"1\" class=\"dataframe\">\n",
       "  <thead>\n",
       "    <tr style=\"text-align: right;\">\n",
       "      <th></th>\n",
       "      <th>index</th>\n",
       "      <th>fixed acidity</th>\n",
       "      <th>volatile acidity</th>\n",
       "      <th>citric acid</th>\n",
       "      <th>residual sugar</th>\n",
       "      <th>chlorides</th>\n",
       "      <th>free sulfur dioxide</th>\n",
       "      <th>total sulfur dioxide</th>\n",
       "      <th>density</th>\n",
       "      <th>pH</th>\n",
       "      <th>sulphates</th>\n",
       "      <th>alcohol</th>\n",
       "      <th>type</th>\n",
       "    </tr>\n",
       "  </thead>\n",
       "  <tbody>\n",
       "    <tr>\n",
       "      <th>0</th>\n",
       "      <td>0</td>\n",
       "      <td>9.0</td>\n",
       "      <td>0.31</td>\n",
       "      <td>0.48</td>\n",
       "      <td>6.6</td>\n",
       "      <td>0.043</td>\n",
       "      <td>11.0</td>\n",
       "      <td>73.0</td>\n",
       "      <td>0.99380</td>\n",
       "      <td>2.90</td>\n",
       "      <td>0.38</td>\n",
       "      <td>11.6</td>\n",
       "      <td>white</td>\n",
       "    </tr>\n",
       "    <tr>\n",
       "      <th>1</th>\n",
       "      <td>1</td>\n",
       "      <td>13.3</td>\n",
       "      <td>0.43</td>\n",
       "      <td>0.58</td>\n",
       "      <td>1.9</td>\n",
       "      <td>0.070</td>\n",
       "      <td>15.0</td>\n",
       "      <td>40.0</td>\n",
       "      <td>1.00040</td>\n",
       "      <td>3.06</td>\n",
       "      <td>0.49</td>\n",
       "      <td>9.0</td>\n",
       "      <td>red</td>\n",
       "    </tr>\n",
       "    <tr>\n",
       "      <th>2</th>\n",
       "      <td>2</td>\n",
       "      <td>6.5</td>\n",
       "      <td>0.28</td>\n",
       "      <td>0.27</td>\n",
       "      <td>5.2</td>\n",
       "      <td>0.040</td>\n",
       "      <td>44.0</td>\n",
       "      <td>179.0</td>\n",
       "      <td>0.99480</td>\n",
       "      <td>3.19</td>\n",
       "      <td>0.69</td>\n",
       "      <td>9.4</td>\n",
       "      <td>white</td>\n",
       "    </tr>\n",
       "    <tr>\n",
       "      <th>3</th>\n",
       "      <td>3</td>\n",
       "      <td>7.2</td>\n",
       "      <td>0.15</td>\n",
       "      <td>0.39</td>\n",
       "      <td>1.8</td>\n",
       "      <td>0.043</td>\n",
       "      <td>21.0</td>\n",
       "      <td>159.0</td>\n",
       "      <td>0.99480</td>\n",
       "      <td>3.52</td>\n",
       "      <td>0.47</td>\n",
       "      <td>10.0</td>\n",
       "      <td>white</td>\n",
       "    </tr>\n",
       "    <tr>\n",
       "      <th>4</th>\n",
       "      <td>4</td>\n",
       "      <td>6.8</td>\n",
       "      <td>0.26</td>\n",
       "      <td>0.26</td>\n",
       "      <td>2.0</td>\n",
       "      <td>0.019</td>\n",
       "      <td>23.5</td>\n",
       "      <td>72.0</td>\n",
       "      <td>0.99041</td>\n",
       "      <td>3.16</td>\n",
       "      <td>0.47</td>\n",
       "      <td>11.8</td>\n",
       "      <td>white</td>\n",
       "    </tr>\n",
       "  </tbody>\n",
       "</table>\n",
       "</div>"
      ],
      "text/plain": [
       "   index  fixed acidity  volatile acidity  citric acid  residual sugar  \\\n",
       "0      0            9.0              0.31         0.48             6.6   \n",
       "1      1           13.3              0.43         0.58             1.9   \n",
       "2      2            6.5              0.28         0.27             5.2   \n",
       "3      3            7.2              0.15         0.39             1.8   \n",
       "4      4            6.8              0.26         0.26             2.0   \n",
       "\n",
       "   chlorides  free sulfur dioxide  total sulfur dioxide  density    pH  \\\n",
       "0      0.043                 11.0                  73.0  0.99380  2.90   \n",
       "1      0.070                 15.0                  40.0  1.00040  3.06   \n",
       "2      0.040                 44.0                 179.0  0.99480  3.19   \n",
       "3      0.043                 21.0                 159.0  0.99480  3.52   \n",
       "4      0.019                 23.5                  72.0  0.99041  3.16   \n",
       "\n",
       "   sulphates  alcohol   type  \n",
       "0       0.38     11.6  white  \n",
       "1       0.49      9.0    red  \n",
       "2       0.69      9.4  white  \n",
       "3       0.47     10.0  white  \n",
       "4       0.47     11.8  white  "
      ]
     },
     "execution_count": 4,
     "metadata": {},
     "output_type": "execute_result"
    }
   ],
   "source": [
    "### test 데이터\n",
    "# index를 제외하면 총 12개 변수를 가짐\n",
    "\n",
    "test.head()"
   ]
  },
  {
   "cell_type": "markdown",
   "metadata": {},
   "source": [
    "- 와인의 종류에 따라 성질과 품질이 달라질 것이라고 판단함\n",
    "    - red 와인과 white 와인을 **분리**한 후, 각각에 대한 품질 분류 모델을 별도로 생성"
   ]
  },
  {
   "cell_type": "markdown",
   "metadata": {},
   "source": [
    "# **2. 데이터 전처리 & EDA**"
   ]
  },
  {
   "cell_type": "code",
   "execution_count": 5,
   "metadata": {},
   "outputs": [],
   "source": [
    "### 필요없는 변수 제거\n",
    "# index는 불필요한 변수이므로 삭제\n",
    "\n",
    "train = train.drop(['index'], axis = 1)\n",
    "test = test.drop(['index'], axis = 1)"
   ]
  },
  {
   "cell_type": "markdown",
   "metadata": {},
   "source": [
    "## **2-1. 데이터 구조 확인**"
   ]
  },
  {
   "cell_type": "code",
   "execution_count": 6,
   "metadata": {},
   "outputs": [
    {
     "name": "stdout",
     "output_type": "stream",
     "text": [
      "<class 'pandas.core.frame.DataFrame'>\n",
      "RangeIndex: 5497 entries, 0 to 5496\n",
      "Data columns (total 13 columns):\n",
      " #   Column                Non-Null Count  Dtype  \n",
      "---  ------                --------------  -----  \n",
      " 0   quality               5497 non-null   int64  \n",
      " 1   fixed acidity         5497 non-null   float64\n",
      " 2   volatile acidity      5497 non-null   float64\n",
      " 3   citric acid           5497 non-null   float64\n",
      " 4   residual sugar        5497 non-null   float64\n",
      " 5   chlorides             5497 non-null   float64\n",
      " 6   free sulfur dioxide   5497 non-null   float64\n",
      " 7   total sulfur dioxide  5497 non-null   float64\n",
      " 8   density               5497 non-null   float64\n",
      " 9   pH                    5497 non-null   float64\n",
      " 10  sulphates             5497 non-null   float64\n",
      " 11  alcohol               5497 non-null   float64\n",
      " 12  type                  5497 non-null   object \n",
      "dtypes: float64(11), int64(1), object(1)\n",
      "memory usage: 558.4+ KB\n"
     ]
    }
   ],
   "source": [
    "### train 데이터의 column 정보 확인\n",
    "\n",
    "train.info()"
   ]
  },
  {
   "cell_type": "code",
   "execution_count": 7,
   "metadata": {},
   "outputs": [
    {
     "name": "stdout",
     "output_type": "stream",
     "text": [
      "<class 'pandas.core.frame.DataFrame'>\n",
      "RangeIndex: 1000 entries, 0 to 999\n",
      "Data columns (total 12 columns):\n",
      " #   Column                Non-Null Count  Dtype  \n",
      "---  ------                --------------  -----  \n",
      " 0   fixed acidity         1000 non-null   float64\n",
      " 1   volatile acidity      1000 non-null   float64\n",
      " 2   citric acid           1000 non-null   float64\n",
      " 3   residual sugar        1000 non-null   float64\n",
      " 4   chlorides             1000 non-null   float64\n",
      " 5   free sulfur dioxide   1000 non-null   float64\n",
      " 6   total sulfur dioxide  1000 non-null   float64\n",
      " 7   density               1000 non-null   float64\n",
      " 8   pH                    1000 non-null   float64\n",
      " 9   sulphates             1000 non-null   float64\n",
      " 10  alcohol               1000 non-null   float64\n",
      " 11  type                  1000 non-null   object \n",
      "dtypes: float64(11), object(1)\n",
      "memory usage: 93.9+ KB\n"
     ]
    }
   ],
   "source": [
    "### test 데이터의 column 정보 확인\n",
    "\n",
    "test.info()"
   ]
  },
  {
   "cell_type": "markdown",
   "metadata": {},
   "source": [
    "- type을 제외하고는 모두 숫자형 변수이다.\n",
    "- 결측치는 존재하지 않는다."
   ]
  },
  {
   "cell_type": "code",
   "execution_count": 8,
   "metadata": {},
   "outputs": [
    {
     "data": {
      "text/html": [
       "<div>\n",
       "<style scoped>\n",
       "    .dataframe tbody tr th:only-of-type {\n",
       "        vertical-align: middle;\n",
       "    }\n",
       "\n",
       "    .dataframe tbody tr th {\n",
       "        vertical-align: top;\n",
       "    }\n",
       "\n",
       "    .dataframe thead th {\n",
       "        text-align: right;\n",
       "    }\n",
       "</style>\n",
       "<table border=\"1\" class=\"dataframe\">\n",
       "  <thead>\n",
       "    <tr style=\"text-align: right;\">\n",
       "      <th></th>\n",
       "      <th>quality</th>\n",
       "      <th>fixed acidity</th>\n",
       "      <th>volatile acidity</th>\n",
       "      <th>citric acid</th>\n",
       "      <th>residual sugar</th>\n",
       "      <th>chlorides</th>\n",
       "      <th>free sulfur dioxide</th>\n",
       "      <th>total sulfur dioxide</th>\n",
       "      <th>density</th>\n",
       "      <th>pH</th>\n",
       "      <th>sulphates</th>\n",
       "      <th>alcohol</th>\n",
       "    </tr>\n",
       "  </thead>\n",
       "  <tbody>\n",
       "    <tr>\n",
       "      <th>count</th>\n",
       "      <td>5497.000000</td>\n",
       "      <td>5497.000000</td>\n",
       "      <td>5497.000000</td>\n",
       "      <td>5497.000000</td>\n",
       "      <td>5497.000000</td>\n",
       "      <td>5497.000000</td>\n",
       "      <td>5497.000000</td>\n",
       "      <td>5497.000000</td>\n",
       "      <td>5497.000000</td>\n",
       "      <td>5497.000000</td>\n",
       "      <td>5497.000000</td>\n",
       "      <td>5497.000000</td>\n",
       "    </tr>\n",
       "    <tr>\n",
       "      <th>mean</th>\n",
       "      <td>5.818992</td>\n",
       "      <td>7.210115</td>\n",
       "      <td>0.338163</td>\n",
       "      <td>0.318543</td>\n",
       "      <td>5.438075</td>\n",
       "      <td>0.055808</td>\n",
       "      <td>30.417682</td>\n",
       "      <td>115.566491</td>\n",
       "      <td>0.994673</td>\n",
       "      <td>3.219502</td>\n",
       "      <td>0.530524</td>\n",
       "      <td>10.504918</td>\n",
       "    </tr>\n",
       "    <tr>\n",
       "      <th>std</th>\n",
       "      <td>0.870311</td>\n",
       "      <td>1.287579</td>\n",
       "      <td>0.163224</td>\n",
       "      <td>0.145104</td>\n",
       "      <td>4.756676</td>\n",
       "      <td>0.034653</td>\n",
       "      <td>17.673881</td>\n",
       "      <td>56.288223</td>\n",
       "      <td>0.003014</td>\n",
       "      <td>0.160713</td>\n",
       "      <td>0.149396</td>\n",
       "      <td>1.194524</td>\n",
       "    </tr>\n",
       "    <tr>\n",
       "      <th>min</th>\n",
       "      <td>3.000000</td>\n",
       "      <td>3.800000</td>\n",
       "      <td>0.080000</td>\n",
       "      <td>0.000000</td>\n",
       "      <td>0.600000</td>\n",
       "      <td>0.009000</td>\n",
       "      <td>1.000000</td>\n",
       "      <td>6.000000</td>\n",
       "      <td>0.987110</td>\n",
       "      <td>2.740000</td>\n",
       "      <td>0.220000</td>\n",
       "      <td>8.000000</td>\n",
       "    </tr>\n",
       "    <tr>\n",
       "      <th>25%</th>\n",
       "      <td>5.000000</td>\n",
       "      <td>6.400000</td>\n",
       "      <td>0.230000</td>\n",
       "      <td>0.250000</td>\n",
       "      <td>1.800000</td>\n",
       "      <td>0.038000</td>\n",
       "      <td>17.000000</td>\n",
       "      <td>78.000000</td>\n",
       "      <td>0.992300</td>\n",
       "      <td>3.110000</td>\n",
       "      <td>0.430000</td>\n",
       "      <td>9.500000</td>\n",
       "    </tr>\n",
       "    <tr>\n",
       "      <th>50%</th>\n",
       "      <td>6.000000</td>\n",
       "      <td>7.000000</td>\n",
       "      <td>0.290000</td>\n",
       "      <td>0.310000</td>\n",
       "      <td>3.000000</td>\n",
       "      <td>0.047000</td>\n",
       "      <td>29.000000</td>\n",
       "      <td>118.000000</td>\n",
       "      <td>0.994800</td>\n",
       "      <td>3.210000</td>\n",
       "      <td>0.510000</td>\n",
       "      <td>10.300000</td>\n",
       "    </tr>\n",
       "    <tr>\n",
       "      <th>75%</th>\n",
       "      <td>6.000000</td>\n",
       "      <td>7.700000</td>\n",
       "      <td>0.400000</td>\n",
       "      <td>0.390000</td>\n",
       "      <td>8.100000</td>\n",
       "      <td>0.064000</td>\n",
       "      <td>41.000000</td>\n",
       "      <td>155.000000</td>\n",
       "      <td>0.996930</td>\n",
       "      <td>3.320000</td>\n",
       "      <td>0.600000</td>\n",
       "      <td>11.300000</td>\n",
       "    </tr>\n",
       "    <tr>\n",
       "      <th>max</th>\n",
       "      <td>9.000000</td>\n",
       "      <td>15.900000</td>\n",
       "      <td>1.580000</td>\n",
       "      <td>1.660000</td>\n",
       "      <td>65.800000</td>\n",
       "      <td>0.610000</td>\n",
       "      <td>289.000000</td>\n",
       "      <td>440.000000</td>\n",
       "      <td>1.038980</td>\n",
       "      <td>4.010000</td>\n",
       "      <td>2.000000</td>\n",
       "      <td>14.900000</td>\n",
       "    </tr>\n",
       "  </tbody>\n",
       "</table>\n",
       "</div>"
      ],
      "text/plain": [
       "           quality  fixed acidity  volatile acidity  citric acid  \\\n",
       "count  5497.000000    5497.000000       5497.000000  5497.000000   \n",
       "mean      5.818992       7.210115          0.338163     0.318543   \n",
       "std       0.870311       1.287579          0.163224     0.145104   \n",
       "min       3.000000       3.800000          0.080000     0.000000   \n",
       "25%       5.000000       6.400000          0.230000     0.250000   \n",
       "50%       6.000000       7.000000          0.290000     0.310000   \n",
       "75%       6.000000       7.700000          0.400000     0.390000   \n",
       "max       9.000000      15.900000          1.580000     1.660000   \n",
       "\n",
       "       residual sugar    chlorides  free sulfur dioxide  total sulfur dioxide  \\\n",
       "count     5497.000000  5497.000000          5497.000000           5497.000000   \n",
       "mean         5.438075     0.055808            30.417682            115.566491   \n",
       "std          4.756676     0.034653            17.673881             56.288223   \n",
       "min          0.600000     0.009000             1.000000              6.000000   \n",
       "25%          1.800000     0.038000            17.000000             78.000000   \n",
       "50%          3.000000     0.047000            29.000000            118.000000   \n",
       "75%          8.100000     0.064000            41.000000            155.000000   \n",
       "max         65.800000     0.610000           289.000000            440.000000   \n",
       "\n",
       "           density           pH    sulphates      alcohol  \n",
       "count  5497.000000  5497.000000  5497.000000  5497.000000  \n",
       "mean      0.994673     3.219502     0.530524    10.504918  \n",
       "std       0.003014     0.160713     0.149396     1.194524  \n",
       "min       0.987110     2.740000     0.220000     8.000000  \n",
       "25%       0.992300     3.110000     0.430000     9.500000  \n",
       "50%       0.994800     3.210000     0.510000    10.300000  \n",
       "75%       0.996930     3.320000     0.600000    11.300000  \n",
       "max       1.038980     4.010000     2.000000    14.900000  "
      ]
     },
     "execution_count": 8,
     "metadata": {},
     "output_type": "execute_result"
    }
   ],
   "source": [
    "train.describe()"
   ]
  },
  {
   "cell_type": "markdown",
   "metadata": {},
   "source": [
    "- 데이터들 간의 스케일 차이가 존재함을 확인할 수 있다.\n",
    "    - 표준화(StandardScaler) 진행\n",
    "- 데이터 중 일부 이상치가 존재함을 짐작할 수 있다."
   ]
  },
  {
   "cell_type": "markdown",
   "metadata": {},
   "source": [
    "## **2-2. 데이터 분포 확인**"
   ]
  },
  {
   "cell_type": "markdown",
   "metadata": {},
   "source": [
    "### **a) Target 값의 분포**"
   ]
  },
  {
   "cell_type": "code",
   "execution_count": 9,
   "metadata": {},
   "outputs": [
    {
     "data": {
      "text/plain": [
       "6    2416\n",
       "5    1788\n",
       "7     924\n",
       "4     186\n",
       "8     152\n",
       "3      26\n",
       "9       5\n",
       "Name: quality, dtype: int64"
      ]
     },
     "execution_count": 9,
     "metadata": {},
     "output_type": "execute_result"
    }
   ],
   "source": [
    "train['quality'].value_counts()"
   ]
  },
  {
   "cell_type": "code",
   "execution_count": 10,
   "metadata": {},
   "outputs": [
    {
     "data": {
      "text/plain": [
       "<AxesSubplot:xlabel='quality', ylabel='count'>"
      ]
     },
     "execution_count": 10,
     "metadata": {},
     "output_type": "execute_result"
    },
    {
     "data": {
      "image/png": "[encoded data removed]",
      "text/plain": [
       "<Figure size 432x288 with 1 Axes>"
      ]
     },
     "metadata": {
      "needs_background": "light"
     },
     "output_type": "display_data"
    }
   ],
   "source": [
    "sns.countplot(x = train['quality'])"
   ]
  },
  {
   "cell_type": "markdown",
   "metadata": {},
   "source": [
    "- quality의 클래스가 너무 많다.\n",
    "    - 5,6이 대부분\n",
    "    - 3과 8은 매우 적은 수\n",
    "- 품질을 모아서 4개의 클래스로 재분류\n",
    "    - 3 + 4 => 4 (worst)\n",
    "    - 5 (bad)\n",
    "    - 6 (good)\n",
    "    - 7 + 8 + 9 => 7 (best)"
   ]
  },
  {
   "cell_type": "code",
   "execution_count": 11,
   "metadata": {},
   "outputs": [],
   "source": [
    "### 클래스 재분류\n",
    "\n",
    "train.loc[train['quality'] <= 4, 'new_quality'] = 4\n",
    "train.loc[train['quality'] == 5, 'new_quality'] = 5\n",
    "train.loc[train['quality'] == 6, 'new_quality'] = 6\n",
    "train.loc[train['quality'] >= 7, 'new_quality'] = 7"
   ]
  },
  {
   "cell_type": "code",
   "execution_count": 12,
   "metadata": {},
   "outputs": [],
   "source": [
    "# 클래스이기에 int 형으로 변환해주기\n",
    "\n",
    "train = train.astype({'new_quality':'int32'})"
   ]
  },
  {
   "cell_type": "code",
   "execution_count": 13,
   "metadata": {},
   "outputs": [
    {
     "data": {
      "text/plain": [
       "6    2416\n",
       "5    1788\n",
       "7    1081\n",
       "4     212\n",
       "Name: new_quality, dtype: int64"
      ]
     },
     "execution_count": 13,
     "metadata": {},
     "output_type": "execute_result"
    }
   ],
   "source": [
    "train['new_quality'].value_counts()"
   ]
  },
  {
   "cell_type": "code",
   "execution_count": 14,
   "metadata": {},
   "outputs": [
    {
     "data": {
      "text/plain": [
       "<AxesSubplot:xlabel='new_quality', ylabel='count'>"
      ]
     },
     "execution_count": 14,
     "metadata": {},
     "output_type": "execute_result"
    },
    {
     "data": {
      "image/png": "[encoded data removed]",
      "text/plain": [
       "<Figure size 432x288 with 1 Axes>"
      ]
     },
     "metadata": {
      "needs_background": "light"
     },
     "output_type": "display_data"
    }
   ],
   "source": [
    "sns.countplot(x = train['new_quality'])"
   ]
  },
  {
   "cell_type": "code",
   "execution_count": 15,
   "metadata": {},
   "outputs": [],
   "source": [
    "### 기존 quality 제거\n",
    "\n",
    "train = train.drop('quality', axis = 1)"
   ]
  },
  {
   "cell_type": "code",
   "execution_count": 16,
   "metadata": {},
   "outputs": [
    {
     "data": {
      "text/html": [
       "<div>\n",
       "<style scoped>\n",
       "    .dataframe tbody tr th:only-of-type {\n",
       "        vertical-align: middle;\n",
       "    }\n",
       "\n",
       "    .dataframe tbody tr th {\n",
       "        vertical-align: top;\n",
       "    }\n",
       "\n",
       "    .dataframe thead th {\n",
       "        text-align: right;\n",
       "    }\n",
       "</style>\n",
       "<table border=\"1\" class=\"dataframe\">\n",
       "  <thead>\n",
       "    <tr style=\"text-align: right;\">\n",
       "      <th></th>\n",
       "      <th>fixed acidity</th>\n",
       "      <th>volatile acidity</th>\n",
       "      <th>citric acid</th>\n",
       "      <th>residual sugar</th>\n",
       "      <th>chlorides</th>\n",
       "      <th>free sulfur dioxide</th>\n",
       "      <th>total sulfur dioxide</th>\n",
       "      <th>density</th>\n",
       "      <th>pH</th>\n",
       "      <th>sulphates</th>\n",
       "      <th>alcohol</th>\n",
       "      <th>type</th>\n",
       "      <th>new_quality</th>\n",
       "    </tr>\n",
       "  </thead>\n",
       "  <tbody>\n",
       "    <tr>\n",
       "      <th>0</th>\n",
       "      <td>5.6</td>\n",
       "      <td>0.695</td>\n",
       "      <td>0.06</td>\n",
       "      <td>6.8</td>\n",
       "      <td>0.042</td>\n",
       "      <td>9.0</td>\n",
       "      <td>84.0</td>\n",
       "      <td>0.99432</td>\n",
       "      <td>3.44</td>\n",
       "      <td>0.44</td>\n",
       "      <td>10.2</td>\n",
       "      <td>white</td>\n",
       "      <td>5</td>\n",
       "    </tr>\n",
       "    <tr>\n",
       "      <th>1</th>\n",
       "      <td>8.8</td>\n",
       "      <td>0.610</td>\n",
       "      <td>0.14</td>\n",
       "      <td>2.4</td>\n",
       "      <td>0.067</td>\n",
       "      <td>10.0</td>\n",
       "      <td>42.0</td>\n",
       "      <td>0.99690</td>\n",
       "      <td>3.19</td>\n",
       "      <td>0.59</td>\n",
       "      <td>9.5</td>\n",
       "      <td>red</td>\n",
       "      <td>5</td>\n",
       "    </tr>\n",
       "    <tr>\n",
       "      <th>2</th>\n",
       "      <td>7.9</td>\n",
       "      <td>0.210</td>\n",
       "      <td>0.39</td>\n",
       "      <td>2.0</td>\n",
       "      <td>0.057</td>\n",
       "      <td>21.0</td>\n",
       "      <td>138.0</td>\n",
       "      <td>0.99176</td>\n",
       "      <td>3.05</td>\n",
       "      <td>0.52</td>\n",
       "      <td>10.9</td>\n",
       "      <td>white</td>\n",
       "      <td>5</td>\n",
       "    </tr>\n",
       "    <tr>\n",
       "      <th>3</th>\n",
       "      <td>7.0</td>\n",
       "      <td>0.210</td>\n",
       "      <td>0.31</td>\n",
       "      <td>6.0</td>\n",
       "      <td>0.046</td>\n",
       "      <td>29.0</td>\n",
       "      <td>108.0</td>\n",
       "      <td>0.99390</td>\n",
       "      <td>3.26</td>\n",
       "      <td>0.50</td>\n",
       "      <td>10.8</td>\n",
       "      <td>white</td>\n",
       "      <td>6</td>\n",
       "    </tr>\n",
       "    <tr>\n",
       "      <th>4</th>\n",
       "      <td>7.8</td>\n",
       "      <td>0.400</td>\n",
       "      <td>0.26</td>\n",
       "      <td>9.5</td>\n",
       "      <td>0.059</td>\n",
       "      <td>32.0</td>\n",
       "      <td>178.0</td>\n",
       "      <td>0.99550</td>\n",
       "      <td>3.04</td>\n",
       "      <td>0.43</td>\n",
       "      <td>10.9</td>\n",
       "      <td>white</td>\n",
       "      <td>6</td>\n",
       "    </tr>\n",
       "  </tbody>\n",
       "</table>\n",
       "</div>"
      ],
      "text/plain": [
       "   fixed acidity  volatile acidity  citric acid  residual sugar  chlorides  \\\n",
       "0            5.6             0.695         0.06             6.8      0.042   \n",
       "1            8.8             0.610         0.14             2.4      0.067   \n",
       "2            7.9             0.210         0.39             2.0      0.057   \n",
       "3            7.0             0.210         0.31             6.0      0.046   \n",
       "4            7.8             0.400         0.26             9.5      0.059   \n",
       "\n",
       "   free sulfur dioxide  total sulfur dioxide  density    pH  sulphates  \\\n",
       "0                  9.0                  84.0  0.99432  3.44       0.44   \n",
       "1                 10.0                  42.0  0.99690  3.19       0.59   \n",
       "2                 21.0                 138.0  0.99176  3.05       0.52   \n",
       "3                 29.0                 108.0  0.99390  3.26       0.50   \n",
       "4                 32.0                 178.0  0.99550  3.04       0.43   \n",
       "\n",
       "   alcohol   type  new_quality  \n",
       "0     10.2  white            5  \n",
       "1      9.5    red            5  \n",
       "2     10.9  white            5  \n",
       "3     10.8  white            6  \n",
       "4     10.9  white            6  "
      ]
     },
     "execution_count": 16,
     "metadata": {},
     "output_type": "execute_result"
    }
   ],
   "source": [
    "train.head()"
   ]
  },
  {
   "cell_type": "code",
   "execution_count": 17,
   "metadata": {},
   "outputs": [],
   "source": [
    "### Label Encoding\n",
    "# class가 4,5,6,7인 경우 XGBoost에서 오류 발생(0부터 class가 시작하기를 기대함)\n",
    "# type 변수 또한 범주형 변수이니 바꿔주기\n",
    "\n",
    "from sklearn.preprocessing import LabelEncoder\n",
    "\n",
    "encoder = LabelEncoder()\n",
    "train['type'] = encoder.fit_transform(train['type'])\n",
    "test['type'] = encoder.transform(test['type'])\n",
    "\n",
    "train['new_quality'] = encoder.fit_transform(train['new_quality'])"
   ]
  },
  {
   "cell_type": "code",
   "execution_count": 18,
   "metadata": {},
   "outputs": [
    {
     "data": {
      "text/html": [
       "<div>\n",
       "<style scoped>\n",
       "    .dataframe tbody tr th:only-of-type {\n",
       "        vertical-align: middle;\n",
       "    }\n",
       "\n",
       "    .dataframe tbody tr th {\n",
       "        vertical-align: top;\n",
       "    }\n",
       "\n",
       "    .dataframe thead th {\n",
       "        text-align: right;\n",
       "    }\n",
       "</style>\n",
       "<table border=\"1\" class=\"dataframe\">\n",
       "  <thead>\n",
       "    <tr style=\"text-align: right;\">\n",
       "      <th></th>\n",
       "      <th>fixed acidity</th>\n",
       "      <th>volatile acidity</th>\n",
       "      <th>citric acid</th>\n",
       "      <th>residual sugar</th>\n",
       "      <th>chlorides</th>\n",
       "      <th>free sulfur dioxide</th>\n",
       "      <th>total sulfur dioxide</th>\n",
       "      <th>density</th>\n",
       "      <th>pH</th>\n",
       "      <th>sulphates</th>\n",
       "      <th>alcohol</th>\n",
       "      <th>type</th>\n",
       "      <th>new_quality</th>\n",
       "    </tr>\n",
       "  </thead>\n",
       "  <tbody>\n",
       "    <tr>\n",
       "      <th>0</th>\n",
       "      <td>5.6</td>\n",
       "      <td>0.695</td>\n",
       "      <td>0.06</td>\n",
       "      <td>6.8</td>\n",
       "      <td>0.042</td>\n",
       "      <td>9.0</td>\n",
       "      <td>84.0</td>\n",
       "      <td>0.99432</td>\n",
       "      <td>3.44</td>\n",
       "      <td>0.44</td>\n",
       "      <td>10.2</td>\n",
       "      <td>1</td>\n",
       "      <td>1</td>\n",
       "    </tr>\n",
       "    <tr>\n",
       "      <th>1</th>\n",
       "      <td>8.8</td>\n",
       "      <td>0.610</td>\n",
       "      <td>0.14</td>\n",
       "      <td>2.4</td>\n",
       "      <td>0.067</td>\n",
       "      <td>10.0</td>\n",
       "      <td>42.0</td>\n",
       "      <td>0.99690</td>\n",
       "      <td>3.19</td>\n",
       "      <td>0.59</td>\n",
       "      <td>9.5</td>\n",
       "      <td>0</td>\n",
       "      <td>1</td>\n",
       "    </tr>\n",
       "    <tr>\n",
       "      <th>2</th>\n",
       "      <td>7.9</td>\n",
       "      <td>0.210</td>\n",
       "      <td>0.39</td>\n",
       "      <td>2.0</td>\n",
       "      <td>0.057</td>\n",
       "      <td>21.0</td>\n",
       "      <td>138.0</td>\n",
       "      <td>0.99176</td>\n",
       "      <td>3.05</td>\n",
       "      <td>0.52</td>\n",
       "      <td>10.9</td>\n",
       "      <td>1</td>\n",
       "      <td>1</td>\n",
       "    </tr>\n",
       "    <tr>\n",
       "      <th>3</th>\n",
       "      <td>7.0</td>\n",
       "      <td>0.210</td>\n",
       "      <td>0.31</td>\n",
       "      <td>6.0</td>\n",
       "      <td>0.046</td>\n",
       "      <td>29.0</td>\n",
       "      <td>108.0</td>\n",
       "      <td>0.99390</td>\n",
       "      <td>3.26</td>\n",
       "      <td>0.50</td>\n",
       "      <td>10.8</td>\n",
       "      <td>1</td>\n",
       "      <td>2</td>\n",
       "    </tr>\n",
       "    <tr>\n",
       "      <th>4</th>\n",
       "      <td>7.8</td>\n",
       "      <td>0.400</td>\n",
       "      <td>0.26</td>\n",
       "      <td>9.5</td>\n",
       "      <td>0.059</td>\n",
       "      <td>32.0</td>\n",
       "      <td>178.0</td>\n",
       "      <td>0.99550</td>\n",
       "      <td>3.04</td>\n",
       "      <td>0.43</td>\n",
       "      <td>10.9</td>\n",
       "      <td>1</td>\n",
       "      <td>2</td>\n",
       "    </tr>\n",
       "  </tbody>\n",
       "</table>\n",
       "</div>"
      ],
      "text/plain": [
       "   fixed acidity  volatile acidity  citric acid  residual sugar  chlorides  \\\n",
       "0            5.6             0.695         0.06             6.8      0.042   \n",
       "1            8.8             0.610         0.14             2.4      0.067   \n",
       "2            7.9             0.210         0.39             2.0      0.057   \n",
       "3            7.0             0.210         0.31             6.0      0.046   \n",
       "4            7.8             0.400         0.26             9.5      0.059   \n",
       "\n",
       "   free sulfur dioxide  total sulfur dioxide  density    pH  sulphates  \\\n",
       "0                  9.0                  84.0  0.99432  3.44       0.44   \n",
       "1                 10.0                  42.0  0.99690  3.19       0.59   \n",
       "2                 21.0                 138.0  0.99176  3.05       0.52   \n",
       "3                 29.0                 108.0  0.99390  3.26       0.50   \n",
       "4                 32.0                 178.0  0.99550  3.04       0.43   \n",
       "\n",
       "   alcohol  type  new_quality  \n",
       "0     10.2     1            1  \n",
       "1      9.5     0            1  \n",
       "2     10.9     1            1  \n",
       "3     10.8     1            2  \n",
       "4     10.9     1            2  "
      ]
     },
     "execution_count": 18,
     "metadata": {},
     "output_type": "execute_result"
    }
   ],
   "source": [
    "train.head()"
   ]
  },
  {
   "cell_type": "code",
   "execution_count": 19,
   "metadata": {},
   "outputs": [
    {
     "data": {
      "text/html": [
       "<div>\n",
       "<style scoped>\n",
       "    .dataframe tbody tr th:only-of-type {\n",
       "        vertical-align: middle;\n",
       "    }\n",
       "\n",
       "    .dataframe tbody tr th {\n",
       "        vertical-align: top;\n",
       "    }\n",
       "\n",
       "    .dataframe thead th {\n",
       "        text-align: right;\n",
       "    }\n",
       "</style>\n",
       "<table border=\"1\" class=\"dataframe\">\n",
       "  <thead>\n",
       "    <tr style=\"text-align: right;\">\n",
       "      <th></th>\n",
       "      <th>fixed acidity</th>\n",
       "      <th>volatile acidity</th>\n",
       "      <th>citric acid</th>\n",
       "      <th>residual sugar</th>\n",
       "      <th>chlorides</th>\n",
       "      <th>free sulfur dioxide</th>\n",
       "      <th>total sulfur dioxide</th>\n",
       "      <th>density</th>\n",
       "      <th>pH</th>\n",
       "      <th>sulphates</th>\n",
       "      <th>alcohol</th>\n",
       "      <th>type</th>\n",
       "    </tr>\n",
       "  </thead>\n",
       "  <tbody>\n",
       "    <tr>\n",
       "      <th>0</th>\n",
       "      <td>9.0</td>\n",
       "      <td>0.31</td>\n",
       "      <td>0.48</td>\n",
       "      <td>6.6</td>\n",
       "      <td>0.043</td>\n",
       "      <td>11.0</td>\n",
       "      <td>73.0</td>\n",
       "      <td>0.99380</td>\n",
       "      <td>2.90</td>\n",
       "      <td>0.38</td>\n",
       "      <td>11.6</td>\n",
       "      <td>1</td>\n",
       "    </tr>\n",
       "    <tr>\n",
       "      <th>1</th>\n",
       "      <td>13.3</td>\n",
       "      <td>0.43</td>\n",
       "      <td>0.58</td>\n",
       "      <td>1.9</td>\n",
       "      <td>0.070</td>\n",
       "      <td>15.0</td>\n",
       "      <td>40.0</td>\n",
       "      <td>1.00040</td>\n",
       "      <td>3.06</td>\n",
       "      <td>0.49</td>\n",
       "      <td>9.0</td>\n",
       "      <td>0</td>\n",
       "    </tr>\n",
       "    <tr>\n",
       "      <th>2</th>\n",
       "      <td>6.5</td>\n",
       "      <td>0.28</td>\n",
       "      <td>0.27</td>\n",
       "      <td>5.2</td>\n",
       "      <td>0.040</td>\n",
       "      <td>44.0</td>\n",
       "      <td>179.0</td>\n",
       "      <td>0.99480</td>\n",
       "      <td>3.19</td>\n",
       "      <td>0.69</td>\n",
       "      <td>9.4</td>\n",
       "      <td>1</td>\n",
       "    </tr>\n",
       "    <tr>\n",
       "      <th>3</th>\n",
       "      <td>7.2</td>\n",
       "      <td>0.15</td>\n",
       "      <td>0.39</td>\n",
       "      <td>1.8</td>\n",
       "      <td>0.043</td>\n",
       "      <td>21.0</td>\n",
       "      <td>159.0</td>\n",
       "      <td>0.99480</td>\n",
       "      <td>3.52</td>\n",
       "      <td>0.47</td>\n",
       "      <td>10.0</td>\n",
       "      <td>1</td>\n",
       "    </tr>\n",
       "    <tr>\n",
       "      <th>4</th>\n",
       "      <td>6.8</td>\n",
       "      <td>0.26</td>\n",
       "      <td>0.26</td>\n",
       "      <td>2.0</td>\n",
       "      <td>0.019</td>\n",
       "      <td>23.5</td>\n",
       "      <td>72.0</td>\n",
       "      <td>0.99041</td>\n",
       "      <td>3.16</td>\n",
       "      <td>0.47</td>\n",
       "      <td>11.8</td>\n",
       "      <td>1</td>\n",
       "    </tr>\n",
       "  </tbody>\n",
       "</table>\n",
       "</div>"
      ],
      "text/plain": [
       "   fixed acidity  volatile acidity  citric acid  residual sugar  chlorides  \\\n",
       "0            9.0              0.31         0.48             6.6      0.043   \n",
       "1           13.3              0.43         0.58             1.9      0.070   \n",
       "2            6.5              0.28         0.27             5.2      0.040   \n",
       "3            7.2              0.15         0.39             1.8      0.043   \n",
       "4            6.8              0.26         0.26             2.0      0.019   \n",
       "\n",
       "   free sulfur dioxide  total sulfur dioxide  density    pH  sulphates  \\\n",
       "0                 11.0                  73.0  0.99380  2.90       0.38   \n",
       "1                 15.0                  40.0  1.00040  3.06       0.49   \n",
       "2                 44.0                 179.0  0.99480  3.19       0.69   \n",
       "3                 21.0                 159.0  0.99480  3.52       0.47   \n",
       "4                 23.5                  72.0  0.99041  3.16       0.47   \n",
       "\n",
       "   alcohol  type  \n",
       "0     11.6     1  \n",
       "1      9.0     0  \n",
       "2      9.4     1  \n",
       "3     10.0     1  \n",
       "4     11.8     1  "
      ]
     },
     "execution_count": 19,
     "metadata": {},
     "output_type": "execute_result"
    }
   ],
   "source": [
    "test.head()"
   ]
  },
  {
   "cell_type": "markdown",
   "metadata": {},
   "source": [
    "- red는 0, white는 1로 잘 변환되었다.\n",
    "- class: [4,5,6,7] -> [0,1,2,3]"
   ]
  },
  {
   "cell_type": "markdown",
   "metadata": {},
   "source": [
    "### **b) 각 feature 변수들의 분포**"
   ]
  },
  {
   "cell_type": "code",
   "execution_count": 20,
   "metadata": {},
   "outputs": [
    {
     "data": {
      "image/png": "[encoded data removed]",
      "text/plain": [
       "<Figure size 1440x1008 with 12 Axes>"
      ]
     },
     "metadata": {
      "needs_background": "light"
     },
     "output_type": "display_data"
    }
   ],
   "source": [
    "### 변수별 분포 시각화\n",
    "\n",
    "plt.figure(figsize = (20,14))\n",
    "\n",
    "for i, col in enumerate(list(train.iloc[:,:-1].columns.values)):\n",
    "    plt.subplot(4,3,i+1) # 위치 지정\n",
    "    sns.distplot(train[col], kde = True, label = 'data')\n",
    "    plt.grid()\n",
    "    plt.legend(loc = 'upper right')\n",
    "    plt.tight_layout()"
   ]
  },
  {
   "cell_type": "markdown",
   "metadata": {},
   "source": [
    "- 대부분의 feature들이 분포에 편향이 있다고 판단된다.(오른쪽으로 긴 꼬리, **positively skewed** )\n",
    "    - 데이터 변환 방법: 제곱근(square root), 세제곱근(cube root), **로그 변환(log transformation)**"
   ]
  },
  {
   "cell_type": "code",
   "execution_count": 21,
   "metadata": {},
   "outputs": [
    {
     "name": "stdout",
     "output_type": "stream",
     "text": [
      "전체 왜곡 정도: 1.068315\n"
     ]
    }
   ],
   "source": [
    "### 각 변수들의 왜도(skewness) 확인\n",
    "\n",
    "from scipy.stats import skew\n",
    "\n",
    "features_idx = train.dtypes[train.dtypes != 'object'].index\n",
    "skew_features = train[features_idx].apply(lambda x:skew(x))\n",
    "print('전체 왜곡 정도: %f' %skew_features.mean())"
   ]
  },
  {
   "cell_type": "code",
   "execution_count": 22,
   "metadata": {},
   "outputs": [
    {
     "name": "stdout",
     "output_type": "stream",
     "text": [
      "chlorides              5.185911\n",
      "sulphates              1.914956\n",
      "fixed acidity          1.710430\n",
      "residual sugar         1.498545\n",
      "volatile acidity       1.497435\n",
      "free sulfur dioxide    1.310273\n",
      "dtype: float64\n"
     ]
    }
   ],
   "source": [
    "### 왜도가 1 이상인 변수 파악\n",
    "\n",
    "skew_features_top = skew_features[skew_features > 1]\n",
    "print(skew_features_top.sort_values(ascending = False))"
   ]
  },
  {
   "cell_type": "markdown",
   "metadata": {},
   "source": [
    "### **c) 각 feature 변수와 target 변수 간의 관계**"
   ]
  },
  {
   "cell_type": "code",
   "execution_count": 23,
   "metadata": {},
   "outputs": [
    {
     "data": {
      "image/png": "[encoded data removed]",
      "text/plain": [
       "<Figure size 864x432 with 1 Axes>"
      ]
     },
     "metadata": {
      "needs_background": "light"
     },
     "output_type": "display_data"
    },
    {
     "data": {
      "image/png": "[encoded data removed]",
      "text/plain": [
       "<Figure size 864x432 with 1 Axes>"
      ]
     },
     "metadata": {
      "needs_background": "light"
     },
     "output_type": "display_data"
    },
    {
     "data": {
      "image/png": "[encoded data removed]",
      "text/plain": [
       "<Figure size 864x432 with 1 Axes>"
      ]
     },
     "metadata": {
      "needs_background": "light"
     },
     "output_type": "display_data"
    },
    {
     "data": {
      "image/png": "[encoded data removed]",
      "text/plain": [
       "<Figure size 864x432 with 1 Axes>"
      ]
     },
     "metadata": {
      "needs_background": "light"
     },
     "output_type": "display_data"
    },
    {
     "data": {
      "image/png": "[encoded data removed]",
      "text/plain": [
       "<Figure size 864x432 with 1 Axes>"
      ]
     },
     "metadata": {
      "needs_background": "light"
     },
     "output_type": "display_data"
    },
    {
     "data": {
      "image/png": "[encoded data removed]",
      "text/plain": [
       "<Figure size 864x432 with 1 Axes>"
      ]
     },
     "metadata": {
      "needs_background": "light"
     },
     "output_type": "display_data"
    },
    {
     "data": {
      "image/png": "[encoded data removed]",
      "text/plain": [
       "<Figure size 864x432 with 1 Axes>"
      ]
     },
     "metadata": {
      "needs_background": "light"
     },
     "output_type": "display_data"
    },
    {
     "data": {
      "image/png": "[encoded data removed]",
      "text/plain": [
       "<Figure size 864x432 with 1 Axes>"
      ]
     },
     "metadata": {
      "needs_background": "light"
     },
     "output_type": "display_data"
    },
    {
     "data": {
      "image/png": "[encoded data removed]",
      "text/plain": [
       "<Figure size 864x432 with 1 Axes>"
      ]
     },
     "metadata": {
      "needs_background": "light"
     },
     "output_type": "display_data"
    },
    {
     "data": {
      "image/png": "[encoded data removed]",
      "text/plain": [
       "<Figure size 864x432 with 1 Axes>"
      ]
     },
     "metadata": {
      "needs_background": "light"
     },
     "output_type": "display_data"
    },
    {
     "data": {
      "image/png": "[encoded data removed]",
      "text/plain": [
       "<Figure size 864x432 with 1 Axes>"
      ]
     },
     "metadata": {
      "needs_background": "light"
     },
     "output_type": "display_data"
    }
   ],
   "source": [
    "# train에서 각 변수와 quality 변수 사이 분포를 확인합니다.\n",
    "for i in range(11):\n",
    "    fig = plt.figure(figsize = (12,6))\n",
    "    sns.barplot(x = 'new_quality', \n",
    "                y = train.columns[i], \n",
    "                data = train)"
   ]
  },
  {
   "cell_type": "code",
   "execution_count": 24,
   "metadata": {},
   "outputs": [
    {
     "data": {
      "image/png": "[encoded data removed]",
      "text/plain": [
       "<Figure size 864x864 with 2 Axes>"
      ]
     },
     "metadata": {
      "needs_background": "light"
     },
     "output_type": "display_data"
    }
   ],
   "source": [
    "### train의 변수 간 상관관계\n",
    "\n",
    "# 사이즈 지정\n",
    "plt.figure(figsize = (12,12))\n",
    "\n",
    "corr = train.corr()\n",
    "\n",
    "# 삼각형 마스크 만들기(위 쪽 삼각형에 True, 아래 삼각형에 False)\n",
    "mask = np.zeros_like(corr, dtype = np.bool)\n",
    "mask[np.triu_indices_from(mask)] = True\n",
    "\n",
    "# 하삼각행렬만 시각화(밑에만)\n",
    "sns.heatmap(corr, \n",
    "            cmap = 'RdYlBu_r', \n",
    "            annot = True,   # 실제 값을 표시\n",
    "            mask = mask,      # 표시하지 않을 마스크 부분을 지정\n",
    "            linewidths = .5,  # 경계면을 실선으로 구분하기\n",
    "            vmin = -1,vmax = 1   # 컬러바 범위: -1 ~ 1(상관계수의 범위)\n",
    "           )  \n",
    "\n",
    "plt.title('Correlation Heatmap')\n",
    "plt.show()"
   ]
  },
  {
   "cell_type": "markdown",
   "metadata": {},
   "source": [
    "- target 변수(quality)와 상관도가 가장 높은 변수는 'alcohol'이다.\n",
    "    - 상관계수는 0.44로, 약한 양의 선형 상관관계를 가진다고 할 수 있다.\n",
    "    - 해당 변수에 이상치가 있다면 제거하는 것을 추후에 고려해 볼 수 있다.\n",
    "- '와인의 '종류'와 '산도', '염화물', 'total_sulfur_dioxide', 'sulphates' 의 상관관계가 크다.\n",
    "    - 와인의 종류에 따른 특징 차이가 두드러진다.\n",
    "- 와인의 '밀도'와 'residual sugar', 'alcohol' 상관관계가 크다.\n",
    "    - 실제로 밀도를 측정하는 기준들\n",
    "- 'free sulfur dioxide'와 'total_sulfur_dioxide' 간 상관관계가 크다.\n",
    "   - 이름으로 보아 서로 상관있어 보인다."
   ]
  },
  {
   "cell_type": "markdown",
   "metadata": {},
   "source": [
    "# **3. 기본 Modeling**"
   ]
  },
  {
   "cell_type": "markdown",
   "metadata": {},
   "source": [
    "## **3-1. 데이터 준비**"
   ]
  },
  {
   "cell_type": "code",
   "execution_count": 26,
   "metadata": {},
   "outputs": [],
   "source": [
    "### feature / target 분리\n",
    "\n",
    "X = train.drop(['new_quality'], axis = 1)\n",
    "y = train['new_quality']"
   ]
  },
  {
   "cell_type": "code",
   "execution_count": 27,
   "metadata": {},
   "outputs": [
    {
     "data": {
      "text/html": [
       "<div>\n",
       "<style scoped>\n",
       "    .dataframe tbody tr th:only-of-type {\n",
       "        vertical-align: middle;\n",
       "    }\n",
       "\n",
       "    .dataframe tbody tr th {\n",
       "        vertical-align: top;\n",
       "    }\n",
       "\n",
       "    .dataframe thead th {\n",
       "        text-align: right;\n",
       "    }\n",
       "</style>\n",
       "<table border=\"1\" class=\"dataframe\">\n",
       "  <thead>\n",
       "    <tr style=\"text-align: right;\">\n",
       "      <th></th>\n",
       "      <th>fixed acidity</th>\n",
       "      <th>volatile acidity</th>\n",
       "      <th>citric acid</th>\n",
       "      <th>residual sugar</th>\n",
       "      <th>chlorides</th>\n",
       "      <th>free sulfur dioxide</th>\n",
       "      <th>total sulfur dioxide</th>\n",
       "      <th>density</th>\n",
       "      <th>pH</th>\n",
       "      <th>sulphates</th>\n",
       "      <th>alcohol</th>\n",
       "      <th>type</th>\n",
       "    </tr>\n",
       "  </thead>\n",
       "  <tbody>\n",
       "    <tr>\n",
       "      <th>0</th>\n",
       "      <td>5.6</td>\n",
       "      <td>0.695</td>\n",
       "      <td>0.06</td>\n",
       "      <td>6.8</td>\n",
       "      <td>0.042</td>\n",
       "      <td>9.0</td>\n",
       "      <td>84.0</td>\n",
       "      <td>0.99432</td>\n",
       "      <td>3.44</td>\n",
       "      <td>0.44</td>\n",
       "      <td>10.2</td>\n",
       "      <td>1</td>\n",
       "    </tr>\n",
       "    <tr>\n",
       "      <th>1</th>\n",
       "      <td>8.8</td>\n",
       "      <td>0.610</td>\n",
       "      <td>0.14</td>\n",
       "      <td>2.4</td>\n",
       "      <td>0.067</td>\n",
       "      <td>10.0</td>\n",
       "      <td>42.0</td>\n",
       "      <td>0.99690</td>\n",
       "      <td>3.19</td>\n",
       "      <td>0.59</td>\n",
       "      <td>9.5</td>\n",
       "      <td>0</td>\n",
       "    </tr>\n",
       "    <tr>\n",
       "      <th>2</th>\n",
       "      <td>7.9</td>\n",
       "      <td>0.210</td>\n",
       "      <td>0.39</td>\n",
       "      <td>2.0</td>\n",
       "      <td>0.057</td>\n",
       "      <td>21.0</td>\n",
       "      <td>138.0</td>\n",
       "      <td>0.99176</td>\n",
       "      <td>3.05</td>\n",
       "      <td>0.52</td>\n",
       "      <td>10.9</td>\n",
       "      <td>1</td>\n",
       "    </tr>\n",
       "    <tr>\n",
       "      <th>3</th>\n",
       "      <td>7.0</td>\n",
       "      <td>0.210</td>\n",
       "      <td>0.31</td>\n",
       "      <td>6.0</td>\n",
       "      <td>0.046</td>\n",
       "      <td>29.0</td>\n",
       "      <td>108.0</td>\n",
       "      <td>0.99390</td>\n",
       "      <td>3.26</td>\n",
       "      <td>0.50</td>\n",
       "      <td>10.8</td>\n",
       "      <td>1</td>\n",
       "    </tr>\n",
       "    <tr>\n",
       "      <th>4</th>\n",
       "      <td>7.8</td>\n",
       "      <td>0.400</td>\n",
       "      <td>0.26</td>\n",
       "      <td>9.5</td>\n",
       "      <td>0.059</td>\n",
       "      <td>32.0</td>\n",
       "      <td>178.0</td>\n",
       "      <td>0.99550</td>\n",
       "      <td>3.04</td>\n",
       "      <td>0.43</td>\n",
       "      <td>10.9</td>\n",
       "      <td>1</td>\n",
       "    </tr>\n",
       "  </tbody>\n",
       "</table>\n",
       "</div>"
      ],
      "text/plain": [
       "   fixed acidity  volatile acidity  citric acid  residual sugar  chlorides  \\\n",
       "0            5.6             0.695         0.06             6.8      0.042   \n",
       "1            8.8             0.610         0.14             2.4      0.067   \n",
       "2            7.9             0.210         0.39             2.0      0.057   \n",
       "3            7.0             0.210         0.31             6.0      0.046   \n",
       "4            7.8             0.400         0.26             9.5      0.059   \n",
       "\n",
       "   free sulfur dioxide  total sulfur dioxide  density    pH  sulphates  \\\n",
       "0                  9.0                  84.0  0.99432  3.44       0.44   \n",
       "1                 10.0                  42.0  0.99690  3.19       0.59   \n",
       "2                 21.0                 138.0  0.99176  3.05       0.52   \n",
       "3                 29.0                 108.0  0.99390  3.26       0.50   \n",
       "4                 32.0                 178.0  0.99550  3.04       0.43   \n",
       "\n",
       "   alcohol  type  \n",
       "0     10.2     1  \n",
       "1      9.5     0  \n",
       "2     10.9     1  \n",
       "3     10.8     1  \n",
       "4     10.9     1  "
      ]
     },
     "execution_count": 27,
     "metadata": {},
     "output_type": "execute_result"
    }
   ],
   "source": [
    "X.head()"
   ]
  },
  {
   "cell_type": "code",
   "execution_count": 28,
   "metadata": {},
   "outputs": [
    {
     "data": {
      "text/plain": [
       "0    1\n",
       "1    1\n",
       "2    1\n",
       "3    2\n",
       "4    2\n",
       "Name: new_quality, dtype: int64"
      ]
     },
     "execution_count": 28,
     "metadata": {},
     "output_type": "execute_result"
    }
   ],
   "source": [
    "y.head()"
   ]
  },
  {
   "cell_type": "code",
   "execution_count": 30,
   "metadata": {},
   "outputs": [
    {
     "data": {
      "text/plain": [
       "((5497, 12), (5497,))"
      ]
     },
     "execution_count": 30,
     "metadata": {},
     "output_type": "execute_result"
    }
   ],
   "source": [
    "X.shape, y.shape"
   ]
  },
  {
   "cell_type": "code",
   "execution_count": 31,
   "metadata": {},
   "outputs": [
    {
     "data": {
      "text/html": [
       "<div>\n",
       "<style scoped>\n",
       "    .dataframe tbody tr th:only-of-type {\n",
       "        vertical-align: middle;\n",
       "    }\n",
       "\n",
       "    .dataframe tbody tr th {\n",
       "        vertical-align: top;\n",
       "    }\n",
       "\n",
       "    .dataframe thead th {\n",
       "        text-align: right;\n",
       "    }\n",
       "</style>\n",
       "<table border=\"1\" class=\"dataframe\">\n",
       "  <thead>\n",
       "    <tr style=\"text-align: right;\">\n",
       "      <th></th>\n",
       "      <th>fixed acidity</th>\n",
       "      <th>volatile acidity</th>\n",
       "      <th>citric acid</th>\n",
       "      <th>residual sugar</th>\n",
       "      <th>chlorides</th>\n",
       "      <th>free sulfur dioxide</th>\n",
       "      <th>total sulfur dioxide</th>\n",
       "      <th>density</th>\n",
       "      <th>pH</th>\n",
       "      <th>sulphates</th>\n",
       "      <th>alcohol</th>\n",
       "      <th>type</th>\n",
       "    </tr>\n",
       "  </thead>\n",
       "  <tbody>\n",
       "    <tr>\n",
       "      <th>0</th>\n",
       "      <td>-1.250611</td>\n",
       "      <td>2.186377</td>\n",
       "      <td>-1.781940</td>\n",
       "      <td>0.286345</td>\n",
       "      <td>-0.398500</td>\n",
       "      <td>-1.211937</td>\n",
       "      <td>-0.560852</td>\n",
       "      <td>-0.117252</td>\n",
       "      <td>1.372128</td>\n",
       "      <td>-0.605988</td>\n",
       "      <td>-0.255287</td>\n",
       "      <td>0.567197</td>\n",
       "    </tr>\n",
       "    <tr>\n",
       "      <th>1</th>\n",
       "      <td>1.234899</td>\n",
       "      <td>1.665574</td>\n",
       "      <td>-1.230560</td>\n",
       "      <td>-0.638755</td>\n",
       "      <td>0.322998</td>\n",
       "      <td>-1.155351</td>\n",
       "      <td>-1.307080</td>\n",
       "      <td>0.738864</td>\n",
       "      <td>-0.183584</td>\n",
       "      <td>0.398147</td>\n",
       "      <td>-0.841348</td>\n",
       "      <td>-1.763057</td>\n",
       "    </tr>\n",
       "    <tr>\n",
       "      <th>2</th>\n",
       "      <td>0.535849</td>\n",
       "      <td>-0.785265</td>\n",
       "      <td>0.492500</td>\n",
       "      <td>-0.722855</td>\n",
       "      <td>0.034399</td>\n",
       "      <td>-0.532907</td>\n",
       "      <td>0.398583</td>\n",
       "      <td>-0.966732</td>\n",
       "      <td>-1.054782</td>\n",
       "      <td>-0.070450</td>\n",
       "      <td>0.330774</td>\n",
       "      <td>0.567197</td>\n",
       "    </tr>\n",
       "    <tr>\n",
       "      <th>3</th>\n",
       "      <td>-0.163201</td>\n",
       "      <td>-0.785265</td>\n",
       "      <td>-0.058879</td>\n",
       "      <td>0.118145</td>\n",
       "      <td>-0.283060</td>\n",
       "      <td>-0.080221</td>\n",
       "      <td>-0.134436</td>\n",
       "      <td>-0.256620</td>\n",
       "      <td>0.252016</td>\n",
       "      <td>-0.204334</td>\n",
       "      <td>0.247051</td>\n",
       "      <td>0.567197</td>\n",
       "    </tr>\n",
       "    <tr>\n",
       "      <th>4</th>\n",
       "      <td>0.458177</td>\n",
       "      <td>0.378883</td>\n",
       "      <td>-0.403491</td>\n",
       "      <td>0.854020</td>\n",
       "      <td>0.092119</td>\n",
       "      <td>0.089537</td>\n",
       "      <td>1.109276</td>\n",
       "      <td>0.274305</td>\n",
       "      <td>-1.117010</td>\n",
       "      <td>-0.672931</td>\n",
       "      <td>0.330774</td>\n",
       "      <td>0.567197</td>\n",
       "    </tr>\n",
       "  </tbody>\n",
       "</table>\n",
       "</div>"
      ],
      "text/plain": [
       "   fixed acidity  volatile acidity  citric acid  residual sugar  chlorides  \\\n",
       "0      -1.250611          2.186377    -1.781940        0.286345  -0.398500   \n",
       "1       1.234899          1.665574    -1.230560       -0.638755   0.322998   \n",
       "2       0.535849         -0.785265     0.492500       -0.722855   0.034399   \n",
       "3      -0.163201         -0.785265    -0.058879        0.118145  -0.283060   \n",
       "4       0.458177          0.378883    -0.403491        0.854020   0.092119   \n",
       "\n",
       "   free sulfur dioxide  total sulfur dioxide   density        pH  sulphates  \\\n",
       "0            -1.211937             -0.560852 -0.117252  1.372128  -0.605988   \n",
       "1            -1.155351             -1.307080  0.738864 -0.183584   0.398147   \n",
       "2            -0.532907              0.398583 -0.966732 -1.054782  -0.070450   \n",
       "3            -0.080221             -0.134436 -0.256620  0.252016  -0.204334   \n",
       "4             0.089537              1.109276  0.274305 -1.117010  -0.672931   \n",
       "\n",
       "    alcohol      type  \n",
       "0 -0.255287  0.567197  \n",
       "1 -0.841348 -1.763057  \n",
       "2  0.330774  0.567197  \n",
       "3  0.247051  0.567197  \n",
       "4  0.330774  0.567197  "
      ]
     },
     "execution_count": 31,
     "metadata": {},
     "output_type": "execute_result"
    }
   ],
   "source": [
    "### 표준화\n",
    "# 데이터 간의 스케일 차이 조정\n",
    "\n",
    "from sklearn.preprocessing import StandardScaler\n",
    "\n",
    "colname = X.columns\n",
    "scaler = StandardScaler() \n",
    "X = scaler.fit_transform(X)\n",
    "X = pd.DataFrame(X, columns = colname)\n",
    "X.head()"
   ]
  },
  {
   "cell_type": "code",
   "execution_count": 32,
   "metadata": {},
   "outputs": [
    {
     "data": {
      "text/html": [
       "<div>\n",
       "<style scoped>\n",
       "    .dataframe tbody tr th:only-of-type {\n",
       "        vertical-align: middle;\n",
       "    }\n",
       "\n",
       "    .dataframe tbody tr th {\n",
       "        vertical-align: top;\n",
       "    }\n",
       "\n",
       "    .dataframe thead th {\n",
       "        text-align: right;\n",
       "    }\n",
       "</style>\n",
       "<table border=\"1\" class=\"dataframe\">\n",
       "  <thead>\n",
       "    <tr style=\"text-align: right;\">\n",
       "      <th></th>\n",
       "      <th>fixed acidity</th>\n",
       "      <th>volatile acidity</th>\n",
       "      <th>citric acid</th>\n",
       "      <th>residual sugar</th>\n",
       "      <th>chlorides</th>\n",
       "      <th>free sulfur dioxide</th>\n",
       "      <th>total sulfur dioxide</th>\n",
       "      <th>density</th>\n",
       "      <th>pH</th>\n",
       "      <th>sulphates</th>\n",
       "      <th>alcohol</th>\n",
       "      <th>type</th>\n",
       "    </tr>\n",
       "  </thead>\n",
       "  <tbody>\n",
       "    <tr>\n",
       "      <th>0</th>\n",
       "      <td>1.390243</td>\n",
       "      <td>-0.172555</td>\n",
       "      <td>1.112802</td>\n",
       "      <td>0.244295</td>\n",
       "      <td>-0.369640</td>\n",
       "      <td>-1.098765</td>\n",
       "      <td>-0.756293</td>\n",
       "      <td>-0.289803</td>\n",
       "      <td>-1.988209</td>\n",
       "      <td>-1.007643</td>\n",
       "      <td>0.916835</td>\n",
       "      <td>0.567197</td>\n",
       "    </tr>\n",
       "    <tr>\n",
       "      <th>1</th>\n",
       "      <td>4.730148</td>\n",
       "      <td>0.562696</td>\n",
       "      <td>1.802026</td>\n",
       "      <td>-0.743880</td>\n",
       "      <td>0.409577</td>\n",
       "      <td>-0.872422</td>\n",
       "      <td>-1.342614</td>\n",
       "      <td>1.900261</td>\n",
       "      <td>-0.992553</td>\n",
       "      <td>-0.271277</td>\n",
       "      <td>-1.259963</td>\n",
       "      <td>-1.763057</td>\n",
       "    </tr>\n",
       "    <tr>\n",
       "      <th>2</th>\n",
       "      <td>-0.551562</td>\n",
       "      <td>-0.356368</td>\n",
       "      <td>-0.334569</td>\n",
       "      <td>-0.050055</td>\n",
       "      <td>-0.456220</td>\n",
       "      <td>0.768567</td>\n",
       "      <td>1.127044</td>\n",
       "      <td>0.042025</td>\n",
       "      <td>-0.183584</td>\n",
       "      <td>1.067570</td>\n",
       "      <td>-0.925071</td>\n",
       "      <td>0.567197</td>\n",
       "    </tr>\n",
       "    <tr>\n",
       "      <th>3</th>\n",
       "      <td>-0.007856</td>\n",
       "      <td>-1.152890</td>\n",
       "      <td>0.492500</td>\n",
       "      <td>-0.764905</td>\n",
       "      <td>-0.369640</td>\n",
       "      <td>-0.532907</td>\n",
       "      <td>0.771697</td>\n",
       "      <td>0.042025</td>\n",
       "      <td>1.869955</td>\n",
       "      <td>-0.405161</td>\n",
       "      <td>-0.422733</td>\n",
       "      <td>0.567197</td>\n",
       "    </tr>\n",
       "    <tr>\n",
       "      <th>4</th>\n",
       "      <td>-0.318545</td>\n",
       "      <td>-0.478910</td>\n",
       "      <td>-0.403491</td>\n",
       "      <td>-0.722855</td>\n",
       "      <td>-1.062277</td>\n",
       "      <td>-0.391443</td>\n",
       "      <td>-0.774060</td>\n",
       "      <td>-1.414699</td>\n",
       "      <td>-0.370269</td>\n",
       "      <td>-0.405161</td>\n",
       "      <td>1.084281</td>\n",
       "      <td>0.567197</td>\n",
       "    </tr>\n",
       "  </tbody>\n",
       "</table>\n",
       "</div>"
      ],
      "text/plain": [
       "   fixed acidity  volatile acidity  citric acid  residual sugar  chlorides  \\\n",
       "0       1.390243         -0.172555     1.112802        0.244295  -0.369640   \n",
       "1       4.730148          0.562696     1.802026       -0.743880   0.409577   \n",
       "2      -0.551562         -0.356368    -0.334569       -0.050055  -0.456220   \n",
       "3      -0.007856         -1.152890     0.492500       -0.764905  -0.369640   \n",
       "4      -0.318545         -0.478910    -0.403491       -0.722855  -1.062277   \n",
       "\n",
       "   free sulfur dioxide  total sulfur dioxide   density        pH  sulphates  \\\n",
       "0            -1.098765             -0.756293 -0.289803 -1.988209  -1.007643   \n",
       "1            -0.872422             -1.342614  1.900261 -0.992553  -0.271277   \n",
       "2             0.768567              1.127044  0.042025 -0.183584   1.067570   \n",
       "3            -0.532907              0.771697  0.042025  1.869955  -0.405161   \n",
       "4            -0.391443             -0.774060 -1.414699 -0.370269  -0.405161   \n",
       "\n",
       "    alcohol      type  \n",
       "0  0.916835  0.567197  \n",
       "1 -1.259963 -1.763057  \n",
       "2 -0.925071  0.567197  \n",
       "3 -0.422733  0.567197  \n",
       "4  1.084281  0.567197  "
      ]
     },
     "execution_count": 32,
     "metadata": {},
     "output_type": "execute_result"
    }
   ],
   "source": [
    "test = scaler.transform(test)\n",
    "test = pd.DataFrame(test, columns = colname)\n",
    "test.head()"
   ]
  },
  {
   "cell_type": "markdown",
   "metadata": {},
   "source": [
    "- 제대로 표준화되었음을 확인할 수 있다."
   ]
  },
  {
   "cell_type": "code",
   "execution_count": 33,
   "metadata": {},
   "outputs": [],
   "source": [
    "### 교차 검증\n",
    "# target 변수의 클래스가 불균형함\n",
    "# target의 속성값의 개수를 동일하게 가져오기 위해 StratifiedKFold 활용\n",
    "\n",
    "from sklearn.model_selection import StratifiedKFold\n",
    "\n",
    "n_splits = 5 # 폴드 수 지정\n",
    "skf = StratifiedKFold(n_splits = n_splits, \n",
    "                      random_state = 0, shuffle = True)"
   ]
  },
  {
   "cell_type": "markdown",
   "metadata": {},
   "source": [
    "## **3-2. 기본 단일 모델** "
   ]
  },
  {
   "cell_type": "markdown",
   "metadata": {},
   "source": [
    "**📌 a) 선형 알고리즘(Linear Algorithm)**  \n",
    "- LDA(Linear Discriminant Analysis)\n",
    "- 경사하강법(SGDClassifier)\n",
    "\n",
    "**📌 b) 비선형 알고리즘(Non-linear Algorithm)**\n",
    "- 최소 근접 알고리즘(k-Nearest Neighbors)\n",
    "- 결정 트리(Decision Tree)\n",
    "- 가우시안 나이브 베이즈(Gaussian Naive Bayes)\n",
    "- 서포트 벡터 머신(SVC)"
   ]
  },
  {
   "cell_type": "code",
   "execution_count": 34,
   "metadata": {},
   "outputs": [],
   "source": [
    "from sklearn.model_selection import cross_val_score\n",
    "from sklearn.metrics import accuracy_score\n",
    "\n",
    "from sklearn.discriminant_analysis import LinearDiscriminantAnalysis\n",
    "from sklearn.linear_model import SGDClassifier\n",
    "\n",
    "from sklearn.neighbors import KNeighborsClassifier\n",
    "from sklearn.tree import DecisionTreeClassifier\n",
    "from sklearn.naive_bayes import GaussianNB\n",
    "from sklearn.svm import SVC"
   ]
  },
  {
   "cell_type": "code",
   "execution_count": 35,
   "metadata": {},
   "outputs": [],
   "source": [
    "### 활용할 모델 정의\n",
    "\n",
    "models = []\n",
    "\n",
    "models.append(('LDA', LinearDiscriminantAnalysis()))\n",
    "models.append(('SGD', SGDClassifier()))\n",
    "models.append(('KNN', KNeighborsClassifier()))\n",
    "models.append(('DT', DecisionTreeClassifier(random_state = 0)))\n",
    "models.append(('NB', GaussianNB()))\n",
    "models.append(('SVC', SVC(random_state = 0)))"
   ]
  },
  {
   "cell_type": "code",
   "execution_count": 37,
   "metadata": {},
   "outputs": [
    {
     "name": "stdout",
     "output_type": "stream",
     "text": [
      "LDA: 0.546\n",
      "SGD: 0.511\n",
      "KNN: 0.570\n",
      "DT: 0.591\n",
      "NB: 0.452\n",
      "SVC: 0.581\n",
      "\n",
      "모든 모델의 평균 메트릭(정확도): 0.542\n"
     ]
    }
   ],
   "source": [
    "### 순차적으로 modeling + 학습/예측/검증\n",
    "\n",
    "results = []\n",
    "names = []\n",
    "metrics = []\n",
    "\n",
    "for name, model in models:\n",
    "    cv_results = cross_val_score(model, X, y, \n",
    "                                 cv = skf, scoring = 'accuracy')\n",
    "    results.append(cv_results)\n",
    "    names.append(name)\n",
    "    metrics.append(cv_results.mean())\n",
    "    msg = \"%s: %.3f\" % (name, cv_results.mean())\n",
    "    print(msg)\n",
    "\n",
    "print()\n",
    "print('모든 모델의 평균 메트릭(정확도):',round(np.mean(metrics),3))"
   ]
  },
  {
   "cell_type": "markdown",
   "metadata": {},
   "source": [
    "## **3-3. 기본 앙상블 모델 생성**"
   ]
  },
  {
   "cell_type": "code",
   "execution_count": 38,
   "metadata": {},
   "outputs": [],
   "source": [
    "from sklearn.ensemble import RandomForestClassifier\n",
    "from sklearn.ensemble import BaggingClassifier \n",
    "from sklearn.ensemble import GradientBoostingClassifier\n",
    "from xgboost import XGBClassifier\n",
    "from lightgbm import LGBMClassifier\n",
    "from sklearn.ensemble import AdaBoostClassifier\n",
    "from sklearn.ensemble import ExtraTreesClassifier"
   ]
  },
  {
   "cell_type": "code",
   "execution_count": 39,
   "metadata": {},
   "outputs": [],
   "source": [
    "ensemble = []\n",
    "\n",
    "ensemble.append(('RF', RandomForestClassifier(random_state = 0)))\n",
    "ensemble.append(('Bagging',BaggingClassifier(DecisionTreeClassifier(), random_state = 0)))\n",
    "ensemble.append(('GB', GradientBoostingClassifier(random_state = 0)))\n",
    "ensemble.append(('XGB', XGBClassifier(random_state = 0)))\n",
    "ensemble.append(('LGBM', LGBMClassifier(random_state = 0)))\n",
    "ensemble.append(('Ada', AdaBoostClassifier(random_state = 0)))\n",
    "ensemble.append(('ET', ExtraTreesClassifier(random_state = 0)))"
   ]
  },
  {
   "cell_type": "code",
   "execution_count": 40,
   "metadata": {},
   "outputs": [
    {
     "name": "stdout",
     "output_type": "stream",
     "text": [
      "RF: 0.686\n",
      "Bagging: 0.645\n",
      "GB: 0.604\n",
      "XGB: 0.665\n",
      "LGBM: 0.665\n",
      "Ada: 0.540\n",
      "ET: 0.687\n",
      "\n",
      "모든 모델의 평균 메트릭(정확도): 0.641\n"
     ]
    }
   ],
   "source": [
    "### 순차적으로 modeling + 학습/예측/검증\n",
    "\n",
    "en_results = []\n",
    "en_names = []\n",
    "en_metrics = []\n",
    "\n",
    "for name, model in ensemble:\n",
    "    cv_results = cross_val_score(model, X, y, \n",
    "                                 cv = skf, scoring = 'accuracy', error_score=\"raise\")\n",
    "    en_results.append(cv_results)\n",
    "    en_names.append(name)\n",
    "    en_metrics.append(cv_results.mean())\n",
    "    msg = \"%s: %.3f\" % (name, cv_results.mean())\n",
    "    print(msg)\n",
    "\n",
    "print()\n",
    "print('모든 모델의 평균 메트릭(정확도):',round(np.mean(en_metrics),3))"
   ]
  },
  {
   "cell_type": "markdown",
   "metadata": {},
   "source": [
    "# **4. 데이터 변환**\n",
    "- 왜곡이 심한 변수들에 대해 로그 변환 수행\n",
    "    - 왜도(skewness)가 1 이상인 변수들만 변환"
   ]
  },
  {
   "cell_type": "code",
   "execution_count": 41,
   "metadata": {},
   "outputs": [
    {
     "data": {
      "text/html": [
       "<div>\n",
       "<style scoped>\n",
       "    .dataframe tbody tr th:only-of-type {\n",
       "        vertical-align: middle;\n",
       "    }\n",
       "\n",
       "    .dataframe tbody tr th {\n",
       "        vertical-align: top;\n",
       "    }\n",
       "\n",
       "    .dataframe thead th {\n",
       "        text-align: right;\n",
       "    }\n",
       "</style>\n",
       "<table border=\"1\" class=\"dataframe\">\n",
       "  <thead>\n",
       "    <tr style=\"text-align: right;\">\n",
       "      <th></th>\n",
       "      <th>fixed acidity</th>\n",
       "      <th>volatile acidity</th>\n",
       "      <th>citric acid</th>\n",
       "      <th>residual sugar</th>\n",
       "      <th>chlorides</th>\n",
       "      <th>free sulfur dioxide</th>\n",
       "      <th>total sulfur dioxide</th>\n",
       "      <th>density</th>\n",
       "      <th>pH</th>\n",
       "      <th>sulphates</th>\n",
       "      <th>alcohol</th>\n",
       "      <th>type</th>\n",
       "      <th>new_quality</th>\n",
       "    </tr>\n",
       "  </thead>\n",
       "  <tbody>\n",
       "    <tr>\n",
       "      <th>0</th>\n",
       "      <td>5.6</td>\n",
       "      <td>0.695</td>\n",
       "      <td>0.06</td>\n",
       "      <td>6.8</td>\n",
       "      <td>0.042</td>\n",
       "      <td>9.0</td>\n",
       "      <td>84.0</td>\n",
       "      <td>0.99432</td>\n",
       "      <td>3.44</td>\n",
       "      <td>0.44</td>\n",
       "      <td>10.2</td>\n",
       "      <td>1</td>\n",
       "      <td>1</td>\n",
       "    </tr>\n",
       "    <tr>\n",
       "      <th>1</th>\n",
       "      <td>8.8</td>\n",
       "      <td>0.610</td>\n",
       "      <td>0.14</td>\n",
       "      <td>2.4</td>\n",
       "      <td>0.067</td>\n",
       "      <td>10.0</td>\n",
       "      <td>42.0</td>\n",
       "      <td>0.99690</td>\n",
       "      <td>3.19</td>\n",
       "      <td>0.59</td>\n",
       "      <td>9.5</td>\n",
       "      <td>0</td>\n",
       "      <td>1</td>\n",
       "    </tr>\n",
       "    <tr>\n",
       "      <th>2</th>\n",
       "      <td>7.9</td>\n",
       "      <td>0.210</td>\n",
       "      <td>0.39</td>\n",
       "      <td>2.0</td>\n",
       "      <td>0.057</td>\n",
       "      <td>21.0</td>\n",
       "      <td>138.0</td>\n",
       "      <td>0.99176</td>\n",
       "      <td>3.05</td>\n",
       "      <td>0.52</td>\n",
       "      <td>10.9</td>\n",
       "      <td>1</td>\n",
       "      <td>1</td>\n",
       "    </tr>\n",
       "    <tr>\n",
       "      <th>3</th>\n",
       "      <td>7.0</td>\n",
       "      <td>0.210</td>\n",
       "      <td>0.31</td>\n",
       "      <td>6.0</td>\n",
       "      <td>0.046</td>\n",
       "      <td>29.0</td>\n",
       "      <td>108.0</td>\n",
       "      <td>0.99390</td>\n",
       "      <td>3.26</td>\n",
       "      <td>0.50</td>\n",
       "      <td>10.8</td>\n",
       "      <td>1</td>\n",
       "      <td>2</td>\n",
       "    </tr>\n",
       "    <tr>\n",
       "      <th>4</th>\n",
       "      <td>7.8</td>\n",
       "      <td>0.400</td>\n",
       "      <td>0.26</td>\n",
       "      <td>9.5</td>\n",
       "      <td>0.059</td>\n",
       "      <td>32.0</td>\n",
       "      <td>178.0</td>\n",
       "      <td>0.99550</td>\n",
       "      <td>3.04</td>\n",
       "      <td>0.43</td>\n",
       "      <td>10.9</td>\n",
       "      <td>1</td>\n",
       "      <td>2</td>\n",
       "    </tr>\n",
       "  </tbody>\n",
       "</table>\n",
       "</div>"
      ],
      "text/plain": [
       "   fixed acidity  volatile acidity  citric acid  residual sugar  chlorides  \\\n",
       "0            5.6             0.695         0.06             6.8      0.042   \n",
       "1            8.8             0.610         0.14             2.4      0.067   \n",
       "2            7.9             0.210         0.39             2.0      0.057   \n",
       "3            7.0             0.210         0.31             6.0      0.046   \n",
       "4            7.8             0.400         0.26             9.5      0.059   \n",
       "\n",
       "   free sulfur dioxide  total sulfur dioxide  density    pH  sulphates  \\\n",
       "0                  9.0                  84.0  0.99432  3.44       0.44   \n",
       "1                 10.0                  42.0  0.99690  3.19       0.59   \n",
       "2                 21.0                 138.0  0.99176  3.05       0.52   \n",
       "3                 29.0                 108.0  0.99390  3.26       0.50   \n",
       "4                 32.0                 178.0  0.99550  3.04       0.43   \n",
       "\n",
       "   alcohol  type  new_quality  \n",
       "0     10.2     1            1  \n",
       "1      9.5     0            1  \n",
       "2     10.9     1            1  \n",
       "3     10.8     1            2  \n",
       "4     10.9     1            2  "
      ]
     },
     "execution_count": 41,
     "metadata": {},
     "output_type": "execute_result"
    }
   ],
   "source": [
    "### 원본 데이터 유지를 위해 복사본 활용\n",
    "\n",
    "train_2nd = train.copy()\n",
    "train_2nd.head()"
   ]
  },
  {
   "cell_type": "code",
   "execution_count": 42,
   "metadata": {},
   "outputs": [
    {
     "name": "stdout",
     "output_type": "stream",
     "text": [
      "전체 왜곡 정도: 1.068315\n"
     ]
    }
   ],
   "source": [
    "### 각 변수들의 왜도(skewness) 확인\n",
    "# 왜도 측정은 표준화되지 않은 원본 데이터로 수행\n",
    "\n",
    "from scipy.stats import skew\n",
    "\n",
    "features_idx = train_2nd.dtypes[train_2nd.dtypes != 'object'].index\n",
    "skew_features = train_2nd[features_idx].apply(lambda x:skew(x))\n",
    "print('전체 왜곡 정도: %f' %skew_features.mean())"
   ]
  },
  {
   "cell_type": "code",
   "execution_count": 43,
   "metadata": {},
   "outputs": [
    {
     "name": "stdout",
     "output_type": "stream",
     "text": [
      "chlorides              5.185911\n",
      "sulphates              1.914956\n",
      "fixed acidity          1.710430\n",
      "residual sugar         1.498545\n",
      "volatile acidity       1.497435\n",
      "free sulfur dioxide    1.310273\n",
      "dtype: float64\n"
     ]
    }
   ],
   "source": [
    "### 왜도가 1 이상인 변수 파악\n",
    "\n",
    "skew_features_top = skew_features[skew_features > 1]\n",
    "print(skew_features_top.sort_values(ascending = False))"
   ]
  },
  {
   "cell_type": "code",
   "execution_count": 44,
   "metadata": {},
   "outputs": [
    {
     "data": {
      "text/html": [
       "<div>\n",
       "<style scoped>\n",
       "    .dataframe tbody tr th:only-of-type {\n",
       "        vertical-align: middle;\n",
       "    }\n",
       "\n",
       "    .dataframe tbody tr th {\n",
       "        vertical-align: top;\n",
       "    }\n",
       "\n",
       "    .dataframe thead th {\n",
       "        text-align: right;\n",
       "    }\n",
       "</style>\n",
       "<table border=\"1\" class=\"dataframe\">\n",
       "  <thead>\n",
       "    <tr style=\"text-align: right;\">\n",
       "      <th></th>\n",
       "      <th>fixed acidity</th>\n",
       "      <th>volatile acidity</th>\n",
       "      <th>citric acid</th>\n",
       "      <th>residual sugar</th>\n",
       "      <th>chlorides</th>\n",
       "      <th>free sulfur dioxide</th>\n",
       "      <th>total sulfur dioxide</th>\n",
       "      <th>density</th>\n",
       "      <th>pH</th>\n",
       "      <th>sulphates</th>\n",
       "      <th>alcohol</th>\n",
       "      <th>type</th>\n",
       "      <th>new_quality</th>\n",
       "    </tr>\n",
       "  </thead>\n",
       "  <tbody>\n",
       "    <tr>\n",
       "      <th>0</th>\n",
       "      <td>1.887070</td>\n",
       "      <td>0.527683</td>\n",
       "      <td>0.06</td>\n",
       "      <td>2.054124</td>\n",
       "      <td>0.041142</td>\n",
       "      <td>2.302585</td>\n",
       "      <td>84.0</td>\n",
       "      <td>0.99432</td>\n",
       "      <td>3.44</td>\n",
       "      <td>0.364643</td>\n",
       "      <td>10.2</td>\n",
       "      <td>1</td>\n",
       "      <td>1</td>\n",
       "    </tr>\n",
       "    <tr>\n",
       "      <th>1</th>\n",
       "      <td>2.282382</td>\n",
       "      <td>0.476234</td>\n",
       "      <td>0.14</td>\n",
       "      <td>1.223775</td>\n",
       "      <td>0.064851</td>\n",
       "      <td>2.397895</td>\n",
       "      <td>42.0</td>\n",
       "      <td>0.99690</td>\n",
       "      <td>3.19</td>\n",
       "      <td>0.463734</td>\n",
       "      <td>9.5</td>\n",
       "      <td>0</td>\n",
       "      <td>1</td>\n",
       "    </tr>\n",
       "    <tr>\n",
       "      <th>2</th>\n",
       "      <td>2.186051</td>\n",
       "      <td>0.190620</td>\n",
       "      <td>0.39</td>\n",
       "      <td>1.098612</td>\n",
       "      <td>0.055435</td>\n",
       "      <td>3.091042</td>\n",
       "      <td>138.0</td>\n",
       "      <td>0.99176</td>\n",
       "      <td>3.05</td>\n",
       "      <td>0.418710</td>\n",
       "      <td>10.9</td>\n",
       "      <td>1</td>\n",
       "      <td>1</td>\n",
       "    </tr>\n",
       "    <tr>\n",
       "      <th>3</th>\n",
       "      <td>2.079442</td>\n",
       "      <td>0.190620</td>\n",
       "      <td>0.31</td>\n",
       "      <td>1.945910</td>\n",
       "      <td>0.044973</td>\n",
       "      <td>3.401197</td>\n",
       "      <td>108.0</td>\n",
       "      <td>0.99390</td>\n",
       "      <td>3.26</td>\n",
       "      <td>0.405465</td>\n",
       "      <td>10.8</td>\n",
       "      <td>1</td>\n",
       "      <td>2</td>\n",
       "    </tr>\n",
       "    <tr>\n",
       "      <th>4</th>\n",
       "      <td>2.174752</td>\n",
       "      <td>0.336472</td>\n",
       "      <td>0.26</td>\n",
       "      <td>2.351375</td>\n",
       "      <td>0.057325</td>\n",
       "      <td>3.496508</td>\n",
       "      <td>178.0</td>\n",
       "      <td>0.99550</td>\n",
       "      <td>3.04</td>\n",
       "      <td>0.357674</td>\n",
       "      <td>10.9</td>\n",
       "      <td>1</td>\n",
       "      <td>2</td>\n",
       "    </tr>\n",
       "  </tbody>\n",
       "</table>\n",
       "</div>"
      ],
      "text/plain": [
       "   fixed acidity  volatile acidity  citric acid  residual sugar  chlorides  \\\n",
       "0       1.887070          0.527683         0.06        2.054124   0.041142   \n",
       "1       2.282382          0.476234         0.14        1.223775   0.064851   \n",
       "2       2.186051          0.190620         0.39        1.098612   0.055435   \n",
       "3       2.079442          0.190620         0.31        1.945910   0.044973   \n",
       "4       2.174752          0.336472         0.26        2.351375   0.057325   \n",
       "\n",
       "   free sulfur dioxide  total sulfur dioxide  density    pH  sulphates  \\\n",
       "0             2.302585                  84.0  0.99432  3.44   0.364643   \n",
       "1             2.397895                  42.0  0.99690  3.19   0.463734   \n",
       "2             3.091042                 138.0  0.99176  3.05   0.418710   \n",
       "3             3.401197                 108.0  0.99390  3.26   0.405465   \n",
       "4             3.496508                 178.0  0.99550  3.04   0.357674   \n",
       "\n",
       "   alcohol  type  new_quality  \n",
       "0     10.2     1            1  \n",
       "1      9.5     0            1  \n",
       "2     10.9     1            1  \n",
       "3     10.8     1            2  \n",
       "4     10.9     1            2  "
      ]
     },
     "execution_count": 44,
     "metadata": {},
     "output_type": "execute_result"
    }
   ],
   "source": [
    "### 로그 변환 적용\n",
    "# 데이터를 변환하기 위해서는 데이터가 양수여야 함\n",
    "# 따라서, 모든 데이터에 1을 더해준 후 로그 변환 수행\n",
    "\n",
    "from scipy import stats\n",
    "\n",
    "skewed = list(skew_features_top.index)\n",
    "\n",
    "for ftr in skewed:\n",
    "    train_2nd[ftr] = np.log1p(train_2nd[ftr])\n",
    "\n",
    "train_2nd.head()"
   ]
  },
  {
   "cell_type": "code",
   "execution_count": 45,
   "metadata": {},
   "outputs": [
    {
     "name": "stdout",
     "output_type": "stream",
     "text": [
      "전체 왜곡 정도: 0.619902\n"
     ]
    }
   ],
   "source": [
    "### 각 변수들의 왜도(skewness) 확인\n",
    "\n",
    "features_idx = train_2nd.dtypes[train_2nd.dtypes != 'object'].index\n",
    "skew_features = train_2nd[features_idx].apply(lambda x:skew(x))\n",
    "print('전체 왜곡 정도: %f' %skew_features.mean())"
   ]
  },
  {
   "cell_type": "code",
   "execution_count": 46,
   "metadata": {},
   "outputs": [
    {
     "name": "stdout",
     "output_type": "stream",
     "text": [
      "chlorides           4.365419\n",
      "sulphates           1.159555\n",
      "volatile acidity    1.126251\n",
      "dtype: float64\n"
     ]
    }
   ],
   "source": [
    "### 왜도가 1 이상인 변수 파악\n",
    "\n",
    "skew_features_top = skew_features[skew_features > 1]\n",
    "print(skew_features_top.sort_values(ascending = False))"
   ]
  },
  {
   "cell_type": "markdown",
   "metadata": {},
   "source": [
    "- 데이터 왜곡 정도가 완화됨"
   ]
  },
  {
   "cell_type": "code",
   "execution_count": 47,
   "metadata": {},
   "outputs": [],
   "source": [
    "### feature / target 분리\n",
    "\n",
    "X_2nd = train_2nd.drop(['new_quality'], axis = 1)\n",
    "y_2nd = train_2nd['new_quality']"
   ]
  },
  {
   "cell_type": "code",
   "execution_count": 48,
   "metadata": {},
   "outputs": [
    {
     "data": {
      "text/html": [
       "<div>\n",
       "<style scoped>\n",
       "    .dataframe tbody tr th:only-of-type {\n",
       "        vertical-align: middle;\n",
       "    }\n",
       "\n",
       "    .dataframe tbody tr th {\n",
       "        vertical-align: top;\n",
       "    }\n",
       "\n",
       "    .dataframe thead th {\n",
       "        text-align: right;\n",
       "    }\n",
       "</style>\n",
       "<table border=\"1\" class=\"dataframe\">\n",
       "  <thead>\n",
       "    <tr style=\"text-align: right;\">\n",
       "      <th></th>\n",
       "      <th>fixed acidity</th>\n",
       "      <th>volatile acidity</th>\n",
       "      <th>citric acid</th>\n",
       "      <th>residual sugar</th>\n",
       "      <th>chlorides</th>\n",
       "      <th>free sulfur dioxide</th>\n",
       "      <th>total sulfur dioxide</th>\n",
       "      <th>density</th>\n",
       "      <th>pH</th>\n",
       "      <th>sulphates</th>\n",
       "      <th>alcohol</th>\n",
       "      <th>type</th>\n",
       "    </tr>\n",
       "  </thead>\n",
       "  <tbody>\n",
       "    <tr>\n",
       "      <th>0</th>\n",
       "      <td>-1.435945</td>\n",
       "      <td>2.134055</td>\n",
       "      <td>-1.781940</td>\n",
       "      <td>0.636288</td>\n",
       "      <td>-0.414966</td>\n",
       "      <td>-1.471879</td>\n",
       "      <td>-0.560852</td>\n",
       "      <td>-0.117252</td>\n",
       "      <td>1.372128</td>\n",
       "      <td>-0.617384</td>\n",
       "      <td>-0.255287</td>\n",
       "      <td>0.567197</td>\n",
       "    </tr>\n",
       "    <tr>\n",
       "      <th>1</th>\n",
       "      <td>1.301631</td>\n",
       "      <td>1.682531</td>\n",
       "      <td>-1.230560</td>\n",
       "      <td>-0.582618</td>\n",
       "      <td>0.361186</td>\n",
       "      <td>-1.326082</td>\n",
       "      <td>-1.307080</td>\n",
       "      <td>0.738864</td>\n",
       "      <td>-0.183584</td>\n",
       "      <td>0.463416</td>\n",
       "      <td>-0.841348</td>\n",
       "      <td>-1.763057</td>\n",
       "    </tr>\n",
       "    <tr>\n",
       "      <th>2</th>\n",
       "      <td>0.634530</td>\n",
       "      <td>-0.824084</td>\n",
       "      <td>0.492500</td>\n",
       "      <td>-0.766350</td>\n",
       "      <td>0.052930</td>\n",
       "      <td>-0.265766</td>\n",
       "      <td>0.398583</td>\n",
       "      <td>-0.966732</td>\n",
       "      <td>-1.054782</td>\n",
       "      <td>-0.027664</td>\n",
       "      <td>0.330774</td>\n",
       "      <td>0.567197</td>\n",
       "    </tr>\n",
       "    <tr>\n",
       "      <th>3</th>\n",
       "      <td>-0.103752</td>\n",
       "      <td>-0.824084</td>\n",
       "      <td>-0.058879</td>\n",
       "      <td>0.477437</td>\n",
       "      <td>-0.289538</td>\n",
       "      <td>0.208681</td>\n",
       "      <td>-0.134436</td>\n",
       "      <td>-0.256620</td>\n",
       "      <td>0.252016</td>\n",
       "      <td>-0.172132</td>\n",
       "      <td>0.247051</td>\n",
       "      <td>0.567197</td>\n",
       "    </tr>\n",
       "    <tr>\n",
       "      <th>4</th>\n",
       "      <td>0.556279</td>\n",
       "      <td>0.455947</td>\n",
       "      <td>-0.403491</td>\n",
       "      <td>1.072637</td>\n",
       "      <td>0.114814</td>\n",
       "      <td>0.354479</td>\n",
       "      <td>1.109276</td>\n",
       "      <td>0.274305</td>\n",
       "      <td>-1.117010</td>\n",
       "      <td>-0.693392</td>\n",
       "      <td>0.330774</td>\n",
       "      <td>0.567197</td>\n",
       "    </tr>\n",
       "  </tbody>\n",
       "</table>\n",
       "</div>"
      ],
      "text/plain": [
       "   fixed acidity  volatile acidity  citric acid  residual sugar  chlorides  \\\n",
       "0      -1.435945          2.134055    -1.781940        0.636288  -0.414966   \n",
       "1       1.301631          1.682531    -1.230560       -0.582618   0.361186   \n",
       "2       0.634530         -0.824084     0.492500       -0.766350   0.052930   \n",
       "3      -0.103752         -0.824084    -0.058879        0.477437  -0.289538   \n",
       "4       0.556279          0.455947    -0.403491        1.072637   0.114814   \n",
       "\n",
       "   free sulfur dioxide  total sulfur dioxide   density        pH  sulphates  \\\n",
       "0            -1.471879             -0.560852 -0.117252  1.372128  -0.617384   \n",
       "1            -1.326082             -1.307080  0.738864 -0.183584   0.463416   \n",
       "2            -0.265766              0.398583 -0.966732 -1.054782  -0.027664   \n",
       "3             0.208681             -0.134436 -0.256620  0.252016  -0.172132   \n",
       "4             0.354479              1.109276  0.274305 -1.117010  -0.693392   \n",
       "\n",
       "    alcohol      type  \n",
       "0 -0.255287  0.567197  \n",
       "1 -0.841348 -1.763057  \n",
       "2  0.330774  0.567197  \n",
       "3  0.247051  0.567197  \n",
       "4  0.330774  0.567197  "
      ]
     },
     "execution_count": 48,
     "metadata": {},
     "output_type": "execute_result"
    }
   ],
   "source": [
    "### 표준화 재수행\n",
    "\n",
    "colname = X_2nd.columns\n",
    "scaler = StandardScaler() \n",
    "X_2nd = scaler.fit_transform(X_2nd)\n",
    "X_2nd = pd.DataFrame(X_2nd, columns = colname)\n",
    "X_2nd.head()"
   ]
  },
  {
   "cell_type": "markdown",
   "metadata": {},
   "source": [
    "### **a) 단일 모델**"
   ]
  },
  {
   "cell_type": "code",
   "execution_count": 49,
   "metadata": {},
   "outputs": [],
   "source": [
    "### 활용할 모델 정의\n",
    "\n",
    "models = []\n",
    "\n",
    "models.append(('LDA', LinearDiscriminantAnalysis()))\n",
    "models.append(('SGD', SGDClassifier()))\n",
    "models.append(('KNN', KNeighborsClassifier()))\n",
    "models.append(('DT', DecisionTreeClassifier(random_state = 0)))\n",
    "models.append(('NB', GaussianNB()))\n",
    "models.append(('SVC', SVC(random_state = 0)))"
   ]
  },
  {
   "cell_type": "code",
   "execution_count": 51,
   "metadata": {},
   "outputs": [
    {
     "name": "stdout",
     "output_type": "stream",
     "text": [
      "LDA: 0.553\n",
      "SGD: 0.513\n",
      "KNN: 0.577\n",
      "DT: 0.591\n",
      "NB: 0.464\n",
      "SVC: 0.586\n",
      "\n",
      "모든 모델의 평균 메트릭(정확도): 0.547\n"
     ]
    }
   ],
   "source": [
    "### 순차적으로 modeling + 학습/예측/검증\n",
    "\n",
    "results = []\n",
    "names = []\n",
    "metrics = []\n",
    "\n",
    "for name, model in models:\n",
    "    cv_results = cross_val_score(model, X_2nd, y_2nd, \n",
    "                                 cv = skf, scoring = 'accuracy')\n",
    "    results.append(cv_results)\n",
    "    names.append(name)\n",
    "    metrics.append(cv_results.mean())\n",
    "    msg = \"%s: %.3f\" % (name, cv_results.mean())\n",
    "    print(msg)\n",
    "\n",
    "print()\n",
    "print('모든 모델의 평균 메트릭(정확도):',round(np.mean(metrics),3))"
   ]
  },
  {
   "cell_type": "markdown",
   "metadata": {},
   "source": [
    "- 전반적으로 성능이 조금 향상되었다."
   ]
  },
  {
   "cell_type": "markdown",
   "metadata": {},
   "source": [
    "### **b) 앙상블 모델**"
   ]
  },
  {
   "cell_type": "code",
   "execution_count": 52,
   "metadata": {},
   "outputs": [],
   "source": [
    "ensemble = []\n",
    "\n",
    "ensemble.append(('RF', RandomForestClassifier(random_state = 0)))\n",
    "ensemble.append(('Bagging',BaggingClassifier(DecisionTreeClassifier(), random_state = 0)))\n",
    "ensemble.append(('GB', GradientBoostingClassifier(random_state = 0)))\n",
    "ensemble.append(('XGB', XGBClassifier(random_state = 0)))\n",
    "ensemble.append(('LGBM', LGBMClassifier(random_state = 0)))\n",
    "ensemble.append(('Ada', AdaBoostClassifier(random_state = 0)))\n",
    "ensemble.append(('ET', ExtraTreesClassifier(random_state = 0)))"
   ]
  },
  {
   "cell_type": "code",
   "execution_count": 53,
   "metadata": {},
   "outputs": [
    {
     "name": "stdout",
     "output_type": "stream",
     "text": [
      "RF: 0.687\n",
      "Bagging: 0.647\n",
      "GB: 0.603\n",
      "XGB: 0.665\n",
      "LGBM: 0.666\n",
      "Ada: 0.540\n",
      "ET: 0.688\n",
      "\n",
      "모든 모델의 평균 메트릭(정확도): 0.642\n"
     ]
    }
   ],
   "source": [
    "### 순차적으로 modeling + 학습/예측/검증\n",
    "\n",
    "en_results = []\n",
    "en_names = []\n",
    "en_metrics = []\n",
    "\n",
    "for name, model in ensemble:\n",
    "    cv_results = cross_val_score(model, X_2nd, y_2nd, \n",
    "                                 cv = skf, scoring = 'accuracy')\n",
    "    en_results.append(cv_results)\n",
    "    en_names.append(name)\n",
    "    en_metrics.append(cv_results.mean())\n",
    "    msg = \"%s: %.3f\" % (name, cv_results.mean())\n",
    "    print(msg)\n",
    "\n",
    "print()\n",
    "print('모든 모델의 평균 메트릭(정확도):',round(np.mean(en_metrics),3))"
   ]
  },
  {
   "cell_type": "markdown",
   "metadata": {},
   "source": [
    "- 단일 모델에서는 성능이 향상되고, 앙상블 모델에서는 성능이 하락됨\n",
    "    - 현재 앙상블 모델의 성능이 대부분 더 좋다.\n",
    "    - 성능이 떨어지기에 로그 변환을 하지 않는 쪽으로 결정"
   ]
  },
  {
   "cell_type": "markdown",
   "metadata": {},
   "source": [
    "# **5. 변수들 간의 상관도**"
   ]
  },
  {
   "cell_type": "markdown",
   "metadata": {},
   "source": [
    "## **5-1. target 변수와의 상관도**"
   ]
  },
  {
   "cell_type": "markdown",
   "metadata": {},
   "source": [
    "- target 변수와 가장 상관도가 높은 변수는 alcohol이다.\n",
    "- 해당 변수의 이상치를 제거해보자."
   ]
  },
  {
   "cell_type": "code",
   "execution_count": 56,
   "metadata": {},
   "outputs": [],
   "source": [
    "### 데이터 원본을 유지하기 위해 복사본 활용\n",
    "\n",
    "X_3rd = X.copy()\n",
    "y_3rd = y.copy()"
   ]
  },
  {
   "cell_type": "code",
   "execution_count": 57,
   "metadata": {},
   "outputs": [],
   "source": [
    "train_3 = pd.concat([X_3rd, y_3rd], axis = 1)"
   ]
  },
  {
   "cell_type": "code",
   "execution_count": 58,
   "metadata": {},
   "outputs": [],
   "source": [
    "### 이상치 제거 함수\n",
    "\n",
    "def get_outlier(df = None, column = None, weight = 1.5):\n",
    "    # 1/4 분위와 3/4 분위 지점을 np.percentile로 구함 \n",
    "    df = df[column]\n",
    "    quantile_25 = np.percentile(df.values, 25)\n",
    "    quantile_75 = np.percentile(df.values, 75)\n",
    "    \n",
    "    # IQR을 구하고, IQR에 1.5를 곱하여 최대값과 최소값 지점 구함. \n",
    "    iqr = quantile_75 - quantile_25\n",
    "    iqr_weight = iqr * weight\n",
    "    lowest_val = quantile_25 - iqr_weight\n",
    "    highest_val = quantile_75 + iqr_weight\n",
    "    \n",
    "    # 최대값 보다 크거나, 최소값 보다 작은 값을 아웃라이어로 설정하고 DataFrame index 반환. \n",
    "    outlier_index = df[(df < lowest_val) | (df > highest_val)].index\n",
    "    \n",
    "    return outlier_index"
   ]
  },
  {
   "cell_type": "code",
   "execution_count": 59,
   "metadata": {},
   "outputs": [
    {
     "name": "stdout",
     "output_type": "stream",
     "text": [
      "이상치 데이터 인덱스: Int64Index([2787, 4964, 5340], dtype='int64')\n"
     ]
    }
   ],
   "source": [
    "### alcohol에서 이상치 찾기\n",
    "\n",
    "outlier_index = get_outlier(df = train_3, column = 'alcohol', weight = 1.5)\n",
    "print('이상치 데이터 인덱스:', outlier_index)"
   ]
  },
  {
   "cell_type": "code",
   "execution_count": 60,
   "metadata": {},
   "outputs": [],
   "source": [
    "### 이상치 데이터 삭제\n",
    "\n",
    "train_3.drop(outlier_index, axis = 0, inplace = True)"
   ]
  },
  {
   "cell_type": "code",
   "execution_count": 61,
   "metadata": {},
   "outputs": [],
   "source": [
    "### feature/target 분리\n",
    "\n",
    "X_3rd = train_3.drop(['new_quality'], axis = 1)\n",
    "y_3rd = train_3['new_quality']"
   ]
  },
  {
   "cell_type": "markdown",
   "metadata": {},
   "source": [
    "### **a) 단일 모델**"
   ]
  },
  {
   "cell_type": "code",
   "execution_count": 62,
   "metadata": {},
   "outputs": [],
   "source": [
    "### 활용할 모델 정의\n",
    "\n",
    "models = []\n",
    "\n",
    "models.append(('LDA', LinearDiscriminantAnalysis()))\n",
    "models.append(('SGD', SGDClassifier()))\n",
    "models.append(('KNN', KNeighborsClassifier()))\n",
    "models.append(('DT', DecisionTreeClassifier(random_state = 0)))\n",
    "models.append(('NB', GaussianNB()))\n",
    "models.append(('SVC', SVC(random_state = 0)))"
   ]
  },
  {
   "cell_type": "code",
   "execution_count": 63,
   "metadata": {
    "scrolled": true
   },
   "outputs": [
    {
     "name": "stdout",
     "output_type": "stream",
     "text": [
      "LDA: 0.546\n",
      "SGD: 0.510\n",
      "KNN: 0.565\n",
      "DT: 0.595\n",
      "NB: 0.460\n",
      "SVC: 0.587\n",
      "\n",
      "모든 모델의 평균 메트릭(정확도): 0.544\n"
     ]
    }
   ],
   "source": [
    "### 순차적으로 modeling + 학습/예측/검증\n",
    "\n",
    "results = []\n",
    "names = []\n",
    "metrics = []\n",
    "\n",
    "for name, model in models:\n",
    "    cv_results = cross_val_score(model, X_3rd, y_3rd, \n",
    "                                 cv = skf, scoring = 'accuracy')\n",
    "    results.append(cv_results)\n",
    "    names.append(name)\n",
    "    metrics.append(cv_results.mean())\n",
    "    msg = \"%s: %.3f\" % (name, cv_results.mean())\n",
    "    print(msg)\n",
    "\n",
    "print()\n",
    "print('모든 모델의 평균 메트릭(정확도):',round(np.mean(metrics),3))"
   ]
  },
  {
   "cell_type": "markdown",
   "metadata": {},
   "source": [
    "### **b) 앙상블 모델**"
   ]
  },
  {
   "cell_type": "code",
   "execution_count": 64,
   "metadata": {},
   "outputs": [],
   "source": [
    "ensemble = []\n",
    "\n",
    "ensemble.append(('RF', RandomForestClassifier(random_state = 0)))\n",
    "ensemble.append(('Bagging',BaggingClassifier(DecisionTreeClassifier(), random_state = 0)))\n",
    "ensemble.append(('GB', GradientBoostingClassifier(random_state = 0)))\n",
    "ensemble.append(('XGB', XGBClassifier(random_state = 0)))\n",
    "ensemble.append(('LGBM', LGBMClassifier(random_state = 0)))\n",
    "ensemble.append(('Ada', AdaBoostClassifier(random_state = 0)))\n",
    "ensemble.append(('ET', ExtraTreesClassifier(random_state = 0)))"
   ]
  },
  {
   "cell_type": "code",
   "execution_count": 65,
   "metadata": {
    "scrolled": true
   },
   "outputs": [
    {
     "name": "stdout",
     "output_type": "stream",
     "text": [
      "RF: 0.681\n",
      "Bagging: 0.655\n",
      "GB: 0.592\n",
      "XGB: 0.662\n",
      "LGBM: 0.655\n",
      "Ada: 0.529\n",
      "ET: 0.683\n",
      "\n",
      "모든 모델의 평균 메트릭(정확도): 0.637\n"
     ]
    }
   ],
   "source": [
    "### 순차적으로 modeling + 학습/예측/검증\n",
    "\n",
    "en_results = []\n",
    "en_names = []\n",
    "en_metrics = []\n",
    "\n",
    "for name, model in ensemble:\n",
    "    cv_results = cross_val_score(model, X_3rd, y_3rd, \n",
    "                                 cv = skf, scoring = 'accuracy')\n",
    "    en_results.append(cv_results)\n",
    "    en_names.append(name)\n",
    "    en_metrics.append(cv_results.mean())\n",
    "    msg = \"%s: %.3f\" % (name, cv_results.mean())\n",
    "    print(msg)\n",
    "\n",
    "print()\n",
    "print('모든 모델의 평균 메트릭(정확도):',round(np.mean(en_metrics),3))"
   ]
  },
  {
   "cell_type": "markdown",
   "metadata": {},
   "source": [
    "- 성능이 오히려 하락함\n",
    "    - 원본 데이터 유지"
   ]
  },
  {
   "cell_type": "markdown",
   "metadata": {},
   "source": [
    "## **5-2. feature 변수들 간의 상관도**"
   ]
  },
  {
   "attachments": {
    "image-2.png": {
     "image/png": "[encoded data removed]"
    }
   },
   "cell_type": "markdown",
   "metadata": {},
   "source": [
    "![image-2.png](attachment:image-2.png)"
   ]
  },
  {
   "cell_type": "markdown",
   "metadata": {},
   "source": [
    "- target 변수(quality)와 상관도가 가장 높은 변수는 'alcohol'이다.\n",
    "- '와인의 '종류'와 '산도', '염화물', 'total sulfur dioxide', 'sulphates' 의 상관관계가 크다.\n",
    "    - 와인의 종류에 따른 특징 차이가 두드러진다.\n",
    "    - 나머지 모든 변수들 중 type과 상관계수가 0.5 이상인 변수들을 삭제\n",
    "- 와인의 '밀도'와 'residual sugar', 'alcohol' 상관관계가 크다.\n",
    "    - 실제로 밀도를 측정하는 기준들\n",
    "    - residual sugar는 alcohol과도 상관관계가 어느정도 있기에, 삭제 결정\n",
    "- 'free sulfur dioxide'와 'total sulfur dioxide' 간 상관관계가 크다.\n",
    "   - 이름으로 보아 서로 상관있어 보인다."
   ]
  },
  {
   "cell_type": "markdown",
   "metadata": {},
   "source": [
    "> 최종 삭제 변수: volatile acidity, chlorides, total sulfur dioxide"
   ]
  },
  {
   "cell_type": "markdown",
   "metadata": {},
   "source": [
    "- 변수 판단 기준: 아래 링크 활용\n",
    "    - [와인상식](http://the-scent.co.kr/bbs/board.php?bo_table=wine_how_to&wr_id=29&page=7)"
   ]
  },
  {
   "cell_type": "markdown",
   "metadata": {},
   "source": [
    "⭐ **이후 최종 예측 시 test에서도 해당 변수들을 제거해 주는 거 잊지 말기!**"
   ]
  },
  {
   "cell_type": "code",
   "execution_count": 66,
   "metadata": {},
   "outputs": [],
   "source": [
    "### 데이터 원본을 유지하기 위해 복사본 활용\n",
    "\n",
    "X_4th = X.copy()\n",
    "y_4th = y.copy()"
   ]
  },
  {
   "cell_type": "code",
   "execution_count": 67,
   "metadata": {},
   "outputs": [],
   "source": [
    "train_4 = pd.concat([X_4th, y_4th], axis = 1)"
   ]
  },
  {
   "cell_type": "code",
   "execution_count": 69,
   "metadata": {},
   "outputs": [
    {
     "data": {
      "text/html": [
       "<div>\n",
       "<style scoped>\n",
       "    .dataframe tbody tr th:only-of-type {\n",
       "        vertical-align: middle;\n",
       "    }\n",
       "\n",
       "    .dataframe tbody tr th {\n",
       "        vertical-align: top;\n",
       "    }\n",
       "\n",
       "    .dataframe thead th {\n",
       "        text-align: right;\n",
       "    }\n",
       "</style>\n",
       "<table border=\"1\" class=\"dataframe\">\n",
       "  <thead>\n",
       "    <tr style=\"text-align: right;\">\n",
       "      <th></th>\n",
       "      <th>fixed acidity</th>\n",
       "      <th>citric acid</th>\n",
       "      <th>residual sugar</th>\n",
       "      <th>free sulfur dioxide</th>\n",
       "      <th>density</th>\n",
       "      <th>pH</th>\n",
       "      <th>sulphates</th>\n",
       "      <th>alcohol</th>\n",
       "      <th>type</th>\n",
       "      <th>new_quality</th>\n",
       "    </tr>\n",
       "  </thead>\n",
       "  <tbody>\n",
       "    <tr>\n",
       "      <th>0</th>\n",
       "      <td>-1.250611</td>\n",
       "      <td>-1.781940</td>\n",
       "      <td>0.286345</td>\n",
       "      <td>-1.211937</td>\n",
       "      <td>-0.117252</td>\n",
       "      <td>1.372128</td>\n",
       "      <td>-0.605988</td>\n",
       "      <td>-0.255287</td>\n",
       "      <td>0.567197</td>\n",
       "      <td>1</td>\n",
       "    </tr>\n",
       "    <tr>\n",
       "      <th>1</th>\n",
       "      <td>1.234899</td>\n",
       "      <td>-1.230560</td>\n",
       "      <td>-0.638755</td>\n",
       "      <td>-1.155351</td>\n",
       "      <td>0.738864</td>\n",
       "      <td>-0.183584</td>\n",
       "      <td>0.398147</td>\n",
       "      <td>-0.841348</td>\n",
       "      <td>-1.763057</td>\n",
       "      <td>1</td>\n",
       "    </tr>\n",
       "    <tr>\n",
       "      <th>2</th>\n",
       "      <td>0.535849</td>\n",
       "      <td>0.492500</td>\n",
       "      <td>-0.722855</td>\n",
       "      <td>-0.532907</td>\n",
       "      <td>-0.966732</td>\n",
       "      <td>-1.054782</td>\n",
       "      <td>-0.070450</td>\n",
       "      <td>0.330774</td>\n",
       "      <td>0.567197</td>\n",
       "      <td>1</td>\n",
       "    </tr>\n",
       "    <tr>\n",
       "      <th>3</th>\n",
       "      <td>-0.163201</td>\n",
       "      <td>-0.058879</td>\n",
       "      <td>0.118145</td>\n",
       "      <td>-0.080221</td>\n",
       "      <td>-0.256620</td>\n",
       "      <td>0.252016</td>\n",
       "      <td>-0.204334</td>\n",
       "      <td>0.247051</td>\n",
       "      <td>0.567197</td>\n",
       "      <td>2</td>\n",
       "    </tr>\n",
       "    <tr>\n",
       "      <th>4</th>\n",
       "      <td>0.458177</td>\n",
       "      <td>-0.403491</td>\n",
       "      <td>0.854020</td>\n",
       "      <td>0.089537</td>\n",
       "      <td>0.274305</td>\n",
       "      <td>-1.117010</td>\n",
       "      <td>-0.672931</td>\n",
       "      <td>0.330774</td>\n",
       "      <td>0.567197</td>\n",
       "      <td>2</td>\n",
       "    </tr>\n",
       "  </tbody>\n",
       "</table>\n",
       "</div>"
      ],
      "text/plain": [
       "   fixed acidity  citric acid  residual sugar  free sulfur dioxide   density  \\\n",
       "0      -1.250611    -1.781940        0.286345            -1.211937 -0.117252   \n",
       "1       1.234899    -1.230560       -0.638755            -1.155351  0.738864   \n",
       "2       0.535849     0.492500       -0.722855            -0.532907 -0.966732   \n",
       "3      -0.163201    -0.058879        0.118145            -0.080221 -0.256620   \n",
       "4       0.458177    -0.403491        0.854020             0.089537  0.274305   \n",
       "\n",
       "         pH  sulphates   alcohol      type  new_quality  \n",
       "0  1.372128  -0.605988 -0.255287  0.567197            1  \n",
       "1 -0.183584   0.398147 -0.841348 -1.763057            1  \n",
       "2 -1.054782  -0.070450  0.330774  0.567197            1  \n",
       "3  0.252016  -0.204334  0.247051  0.567197            2  \n",
       "4 -1.117010  -0.672931  0.330774  0.567197            2  "
      ]
     },
     "execution_count": 69,
     "metadata": {},
     "output_type": "execute_result"
    }
   ],
   "source": [
    "train_4 = train_4.drop(['volatile acidity', 'chlorides', 'total sulfur dioxide'], axis = 1)\n",
    "train_4.head()"
   ]
  },
  {
   "cell_type": "code",
   "execution_count": 70,
   "metadata": {},
   "outputs": [],
   "source": [
    "### feature/target 분리\n",
    "\n",
    "X_4th = train_4.drop(['new_quality'], axis = 1)\n",
    "y_4th = train_4['new_quality']"
   ]
  },
  {
   "cell_type": "markdown",
   "metadata": {},
   "source": [
    "### **a) 단일 모델**"
   ]
  },
  {
   "cell_type": "code",
   "execution_count": 71,
   "metadata": {},
   "outputs": [],
   "source": [
    "### 활용할 모델 정의\n",
    "\n",
    "models = []\n",
    "\n",
    "models.append(('LDA', LinearDiscriminantAnalysis()))\n",
    "models.append(('SGD', SGDClassifier()))\n",
    "models.append(('KNN', KNeighborsClassifier()))\n",
    "models.append(('DT', DecisionTreeClassifier(random_state = 0)))\n",
    "models.append(('NB', GaussianNB()))\n",
    "models.append(('SVC', SVC(random_state = 0)))"
   ]
  },
  {
   "cell_type": "code",
   "execution_count": 72,
   "metadata": {},
   "outputs": [
    {
     "name": "stdout",
     "output_type": "stream",
     "text": [
      "LDA: 0.529\n",
      "SGD: 0.486\n",
      "KNN: 0.550\n",
      "DT: 0.596\n",
      "NB: 0.483\n",
      "SVC: 0.558\n",
      "\n",
      "모든 모델의 평균 메트릭(정확도): 0.534\n"
     ]
    }
   ],
   "source": [
    "### 순차적으로 modeling + 학습/예측/검증\n",
    "\n",
    "results = []\n",
    "names = []\n",
    "metrics = []\n",
    "\n",
    "for name, model in models:\n",
    "    cv_results = cross_val_score(model, X_4th, y_4th, \n",
    "                                 cv = skf, scoring = 'accuracy')\n",
    "    results.append(cv_results)\n",
    "    names.append(name)\n",
    "    metrics.append(cv_results.mean())\n",
    "    msg = \"%s: %.3f\" % (name, cv_results.mean())\n",
    "    print(msg)\n",
    "\n",
    "print()\n",
    "print('모든 모델의 평균 메트릭(정확도):',round(np.mean(metrics),3))"
   ]
  },
  {
   "cell_type": "markdown",
   "metadata": {},
   "source": [
    "### **b) 앙상블 모델**"
   ]
  },
  {
   "cell_type": "code",
   "execution_count": 73,
   "metadata": {},
   "outputs": [],
   "source": [
    "ensemble = []\n",
    "\n",
    "ensemble.append(('RF', RandomForestClassifier(random_state = 0)))\n",
    "ensemble.append(('Bagging',BaggingClassifier(DecisionTreeClassifier(), random_state = 0)))\n",
    "ensemble.append(('GB', GradientBoostingClassifier(random_state = 0)))\n",
    "ensemble.append(('XGB', XGBClassifier(random_state = 0)))\n",
    "ensemble.append(('LGBM', LGBMClassifier(random_state = 0)))\n",
    "ensemble.append(('Ada', AdaBoostClassifier(random_state = 0)))\n",
    "ensemble.append(('ET', ExtraTreesClassifier(random_state = 0)))"
   ]
  },
  {
   "cell_type": "code",
   "execution_count": 74,
   "metadata": {},
   "outputs": [
    {
     "name": "stdout",
     "output_type": "stream",
     "text": [
      "RF: 0.663\n",
      "Bagging: 0.642\n",
      "GB: 0.576\n",
      "XGB: 0.655\n",
      "LGBM: 0.637\n",
      "Ada: 0.517\n",
      "ET: 0.669\n",
      "\n",
      "모든 모델의 평균 메트릭(정확도): 0.623\n"
     ]
    }
   ],
   "source": [
    "### 순차적으로 modeling + 학습/예측/검증\n",
    "\n",
    "en_results = []\n",
    "en_names = []\n",
    "en_metrics = []\n",
    "\n",
    "for name, model in ensemble:\n",
    "    cv_results = cross_val_score(model, X_4th, y_4th, \n",
    "                                 cv = skf, scoring = 'accuracy')\n",
    "    en_results.append(cv_results)\n",
    "    en_names.append(name)\n",
    "    en_metrics.append(cv_results.mean())\n",
    "    msg = \"%s: %.3f\" % (name, cv_results.mean())\n",
    "    print(msg)\n",
    "\n",
    "print()\n",
    "print('모든 모델의 평균 메트릭(정확도):',round(np.mean(en_metrics),3))"
   ]
  },
  {
   "cell_type": "markdown",
   "metadata": {},
   "source": [
    "- 대부분 성능이 떨어짐"
   ]
  },
  {
   "cell_type": "markdown",
   "metadata": {},
   "source": [
    "# **6. 데이터 불균형 처리**"
   ]
  },
  {
   "cell_type": "markdown",
   "metadata": {},
   "source": [
    "## **6-1. 클래스 가중치 부여(Weight Balancing)**"
   ]
  },
  {
   "cell_type": "markdown",
   "metadata": {},
   "source": [
    "- 관련 코드 같은 걸 찾기는 했는데,, 잘못 적용한 건지 성능이 너무 떨어져서 지웠습니다...ㅎ  \n",
    "(원래는 가중치 주면 비슷하거나 성능이 올라가면 올라가지 내려가는 경우는 거의 없음,,)\n",
    "- 혹시 활용할 사람 있을까봐 링크 남겨둘게용\n",
    "    - [Reference](https://medium.com/grabngoinfo/balanced-weights-for-imbalanced-classification-465f0e13c5ad)"
   ]
  },
  {
   "cell_type": "markdown",
   "metadata": {},
   "source": [
    "## **6-2. SMOTE**\n",
    "- 클래스를 모아도 클래스 간의 불균형이 해결되지는 x\n",
    "    - 오버샘플링 적용"
   ]
  },
  {
   "cell_type": "code",
   "execution_count": 75,
   "metadata": {},
   "outputs": [
    {
     "name": "stdout",
     "output_type": "stream",
     "text": [
      "SMOTE 적용 전 학습용 피처/레이블 데이터 세트:  (5497, 12) (5497,)\n",
      "SMOTE 적용 후 학습용 피처/레이블 데이터 세트:  (9664, 12) (9664,)\n",
      "SMOTE 적용 후 레이블 값 분포: \n",
      " 1    2416\n",
      "2    2416\n",
      "3    2416\n",
      "0    2416\n",
      "Name: new_quality, dtype: int64\n"
     ]
    }
   ],
   "source": [
    "from imblearn.over_sampling import SMOTE\n",
    "\n",
    "smote = SMOTE(random_state = 0)\n",
    "X_over, y_over = smote.fit_resample(X, y)\n",
    "\n",
    "print('SMOTE 적용 전 학습용 피처/레이블 데이터 세트: ', X.shape, y.shape)\n",
    "print('SMOTE 적용 후 학습용 피처/레이블 데이터 세트: ', X_over.shape, y_over.shape)\n",
    "print('SMOTE 적용 후 레이블 값 분포: \\n', pd.Series(y_over).value_counts())"
   ]
  },
  {
   "cell_type": "markdown",
   "metadata": {},
   "source": [
    "- SMOTE 적용 후 클래스 4의 경우 10배 이상 데이터가 증가함\n",
    "- 클래스 7의 경우 2배 정도 증가"
   ]
  },
  {
   "cell_type": "markdown",
   "metadata": {},
   "source": [
    "### **a) 단일 모델**"
   ]
  },
  {
   "cell_type": "code",
   "execution_count": 76,
   "metadata": {},
   "outputs": [],
   "source": [
    "### 활용할 모델 정의\n",
    "\n",
    "models = []\n",
    "\n",
    "models.append(('LDA', LinearDiscriminantAnalysis()))\n",
    "models.append(('SGD', SGDClassifier()))\n",
    "models.append(('KNN', KNeighborsClassifier()))\n",
    "models.append(('DT', DecisionTreeClassifier(random_state = 0)))\n",
    "models.append(('NB', GaussianNB()))\n",
    "models.append(('SVC', SVC(random_state = 0)))"
   ]
  },
  {
   "cell_type": "code",
   "execution_count": 77,
   "metadata": {},
   "outputs": [
    {
     "name": "stdout",
     "output_type": "stream",
     "text": [
      "LDA: 0.525\n",
      "SGD: 0.490\n",
      "KNN: 0.735\n",
      "DT: 0.732\n",
      "NB: 0.427\n",
      "SVC: 0.641\n",
      "\n",
      "모든 모델의 평균 메트릭(정확도): 0.592\n"
     ]
    }
   ],
   "source": [
    "### 순차적으로 modeling + 학습/예측/검증\n",
    "\n",
    "results = []\n",
    "names = []\n",
    "metrics = []\n",
    "\n",
    "for name, model in models:\n",
    "    cv_results = cross_val_score(model, X_over, y_over, \n",
    "                                 cv = skf, scoring = 'accuracy')\n",
    "    results.append(cv_results)\n",
    "    names.append(name)\n",
    "    metrics.append(cv_results.mean())\n",
    "    msg = \"%s: %.3f\" % (name, cv_results.mean())\n",
    "    print(msg)\n",
    "\n",
    "print()\n",
    "print('모든 모델의 평균 메트릭(정확도):',round(np.mean(metrics),3))"
   ]
  },
  {
   "cell_type": "markdown",
   "metadata": {},
   "source": [
    "### **b) 앙상블 모델**"
   ]
  },
  {
   "cell_type": "code",
   "execution_count": 78,
   "metadata": {},
   "outputs": [],
   "source": [
    "ensemble = []\n",
    "\n",
    "ensemble.append(('RF', RandomForestClassifier(random_state = 0)))\n",
    "ensemble.append(('Bagging',BaggingClassifier(DecisionTreeClassifier(), random_state = 0)))\n",
    "ensemble.append(('GB', GradientBoostingClassifier(random_state = 0)))\n",
    "ensemble.append(('XGB', XGBClassifier(random_state = 0)))\n",
    "ensemble.append(('LGBM', LGBMClassifier(random_state = 0)))\n",
    "ensemble.append(('Ada', AdaBoostClassifier(random_state = 0)))\n",
    "ensemble.append(('ET', ExtraTreesClassifier(random_state = 0)))"
   ]
  },
  {
   "cell_type": "code",
   "execution_count": 79,
   "metadata": {},
   "outputs": [
    {
     "name": "stdout",
     "output_type": "stream",
     "text": [
      "RF: 0.826\n",
      "Bagging: 0.785\n",
      "GB: 0.669\n",
      "XGB: 0.805\n",
      "LGBM: 0.796\n",
      "Ada: 0.542\n",
      "ET: 0.841\n",
      "\n",
      "모든 모델의 평균 메트릭(정확도): 0.752\n"
     ]
    }
   ],
   "source": [
    "### 순차적으로 modeling + 학습/예측/검증\n",
    "\n",
    "en_results = []\n",
    "en_names = []\n",
    "en_metrics = []\n",
    "\n",
    "for name, model in ensemble:\n",
    "    cv_results = cross_val_score(model, X_over, y_over, \n",
    "                                 cv = skf, scoring = 'accuracy')\n",
    "    en_results.append(cv_results)\n",
    "    en_names.append(name)\n",
    "    en_metrics.append(cv_results.mean())\n",
    "    msg = \"%s: %.3f\" % (name, cv_results.mean())\n",
    "    print(msg)\n",
    "\n",
    "print()\n",
    "print('모든 모델의 평균 메트릭(정확도):',round(np.mean(en_metrics),3))"
   ]
  },
  {
   "cell_type": "markdown",
   "metadata": {},
   "source": [
    "- 성능이 크게 **향상됨**"
   ]
  },
  {
   "cell_type": "markdown",
   "metadata": {},
   "source": [
    "# **7. 하이퍼 파라미터 튜닝**"
   ]
  },
  {
   "cell_type": "markdown",
   "metadata": {},
   "source": [
    "- 성능이 좋은 모델은 **ExtraTrees**, **LGBM**, **XGB**임\n",
    "    - 모두 **Oversampling** 된 데이터로 학습\n",
    "- 해당 모델들에 대해 **하이퍼 파라미터 튜닝**을 적용해 보자.\n",
    "- [extraTrees 설명](https://velog.io/@nata0919/Extra-Trees-%EC%A0%95%EB%A6%AC)"
   ]
  },
  {
   "cell_type": "markdown",
   "metadata": {},
   "source": [
    "### **7-1. ExtraTrees**"
   ]
  },
  {
   "cell_type": "code",
   "execution_count": 80,
   "metadata": {},
   "outputs": [],
   "source": [
    "from sklearn.model_selection import GridSearchCV"
   ]
  },
  {
   "cell_type": "code",
   "execution_count": 82,
   "metadata": {},
   "outputs": [
    {
     "name": "stdout",
     "output_type": "stream",
     "text": [
      "최적 모델: 0.843335 using {'n_estimators': 300}\n"
     ]
    }
   ],
   "source": [
    "params = {\n",
    "    'n_estimators' : [100, 200, 300, 400, 500]\n",
    "}\n",
    "\n",
    "### 모델 객체\n",
    "et = ExtraTreesClassifier(random_state = 0)\n",
    "\n",
    "skf = StratifiedKFold(n_splits = 5, \n",
    "                      random_state = 0, shuffle = True)\n",
    "grid = GridSearchCV(estimator = et, param_grid = params, \n",
    "                    scoring = 'accuracy', cv = skf)\n",
    "grid_result = grid.fit(X_over, y_over)\n",
    "\n",
    "print(\"최적 모델: %f using %s\" % (grid_result.best_score_, grid_result.best_params_))"
   ]
  },
  {
   "cell_type": "code",
   "execution_count": 85,
   "metadata": {},
   "outputs": [],
   "source": [
    "### 최적 모델 생성\n",
    "\n",
    "et_opt = ExtraTreesClassifier(n_estimators = 300, random_state = 0)"
   ]
  },
  {
   "cell_type": "markdown",
   "metadata": {},
   "source": [
    "### **7-2. LightGBM**\n",
    "- [lgbm 파라미터 튜닝](https://lightgbm.readthedocs.io/en/latest/pythonapi/lightgbm.LGBMClassifier.html)"
   ]
  },
  {
   "cell_type": "code",
   "execution_count": 83,
   "metadata": {},
   "outputs": [
    {
     "name": "stdout",
     "output_type": "stream",
     "text": [
      "최적 모델: 0.824503 using {'boosting_type': 'gbdt', 'learning_rate': 0.1, 'n_estimators': 200, 'num_leaves': 40}\n"
     ]
    }
   ],
   "source": [
    "params = {\n",
    "    'boosting_type' : ['gbdt', 'dart'], \n",
    "    'learning_rate' : [0.01, 0.05, 0.1],\n",
    "    'n_estimators' : [50, 100, 150, 200],\n",
    "    'num_leaves' : [20, 30, 40]\n",
    "}\n",
    "\n",
    "### 모델 객체\n",
    "lgbm = LGBMClassifier(random_state = 0)\n",
    "\n",
    "skf = StratifiedKFold(n_splits = 5, \n",
    "                      random_state = 0, shuffle = True)\n",
    "grid = GridSearchCV(estimator = lgbm, param_grid = params, \n",
    "                    scoring = 'accuracy', cv = skf)\n",
    "grid_result = grid.fit(X_over, y_over)\n",
    "\n",
    "print(\"최적 모델: %f using %s\" % (grid_result.best_score_, grid_result.best_params_))"
   ]
  },
  {
   "cell_type": "code",
   "execution_count": 86,
   "metadata": {},
   "outputs": [],
   "source": [
    "lgbm_opt = LGBMClassifier(boosting_type = 'gbdt',learning_rate = 0.1,\n",
    "                          n_estimators = 200,num_leaves = 40, random_state = 0)"
   ]
  },
  {
   "cell_type": "markdown",
   "metadata": {},
   "source": [
    "### **7-3. XGB**"
   ]
  },
  {
   "cell_type": "code",
   "execution_count": 84,
   "metadata": {},
   "outputs": [
    {
     "name": "stdout",
     "output_type": "stream",
     "text": [
      "최적 모델: 0.823261 using {'learning_rate': 0.3, 'max_depth': 8, 'max_leaves': 200, 'tree_method': 'gpu_hist'}\n"
     ]
    }
   ],
   "source": [
    "params = {\n",
    "    'tree_method' : ['exact', 'gpu_hist'],\n",
    "    'learning_rate' : [0.01, 0.1, 0.3],\n",
    "    'max_depth' : [4,6,8],\n",
    "    'max_leaves' : [200, 300, 400],\n",
    "}\n",
    "\n",
    "### 모델 객체\n",
    "xgb = XGBClassifier(random_state = 0)\n",
    "\n",
    "skf = StratifiedKFold(n_splits = 5, \n",
    "                      random_state = 0, shuffle = True)\n",
    "grid = GridSearchCV(estimator = xgb, param_grid = params, \n",
    "                    scoring = 'accuracy', cv = skf)\n",
    "grid_result = grid.fit(X_over, y_over)\n",
    "\n",
    "print(\"최적 모델: %f using %s\" % (grid_result.best_score_, grid_result.best_params_))"
   ]
  },
  {
   "cell_type": "code",
   "execution_count": 87,
   "metadata": {},
   "outputs": [],
   "source": [
    "xgb_opt = XGBClassifier(learning_rate = 0.3, max_depth = 8, max_leaves = 200, \n",
    "                        tree_method = 'gpu_hist',random_state = 0)"
   ]
  },
  {
   "cell_type": "markdown",
   "metadata": {},
   "source": [
    "# **8. 스태킹 모델 생성**\n",
    "- 개별 모델: hyper parameter tuning을 적용한 ```ET```, ```LGBM```, ```XGB```\n",
    "- 최종 예측 모델: ```RandomForest```"
   ]
  },
  {
   "cell_type": "code",
   "execution_count": 88,
   "metadata": {},
   "outputs": [],
   "source": [
    "from sklearn.model_selection import StratifiedKFold\n",
    "from sklearn.metrics import mean_absolute_error\n",
    "\n",
    "### 개별 기반 모델에서 최종 메타 모델이 사용할 학습/테스트용 데이터를 생성하기 위한 함수\n",
    "def get_stacking_base_datasets(model, X_train_n, y_train_n, X_test_n, n_folds):\n",
    "    # 지정된 n_folds 값으로 KFold 생성\n",
    "    skf = StratifiedKFold(n_splits = n_folds, shuffle = True, random_state = 0)\n",
    "    \n",
    "    # 추후에 메타 모델이 사용할 학습 데이터 반환을 위한 넘파이 배열 초기화 \n",
    "    train_fold_pred = np.zeros((X_train_n.shape[0],1))\n",
    "    test_pred = np.zeros((X_test_n.shape[0], n_folds))\n",
    "    print(model.__class__.__name__ , ' model 시작')\n",
    "    \n",
    "    for folder_counter, (train_index, valid_index) in enumerate(skf.split(X_train_n, y_train_n)):\n",
    "        # 입력된 학습 데이터에서 기반 모델이 학습/예측할 폴드 데이터 셋 추출 \n",
    "        print('\\t 폴드 세트: ',folder_counter,' 시작 ')\n",
    "        X_tr = X_train_n.iloc[train_index] \n",
    "        y_tr = y_train_n.iloc[train_index] \n",
    "        X_te = X_train_n.iloc[valid_index]  \n",
    "        \n",
    "        # 폴드 세트 내부에서 다시 만들어진 학습 데이터로 기반 모델의 학습 수행\n",
    "        model.fit(X_tr, y_tr)       \n",
    "        \n",
    "        # 폴드 세트 내부에서 다시 만들어진 검증 데이터로 기반 모델 예측 후 데이터 저장\n",
    "        train_fold_pred[valid_index, :] = model.predict(X_te).reshape(-1,1)\n",
    "        \n",
    "        # 입력된 원본 테스트 데이터를 폴드 세트내 학습된 기반 모델에서 예측 후 데이터 저장 \n",
    "        test_pred[:, folder_counter] = model.predict(X_test_n)\n",
    "            \n",
    "    # 폴드 세트 내에서 원본 테스트 데이터를 예측한 데이터를 평균하여 테스트 데이터로 생성 \n",
    "    test_pred_mean = np.mean(test_pred, axis = 1).reshape(-1,1)    \n",
    "    \n",
    "    # train_fold_pred는 최종 메타 모델이 사용하는 학습 데이터\n",
    "    # test_pred_mean은 테스트 데이터\n",
    "    \n",
    "    return train_fold_pred, test_pred_mean"
   ]
  },
  {
   "cell_type": "markdown",
   "metadata": {},
   "source": [
    "**✔ 에러 해결**  \n",
    "```.iloc[]```는 기본적으로 (축의 0부터 길이-1까지의) 정수 위치 기반이지만 bool 배열과 함께 사용할 수도 있음"
   ]
  },
  {
   "cell_type": "code",
   "execution_count": 89,
   "metadata": {},
   "outputs": [],
   "source": [
    "### 학습용, 검증용 데이터 분할\n",
    "\n",
    "from sklearn.model_selection import train_test_split\n",
    "\n",
    "X_train, X_valid, y_train, y_valid = train_test_split(X_over, y_over, \n",
    "                                                    test_size = 0.2, random_state = 0)"
   ]
  },
  {
   "cell_type": "code",
   "execution_count": 90,
   "metadata": {},
   "outputs": [
    {
     "name": "stdout",
     "output_type": "stream",
     "text": [
      "ExtraTreesClassifier  model 시작\n",
      "\t 폴드 세트:  0  시작 \n",
      "\t 폴드 세트:  1  시작 \n",
      "\t 폴드 세트:  2  시작 \n",
      "\t 폴드 세트:  3  시작 \n",
      "\t 폴드 세트:  4  시작 \n",
      "\t 폴드 세트:  5  시작 \n",
      "\t 폴드 세트:  6  시작 \n",
      "LGBMClassifier  model 시작\n",
      "\t 폴드 세트:  0  시작 \n",
      "\t 폴드 세트:  1  시작 \n",
      "\t 폴드 세트:  2  시작 \n",
      "\t 폴드 세트:  3  시작 \n",
      "\t 폴드 세트:  4  시작 \n",
      "\t 폴드 세트:  5  시작 \n",
      "\t 폴드 세트:  6  시작 \n",
      "XGBClassifier  model 시작\n",
      "\t 폴드 세트:  0  시작 \n",
      "\t 폴드 세트:  1  시작 \n",
      "\t 폴드 세트:  2  시작 \n",
      "\t 폴드 세트:  3  시작 \n",
      "\t 폴드 세트:  4  시작 \n",
      "\t 폴드 세트:  5  시작 \n",
      "\t 폴드 세트:  6  시작 \n"
     ]
    }
   ],
   "source": [
    "### 1. 각 개별 기반 모델 학습\n",
    "# 각 모델별로 메타 모델이 추후에 사용할 학습용/테스트용 데이터 세트를 생성\n",
    "\n",
    "et_train, et_valid = get_stacking_base_datasets(et_opt, X_train, y_train, X_valid, 7)\n",
    "lgbm_train, lgbm_valid = get_stacking_base_datasets(lgbm_opt, X_train, y_train, X_valid, 7)\n",
    "xgb_train, xgb_valid = get_stacking_base_datasets(xgb_opt, X_train, y_train, X_valid,7)    "
   ]
  },
  {
   "cell_type": "code",
   "execution_count": 91,
   "metadata": {},
   "outputs": [
    {
     "name": "stdout",
     "output_type": "stream",
     "text": [
      "최종 메타 모델의 예측 정확도: 0.8474\n"
     ]
    }
   ],
   "source": [
    "### 2. 최종 예측\n",
    "\n",
    "Stack_final_X_train = np.concatenate((et_train, lgbm_train, xgb_train), axis = 1)\n",
    "Stack_final_X_valid = np.concatenate((et_valid, lgbm_valid, xgb_valid), axis = 1)\n",
    "\n",
    "rf_final = RandomForestClassifier(random_state = 0)\n",
    "rf_final.fit(Stack_final_X_train, y_train)\n",
    "stack_final = rf_final.predict(Stack_final_X_valid)\n",
    "\n",
    "print('최종 메타 모델의 예측 정확도: {0:.4f}'.format(accuracy_score(y_valid, stack_final)))"
   ]
  },
  {
   "cell_type": "markdown",
   "metadata": {},
   "source": [
    "- 성능이 향상되었다."
   ]
  },
  {
   "cell_type": "markdown",
   "metadata": {},
   "source": [
    "# **9. 제출 파일 생성**\n",
    "- class: [4,5,6,7]을 [0,1,2,3]으로 변경한 상태\n",
    "    - XGB 에러(클래스가 0부터 시작하길 바람)\n",
    "    - 최종 예측은 각 예측값 + 4 해야 함"
   ]
  },
  {
   "cell_type": "code",
   "execution_count": 99,
   "metadata": {},
   "outputs": [
    {
     "data": {
      "text/html": [
       "<div>\n",
       "<style scoped>\n",
       "    .dataframe tbody tr th:only-of-type {\n",
       "        vertical-align: middle;\n",
       "    }\n",
       "\n",
       "    .dataframe tbody tr th {\n",
       "        vertical-align: top;\n",
       "    }\n",
       "\n",
       "    .dataframe thead th {\n",
       "        text-align: right;\n",
       "    }\n",
       "</style>\n",
       "<table border=\"1\" class=\"dataframe\">\n",
       "  <thead>\n",
       "    <tr style=\"text-align: right;\">\n",
       "      <th></th>\n",
       "      <th>index</th>\n",
       "      <th>quality</th>\n",
       "    </tr>\n",
       "  </thead>\n",
       "  <tbody>\n",
       "    <tr>\n",
       "      <th>0</th>\n",
       "      <td>0</td>\n",
       "      <td>0</td>\n",
       "    </tr>\n",
       "    <tr>\n",
       "      <th>1</th>\n",
       "      <td>1</td>\n",
       "      <td>0</td>\n",
       "    </tr>\n",
       "    <tr>\n",
       "      <th>2</th>\n",
       "      <td>2</td>\n",
       "      <td>0</td>\n",
       "    </tr>\n",
       "    <tr>\n",
       "      <th>3</th>\n",
       "      <td>3</td>\n",
       "      <td>0</td>\n",
       "    </tr>\n",
       "    <tr>\n",
       "      <th>4</th>\n",
       "      <td>4</td>\n",
       "      <td>0</td>\n",
       "    </tr>\n",
       "    <tr>\n",
       "      <th>...</th>\n",
       "      <td>...</td>\n",
       "      <td>...</td>\n",
       "    </tr>\n",
       "    <tr>\n",
       "      <th>995</th>\n",
       "      <td>995</td>\n",
       "      <td>0</td>\n",
       "    </tr>\n",
       "    <tr>\n",
       "      <th>996</th>\n",
       "      <td>996</td>\n",
       "      <td>0</td>\n",
       "    </tr>\n",
       "    <tr>\n",
       "      <th>997</th>\n",
       "      <td>997</td>\n",
       "      <td>0</td>\n",
       "    </tr>\n",
       "    <tr>\n",
       "      <th>998</th>\n",
       "      <td>998</td>\n",
       "      <td>0</td>\n",
       "    </tr>\n",
       "    <tr>\n",
       "      <th>999</th>\n",
       "      <td>999</td>\n",
       "      <td>0</td>\n",
       "    </tr>\n",
       "  </tbody>\n",
       "</table>\n",
       "<p>1000 rows × 2 columns</p>\n",
       "</div>"
      ],
      "text/plain": [
       "     index  quality\n",
       "0        0        0\n",
       "1        1        0\n",
       "2        2        0\n",
       "3        3        0\n",
       "4        4        0\n",
       "..     ...      ...\n",
       "995    995        0\n",
       "996    996        0\n",
       "997    997        0\n",
       "998    998        0\n",
       "999    999        0\n",
       "\n",
       "[1000 rows x 2 columns]"
      ]
     },
     "execution_count": 99,
     "metadata": {},
     "output_type": "execute_result"
    }
   ],
   "source": [
    "submission = pd.read_csv('./data/sample_submission.csv')\n",
    "submission"
   ]
  },
  {
   "cell_type": "code",
   "execution_count": 100,
   "metadata": {},
   "outputs": [
    {
     "name": "stdout",
     "output_type": "stream",
     "text": [
      "ExtraTreesClassifier  model 시작\n",
      "\t 폴드 세트:  0  시작 \n",
      "\t 폴드 세트:  1  시작 \n",
      "\t 폴드 세트:  2  시작 \n",
      "\t 폴드 세트:  3  시작 \n",
      "\t 폴드 세트:  4  시작 \n",
      "\t 폴드 세트:  5  시작 \n",
      "\t 폴드 세트:  6  시작 \n",
      "LGBMClassifier  model 시작\n",
      "\t 폴드 세트:  0  시작 \n",
      "\t 폴드 세트:  1  시작 \n",
      "\t 폴드 세트:  2  시작 \n",
      "\t 폴드 세트:  3  시작 \n",
      "\t 폴드 세트:  4  시작 \n",
      "\t 폴드 세트:  5  시작 \n",
      "\t 폴드 세트:  6  시작 \n",
      "XGBClassifier  model 시작\n",
      "\t 폴드 세트:  0  시작 \n",
      "\t 폴드 세트:  1  시작 \n",
      "\t 폴드 세트:  2  시작 \n",
      "\t 폴드 세트:  3  시작 \n",
      "\t 폴드 세트:  4  시작 \n",
      "\t 폴드 세트:  5  시작 \n",
      "\t 폴드 세트:  6  시작 \n"
     ]
    }
   ],
   "source": [
    "### 1. 각 개별 기반 모델 학습\n",
    "# 각 모델별로 메타 모델이 추후에 사용할 학습용/테스트용 데이터 세트를 생성\n",
    "\n",
    "et_fin_train, et_fin_valid = get_stacking_base_datasets(et_opt, X_over, y_over, test, 7)\n",
    "lgbm_fin_train, lgbm_fin_valid = get_stacking_base_datasets(lgbm_opt, X_over, y_over, test, 7)\n",
    "xgb_fin_train, xgb_fin_valid = get_stacking_base_datasets(xgb_opt, X_over, y_over, test,7)"
   ]
  },
  {
   "cell_type": "code",
   "execution_count": 101,
   "metadata": {},
   "outputs": [],
   "source": [
    "### 2. 최종 예측\n",
    "\n",
    "Stack_final_X_train = np.concatenate((et_fin_train, lgbm_fin_train, xgb_fin_train), axis = 1)\n",
    "Stack_final_X_valid = np.concatenate((et_fin_valid, lgbm_fin_valid, xgb_fin_valid), axis = 1)\n",
    "\n",
    "fin_model = RandomForestClassifier(random_state = 0)\n",
    "fin_model.fit(Stack_final_X_train, y_over)\n",
    "stack_final = fin_model.predict(Stack_final_X_valid)"
   ]
  },
  {
   "cell_type": "code",
   "execution_count": 102,
   "metadata": {},
   "outputs": [
    {
     "data": {
      "text/html": [
       "<div>\n",
       "<style scoped>\n",
       "    .dataframe tbody tr th:only-of-type {\n",
       "        vertical-align: middle;\n",
       "    }\n",
       "\n",
       "    .dataframe tbody tr th {\n",
       "        vertical-align: top;\n",
       "    }\n",
       "\n",
       "    .dataframe thead th {\n",
       "        text-align: right;\n",
       "    }\n",
       "</style>\n",
       "<table border=\"1\" class=\"dataframe\">\n",
       "  <thead>\n",
       "    <tr style=\"text-align: right;\">\n",
       "      <th></th>\n",
       "      <th>index</th>\n",
       "      <th>quality</th>\n",
       "    </tr>\n",
       "  </thead>\n",
       "  <tbody>\n",
       "    <tr>\n",
       "      <th>0</th>\n",
       "      <td>0</td>\n",
       "      <td>5</td>\n",
       "    </tr>\n",
       "    <tr>\n",
       "      <th>1</th>\n",
       "      <td>1</td>\n",
       "      <td>6</td>\n",
       "    </tr>\n",
       "    <tr>\n",
       "      <th>2</th>\n",
       "      <td>2</td>\n",
       "      <td>6</td>\n",
       "    </tr>\n",
       "    <tr>\n",
       "      <th>3</th>\n",
       "      <td>3</td>\n",
       "      <td>5</td>\n",
       "    </tr>\n",
       "    <tr>\n",
       "      <th>4</th>\n",
       "      <td>4</td>\n",
       "      <td>6</td>\n",
       "    </tr>\n",
       "    <tr>\n",
       "      <th>...</th>\n",
       "      <td>...</td>\n",
       "      <td>...</td>\n",
       "    </tr>\n",
       "    <tr>\n",
       "      <th>995</th>\n",
       "      <td>995</td>\n",
       "      <td>6</td>\n",
       "    </tr>\n",
       "    <tr>\n",
       "      <th>996</th>\n",
       "      <td>996</td>\n",
       "      <td>6</td>\n",
       "    </tr>\n",
       "    <tr>\n",
       "      <th>997</th>\n",
       "      <td>997</td>\n",
       "      <td>5</td>\n",
       "    </tr>\n",
       "    <tr>\n",
       "      <th>998</th>\n",
       "      <td>998</td>\n",
       "      <td>6</td>\n",
       "    </tr>\n",
       "    <tr>\n",
       "      <th>999</th>\n",
       "      <td>999</td>\n",
       "      <td>6</td>\n",
       "    </tr>\n",
       "  </tbody>\n",
       "</table>\n",
       "<p>1000 rows × 2 columns</p>\n",
       "</div>"
      ],
      "text/plain": [
       "     index  quality\n",
       "0        0        5\n",
       "1        1        6\n",
       "2        2        6\n",
       "3        3        5\n",
       "4        4        6\n",
       "..     ...      ...\n",
       "995    995        6\n",
       "996    996        6\n",
       "997    997        5\n",
       "998    998        6\n",
       "999    999        6\n",
       "\n",
       "[1000 rows x 2 columns]"
      ]
     },
     "execution_count": 102,
     "metadata": {},
     "output_type": "execute_result"
    }
   ],
   "source": [
    "submission['quality'] =  stack_final + 4\n",
    "submission"
   ]
  },
  {
   "cell_type": "code",
   "execution_count": 103,
   "metadata": {},
   "outputs": [],
   "source": [
    "# csv 파일로 저장\n",
    "\n",
    "submission.to_csv('./data/submission.csv', index = False)"
   ]
  },
  {
   "cell_type": "code",
   "execution_count": null,
   "metadata": {},
   "outputs": [],
   "source": []
  }
 ],
 "metadata": {
  "kernelspec": {
   "display_name": "Python 3 (ipykernel)",
   "language": "python",
   "name": "python3"
  },
  "language_info": {
   "codemirror_mode": {
    "name": "ipython",
    "version": 3
   },
   "file_extension": ".py",
   "mimetype": "text/x-python",
   "name": "python",
   "nbconvert_exporter": "python",
   "pygments_lexer": "ipython3",
   "version": "3.8.9"
  }
 },
 "nbformat": 4,
 "nbformat_minor": 4
}
