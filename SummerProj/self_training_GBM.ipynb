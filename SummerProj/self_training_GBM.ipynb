{
 "cells": [
  {
   "cell_type": "code",
   "execution_count": 1,
   "metadata": {
    "id": "GvmgS5WL1PA3"
   },
   "outputs": [],
   "source": [
    "import pandas as pd\n",
    "import numpy as np\n",
    "import seaborn as sns\n",
    "import matplotlib.pyplot as plt\n",
    "import random\n",
    "\n",
    "# os 관리를 위한 라이브러리\n",
    "import os\n",
    "import gc"
   ]
  },
  {
   "cell_type": "code",
   "execution_count": 22,
   "metadata": {},
   "outputs": [],
   "source": [
    "# 경고메세지 끄기\n",
    "\n",
    "import warnings\n",
    "warnings.filterwarnings(action = 'ignore')"
   ]
  },
  {
   "cell_type": "code",
   "execution_count": 2,
   "metadata": {
    "id": "hE_mZARV1XVw"
   },
   "outputs": [],
   "source": [
    "def seed_everything(seed):\n",
    "    random.seed(seed)\n",
    "    os.environ['PYTHONHASHSEED'] = str(seed)\n",
    "    np.random.seed(seed)"
   ]
  },
  {
   "cell_type": "code",
   "execution_count": 3,
   "metadata": {
    "id": "J-gi90JG1YQa"
   },
   "outputs": [],
   "source": [
    "seed_everything(42) # Seed 고정"
   ]
  },
  {
   "cell_type": "code",
   "execution_count": 4,
   "metadata": {
    "id": "wfw0vjZx1ZFl"
   },
   "outputs": [],
   "source": [
    "### 전처리된 파일 불러오기\n",
    "\n",
    "train = pd.read_parquet('./data/train_pre.parquet')\n",
    "test = pd.read_parquet('./data/test_pre.parquet')\n",
    "sample_submission = pd.read_csv('./data/sample_submission.csv', index_col = 0)"
   ]
  },
  {
   "cell_type": "code",
   "execution_count": 5,
   "metadata": {
    "colab": {
     "base_uri": "https://localhost:8080/",
     "height": 207
    },
    "id": "MHzSPkol_2Ym",
    "outputId": "8f86a8cd-a0e6-4eea-e8a0-b75970fcfe4e"
   },
   "outputs": [
    {
     "data": {
      "text/html": [
       "<div>\n",
       "<style scoped>\n",
       "    .dataframe tbody tr th:only-of-type {\n",
       "        vertical-align: middle;\n",
       "    }\n",
       "\n",
       "    .dataframe tbody tr th {\n",
       "        vertical-align: top;\n",
       "    }\n",
       "\n",
       "    .dataframe thead th {\n",
       "        text-align: right;\n",
       "    }\n",
       "</style>\n",
       "<table border=\"1\" class=\"dataframe\">\n",
       "  <thead>\n",
       "    <tr style=\"text-align: right;\">\n",
       "      <th></th>\n",
       "      <th>Month</th>\n",
       "      <th>Estimated_Departure_Time</th>\n",
       "      <th>Estimated_Arrival_Time</th>\n",
       "      <th>Origin_Airport_ID</th>\n",
       "      <th>Destination_Airport_ID</th>\n",
       "      <th>Distance</th>\n",
       "      <th>Carrier_ID(DOT)</th>\n",
       "      <th>Tail_Number</th>\n",
       "      <th>Delay</th>\n",
       "      <th>Holiday</th>\n",
       "    </tr>\n",
       "  </thead>\n",
       "  <tbody>\n",
       "    <tr>\n",
       "      <th>1</th>\n",
       "      <td>8</td>\n",
       "      <td>460</td>\n",
       "      <td>624</td>\n",
       "      <td>13930</td>\n",
       "      <td>14869</td>\n",
       "      <td>1250.0</td>\n",
       "      <td>20304</td>\n",
       "      <td>310</td>\n",
       "      <td>NaN</td>\n",
       "      <td>0</td>\n",
       "    </tr>\n",
       "    <tr>\n",
       "      <th>4</th>\n",
       "      <td>1</td>\n",
       "      <td>540</td>\n",
       "      <td>619</td>\n",
       "      <td>14771</td>\n",
       "      <td>10157</td>\n",
       "      <td>250.0</td>\n",
       "      <td>20304</td>\n",
       "      <td>554</td>\n",
       "      <td>NaN</td>\n",
       "      <td>0</td>\n",
       "    </tr>\n",
       "    <tr>\n",
       "      <th>5</th>\n",
       "      <td>4</td>\n",
       "      <td>945</td>\n",
       "      <td>1011</td>\n",
       "      <td>11618</td>\n",
       "      <td>11278</td>\n",
       "      <td>199.0</td>\n",
       "      <td>20452</td>\n",
       "      <td>3430</td>\n",
       "      <td>1.0</td>\n",
       "      <td>0</td>\n",
       "    </tr>\n",
       "  </tbody>\n",
       "</table>\n",
       "</div>"
      ],
      "text/plain": [
       "   Month  Estimated_Departure_Time  Estimated_Arrival_Time  Origin_Airport_ID  \\\n",
       "1      8                       460                     624              13930   \n",
       "4      1                       540                     619              14771   \n",
       "5      4                       945                    1011              11618   \n",
       "\n",
       "   Destination_Airport_ID  Distance  Carrier_ID(DOT)  Tail_Number  Delay  \\\n",
       "1                   14869    1250.0            20304          310    NaN   \n",
       "4                   10157     250.0            20304          554    NaN   \n",
       "5                   11278     199.0            20452         3430    1.0   \n",
       "\n",
       "   Holiday  \n",
       "1        0  \n",
       "4        0  \n",
       "5        0  "
      ]
     },
     "execution_count": 5,
     "metadata": {},
     "output_type": "execute_result"
    }
   ],
   "source": [
    "train.head(3)"
   ]
  },
  {
   "cell_type": "code",
   "execution_count": 6,
   "metadata": {
    "colab": {
     "base_uri": "https://localhost:8080/",
     "height": 207
    },
    "id": "kc2QyCNJ_3_s",
    "outputId": "cb28847d-6e1a-464e-b527-811ea2dde2ef"
   },
   "outputs": [
    {
     "data": {
      "text/html": [
       "<div>\n",
       "<style scoped>\n",
       "    .dataframe tbody tr th:only-of-type {\n",
       "        vertical-align: middle;\n",
       "    }\n",
       "\n",
       "    .dataframe tbody tr th {\n",
       "        vertical-align: top;\n",
       "    }\n",
       "\n",
       "    .dataframe thead th {\n",
       "        text-align: right;\n",
       "    }\n",
       "</style>\n",
       "<table border=\"1\" class=\"dataframe\">\n",
       "  <thead>\n",
       "    <tr style=\"text-align: right;\">\n",
       "      <th></th>\n",
       "      <th>Month</th>\n",
       "      <th>Estimated_Departure_Time</th>\n",
       "      <th>Estimated_Arrival_Time</th>\n",
       "      <th>Origin_Airport_ID</th>\n",
       "      <th>Destination_Airport_ID</th>\n",
       "      <th>Distance</th>\n",
       "      <th>Carrier_ID(DOT)</th>\n",
       "      <th>Tail_Number</th>\n",
       "      <th>Holiday</th>\n",
       "    </tr>\n",
       "  </thead>\n",
       "  <tbody>\n",
       "    <tr>\n",
       "      <th>0</th>\n",
       "      <td>12</td>\n",
       "      <td>716</td>\n",
       "      <td>779</td>\n",
       "      <td>12266</td>\n",
       "      <td>14683</td>\n",
       "      <td>191.0</td>\n",
       "      <td>19977</td>\n",
       "      <td>4382</td>\n",
       "      <td>0</td>\n",
       "    </tr>\n",
       "    <tr>\n",
       "      <th>1</th>\n",
       "      <td>9</td>\n",
       "      <td>900</td>\n",
       "      <td>1035</td>\n",
       "      <td>11618</td>\n",
       "      <td>10397</td>\n",
       "      <td>746.0</td>\n",
       "      <td>19790</td>\n",
       "      <td>1934</td>\n",
       "      <td>0</td>\n",
       "    </tr>\n",
       "    <tr>\n",
       "      <th>2</th>\n",
       "      <td>3</td>\n",
       "      <td>960</td>\n",
       "      <td>1155</td>\n",
       "      <td>13930</td>\n",
       "      <td>12953</td>\n",
       "      <td>733.0</td>\n",
       "      <td>19977</td>\n",
       "      <td>2144</td>\n",
       "      <td>0</td>\n",
       "    </tr>\n",
       "  </tbody>\n",
       "</table>\n",
       "</div>"
      ],
      "text/plain": [
       "   Month  Estimated_Departure_Time  Estimated_Arrival_Time  Origin_Airport_ID  \\\n",
       "0     12                       716                     779              12266   \n",
       "1      9                       900                    1035              11618   \n",
       "2      3                       960                    1155              13930   \n",
       "\n",
       "   Destination_Airport_ID  Distance  Carrier_ID(DOT)  Tail_Number  Holiday  \n",
       "0                   14683     191.0            19977         4382        0  \n",
       "1                   10397     746.0            19790         1934        0  \n",
       "2                   12953     733.0            19977         2144        0  "
      ]
     },
     "execution_count": 6,
     "metadata": {},
     "output_type": "execute_result"
    }
   ],
   "source": [
    "test.head(3)"
   ]
  },
  {
   "cell_type": "markdown",
   "metadata": {
    "id": "aWh8EdoW9aeV"
   },
   "source": [
    "# **3. 준지도학습**\n",
    "- 라벨이 없는 데이터에 대한 라벨링 진행"
   ]
  },
  {
   "cell_type": "markdown",
   "metadata": {
    "id": "Nopy9f4WOLOX"
   },
   "source": [
    "## **3-0. 데이터 분리**"
   ]
  },
  {
   "cell_type": "code",
   "execution_count": 7,
   "metadata": {
    "id": "fg_65OzM9dan"
   },
   "outputs": [],
   "source": [
    "### 데이터 분리\n",
    "# 레이블이 있는 데이터와 없는 데이터 분리\n",
    "\n",
    "train_labeled = train.loc[train['Delay'].notnull(),:]\n",
    "train_unlabeled = train.loc[train['Delay'].isnull(),:]"
   ]
  },
  {
   "cell_type": "code",
   "execution_count": 8,
   "metadata": {
    "colab": {
     "base_uri": "https://localhost:8080/"
    },
    "id": "JYJb7mYd9ei_",
    "outputId": "9a2f314c-b392-4cfe-86f6-30b1739e6f88"
   },
   "outputs": [
    {
     "data": {
      "text/plain": [
       "172245"
      ]
     },
     "execution_count": 8,
     "metadata": {},
     "output_type": "execute_result"
    }
   ],
   "source": [
    "train_labeled.shape[0]"
   ]
  },
  {
   "cell_type": "code",
   "execution_count": 9,
   "metadata": {
    "colab": {
     "base_uri": "https://localhost:8080/"
    },
    "id": "jbkfgIDI9flX",
    "outputId": "2c172b4a-9164-4eb1-8069-74d16f61506f"
   },
   "outputs": [
    {
     "data": {
      "text/plain": [
       "502770"
      ]
     },
     "execution_count": 9,
     "metadata": {},
     "output_type": "execute_result"
    }
   ],
   "source": [
    "train_unlabeled.shape[0]"
   ]
  },
  {
   "cell_type": "markdown",
   "metadata": {
    "id": "PUkDbyT7I8HP"
   },
   "source": [
    "- 라벨링 된 데이터에 비해 라벨링 되지 **않은** 데이터의 수가 더 많다."
   ]
  },
  {
   "cell_type": "code",
   "execution_count": 10,
   "metadata": {
    "colab": {
     "base_uri": "https://localhost:8080/"
    },
    "id": "sBcEvvHO9g5C",
    "outputId": "2ca55fa9-5e7b-4472-f8f6-20f84b1cd474"
   },
   "outputs": [
    {
     "name": "stdout",
     "output_type": "stream",
     "text": [
      "X Labeled:  (172245, 9)\n",
      "y Labeled:  (172245,)\n",
      "\n",
      "X Unlabeled:  (502770, 9)\n",
      "\n",
      "X Test:  (1000000, 9)\n"
     ]
    }
   ],
   "source": [
    "### X,y 분리\n",
    "\n",
    "# train\n",
    "X_labeled = train_labeled.drop(['Delay'],axis = 1)\n",
    "y_labeled = train_labeled['Delay']\n",
    "X_unlabeled = train_unlabeled.drop(['Delay'],axis = 1)\n",
    "\n",
    "print(\"X Labeled: \", X_labeled.shape)\n",
    "print(\"y Labeled: \", y_labeled.shape)\n",
    "print()\n",
    "print(\"X Unlabeled: \", X_unlabeled.shape)\n",
    "\n",
    "# test\n",
    "X_test = test\n",
    "print()\n",
    "print(\"X Test: \", X_test.shape)"
   ]
  },
  {
   "cell_type": "markdown",
   "metadata": {
    "id": "aT8kdHrJOTmT"
   },
   "source": [
    "## **3-1. 기본 모델 모델링(Base Model Modeling)**\n",
    "- Base Model 선정 & 학습\n",
    "  - 레이블이 **있는** 데이터만을 사용하여 모델을 학습시키면서 튜닝을 진행\n",
    "- 기본 분류기인 Base Model의 하이퍼 파라미터 튜닝을 수행\n",
    "  - ```GridSearchCV```, ```RandomizedSearchCV```, 또는 ```Bayesian optimization``` 등의 방법 활용\n",
    "  - 주어진 데이터와 문제에 맞는 하이퍼파라미터 조합을 찾는 것이 중요"
   ]
  },
  {
   "cell_type": "markdown",
   "metadata": {
    "id": "XlGu4_txN8C-"
   },
   "source": [
    "### **a) 초기 모델링**\n",
    "- ```GBM``` 모델링\n",
    "- 학습\n",
    "  - 교차 검증 방식 활용\n",
    "  - y_labeled에서 0(= Not Delayed)과 1(= Delayed)의 분포에 차이가 있음\n",
    "  - y의 분포를 고려한 교차 검증 수행을 위해 ```StratifiedKFold``` 활용\n",
    "- 평가 지표: LogLoss\n",
    "\n"
   ]
  },
  {
   "cell_type": "markdown",
   "metadata": {
    "id": "gLAu9aFxR-iP"
   },
   "source": [
    "**📌 LogLoss**  \n",
    "- $- (1/N) * Σ[y_i * log(p_i) + (1 - y_i) * log(1 - p_i)]$\n",
    "  - N: 데이터 포인트(샘플)의 수\n",
    "  - y_i: 실제 레이블(이진 분류의 경우 0 또는 1)\n",
    "  - p_i\n",
    "    - 모델의 예측값 => 해당 데이터 포인트가 1(= Delayed)에 속할 확률\n",
    "    - 일반적으로 모델의 ```predict_proba()``` 메서드를 사용하여 얻음\n",
    "- 각 데이터 포인트에서 실제 레이블과 모델의 예측값 사이의 로그 손실을 계산하고, 이를 모든 데이터 포인트에 대해 평균하여 구함\n",
    "  - 작을수록 good"
   ]
  },
  {
   "cell_type": "code",
   "execution_count": 11,
   "metadata": {
    "colab": {
     "base_uri": "https://localhost:8080/"
    },
    "id": "_SSDmpQ5LHO6",
    "outputId": "f187d740-2b57-416b-9a54-61a480665469"
   },
   "outputs": [
    {
     "name": "stdout",
     "output_type": "stream",
     "text": [
      "LogLoss: 0.4427\n"
     ]
    }
   ],
   "source": [
    "from sklearn.ensemble import GradientBoostingClassifier\n",
    "from sklearn.metrics import log_loss\n",
    "from sklearn.model_selection import cross_val_predict, StratifiedKFold\n",
    "\n",
    "### 모델 객체 생성\n",
    "gbm_labeled = GradientBoostingClassifier(random_state = 42)\n",
    "\n",
    "### 학습 & 예측\n",
    "# StratifiedKFold를 사용하여 5-Fold 교차 검증을 수행\n",
    "n_folds = 5\n",
    "skf = StratifiedKFold(n_splits = n_folds, shuffle = True, random_state = 42)\n",
    "# 교차 검증을 통해 예측값 구하기\n",
    "y_labeled_pred = cross_val_predict(gbm_labeled, X_labeled, y_labeled,\n",
    "                           cv = skf, method = 'predict_proba')\n",
    "\n",
    "### 평가\n",
    "# logloss를 계산하기 위해 실제 레이블과 예측값의 logloss 계산\n",
    "print('LogLoss: {0:.4f}'.format(log_loss(y_labeled, y_labeled_pred)))"
   ]
  },
  {
   "cell_type": "markdown",
   "metadata": {
    "id": "xnUYOVFOQwoM"
   },
   "source": [
    "### **b) 하이퍼 파라미터 튜닝**\n",
    "- 성능을 높여봅시다 유후 ^ㅇ^\n",
    "- ```GridSearchCV``` 활용"
   ]
  },
  {
   "cell_type": "code",
   "execution_count": 12,
   "metadata": {
    "colab": {
     "base_uri": "https://localhost:8080/",
     "height": 415
    },
    "id": "g-RqJn48Q1jM",
    "outputId": "44a54d54-4ab5-4b79-b60d-055d289e2356"
   },
   "outputs": [
    {
     "name": "stdout",
     "output_type": "stream",
     "text": [
      "Fitting 5 folds for each of 27 candidates, totalling 135 fits\n",
      "하이퍼파라미터 조합: {'learning_rate': 0.05, 'max_depth': 3, 'n_estimators': 50}, 평균 Log Loss: 0.4473218514780518\n",
      "하이퍼파라미터 조합: {'learning_rate': 0.05, 'max_depth': 3, 'n_estimators': 100}, 평균 Log Loss: 0.4447836140843018\n",
      "하이퍼파라미터 조합: {'learning_rate': 0.05, 'max_depth': 3, 'n_estimators': 1}, 평균 Log Loss: 0.46286796111502887\n",
      "하이퍼파라미터 조합: {'learning_rate': 0.05, 'max_depth': 5, 'n_estimators': 50}, 평균 Log Loss: 0.4446604753909428\n",
      "하이퍼파라미터 조합: {'learning_rate': 0.05, 'max_depth': 5, 'n_estimators': 100}, 평균 Log Loss: 0.4420520562316813\n",
      "하이퍼파라미터 조합: {'learning_rate': 0.05, 'max_depth': 5, 'n_estimators': 1}, 평균 Log Loss: 0.4625638009914663\n",
      "하이퍼파라미터 조합: {'learning_rate': 0.05, 'max_depth': 7, 'n_estimators': 50}, 평균 Log Loss: 0.44317243161522235\n",
      "하이퍼파라미터 조합: {'learning_rate': 0.05, 'max_depth': 7, 'n_estimators': 100}, 평균 Log Loss: 0.4412911885064873\n",
      "하이퍼파라미터 조합: {'learning_rate': 0.05, 'max_depth': 7, 'n_estimators': 1}, 평균 Log Loss: 0.4623382431950683\n",
      "하이퍼파라미터 조합: {'learning_rate': 0.1, 'max_depth': 3, 'n_estimators': 50}, 평균 Log Loss: 0.4447484724366948\n",
      "하이퍼파라미터 조합: {'learning_rate': 0.1, 'max_depth': 3, 'n_estimators': 100}, 평균 Log Loss: 0.44272134785832556\n",
      "하이퍼파라미터 조합: {'learning_rate': 0.1, 'max_depth': 3, 'n_estimators': 1}, 평균 Log Loss: 0.46162703057986754\n",
      "하이퍼파라미터 조합: {'learning_rate': 0.1, 'max_depth': 5, 'n_estimators': 50}, 평균 Log Loss: 0.4420826442162909\n",
      "하이퍼파라미터 조합: {'learning_rate': 0.1, 'max_depth': 5, 'n_estimators': 100}, 평균 Log Loss: 0.4407780422897881\n",
      "하이퍼파라미터 조합: {'learning_rate': 0.1, 'max_depth': 5, 'n_estimators': 1}, 평균 Log Loss: 0.4610379762183179\n",
      "하이퍼파라미터 조합: {'learning_rate': 0.1, 'max_depth': 7, 'n_estimators': 50}, 평균 Log Loss: 0.4415563260271263\n",
      "하이퍼파라미터 조합: {'learning_rate': 0.1, 'max_depth': 7, 'n_estimators': 100}, 평균 Log Loss: 0.44146011174049204\n",
      "하이퍼파라미터 조합: {'learning_rate': 0.1, 'max_depth': 7, 'n_estimators': 1}, 평균 Log Loss: 0.4606118270650851\n",
      "하이퍼파라미터 조합: {'learning_rate': 0.2, 'max_depth': 3, 'n_estimators': 50}, 평균 Log Loss: 0.4425714987319971\n",
      "하이퍼파라미터 조합: {'learning_rate': 0.2, 'max_depth': 3, 'n_estimators': 100}, 평균 Log Loss: 0.44135590356315185\n",
      "하이퍼파라미터 조합: {'learning_rate': 0.2, 'max_depth': 3, 'n_estimators': 1}, 평균 Log Loss: 0.45935137087175226\n",
      "하이퍼파라미터 조합: {'learning_rate': 0.2, 'max_depth': 5, 'n_estimators': 50}, 평균 Log Loss: 0.44116314183719896\n",
      "하이퍼파라미터 조합: {'learning_rate': 0.2, 'max_depth': 5, 'n_estimators': 100}, 평균 Log Loss: 0.441215418240418\n",
      "하이퍼파라미터 조합: {'learning_rate': 0.2, 'max_depth': 5, 'n_estimators': 1}, 평균 Log Loss: 0.4582524586771243\n",
      "하이퍼파라미터 조합: {'learning_rate': 0.2, 'max_depth': 7, 'n_estimators': 50}, 평균 Log Loss: 0.44326330330299896\n",
      "하이퍼파라미터 조합: {'learning_rate': 0.2, 'max_depth': 7, 'n_estimators': 100}, 평균 Log Loss: 0.44605156264527873\n",
      "하이퍼파라미터 조합: {'learning_rate': 0.2, 'max_depth': 7, 'n_estimators': 1}, 평균 Log Loss: 0.45750540671078177\n"
     ]
    }
   ],
   "source": [
    "from sklearn.model_selection import GridSearchCV\n",
    "\n",
    "### 파라미터 목록\n",
    "param_grid = {\n",
    "    'n_estimators': [50, 100, 1],\n",
    "    'max_depth': [3, 5, 7],\n",
    "    'learning_rate': [0.05, 0.1, 0.2],\n",
    "}\n",
    "\n",
    "### 최적의 하이퍼파라미터 탐색\n",
    "grid_cv = GridSearchCV(estimator = gbm_labeled, param_grid = param_grid,\n",
    "                       cv = skf, scoring = 'neg_log_loss', verbose = 1)\n",
    "grid_cv.fit(X_labeled, y_labeled)\n",
    "\n",
    "### 각 조합별로 LogLoss 출력\n",
    "results = grid_cv.cv_results_\n",
    "for mean_score, params in zip(results[\"mean_test_score\"], results[\"params\"]):\n",
    "    print(f\"하이퍼파라미터 조합: {params}, 평균 Log Loss: {abs(mean_score)}\")"
   ]
  },
  {
   "cell_type": "markdown",
   "metadata": {},
   "source": [
    "- 매ㅐㅐㅐㅐ우 오래 걸림,,"
   ]
  },
  {
   "cell_type": "markdown",
   "metadata": {
    "id": "Z6dLGv-SSh5E"
   },
   "source": [
    "**📌 왜 ```scoring = 'neg_log_loss'```?**  \n",
    "- Scikit-learn에서 사용하는 scoring 파라미터는 기본적으로 양의 값이 좋은 평가 지표를 의미\n",
    "  - LogLoss와 같이 작을수록 좋은 평가 지표인 경우에는 (-) 기호를 붙여 음수값을 사용"
   ]
  },
  {
   "cell_type": "code",
   "execution_count": 15,
   "metadata": {
    "id": "r2tUwbomSiAH"
   },
   "outputs": [],
   "source": [
    "### 최적 파라미터로 튜닝된 모델을 base model로 생성\n",
    "\n",
    "base_model = GradientBoostingClassifier(learning_rate = 0.1, max_depth = 5, n_estimators = 100)"
   ]
  },
  {
   "cell_type": "markdown",
   "metadata": {
    "id": "g1PhC-tR9xGQ"
   },
   "source": [
    "## **3-2. Self Training**\n",
    "- 초기에 레이블이 없는 데이터를 레이블링하여 일부 레이블이 있는 데이터를 생성한 후, 이 데이터를 활용해 모델을 학습시키는 방법\n",
    "- 학습된 모델을 사용하여 레이블이 없는 데이터에 대한 예측을 수행하고, 예측 결과 중 신뢰할 수 있는 일부 데이터를 레이블링에 추가로 사용하여 새로운 학습용 데이터를 생성\n",
    "> 해당 과정을 반복하여 모델을 업데이트하면서 점진적으로 더 많은 레이블을 확보해나가는 방식"
   ]
  },
  {
   "cell_type": "code",
   "execution_count": 16,
   "metadata": {
    "id": "qt6WRMZd9iFv"
   },
   "outputs": [],
   "source": [
    "from sklearn.semi_supervised import SelfTrainingClassifier\n",
    "\n",
    "# Self Training 분류기 생성\n",
    "self_training_model = SelfTrainingClassifier(base_model)"
   ]
  },
  {
   "cell_type": "code",
   "execution_count": 19,
   "metadata": {
    "id": "ZBdsQ3wT9mPI"
   },
   "outputs": [],
   "source": [
    "def run_self_training(self_training_model, X_labeled, y_labeled, X_unlabeled, early_stopping_rounds=5):\n",
    "    iter = 0  # 반복 횟수 카운트를 위한 변수\n",
    "    rounds_without_improvement = 0  # early stopping을 위한 카운트 변수\n",
    "\n",
    "    while X_unlabeled.shape[0] > 0 and rounds_without_improvement < early_stopping_rounds:\n",
    "        iter = iter + 1\n",
    "        print(\"=== Iteration {} ===\".format(iter))\n",
    "\n",
    "        ## 1. 레이블이 있는(labeled) 데이터로 모델 학습\n",
    "        self_training_model.fit(X_labeled, y_labeled)\n",
    "\n",
    "        ## 2. 훈련된 모델로 레이블이 없는 데이터를 분류\n",
    "        y_pred_unlabeled = self_training_model.predict(X_unlabeled)\n",
    "\n",
    "        ## 3. 의사 레이블(pseudo label) 설정\n",
    "        # 모델이 90% 이상 확신하는 데이터를 labeled 데이터에 추가\n",
    "        confident_mask = self_training_model.predict_proba(X_unlabeled).max(axis=1) > 0.9\n",
    "        X_confident = X_unlabeled[confident_mask]\n",
    "        y_confident = y_pred_unlabeled[confident_mask]\n",
    "        # 신뢰할 수 있는 데이터를 레이블링에 추가하여 새로운 학습용 데이터 구성\n",
    "        # 레이블링 된 데이터의 수를 증가시키는 과정\n",
    "        X_labeled = np.concatenate([X_labeled, X_confident], axis=0)\n",
    "        y_labeled = np.concatenate([y_labeled, y_confident], axis=0)\n",
    "        # 의사 레이블링 된 데이터들은 이제 레이블이 없는 데이터에서 제거\n",
    "        X_unlabeled = X_unlabeled[~confident_mask]\n",
    "\n",
    "        print(\"{}개 레이블링 완료\".format(X_confident.shape[0]))\n",
    "\n",
    "        ## Early Stopping 체크\n",
    "        if X_confident.shape[0] <= 30:\n",
    "            rounds_without_improvement += 1\n",
    "            print(\"Early Stopping 카운트: {}/{}\".format(rounds_without_improvement, early_stopping_rounds))\n",
    "            print()\n",
    "        else:\n",
    "            rounds_without_improvement = 0\n",
    "            print()\n",
    "    \n",
    "    print()\n",
    "    print(\"레이블링 완료\")\n",
    "\n",
    "    # 라벨링 된 데이터 반환\n",
    "    return X_labeled, y_labeled, X_unlabeled"
   ]
  },
  {
   "cell_type": "code",
   "execution_count": 23,
   "metadata": {
    "id": "6IZFRmJc9n_Z"
   },
   "outputs": [
    {
     "name": "stdout",
     "output_type": "stream",
     "text": [
      "=== Iteration 1 ===\n",
      "71399개 레이블링 완료\n",
      "\n",
      "=== Iteration 2 ===\n",
      "52674개 레이블링 완료\n",
      "\n",
      "=== Iteration 3 ===\n",
      "41423개 레이블링 완료\n",
      "\n",
      "=== Iteration 4 ===\n",
      "27197개 레이블링 완료\n",
      "\n",
      "=== Iteration 5 ===\n",
      "17889개 레이블링 완료\n",
      "\n",
      "=== Iteration 6 ===\n",
      "15146개 레이블링 완료\n",
      "\n",
      "=== Iteration 7 ===\n",
      "11736개 레이블링 완료\n",
      "\n",
      "=== Iteration 8 ===\n",
      "5390개 레이블링 완료\n",
      "\n",
      "=== Iteration 9 ===\n",
      "3498개 레이블링 완료\n",
      "\n",
      "=== Iteration 10 ===\n",
      "4313개 레이블링 완료\n",
      "\n",
      "=== Iteration 11 ===\n",
      "5973개 레이블링 완료\n",
      "\n",
      "=== Iteration 12 ===\n",
      "9368개 레이블링 완료\n",
      "\n",
      "=== Iteration 13 ===\n",
      "9965개 레이블링 완료\n",
      "\n",
      "=== Iteration 14 ===\n",
      "3635개 레이블링 완료\n",
      "\n",
      "=== Iteration 15 ===\n",
      "3791개 레이블링 완료\n",
      "\n",
      "=== Iteration 16 ===\n",
      "3598개 레이블링 완료\n",
      "\n",
      "=== Iteration 17 ===\n",
      "2443개 레이블링 완료\n",
      "\n",
      "=== Iteration 18 ===\n",
      "1565개 레이블링 완료\n",
      "\n",
      "=== Iteration 19 ===\n",
      "928개 레이블링 완료\n",
      "\n",
      "=== Iteration 20 ===\n",
      "1350개 레이블링 완료\n",
      "\n",
      "=== Iteration 21 ===\n",
      "2053개 레이블링 완료\n",
      "\n",
      "=== Iteration 22 ===\n",
      "3303개 레이블링 완료\n",
      "\n",
      "=== Iteration 23 ===\n",
      "5269개 레이블링 완료\n",
      "\n",
      "=== Iteration 24 ===\n",
      "3008개 레이블링 완료\n",
      "\n",
      "=== Iteration 25 ===\n",
      "768개 레이블링 완료\n",
      "\n",
      "=== Iteration 26 ===\n",
      "364개 레이블링 완료\n",
      "\n",
      "=== Iteration 27 ===\n",
      "304개 레이블링 완료\n",
      "\n",
      "=== Iteration 28 ===\n",
      "693개 레이블링 완료\n",
      "\n",
      "=== Iteration 29 ===\n",
      "363개 레이블링 완료\n",
      "\n",
      "=== Iteration 30 ===\n",
      "182개 레이블링 완료\n",
      "\n",
      "=== Iteration 31 ===\n",
      "276개 레이블링 완료\n",
      "\n",
      "=== Iteration 32 ===\n",
      "473개 레이블링 완료\n",
      "\n",
      "=== Iteration 33 ===\n",
      "580개 레이블링 완료\n",
      "\n",
      "=== Iteration 34 ===\n",
      "475개 레이블링 완료\n",
      "\n",
      "=== Iteration 35 ===\n",
      "787개 레이블링 완료\n",
      "\n",
      "=== Iteration 36 ===\n",
      "170개 레이블링 완료\n",
      "\n",
      "=== Iteration 37 ===\n",
      "255개 레이블링 완료\n",
      "\n",
      "=== Iteration 38 ===\n",
      "397개 레이블링 완료\n",
      "\n",
      "=== Iteration 39 ===\n",
      "80개 레이블링 완료\n",
      "\n",
      "=== Iteration 40 ===\n",
      "100개 레이블링 완료\n",
      "\n",
      "=== Iteration 41 ===\n",
      "126개 레이블링 완료\n",
      "\n",
      "=== Iteration 42 ===\n",
      "49개 레이블링 완료\n",
      "\n",
      "=== Iteration 43 ===\n",
      "29개 레이블링 완료\n",
      "Early Stopping 카운트: 1/10\n",
      "\n",
      "=== Iteration 44 ===\n",
      "27개 레이블링 완료\n",
      "Early Stopping 카운트: 2/10\n",
      "\n",
      "=== Iteration 45 ===\n",
      "20개 레이블링 완료\n",
      "Early Stopping 카운트: 3/10\n",
      "\n",
      "=== Iteration 46 ===\n",
      "18개 레이블링 완료\n",
      "Early Stopping 카운트: 4/10\n",
      "\n",
      "=== Iteration 47 ===\n",
      "9개 레이블링 완료\n",
      "Early Stopping 카운트: 5/10\n",
      "\n",
      "=== Iteration 48 ===\n",
      "15개 레이블링 완료\n",
      "Early Stopping 카운트: 6/10\n",
      "\n",
      "=== Iteration 49 ===\n",
      "20개 레이블링 완료\n",
      "Early Stopping 카운트: 7/10\n",
      "\n",
      "=== Iteration 50 ===\n",
      "6개 레이블링 완료\n",
      "Early Stopping 카운트: 8/10\n",
      "\n",
      "=== Iteration 51 ===\n",
      "5개 레이블링 완료\n",
      "Early Stopping 카운트: 9/10\n",
      "\n",
      "=== Iteration 52 ===\n",
      "11개 레이블링 완료\n",
      "Early Stopping 카운트: 10/10\n",
      "\n",
      "\n",
      "레이블링 완료\n"
     ]
    }
   ],
   "source": [
    "# Self-training을 통한 레이블링 수행\n",
    "\n",
    "X_labeled, y_labeled, X_unlabeled = run_self_training(base_model, X_labeled, y_labeled, X_unlabeled, \n",
    "                                                      early_stopping_rounds = 10)"
   ]
  },
  {
   "cell_type": "code",
   "execution_count": 24,
   "metadata": {
    "id": "Ax82AXsf9pFk"
   },
   "outputs": [
    {
     "name": "stdout",
     "output_type": "stream",
     "text": [
      "485761\n",
      "0.2803700658503885\n"
     ]
    }
   ],
   "source": [
    "print(X_labeled.shape[0])\n",
    "print(X_unlabeled.shape[0]/(X_labeled.shape[0] + X_unlabeled.shape[0]))"
   ]
  },
  {
   "cell_type": "markdown",
   "metadata": {
    "id": "xBTPKLZVPQFm"
   },
   "source": [
    "- 라벨링 된 데이터의 개수가 172245에서 485761로 증가\n",
    "- 아직 약 28%의 데이터가 라벨링되지 않은 상황"
   ]
  },
  {
   "cell_type": "code",
   "execution_count": 25,
   "metadata": {
    "id": "Hl-B-4TcQp_k"
   },
   "outputs": [],
   "source": [
    "### 최종 데이터 병합\n",
    "# 이미 데이터 수는 충분히 많은 것 같기에 그냥 날리고 가는걸로..\n",
    "\n",
    "X_train_final = X_labeled\n",
    "y_train_final = y_labeled"
   ]
  },
  {
   "cell_type": "markdown",
   "metadata": {
    "id": "PNgsN_Yi9qNX"
   },
   "source": [
    "# **4. 최종 예측을 위한 모델링**"
   ]
  },
  {
   "cell_type": "markdown",
   "metadata": {
    "id": "lV279HzAZlJs"
   },
   "source": [
    "### **a) 초기 모델링**"
   ]
  },
  {
   "cell_type": "code",
   "execution_count": 27,
   "metadata": {
    "id": "_aF9hZE-YS98"
   },
   "outputs": [
    {
     "name": "stdout",
     "output_type": "stream",
     "text": [
      "LogLoss: 0.2028\n"
     ]
    }
   ],
   "source": [
    "### 모델 객체 생성\n",
    "gbm_ssl = GradientBoostingClassifier(random_state = 42)\n",
    "\n",
    "### 학습 & 예측\n",
    "# StratifiedKFold를 사용하여 5-Fold 교차 검증을 수행\n",
    "n_folds = 5\n",
    "skf = StratifiedKFold(n_splits = n_folds, shuffle = True, random_state = 42)\n",
    "# 교차 검증을 통해 예측값 구하기\n",
    "y_ssl_pred = cross_val_predict(gbm_ssl, X_train_final, y_train_final,\n",
    "                           cv = skf, method = 'predict_proba')\n",
    "\n",
    "### 평가\n",
    "# logloss를 계산하기 위해 실제 레이블과 예측값의 logloss 계산\n",
    "print('LogLoss: {0:.4f}'.format(log_loss(y_train_final, y_ssl_pred)))"
   ]
  },
  {
   "cell_type": "markdown",
   "metadata": {
    "id": "byRBoUa5Zsgn"
   },
   "source": [
    "### **b) 하이퍼 파라미터 튜닝**"
   ]
  },
  {
   "cell_type": "code",
   "execution_count": 28,
   "metadata": {
    "id": "PUMbTPgLZwBp"
   },
   "outputs": [
    {
     "name": "stdout",
     "output_type": "stream",
     "text": [
      "하이퍼파라미터 조합: {'learning_rate': 0.05, 'max_depth': 3, 'n_estimators': 50}, 평균 Log Loss: 0.20642179404477493\n",
      "하이퍼파라미터 조합: {'learning_rate': 0.05, 'max_depth': 3, 'n_estimators': 100}, 평균 Log Loss: 0.20442245429590203\n",
      "하이퍼파라미터 조합: {'learning_rate': 0.05, 'max_depth': 5, 'n_estimators': 50}, 평균 Log Loss: 0.20258925730853128\n",
      "하이퍼파라미터 조합: {'learning_rate': 0.05, 'max_depth': 5, 'n_estimators': 100}, 평균 Log Loss: 0.20118928460044366\n",
      "하이퍼파라미터 조합: {'learning_rate': 0.1, 'max_depth': 3, 'n_estimators': 50}, 평균 Log Loss: 0.20440062165902004\n",
      "하이퍼파라미터 조합: {'learning_rate': 0.1, 'max_depth': 3, 'n_estimators': 100}, 평균 Log Loss: 0.20282292727492096\n",
      "하이퍼파라미터 조합: {'learning_rate': 0.1, 'max_depth': 5, 'n_estimators': 50}, 평균 Log Loss: 0.20113841905318758\n",
      "하이퍼파라미터 조합: {'learning_rate': 0.1, 'max_depth': 5, 'n_estimators': 100}, 평균 Log Loss: 0.20047091745982212\n",
      "최적 하이퍼 파라미터:\n",
      " {'learning_rate': 0.1, 'max_depth': 5, 'n_estimators': 100}\n",
      "최적 LogLoss: 0.200471\n"
     ]
    }
   ],
   "source": [
    "from sklearn.model_selection import GridSearchCV\n",
    "\n",
    "### 파라미터 목록\n",
    "param_grid_final = {\n",
    "    'n_estimators': [50, 100],\n",
    "    'max_depth': [3, 5],\n",
    "    'learning_rate': [0.05, 0.1],\n",
    "}\n",
    "\n",
    "### 최적의 하이퍼파라미터 탐색\n",
    "grid_cv_final = GridSearchCV(estimator = gbm_ssl, param_grid = param_grid_final,\n",
    "                       cv = skf, scoring = 'neg_log_loss')\n",
    "grid_cv_final.fit(X_train_final, y_train_final)\n",
    "\n",
    "### 각 조합별로 LogLoss 출력\n",
    "results2 = grid_cv_final.cv_results_\n",
    "for mean_score, params in zip(results2[\"mean_test_score\"], results2[\"params\"]):\n",
    "    print(f\"하이퍼파라미터 조합: {params}, 평균 Log Loss: {abs(mean_score)}\")\n",
    "    \n",
    "print(\"최적 하이퍼 파라미터:\\n\", grid_cv_final.best_params_)\n",
    "print(\"최적 LogLoss: {0:4f}\".format(-grid_cv_final.best_score_))"
   ]
  },
  {
   "cell_type": "markdown",
   "metadata": {
    "id": "XsfxziCzZwga"
   },
   "source": [
    "### **c) 최종 예측**"
   ]
  },
  {
   "cell_type": "markdown",
   "metadata": {
    "id": "j6ZXrdGgoVTe"
   },
   "source": [
    "- Not_Delayed = 0\n",
    "- Delayed = 1"
   ]
  },
  {
   "cell_type": "code",
   "execution_count": 29,
   "metadata": {
    "id": "OuY0KRVaaYq_"
   },
   "outputs": [],
   "source": [
    "final_classifier = GradientBoostingClassifier(learning_rate = 0.1, max_depth = 5, n_estimators = 100)\n",
    "final_classifier.fit(X_train_final, y_train_final)\n",
    "y_test_pred = final_classifier.predict_proba(X_test)"
   ]
  },
  {
   "cell_type": "code",
   "execution_count": 30,
   "metadata": {
    "id": "4gFw2v1ll3BS"
   },
   "outputs": [
    {
     "data": {
      "text/plain": [
       "array([[0.03849487, 0.96150513],\n",
       "       [0.05498436, 0.94501564],\n",
       "       [0.23470012, 0.76529988],\n",
       "       ...,\n",
       "       [0.29850292, 0.70149708],\n",
       "       [0.12687729, 0.87312271],\n",
       "       [0.03904259, 0.96095741]])"
      ]
     },
     "execution_count": 30,
     "metadata": {},
     "output_type": "execute_result"
    }
   ],
   "source": [
    "y_test_pred"
   ]
  },
  {
   "cell_type": "markdown",
   "metadata": {
    "id": "l0lwTcaNaCYa"
   },
   "source": [
    "# **5. 최종 제출 파일 생성**"
   ]
  },
  {
   "cell_type": "code",
   "execution_count": 31,
   "metadata": {
    "id": "aUb6-sfyinOj"
   },
   "outputs": [
    {
     "data": {
      "text/html": [
       "<div>\n",
       "<style scoped>\n",
       "    .dataframe tbody tr th:only-of-type {\n",
       "        vertical-align: middle;\n",
       "    }\n",
       "\n",
       "    .dataframe tbody tr th {\n",
       "        vertical-align: top;\n",
       "    }\n",
       "\n",
       "    .dataframe thead th {\n",
       "        text-align: right;\n",
       "    }\n",
       "</style>\n",
       "<table border=\"1\" class=\"dataframe\">\n",
       "  <thead>\n",
       "    <tr style=\"text-align: right;\">\n",
       "      <th></th>\n",
       "      <th>Not_Delayed</th>\n",
       "      <th>Delayed</th>\n",
       "    </tr>\n",
       "    <tr>\n",
       "      <th>ID</th>\n",
       "      <th></th>\n",
       "      <th></th>\n",
       "    </tr>\n",
       "  </thead>\n",
       "  <tbody>\n",
       "    <tr>\n",
       "      <th>TEST_000000</th>\n",
       "      <td>0</td>\n",
       "      <td>1</td>\n",
       "    </tr>\n",
       "    <tr>\n",
       "      <th>TEST_000001</th>\n",
       "      <td>0</td>\n",
       "      <td>1</td>\n",
       "    </tr>\n",
       "    <tr>\n",
       "      <th>TEST_000002</th>\n",
       "      <td>0</td>\n",
       "      <td>1</td>\n",
       "    </tr>\n",
       "  </tbody>\n",
       "</table>\n",
       "</div>"
      ],
      "text/plain": [
       "             Not_Delayed  Delayed\n",
       "ID                               \n",
       "TEST_000000            0        1\n",
       "TEST_000001            0        1\n",
       "TEST_000002            0        1"
      ]
     },
     "execution_count": 31,
     "metadata": {},
     "output_type": "execute_result"
    }
   ],
   "source": [
    "sample_submission.head(3)"
   ]
  },
  {
   "cell_type": "code",
   "execution_count": 32,
   "metadata": {
    "id": "z_T50fapjcUK"
   },
   "outputs": [],
   "source": [
    "submission = pd.DataFrame(data = y_test_pred, columns = sample_submission.columns,\n",
    "                          index = sample_submission.index)"
   ]
  },
  {
   "cell_type": "code",
   "execution_count": 33,
   "metadata": {
    "id": "CeFFidcFst-x"
   },
   "outputs": [
    {
     "data": {
      "text/html": [
       "<div>\n",
       "<style scoped>\n",
       "    .dataframe tbody tr th:only-of-type {\n",
       "        vertical-align: middle;\n",
       "    }\n",
       "\n",
       "    .dataframe tbody tr th {\n",
       "        vertical-align: top;\n",
       "    }\n",
       "\n",
       "    .dataframe thead th {\n",
       "        text-align: right;\n",
       "    }\n",
       "</style>\n",
       "<table border=\"1\" class=\"dataframe\">\n",
       "  <thead>\n",
       "    <tr style=\"text-align: right;\">\n",
       "      <th></th>\n",
       "      <th>Not_Delayed</th>\n",
       "      <th>Delayed</th>\n",
       "    </tr>\n",
       "    <tr>\n",
       "      <th>ID</th>\n",
       "      <th></th>\n",
       "      <th></th>\n",
       "    </tr>\n",
       "  </thead>\n",
       "  <tbody>\n",
       "    <tr>\n",
       "      <th>TEST_000000</th>\n",
       "      <td>0.038495</td>\n",
       "      <td>0.961505</td>\n",
       "    </tr>\n",
       "    <tr>\n",
       "      <th>TEST_000001</th>\n",
       "      <td>0.054984</td>\n",
       "      <td>0.945016</td>\n",
       "    </tr>\n",
       "    <tr>\n",
       "      <th>TEST_000002</th>\n",
       "      <td>0.234700</td>\n",
       "      <td>0.765300</td>\n",
       "    </tr>\n",
       "  </tbody>\n",
       "</table>\n",
       "</div>"
      ],
      "text/plain": [
       "             Not_Delayed   Delayed\n",
       "ID                                \n",
       "TEST_000000     0.038495  0.961505\n",
       "TEST_000001     0.054984  0.945016\n",
       "TEST_000002     0.234700  0.765300"
      ]
     },
     "execution_count": 33,
     "metadata": {},
     "output_type": "execute_result"
    }
   ],
   "source": [
    "submission.head(3)"
   ]
  },
  {
   "cell_type": "code",
   "execution_count": 34,
   "metadata": {
    "id": "6cmltuvks2Hd"
   },
   "outputs": [],
   "source": [
    "submission.to_csv('gbm_submission.csv', index = True)"
   ]
  },
  {
   "cell_type": "markdown",
   "metadata": {},
   "source": [
    "## 리더보드 제출 결과\n",
    "- public: 1.0422\n",
    "- private: 1.6564\n",
    "- 150 ~ 160위 정도\n",
    "- 개선방안?\n",
    "    - 직접 하이퍼파라미터 튜닝을 하는 대신 Pycaret, Optuna 등의 AutoML 기법 활용\n",
    "    - 그러나 GBM 너ㅓㅓㅓㅓ무 오래 걸려서 다른 모델로 시도해 보는 현이 좋을 듯함"
   ]
  }
 ],
 "metadata": {
  "colab": {
   "provenance": []
  },
  "kernelspec": {
   "display_name": "Python 3 (ipykernel)",
   "language": "python",
   "name": "python3"
  },
  "language_info": {
   "codemirror_mode": {
    "name": "ipython",
    "version": 3
   },
   "file_extension": ".py",
   "mimetype": "text/x-python",
   "name": "python",
   "nbconvert_exporter": "python",
   "pygments_lexer": "ipython3",
   "version": "3.8.9"
  }
 },
 "nbformat": 4,
 "nbformat_minor": 1
}
