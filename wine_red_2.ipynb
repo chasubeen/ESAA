{
 "cells": [
  {
   "cell_type": "markdown",
   "metadata": {},
   "source": [
    "# **0. 라이브러리 import**"
   ]
  },
  {
   "cell_type": "code",
   "execution_count": 5,
   "metadata": {},
   "outputs": [],
   "source": [
    "import numpy as np\n",
    "import pandas as pd\n",
    "%matplotlib inline\n",
    "import matplotlib.pyplot as plt \n",
    "import seaborn as sns \n",
    "\n",
    "from sklearn.model_selection import train_test_split\n",
    "from sklearn.preprocessing import StandardScaler,MinMaxScaler\n",
    "from sklearn.metrics import accuracy_score\n",
    "\n",
    "#경고 메시지 숨기기\n",
    "import warnings\n",
    "warnings.filterwarnings(action = 'ignore')"
   ]
  },
  {
   "cell_type": "markdown",
   "metadata": {},
   "source": [
    "# **1. 데이터 불러오기**"
   ]
  },
  {
   "cell_type": "markdown",
   "metadata": {},
   "source": [
    "## **📌 Data Description**\n",
    "- index: 구분자\n",
    "- quality: 품질(target 변수) - 범주형\n",
    "- fixed acidity: 산도\n",
    "- volatile acidity: 휘발성산\n",
    "- citric acid: 시트르산\n",
    "- residual sugar: 잔당(발효 후 와인 속에 남아있는 당분)\n",
    "- chlorides: 염화물\n",
    "- free sulfur dioxide: 독립 이산화황\n",
    "- total sulfur dioxide: 총 이산화황\n",
    "- density: 밀도\n",
    "- pH: 수소이온농도\n",
    "- sulphates: 황산염\n",
    "- alcohol: 도수\n",
    "- type: 종류(white vs red)"
   ]
  },
  {
   "cell_type": "code",
   "execution_count": 6,
   "metadata": {},
   "outputs": [],
   "source": [
    "train = pd.read_csv('./data/train.csv')\n",
    "test = pd.read_csv('./data/test.csv')"
   ]
  },
  {
   "cell_type": "code",
   "execution_count": 7,
   "metadata": {},
   "outputs": [
    {
     "data": {
      "text/html": [
       "<div>\n",
       "<style scoped>\n",
       "    .dataframe tbody tr th:only-of-type {\n",
       "        vertical-align: middle;\n",
       "    }\n",
       "\n",
       "    .dataframe tbody tr th {\n",
       "        vertical-align: top;\n",
       "    }\n",
       "\n",
       "    .dataframe thead th {\n",
       "        text-align: right;\n",
       "    }\n",
       "</style>\n",
       "<table border=\"1\" class=\"dataframe\">\n",
       "  <thead>\n",
       "    <tr style=\"text-align: right;\">\n",
       "      <th></th>\n",
       "      <th>index</th>\n",
       "      <th>quality</th>\n",
       "      <th>fixed acidity</th>\n",
       "      <th>volatile acidity</th>\n",
       "      <th>citric acid</th>\n",
       "      <th>residual sugar</th>\n",
       "      <th>chlorides</th>\n",
       "      <th>free sulfur dioxide</th>\n",
       "      <th>total sulfur dioxide</th>\n",
       "      <th>density</th>\n",
       "      <th>pH</th>\n",
       "      <th>sulphates</th>\n",
       "      <th>alcohol</th>\n",
       "      <th>type</th>\n",
       "    </tr>\n",
       "  </thead>\n",
       "  <tbody>\n",
       "    <tr>\n",
       "      <th>0</th>\n",
       "      <td>0</td>\n",
       "      <td>5</td>\n",
       "      <td>5.6</td>\n",
       "      <td>0.695</td>\n",
       "      <td>0.06</td>\n",
       "      <td>6.8</td>\n",
       "      <td>0.042</td>\n",
       "      <td>9.0</td>\n",
       "      <td>84.0</td>\n",
       "      <td>0.99432</td>\n",
       "      <td>3.44</td>\n",
       "      <td>0.44</td>\n",
       "      <td>10.2</td>\n",
       "      <td>white</td>\n",
       "    </tr>\n",
       "    <tr>\n",
       "      <th>1</th>\n",
       "      <td>1</td>\n",
       "      <td>5</td>\n",
       "      <td>8.8</td>\n",
       "      <td>0.610</td>\n",
       "      <td>0.14</td>\n",
       "      <td>2.4</td>\n",
       "      <td>0.067</td>\n",
       "      <td>10.0</td>\n",
       "      <td>42.0</td>\n",
       "      <td>0.99690</td>\n",
       "      <td>3.19</td>\n",
       "      <td>0.59</td>\n",
       "      <td>9.5</td>\n",
       "      <td>red</td>\n",
       "    </tr>\n",
       "    <tr>\n",
       "      <th>2</th>\n",
       "      <td>2</td>\n",
       "      <td>5</td>\n",
       "      <td>7.9</td>\n",
       "      <td>0.210</td>\n",
       "      <td>0.39</td>\n",
       "      <td>2.0</td>\n",
       "      <td>0.057</td>\n",
       "      <td>21.0</td>\n",
       "      <td>138.0</td>\n",
       "      <td>0.99176</td>\n",
       "      <td>3.05</td>\n",
       "      <td>0.52</td>\n",
       "      <td>10.9</td>\n",
       "      <td>white</td>\n",
       "    </tr>\n",
       "    <tr>\n",
       "      <th>3</th>\n",
       "      <td>3</td>\n",
       "      <td>6</td>\n",
       "      <td>7.0</td>\n",
       "      <td>0.210</td>\n",
       "      <td>0.31</td>\n",
       "      <td>6.0</td>\n",
       "      <td>0.046</td>\n",
       "      <td>29.0</td>\n",
       "      <td>108.0</td>\n",
       "      <td>0.99390</td>\n",
       "      <td>3.26</td>\n",
       "      <td>0.50</td>\n",
       "      <td>10.8</td>\n",
       "      <td>white</td>\n",
       "    </tr>\n",
       "    <tr>\n",
       "      <th>4</th>\n",
       "      <td>4</td>\n",
       "      <td>6</td>\n",
       "      <td>7.8</td>\n",
       "      <td>0.400</td>\n",
       "      <td>0.26</td>\n",
       "      <td>9.5</td>\n",
       "      <td>0.059</td>\n",
       "      <td>32.0</td>\n",
       "      <td>178.0</td>\n",
       "      <td>0.99550</td>\n",
       "      <td>3.04</td>\n",
       "      <td>0.43</td>\n",
       "      <td>10.9</td>\n",
       "      <td>white</td>\n",
       "    </tr>\n",
       "  </tbody>\n",
       "</table>\n",
       "</div>"
      ],
      "text/plain": [
       "   index  quality  fixed acidity  volatile acidity  citric acid  \\\n",
       "0      0        5            5.6             0.695         0.06   \n",
       "1      1        5            8.8             0.610         0.14   \n",
       "2      2        5            7.9             0.210         0.39   \n",
       "3      3        6            7.0             0.210         0.31   \n",
       "4      4        6            7.8             0.400         0.26   \n",
       "\n",
       "   residual sugar  chlorides  free sulfur dioxide  total sulfur dioxide  \\\n",
       "0             6.8      0.042                  9.0                  84.0   \n",
       "1             2.4      0.067                 10.0                  42.0   \n",
       "2             2.0      0.057                 21.0                 138.0   \n",
       "3             6.0      0.046                 29.0                 108.0   \n",
       "4             9.5      0.059                 32.0                 178.0   \n",
       "\n",
       "   density    pH  sulphates  alcohol   type  \n",
       "0  0.99432  3.44       0.44     10.2  white  \n",
       "1  0.99690  3.19       0.59      9.5    red  \n",
       "2  0.99176  3.05       0.52     10.9  white  \n",
       "3  0.99390  3.26       0.50     10.8  white  \n",
       "4  0.99550  3.04       0.43     10.9  white  "
      ]
     },
     "execution_count": 7,
     "metadata": {},
     "output_type": "execute_result"
    }
   ],
   "source": [
    "### train 데이터\n",
    "# index를 제외하면 총 13개 변수를 가짐\n",
    "# quality(와인의 품질) - target 변수\n",
    "\n",
    "train.head()"
   ]
  },
  {
   "cell_type": "code",
   "execution_count": 8,
   "metadata": {},
   "outputs": [
    {
     "data": {
      "text/html": [
       "<div>\n",
       "<style scoped>\n",
       "    .dataframe tbody tr th:only-of-type {\n",
       "        vertical-align: middle;\n",
       "    }\n",
       "\n",
       "    .dataframe tbody tr th {\n",
       "        vertical-align: top;\n",
       "    }\n",
       "\n",
       "    .dataframe thead th {\n",
       "        text-align: right;\n",
       "    }\n",
       "</style>\n",
       "<table border=\"1\" class=\"dataframe\">\n",
       "  <thead>\n",
       "    <tr style=\"text-align: right;\">\n",
       "      <th></th>\n",
       "      <th>index</th>\n",
       "      <th>fixed acidity</th>\n",
       "      <th>volatile acidity</th>\n",
       "      <th>citric acid</th>\n",
       "      <th>residual sugar</th>\n",
       "      <th>chlorides</th>\n",
       "      <th>free sulfur dioxide</th>\n",
       "      <th>total sulfur dioxide</th>\n",
       "      <th>density</th>\n",
       "      <th>pH</th>\n",
       "      <th>sulphates</th>\n",
       "      <th>alcohol</th>\n",
       "      <th>type</th>\n",
       "    </tr>\n",
       "  </thead>\n",
       "  <tbody>\n",
       "    <tr>\n",
       "      <th>0</th>\n",
       "      <td>0</td>\n",
       "      <td>9.0</td>\n",
       "      <td>0.31</td>\n",
       "      <td>0.48</td>\n",
       "      <td>6.6</td>\n",
       "      <td>0.043</td>\n",
       "      <td>11.0</td>\n",
       "      <td>73.0</td>\n",
       "      <td>0.99380</td>\n",
       "      <td>2.90</td>\n",
       "      <td>0.38</td>\n",
       "      <td>11.6</td>\n",
       "      <td>white</td>\n",
       "    </tr>\n",
       "    <tr>\n",
       "      <th>1</th>\n",
       "      <td>1</td>\n",
       "      <td>13.3</td>\n",
       "      <td>0.43</td>\n",
       "      <td>0.58</td>\n",
       "      <td>1.9</td>\n",
       "      <td>0.070</td>\n",
       "      <td>15.0</td>\n",
       "      <td>40.0</td>\n",
       "      <td>1.00040</td>\n",
       "      <td>3.06</td>\n",
       "      <td>0.49</td>\n",
       "      <td>9.0</td>\n",
       "      <td>red</td>\n",
       "    </tr>\n",
       "    <tr>\n",
       "      <th>2</th>\n",
       "      <td>2</td>\n",
       "      <td>6.5</td>\n",
       "      <td>0.28</td>\n",
       "      <td>0.27</td>\n",
       "      <td>5.2</td>\n",
       "      <td>0.040</td>\n",
       "      <td>44.0</td>\n",
       "      <td>179.0</td>\n",
       "      <td>0.99480</td>\n",
       "      <td>3.19</td>\n",
       "      <td>0.69</td>\n",
       "      <td>9.4</td>\n",
       "      <td>white</td>\n",
       "    </tr>\n",
       "    <tr>\n",
       "      <th>3</th>\n",
       "      <td>3</td>\n",
       "      <td>7.2</td>\n",
       "      <td>0.15</td>\n",
       "      <td>0.39</td>\n",
       "      <td>1.8</td>\n",
       "      <td>0.043</td>\n",
       "      <td>21.0</td>\n",
       "      <td>159.0</td>\n",
       "      <td>0.99480</td>\n",
       "      <td>3.52</td>\n",
       "      <td>0.47</td>\n",
       "      <td>10.0</td>\n",
       "      <td>white</td>\n",
       "    </tr>\n",
       "    <tr>\n",
       "      <th>4</th>\n",
       "      <td>4</td>\n",
       "      <td>6.8</td>\n",
       "      <td>0.26</td>\n",
       "      <td>0.26</td>\n",
       "      <td>2.0</td>\n",
       "      <td>0.019</td>\n",
       "      <td>23.5</td>\n",
       "      <td>72.0</td>\n",
       "      <td>0.99041</td>\n",
       "      <td>3.16</td>\n",
       "      <td>0.47</td>\n",
       "      <td>11.8</td>\n",
       "      <td>white</td>\n",
       "    </tr>\n",
       "  </tbody>\n",
       "</table>\n",
       "</div>"
      ],
      "text/plain": [
       "   index  fixed acidity  volatile acidity  citric acid  residual sugar  \\\n",
       "0      0            9.0              0.31         0.48             6.6   \n",
       "1      1           13.3              0.43         0.58             1.9   \n",
       "2      2            6.5              0.28         0.27             5.2   \n",
       "3      3            7.2              0.15         0.39             1.8   \n",
       "4      4            6.8              0.26         0.26             2.0   \n",
       "\n",
       "   chlorides  free sulfur dioxide  total sulfur dioxide  density    pH  \\\n",
       "0      0.043                 11.0                  73.0  0.99380  2.90   \n",
       "1      0.070                 15.0                  40.0  1.00040  3.06   \n",
       "2      0.040                 44.0                 179.0  0.99480  3.19   \n",
       "3      0.043                 21.0                 159.0  0.99480  3.52   \n",
       "4      0.019                 23.5                  72.0  0.99041  3.16   \n",
       "\n",
       "   sulphates  alcohol   type  \n",
       "0       0.38     11.6  white  \n",
       "1       0.49      9.0    red  \n",
       "2       0.69      9.4  white  \n",
       "3       0.47     10.0  white  \n",
       "4       0.47     11.8  white  "
      ]
     },
     "execution_count": 8,
     "metadata": {},
     "output_type": "execute_result"
    }
   ],
   "source": [
    "### test 데이터\n",
    "# index를 제외하면 총 12개 변수를 가짐\n",
    "\n",
    "test.head()"
   ]
  },
  {
   "cell_type": "markdown",
   "metadata": {},
   "source": [
    "- 와인의 종류에 따라 성질과 품질이 달라질 것이라고 판단함\n",
    "    - red 와인과 white 와인을 **분리**한 후, 각각에 대한 품질 분류 모델 생성"
   ]
  },
  {
   "cell_type": "code",
   "execution_count": 9,
   "metadata": {},
   "outputs": [],
   "source": [
    "red_train = train.loc[train['type'] == 'red',:]\n",
    "red_test = test.loc[test['type'] == 'red',:]"
   ]
  },
  {
   "cell_type": "code",
   "execution_count": 10,
   "metadata": {},
   "outputs": [],
   "source": [
    "# 이후 submission.csv 파일을 만들기 위해 red wine의 원래 위치 index를 저장\n",
    "\n",
    "red_idx = list(red_test['index'])"
   ]
  },
  {
   "cell_type": "code",
   "execution_count": 11,
   "metadata": {},
   "outputs": [],
   "source": [
    "red_train = red_train.reset_index(drop = True)\n",
    "red_test = red_test.reset_index(drop = True)"
   ]
  },
  {
   "cell_type": "markdown",
   "metadata": {},
   "source": [
    "# **2. 데이터 전처리 & EDA**"
   ]
  },
  {
   "cell_type": "code",
   "execution_count": 12,
   "metadata": {},
   "outputs": [],
   "source": [
    "### 필요없는 변수 제거\n",
    "# index는 불필요한 변수이므로 삭제\n",
    "\n",
    "red_train = red_train.drop(['index','type'], axis = 1)\n",
    "red_test = red_test.drop(['index','type'], axis = 1)"
   ]
  },
  {
   "cell_type": "markdown",
   "metadata": {},
   "source": [
    "## **2-2. 데이터 구조 확인**"
   ]
  },
  {
   "cell_type": "code",
   "execution_count": 13,
   "metadata": {},
   "outputs": [
    {
     "name": "stdout",
     "output_type": "stream",
     "text": [
      "<class 'pandas.core.frame.DataFrame'>\n",
      "RangeIndex: 1338 entries, 0 to 1337\n",
      "Data columns (total 12 columns):\n",
      " #   Column                Non-Null Count  Dtype  \n",
      "---  ------                --------------  -----  \n",
      " 0   quality               1338 non-null   int64  \n",
      " 1   fixed acidity         1338 non-null   float64\n",
      " 2   volatile acidity      1338 non-null   float64\n",
      " 3   citric acid           1338 non-null   float64\n",
      " 4   residual sugar        1338 non-null   float64\n",
      " 5   chlorides             1338 non-null   float64\n",
      " 6   free sulfur dioxide   1338 non-null   float64\n",
      " 7   total sulfur dioxide  1338 non-null   float64\n",
      " 8   density               1338 non-null   float64\n",
      " 9   pH                    1338 non-null   float64\n",
      " 10  sulphates             1338 non-null   float64\n",
      " 11  alcohol               1338 non-null   float64\n",
      "dtypes: float64(11), int64(1)\n",
      "memory usage: 125.6 KB\n"
     ]
    }
   ],
   "source": [
    "### train 데이터의 column 정보 확인\n",
    "\n",
    "red_train.info()"
   ]
  },
  {
   "cell_type": "code",
   "execution_count": 14,
   "metadata": {},
   "outputs": [
    {
     "name": "stdout",
     "output_type": "stream",
     "text": [
      "<class 'pandas.core.frame.DataFrame'>\n",
      "RangeIndex: 261 entries, 0 to 260\n",
      "Data columns (total 11 columns):\n",
      " #   Column                Non-Null Count  Dtype  \n",
      "---  ------                --------------  -----  \n",
      " 0   fixed acidity         261 non-null    float64\n",
      " 1   volatile acidity      261 non-null    float64\n",
      " 2   citric acid           261 non-null    float64\n",
      " 3   residual sugar        261 non-null    float64\n",
      " 4   chlorides             261 non-null    float64\n",
      " 5   free sulfur dioxide   261 non-null    float64\n",
      " 6   total sulfur dioxide  261 non-null    float64\n",
      " 7   density               261 non-null    float64\n",
      " 8   pH                    261 non-null    float64\n",
      " 9   sulphates             261 non-null    float64\n",
      " 10  alcohol               261 non-null    float64\n",
      "dtypes: float64(11)\n",
      "memory usage: 22.6 KB\n"
     ]
    }
   ],
   "source": [
    "### test 데이터의 column 정보 확인\n",
    "\n",
    "red_test.info()"
   ]
  },
  {
   "cell_type": "markdown",
   "metadata": {},
   "source": [
    "- type을 제외하고는 모두 숫자형 변수이다.\n",
    "- 결측치는 존재하지 않는다."
   ]
  },
  {
   "cell_type": "code",
   "execution_count": 15,
   "metadata": {},
   "outputs": [
    {
     "data": {
      "text/html": [
       "<div>\n",
       "<style scoped>\n",
       "    .dataframe tbody tr th:only-of-type {\n",
       "        vertical-align: middle;\n",
       "    }\n",
       "\n",
       "    .dataframe tbody tr th {\n",
       "        vertical-align: top;\n",
       "    }\n",
       "\n",
       "    .dataframe thead th {\n",
       "        text-align: right;\n",
       "    }\n",
       "</style>\n",
       "<table border=\"1\" class=\"dataframe\">\n",
       "  <thead>\n",
       "    <tr style=\"text-align: right;\">\n",
       "      <th></th>\n",
       "      <th>quality</th>\n",
       "      <th>fixed acidity</th>\n",
       "      <th>volatile acidity</th>\n",
       "      <th>citric acid</th>\n",
       "      <th>residual sugar</th>\n",
       "      <th>chlorides</th>\n",
       "      <th>free sulfur dioxide</th>\n",
       "      <th>total sulfur dioxide</th>\n",
       "      <th>density</th>\n",
       "      <th>pH</th>\n",
       "      <th>sulphates</th>\n",
       "      <th>alcohol</th>\n",
       "    </tr>\n",
       "  </thead>\n",
       "  <tbody>\n",
       "    <tr>\n",
       "      <th>count</th>\n",
       "      <td>1338.000000</td>\n",
       "      <td>1338.000000</td>\n",
       "      <td>1338.000000</td>\n",
       "      <td>1338.000000</td>\n",
       "      <td>1338.000000</td>\n",
       "      <td>1338.000000</td>\n",
       "      <td>1338.000000</td>\n",
       "      <td>1338.000000</td>\n",
       "      <td>1338.000000</td>\n",
       "      <td>1338.000000</td>\n",
       "      <td>1338.000000</td>\n",
       "      <td>1338.000000</td>\n",
       "    </tr>\n",
       "    <tr>\n",
       "      <th>mean</th>\n",
       "      <td>5.637519</td>\n",
       "      <td>8.307922</td>\n",
       "      <td>0.525878</td>\n",
       "      <td>0.270142</td>\n",
       "      <td>2.535015</td>\n",
       "      <td>0.087504</td>\n",
       "      <td>15.826607</td>\n",
       "      <td>46.128550</td>\n",
       "      <td>0.996736</td>\n",
       "      <td>3.312930</td>\n",
       "      <td>0.658543</td>\n",
       "      <td>10.433308</td>\n",
       "    </tr>\n",
       "    <tr>\n",
       "      <th>std</th>\n",
       "      <td>0.802575</td>\n",
       "      <td>1.729029</td>\n",
       "      <td>0.177923</td>\n",
       "      <td>0.193273</td>\n",
       "      <td>1.402580</td>\n",
       "      <td>0.046605</td>\n",
       "      <td>10.351499</td>\n",
       "      <td>31.803005</td>\n",
       "      <td>0.001887</td>\n",
       "      <td>0.152856</td>\n",
       "      <td>0.173753</td>\n",
       "      <td>1.065428</td>\n",
       "    </tr>\n",
       "    <tr>\n",
       "      <th>min</th>\n",
       "      <td>3.000000</td>\n",
       "      <td>4.600000</td>\n",
       "      <td>0.120000</td>\n",
       "      <td>0.000000</td>\n",
       "      <td>0.900000</td>\n",
       "      <td>0.012000</td>\n",
       "      <td>1.000000</td>\n",
       "      <td>6.000000</td>\n",
       "      <td>0.990070</td>\n",
       "      <td>2.740000</td>\n",
       "      <td>0.390000</td>\n",
       "      <td>8.400000</td>\n",
       "    </tr>\n",
       "    <tr>\n",
       "      <th>25%</th>\n",
       "      <td>5.000000</td>\n",
       "      <td>7.100000</td>\n",
       "      <td>0.390000</td>\n",
       "      <td>0.090000</td>\n",
       "      <td>1.900000</td>\n",
       "      <td>0.070000</td>\n",
       "      <td>7.000000</td>\n",
       "      <td>22.000000</td>\n",
       "      <td>0.995600</td>\n",
       "      <td>3.210000</td>\n",
       "      <td>0.550000</td>\n",
       "      <td>9.500000</td>\n",
       "    </tr>\n",
       "    <tr>\n",
       "      <th>50%</th>\n",
       "      <td>6.000000</td>\n",
       "      <td>7.900000</td>\n",
       "      <td>0.520000</td>\n",
       "      <td>0.260000</td>\n",
       "      <td>2.200000</td>\n",
       "      <td>0.079000</td>\n",
       "      <td>14.000000</td>\n",
       "      <td>37.000000</td>\n",
       "      <td>0.996740</td>\n",
       "      <td>3.310000</td>\n",
       "      <td>0.620000</td>\n",
       "      <td>10.200000</td>\n",
       "    </tr>\n",
       "    <tr>\n",
       "      <th>75%</th>\n",
       "      <td>6.000000</td>\n",
       "      <td>9.200000</td>\n",
       "      <td>0.635000</td>\n",
       "      <td>0.420000</td>\n",
       "      <td>2.600000</td>\n",
       "      <td>0.090000</td>\n",
       "      <td>21.000000</td>\n",
       "      <td>62.000000</td>\n",
       "      <td>0.997800</td>\n",
       "      <td>3.400000</td>\n",
       "      <td>0.720000</td>\n",
       "      <td>11.100000</td>\n",
       "    </tr>\n",
       "    <tr>\n",
       "      <th>max</th>\n",
       "      <td>8.000000</td>\n",
       "      <td>15.900000</td>\n",
       "      <td>1.580000</td>\n",
       "      <td>1.000000</td>\n",
       "      <td>15.400000</td>\n",
       "      <td>0.610000</td>\n",
       "      <td>72.000000</td>\n",
       "      <td>165.000000</td>\n",
       "      <td>1.003690</td>\n",
       "      <td>4.010000</td>\n",
       "      <td>2.000000</td>\n",
       "      <td>14.900000</td>\n",
       "    </tr>\n",
       "  </tbody>\n",
       "</table>\n",
       "</div>"
      ],
      "text/plain": [
       "           quality  fixed acidity  volatile acidity  citric acid  \\\n",
       "count  1338.000000    1338.000000       1338.000000  1338.000000   \n",
       "mean      5.637519       8.307922          0.525878     0.270142   \n",
       "std       0.802575       1.729029          0.177923     0.193273   \n",
       "min       3.000000       4.600000          0.120000     0.000000   \n",
       "25%       5.000000       7.100000          0.390000     0.090000   \n",
       "50%       6.000000       7.900000          0.520000     0.260000   \n",
       "75%       6.000000       9.200000          0.635000     0.420000   \n",
       "max       8.000000      15.900000          1.580000     1.000000   \n",
       "\n",
       "       residual sugar    chlorides  free sulfur dioxide  total sulfur dioxide  \\\n",
       "count     1338.000000  1338.000000          1338.000000           1338.000000   \n",
       "mean         2.535015     0.087504            15.826607             46.128550   \n",
       "std          1.402580     0.046605            10.351499             31.803005   \n",
       "min          0.900000     0.012000             1.000000              6.000000   \n",
       "25%          1.900000     0.070000             7.000000             22.000000   \n",
       "50%          2.200000     0.079000            14.000000             37.000000   \n",
       "75%          2.600000     0.090000            21.000000             62.000000   \n",
       "max         15.400000     0.610000            72.000000            165.000000   \n",
       "\n",
       "           density           pH    sulphates      alcohol  \n",
       "count  1338.000000  1338.000000  1338.000000  1338.000000  \n",
       "mean      0.996736     3.312930     0.658543    10.433308  \n",
       "std       0.001887     0.152856     0.173753     1.065428  \n",
       "min       0.990070     2.740000     0.390000     8.400000  \n",
       "25%       0.995600     3.210000     0.550000     9.500000  \n",
       "50%       0.996740     3.310000     0.620000    10.200000  \n",
       "75%       0.997800     3.400000     0.720000    11.100000  \n",
       "max       1.003690     4.010000     2.000000    14.900000  "
      ]
     },
     "execution_count": 15,
     "metadata": {},
     "output_type": "execute_result"
    }
   ],
   "source": [
    "red_train.describe()"
   ]
  },
  {
   "cell_type": "markdown",
   "metadata": {},
   "source": [
    "- 데이터들 간의 스케일 차이가 존재함을 확인할 수 있다.\n",
    "    - 표준화(StandardScaler) 진행\n",
    "- 데이터 중 일부 이상치가 존재함을 짐작할 수 있다."
   ]
  },
  {
   "cell_type": "markdown",
   "metadata": {},
   "source": [
    "## **2-3. 데이터 분포 확인**"
   ]
  },
  {
   "cell_type": "markdown",
   "metadata": {},
   "source": [
    "### **a) Target 값의 분포**"
   ]
  },
  {
   "cell_type": "code",
   "execution_count": 16,
   "metadata": {},
   "outputs": [
    {
     "data": {
      "text/plain": [
       "5    571\n",
       "6    535\n",
       "7    169\n",
       "4     41\n",
       "8     13\n",
       "3      9\n",
       "Name: quality, dtype: int64"
      ]
     },
     "execution_count": 16,
     "metadata": {},
     "output_type": "execute_result"
    }
   ],
   "source": [
    "red_train['quality'].value_counts()"
   ]
  },
  {
   "cell_type": "code",
   "execution_count": 17,
   "metadata": {},
   "outputs": [
    {
     "data": {
      "text/plain": [
       "<AxesSubplot:xlabel='quality', ylabel='count'>"
      ]
     },
     "execution_count": 17,
     "metadata": {},
     "output_type": "execute_result"
    },
    {
     "data": {
      "image/png": "[encoded data removed]",
      "text/plain": [
       "<Figure size 432x288 with 1 Axes>"
      ]
     },
     "metadata": {
      "needs_background": "light"
     },
     "output_type": "display_data"
    }
   ],
   "source": [
    "sns.countplot(x = red_train['quality'])"
   ]
  },
  {
   "cell_type": "markdown",
   "metadata": {},
   "source": [
    "- quality의 클래스가 너무 많다.\n",
    "    - 5,6이 대부분\n",
    "    - 3과 8은 매우 적은 수\n",
    "- 품질을 모아서 4개의 클래스로 재분류\n",
    "    - 3 + 4 => 4 (worst)\n",
    "    - 5 (bad)\n",
    "    - 6 (good)\n",
    "    - 7 + 8 => 7 (best)"
   ]
  },
  {
   "cell_type": "code",
   "execution_count": 18,
   "metadata": {},
   "outputs": [],
   "source": [
    "### 클래스 재분류\n",
    "\n",
    "red_train.loc[red_train['quality'] <= 4, 'new_quality'] = 4\n",
    "red_train.loc[red_train['quality'] == 5, 'new_quality'] = 5\n",
    "red_train.loc[red_train['quality'] == 6, 'new_quality'] = 6\n",
    "red_train.loc[red_train['quality'] >= 7, 'new_quality'] = 7"
   ]
  },
  {
   "cell_type": "code",
   "execution_count": 19,
   "metadata": {},
   "outputs": [],
   "source": [
    "# 클래스이기에 int 형으로 변환해주기\n",
    "\n",
    "red_train = red_train.astype({'new_quality':'int32'})"
   ]
  },
  {
   "cell_type": "code",
   "execution_count": 20,
   "metadata": {},
   "outputs": [
    {
     "data": {
      "text/plain": [
       "5    571\n",
       "6    535\n",
       "7    182\n",
       "4     50\n",
       "Name: new_quality, dtype: int64"
      ]
     },
     "execution_count": 20,
     "metadata": {},
     "output_type": "execute_result"
    }
   ],
   "source": [
    "red_train['new_quality'].value_counts()"
   ]
  },
  {
   "cell_type": "code",
   "execution_count": 21,
   "metadata": {},
   "outputs": [
    {
     "data": {
      "text/plain": [
       "<AxesSubplot:xlabel='new_quality', ylabel='count'>"
      ]
     },
     "execution_count": 21,
     "metadata": {},
     "output_type": "execute_result"
    },
    {
     "data": {
      "image/png": "[encoded data removed]",
      "text/plain": [
       "<Figure size 432x288 with 1 Axes>"
      ]
     },
     "metadata": {
      "needs_background": "light"
     },
     "output_type": "display_data"
    }
   ],
   "source": [
    "sns.countplot(x = red_train['new_quality'])"
   ]
  },
  {
   "cell_type": "code",
   "execution_count": 22,
   "metadata": {},
   "outputs": [],
   "source": [
    "### 기존 quality 제거\n",
    "\n",
    "red_train = red_train.drop('quality', axis = 1)"
   ]
  },
  {
   "cell_type": "code",
   "execution_count": 23,
   "metadata": {},
   "outputs": [
    {
     "data": {
      "text/html": [
       "<div>\n",
       "<style scoped>\n",
       "    .dataframe tbody tr th:only-of-type {\n",
       "        vertical-align: middle;\n",
       "    }\n",
       "\n",
       "    .dataframe tbody tr th {\n",
       "        vertical-align: top;\n",
       "    }\n",
       "\n",
       "    .dataframe thead th {\n",
       "        text-align: right;\n",
       "    }\n",
       "</style>\n",
       "<table border=\"1\" class=\"dataframe\">\n",
       "  <thead>\n",
       "    <tr style=\"text-align: right;\">\n",
       "      <th></th>\n",
       "      <th>fixed acidity</th>\n",
       "      <th>volatile acidity</th>\n",
       "      <th>citric acid</th>\n",
       "      <th>residual sugar</th>\n",
       "      <th>chlorides</th>\n",
       "      <th>free sulfur dioxide</th>\n",
       "      <th>total sulfur dioxide</th>\n",
       "      <th>density</th>\n",
       "      <th>pH</th>\n",
       "      <th>sulphates</th>\n",
       "      <th>alcohol</th>\n",
       "      <th>new_quality</th>\n",
       "    </tr>\n",
       "  </thead>\n",
       "  <tbody>\n",
       "    <tr>\n",
       "      <th>0</th>\n",
       "      <td>8.8</td>\n",
       "      <td>0.61</td>\n",
       "      <td>0.14</td>\n",
       "      <td>2.4</td>\n",
       "      <td>0.067</td>\n",
       "      <td>10.0</td>\n",
       "      <td>42.0</td>\n",
       "      <td>0.99690</td>\n",
       "      <td>3.19</td>\n",
       "      <td>0.59</td>\n",
       "      <td>9.5</td>\n",
       "      <td>5</td>\n",
       "    </tr>\n",
       "    <tr>\n",
       "      <th>1</th>\n",
       "      <td>8.0</td>\n",
       "      <td>0.18</td>\n",
       "      <td>0.37</td>\n",
       "      <td>0.9</td>\n",
       "      <td>0.049</td>\n",
       "      <td>36.0</td>\n",
       "      <td>109.0</td>\n",
       "      <td>0.99007</td>\n",
       "      <td>2.89</td>\n",
       "      <td>0.44</td>\n",
       "      <td>12.7</td>\n",
       "      <td>6</td>\n",
       "    </tr>\n",
       "    <tr>\n",
       "      <th>2</th>\n",
       "      <td>12.5</td>\n",
       "      <td>0.38</td>\n",
       "      <td>0.60</td>\n",
       "      <td>2.6</td>\n",
       "      <td>0.081</td>\n",
       "      <td>31.0</td>\n",
       "      <td>72.0</td>\n",
       "      <td>0.99960</td>\n",
       "      <td>3.10</td>\n",
       "      <td>0.73</td>\n",
       "      <td>10.5</td>\n",
       "      <td>5</td>\n",
       "    </tr>\n",
       "    <tr>\n",
       "      <th>3</th>\n",
       "      <td>8.8</td>\n",
       "      <td>0.37</td>\n",
       "      <td>0.48</td>\n",
       "      <td>2.1</td>\n",
       "      <td>0.097</td>\n",
       "      <td>39.0</td>\n",
       "      <td>145.0</td>\n",
       "      <td>0.99750</td>\n",
       "      <td>3.04</td>\n",
       "      <td>1.03</td>\n",
       "      <td>9.3</td>\n",
       "      <td>5</td>\n",
       "    </tr>\n",
       "    <tr>\n",
       "      <th>4</th>\n",
       "      <td>7.2</td>\n",
       "      <td>0.56</td>\n",
       "      <td>0.26</td>\n",
       "      <td>2.0</td>\n",
       "      <td>0.083</td>\n",
       "      <td>13.0</td>\n",
       "      <td>100.0</td>\n",
       "      <td>0.99586</td>\n",
       "      <td>3.26</td>\n",
       "      <td>0.52</td>\n",
       "      <td>9.9</td>\n",
       "      <td>5</td>\n",
       "    </tr>\n",
       "  </tbody>\n",
       "</table>\n",
       "</div>"
      ],
      "text/plain": [
       "   fixed acidity  volatile acidity  citric acid  residual sugar  chlorides  \\\n",
       "0            8.8              0.61         0.14             2.4      0.067   \n",
       "1            8.0              0.18         0.37             0.9      0.049   \n",
       "2           12.5              0.38         0.60             2.6      0.081   \n",
       "3            8.8              0.37         0.48             2.1      0.097   \n",
       "4            7.2              0.56         0.26             2.0      0.083   \n",
       "\n",
       "   free sulfur dioxide  total sulfur dioxide  density    pH  sulphates  \\\n",
       "0                 10.0                  42.0  0.99690  3.19       0.59   \n",
       "1                 36.0                 109.0  0.99007  2.89       0.44   \n",
       "2                 31.0                  72.0  0.99960  3.10       0.73   \n",
       "3                 39.0                 145.0  0.99750  3.04       1.03   \n",
       "4                 13.0                 100.0  0.99586  3.26       0.52   \n",
       "\n",
       "   alcohol  new_quality  \n",
       "0      9.5            5  \n",
       "1     12.7            6  \n",
       "2     10.5            5  \n",
       "3      9.3            5  \n",
       "4      9.9            5  "
      ]
     },
     "execution_count": 23,
     "metadata": {},
     "output_type": "execute_result"
    }
   ],
   "source": [
    "red_train.head()"
   ]
  },
  {
   "cell_type": "code",
   "execution_count": 24,
   "metadata": {},
   "outputs": [],
   "source": [
    "### Label Encoding\n",
    "# class가 4,5,6,7인 경우 XGBoost에서 오류 발생(0부터 class가 시작하기를 기대함)\n",
    "\n",
    "from sklearn.preprocessing import LabelEncoder\n",
    "\n",
    "encoder = LabelEncoder()\n",
    "\n",
    "red_train['new_quality'] = encoder.fit_transform(red_train['new_quality'])"
   ]
  },
  {
   "cell_type": "code",
   "execution_count": 25,
   "metadata": {},
   "outputs": [
    {
     "data": {
      "text/html": [
       "<div>\n",
       "<style scoped>\n",
       "    .dataframe tbody tr th:only-of-type {\n",
       "        vertical-align: middle;\n",
       "    }\n",
       "\n",
       "    .dataframe tbody tr th {\n",
       "        vertical-align: top;\n",
       "    }\n",
       "\n",
       "    .dataframe thead th {\n",
       "        text-align: right;\n",
       "    }\n",
       "</style>\n",
       "<table border=\"1\" class=\"dataframe\">\n",
       "  <thead>\n",
       "    <tr style=\"text-align: right;\">\n",
       "      <th></th>\n",
       "      <th>fixed acidity</th>\n",
       "      <th>volatile acidity</th>\n",
       "      <th>citric acid</th>\n",
       "      <th>residual sugar</th>\n",
       "      <th>chlorides</th>\n",
       "      <th>free sulfur dioxide</th>\n",
       "      <th>total sulfur dioxide</th>\n",
       "      <th>density</th>\n",
       "      <th>pH</th>\n",
       "      <th>sulphates</th>\n",
       "      <th>alcohol</th>\n",
       "      <th>new_quality</th>\n",
       "    </tr>\n",
       "  </thead>\n",
       "  <tbody>\n",
       "    <tr>\n",
       "      <th>0</th>\n",
       "      <td>8.8</td>\n",
       "      <td>0.61</td>\n",
       "      <td>0.14</td>\n",
       "      <td>2.4</td>\n",
       "      <td>0.067</td>\n",
       "      <td>10.0</td>\n",
       "      <td>42.0</td>\n",
       "      <td>0.99690</td>\n",
       "      <td>3.19</td>\n",
       "      <td>0.59</td>\n",
       "      <td>9.5</td>\n",
       "      <td>1</td>\n",
       "    </tr>\n",
       "    <tr>\n",
       "      <th>1</th>\n",
       "      <td>8.0</td>\n",
       "      <td>0.18</td>\n",
       "      <td>0.37</td>\n",
       "      <td>0.9</td>\n",
       "      <td>0.049</td>\n",
       "      <td>36.0</td>\n",
       "      <td>109.0</td>\n",
       "      <td>0.99007</td>\n",
       "      <td>2.89</td>\n",
       "      <td>0.44</td>\n",
       "      <td>12.7</td>\n",
       "      <td>2</td>\n",
       "    </tr>\n",
       "    <tr>\n",
       "      <th>2</th>\n",
       "      <td>12.5</td>\n",
       "      <td>0.38</td>\n",
       "      <td>0.60</td>\n",
       "      <td>2.6</td>\n",
       "      <td>0.081</td>\n",
       "      <td>31.0</td>\n",
       "      <td>72.0</td>\n",
       "      <td>0.99960</td>\n",
       "      <td>3.10</td>\n",
       "      <td>0.73</td>\n",
       "      <td>10.5</td>\n",
       "      <td>1</td>\n",
       "    </tr>\n",
       "    <tr>\n",
       "      <th>3</th>\n",
       "      <td>8.8</td>\n",
       "      <td>0.37</td>\n",
       "      <td>0.48</td>\n",
       "      <td>2.1</td>\n",
       "      <td>0.097</td>\n",
       "      <td>39.0</td>\n",
       "      <td>145.0</td>\n",
       "      <td>0.99750</td>\n",
       "      <td>3.04</td>\n",
       "      <td>1.03</td>\n",
       "      <td>9.3</td>\n",
       "      <td>1</td>\n",
       "    </tr>\n",
       "    <tr>\n",
       "      <th>4</th>\n",
       "      <td>7.2</td>\n",
       "      <td>0.56</td>\n",
       "      <td>0.26</td>\n",
       "      <td>2.0</td>\n",
       "      <td>0.083</td>\n",
       "      <td>13.0</td>\n",
       "      <td>100.0</td>\n",
       "      <td>0.99586</td>\n",
       "      <td>3.26</td>\n",
       "      <td>0.52</td>\n",
       "      <td>9.9</td>\n",
       "      <td>1</td>\n",
       "    </tr>\n",
       "  </tbody>\n",
       "</table>\n",
       "</div>"
      ],
      "text/plain": [
       "   fixed acidity  volatile acidity  citric acid  residual sugar  chlorides  \\\n",
       "0            8.8              0.61         0.14             2.4      0.067   \n",
       "1            8.0              0.18         0.37             0.9      0.049   \n",
       "2           12.5              0.38         0.60             2.6      0.081   \n",
       "3            8.8              0.37         0.48             2.1      0.097   \n",
       "4            7.2              0.56         0.26             2.0      0.083   \n",
       "\n",
       "   free sulfur dioxide  total sulfur dioxide  density    pH  sulphates  \\\n",
       "0                 10.0                  42.0  0.99690  3.19       0.59   \n",
       "1                 36.0                 109.0  0.99007  2.89       0.44   \n",
       "2                 31.0                  72.0  0.99960  3.10       0.73   \n",
       "3                 39.0                 145.0  0.99750  3.04       1.03   \n",
       "4                 13.0                 100.0  0.99586  3.26       0.52   \n",
       "\n",
       "   alcohol  new_quality  \n",
       "0      9.5            1  \n",
       "1     12.7            2  \n",
       "2     10.5            1  \n",
       "3      9.3            1  \n",
       "4      9.9            1  "
      ]
     },
     "execution_count": 25,
     "metadata": {},
     "output_type": "execute_result"
    }
   ],
   "source": [
    "red_train.head()"
   ]
  },
  {
   "cell_type": "markdown",
   "metadata": {},
   "source": [
    "### **b) 각 feature 변수들의 분포**"
   ]
  },
  {
   "cell_type": "code",
   "execution_count": 26,
   "metadata": {},
   "outputs": [
    {
     "data": {
      "image/png": "[encoded data removed]",
      "text/plain": [
       "<Figure size 1440x1008 with 11 Axes>"
      ]
     },
     "metadata": {
      "needs_background": "light"
     },
     "output_type": "display_data"
    }
   ],
   "source": [
    "### 변수별 분포 시각화\n",
    "\n",
    "plt.figure(figsize = (20,14))\n",
    "\n",
    "for i, col in enumerate(list(red_train.iloc[:,:-1].columns.values)):\n",
    "    plt.subplot(4,3,i+1) # 위치 지정\n",
    "    sns.distplot(red_train[col], kde = True, label = 'data')\n",
    "    plt.grid()\n",
    "    plt.legend(loc='upper right')\n",
    "    plt.tight_layout()"
   ]
  },
  {
   "cell_type": "markdown",
   "metadata": {},
   "source": [
    "- 대부분의 feature들이 분포에 편향이 있다고 판단된다.(오른쪽으로 긴 꼬리, **positively skewed** )\n",
    "    - 데이터 변환 방법: 제곱근(square root), 세제곱근(cube root), **로그 변환(log transformation)**"
   ]
  },
  {
   "cell_type": "code",
   "execution_count": 27,
   "metadata": {},
   "outputs": [
    {
     "name": "stdout",
     "output_type": "stream",
     "text": [
      "전체 왜곡 정도: 1.517559\n"
     ]
    }
   ],
   "source": [
    "### 각 변수들의 왜도(skewness) 확인\n",
    "\n",
    "from scipy.stats import skew\n",
    "\n",
    "features_idx = red_train.dtypes[red_train.dtypes != 'object'].index\n",
    "skew_features = red_train[features_idx].apply(lambda x:skew(x))\n",
    "print('전체 왜곡 정도: %f' %skew_features.mean())"
   ]
  },
  {
   "cell_type": "code",
   "execution_count": 28,
   "metadata": {},
   "outputs": [
    {
     "name": "stdout",
     "output_type": "stream",
     "text": [
      "chlorides               5.355371\n",
      "residual sugar          4.566830\n",
      "sulphates               2.556867\n",
      "free sulfur dioxide     1.254573\n",
      "total sulfur dioxide    1.185168\n",
      "dtype: float64\n"
     ]
    }
   ],
   "source": [
    "### 왜도가 1 이상인 변수 파악\n",
    "\n",
    "skew_features_top = skew_features[skew_features > 1]\n",
    "print(skew_features_top.sort_values(ascending = False))"
   ]
  },
  {
   "cell_type": "markdown",
   "metadata": {},
   "source": [
    "### **c) 각 feature 변수와 target 변수 간의 관계**"
   ]
  },
  {
   "cell_type": "code",
   "execution_count": 29,
   "metadata": {},
   "outputs": [
    {
     "data": {
      "image/png": "[encoded data removed]",
      "text/plain": [
       "<Figure size 864x432 with 1 Axes>"
      ]
     },
     "metadata": {
      "needs_background": "light"
     },
     "output_type": "display_data"
    },
    {
     "data": {
      "image/png": "[encoded data removed]",
      "text/plain": [
       "<Figure size 864x432 with 1 Axes>"
      ]
     },
     "metadata": {
      "needs_background": "light"
     },
     "output_type": "display_data"
    },
    {
     "data": {
      "image/png": "[encoded data removed]",
      "text/plain": [
       "<Figure size 864x432 with 1 Axes>"
      ]
     },
     "metadata": {
      "needs_background": "light"
     },
     "output_type": "display_data"
    },
    {
     "data": {
      "image/png": "[encoded data removed]",
      "text/plain": [
       "<Figure size 864x432 with 1 Axes>"
      ]
     },
     "metadata": {
      "needs_background": "light"
     },
     "output_type": "display_data"
    },
    {
     "data": {
      "image/png": "[encoded data removed]",
      "text/plain": [
       "<Figure size 864x432 with 1 Axes>"
      ]
     },
     "metadata": {
      "needs_background": "light"
     },
     "output_type": "display_data"
    },
    {
     "data": {
      "image/png": "[encoded data removed]",
      "text/plain": [
       "<Figure size 864x432 with 1 Axes>"
      ]
     },
     "metadata": {
      "needs_background": "light"
     },
     "output_type": "display_data"
    },
    {
     "data": {
      "image/png": "[encoded data removed]",
      "text/plain": [
       "<Figure size 864x432 with 1 Axes>"
      ]
     },
     "metadata": {
      "needs_background": "light"
     },
     "output_type": "display_data"
    },
    {
     "data": {
      "image/png": "[encoded data removed]",
      "text/plain": [
       "<Figure size 864x432 with 1 Axes>"
      ]
     },
     "metadata": {
      "needs_background": "light"
     },
     "output_type": "display_data"
    },
    {
     "data": {
      "image/png": "[encoded data removed]",
      "text/plain": [
       "<Figure size 864x432 with 1 Axes>"
      ]
     },
     "metadata": {
      "needs_background": "light"
     },
     "output_type": "display_data"
    },
    {
     "data": {
      "image/png": "[encoded data removed]",
      "text/plain": [
       "<Figure size 864x432 with 1 Axes>"
      ]
     },
     "metadata": {
      "needs_background": "light"
     },
     "output_type": "display_data"
    },
    {
     "data": {
      "image/png": "[encoded data removed]",
      "text/plain": [
       "<Figure size 864x432 with 1 Axes>"
      ]
     },
     "metadata": {
      "needs_background": "light"
     },
     "output_type": "display_data"
    }
   ],
   "source": [
    "# train에서 각 변수와 quality 변수 사이 분포를 확인합니다.\n",
    "for i in range(11):\n",
    "    fig = plt.figure(figsize = (12,6))\n",
    "    sns.barplot(x = 'new_quality', \n",
    "                y = red_train.columns[i], \n",
    "                data = red_train)"
   ]
  },
  {
   "cell_type": "code",
   "execution_count": 30,
   "metadata": {},
   "outputs": [
    {
     "data": {
      "image/png": "[encoded data removed]",
      "text/plain": [
       "<Figure size 864x864 with 2 Axes>"
      ]
     },
     "metadata": {
      "needs_background": "light"
     },
     "output_type": "display_data"
    }
   ],
   "source": [
    "### train의 변수 간 상관관계\n",
    "\n",
    "# 사이즈 지정\n",
    "plt.figure(figsize = (12,12))\n",
    "\n",
    "corr = red_train.corr()\n",
    "\n",
    "# 삼각형 마스크 만들기(위 쪽 삼각형에 True, 아래 삼각형에 False)\n",
    "mask = np.zeros_like(corr, dtype = np.bool)\n",
    "mask[np.triu_indices_from(mask)] = True\n",
    "\n",
    "# 하삼각행렬만 시각화(밑에만)\n",
    "sns.heatmap(corr, \n",
    "            cmap = 'RdYlBu_r', \n",
    "            annot = True,   # 실제 값을 표시\n",
    "            mask = mask,      # 표시하지 않을 마스크 부분을 지정\n",
    "            linewidths = .5,  # 경계면을 실선으로 구분하기\n",
    "            vmin = -1,vmax = 1   # 컬러바 범위: -1 ~ 1(상관계수의 범위)\n",
    "           )  \n",
    "\n",
    "plt.title('Correlation Heatmap')\n",
    "plt.show()"
   ]
  },
  {
   "cell_type": "markdown",
   "metadata": {},
   "source": [
    "- target 변수(quality)와 상관도가 가장 높은 변수는 'alcohol'이다.\n",
    "    - 상관계수는 0.48로, 약한 양의 선형 상관관계를 가진다고 할 수 있다.\n",
    "    - 해당 변수에 이상치가 있다면 제거하는 것을 추후에 고려해 볼 수 있다.\n",
    "- '산도'와 관련된 변수들끼리 상관관계가 있다.\n",
    "    - fixed acidity,volatile acidity, citric acid, pH\n",
    "    - target 변수와의 상관도: volatile acidity > citric acid > fixed acidity > pH\n",
    "- total sulfur dioxide와 free sulfur dioxide 간 상관관계가 있다.\n",
    "    - 이름으로 보아 서로 관련있는 변수임을 짐작할 수 있다.\n",
    "- density와 fixed acidity 간 강한 상관관계가 있다.\n",
    "- alcohol과 density 간 상관관계가 있다."
   ]
  },
  {
   "cell_type": "markdown",
   "metadata": {},
   "source": [
    "# **3. 기본 Modeling**"
   ]
  },
  {
   "cell_type": "markdown",
   "metadata": {},
   "source": [
    "## **3-1. 데이터 준비**"
   ]
  },
  {
   "cell_type": "code",
   "execution_count": 31,
   "metadata": {},
   "outputs": [],
   "source": [
    "### feature / target 분리\n",
    "\n",
    "red_X = red_train.drop(['new_quality'], axis = 1)\n",
    "red_y = red_train['new_quality']"
   ]
  },
  {
   "cell_type": "code",
   "execution_count": 32,
   "metadata": {},
   "outputs": [
    {
     "data": {
      "text/html": [
       "<div>\n",
       "<style scoped>\n",
       "    .dataframe tbody tr th:only-of-type {\n",
       "        vertical-align: middle;\n",
       "    }\n",
       "\n",
       "    .dataframe tbody tr th {\n",
       "        vertical-align: top;\n",
       "    }\n",
       "\n",
       "    .dataframe thead th {\n",
       "        text-align: right;\n",
       "    }\n",
       "</style>\n",
       "<table border=\"1\" class=\"dataframe\">\n",
       "  <thead>\n",
       "    <tr style=\"text-align: right;\">\n",
       "      <th></th>\n",
       "      <th>fixed acidity</th>\n",
       "      <th>volatile acidity</th>\n",
       "      <th>citric acid</th>\n",
       "      <th>residual sugar</th>\n",
       "      <th>chlorides</th>\n",
       "      <th>free sulfur dioxide</th>\n",
       "      <th>total sulfur dioxide</th>\n",
       "      <th>density</th>\n",
       "      <th>pH</th>\n",
       "      <th>sulphates</th>\n",
       "      <th>alcohol</th>\n",
       "    </tr>\n",
       "  </thead>\n",
       "  <tbody>\n",
       "    <tr>\n",
       "      <th>0</th>\n",
       "      <td>8.8</td>\n",
       "      <td>0.61</td>\n",
       "      <td>0.14</td>\n",
       "      <td>2.4</td>\n",
       "      <td>0.067</td>\n",
       "      <td>10.0</td>\n",
       "      <td>42.0</td>\n",
       "      <td>0.99690</td>\n",
       "      <td>3.19</td>\n",
       "      <td>0.59</td>\n",
       "      <td>9.5</td>\n",
       "    </tr>\n",
       "    <tr>\n",
       "      <th>1</th>\n",
       "      <td>8.0</td>\n",
       "      <td>0.18</td>\n",
       "      <td>0.37</td>\n",
       "      <td>0.9</td>\n",
       "      <td>0.049</td>\n",
       "      <td>36.0</td>\n",
       "      <td>109.0</td>\n",
       "      <td>0.99007</td>\n",
       "      <td>2.89</td>\n",
       "      <td>0.44</td>\n",
       "      <td>12.7</td>\n",
       "    </tr>\n",
       "    <tr>\n",
       "      <th>2</th>\n",
       "      <td>12.5</td>\n",
       "      <td>0.38</td>\n",
       "      <td>0.60</td>\n",
       "      <td>2.6</td>\n",
       "      <td>0.081</td>\n",
       "      <td>31.0</td>\n",
       "      <td>72.0</td>\n",
       "      <td>0.99960</td>\n",
       "      <td>3.10</td>\n",
       "      <td>0.73</td>\n",
       "      <td>10.5</td>\n",
       "    </tr>\n",
       "    <tr>\n",
       "      <th>3</th>\n",
       "      <td>8.8</td>\n",
       "      <td>0.37</td>\n",
       "      <td>0.48</td>\n",
       "      <td>2.1</td>\n",
       "      <td>0.097</td>\n",
       "      <td>39.0</td>\n",
       "      <td>145.0</td>\n",
       "      <td>0.99750</td>\n",
       "      <td>3.04</td>\n",
       "      <td>1.03</td>\n",
       "      <td>9.3</td>\n",
       "    </tr>\n",
       "    <tr>\n",
       "      <th>4</th>\n",
       "      <td>7.2</td>\n",
       "      <td>0.56</td>\n",
       "      <td>0.26</td>\n",
       "      <td>2.0</td>\n",
       "      <td>0.083</td>\n",
       "      <td>13.0</td>\n",
       "      <td>100.0</td>\n",
       "      <td>0.99586</td>\n",
       "      <td>3.26</td>\n",
       "      <td>0.52</td>\n",
       "      <td>9.9</td>\n",
       "    </tr>\n",
       "  </tbody>\n",
       "</table>\n",
       "</div>"
      ],
      "text/plain": [
       "   fixed acidity  volatile acidity  citric acid  residual sugar  chlorides  \\\n",
       "0            8.8              0.61         0.14             2.4      0.067   \n",
       "1            8.0              0.18         0.37             0.9      0.049   \n",
       "2           12.5              0.38         0.60             2.6      0.081   \n",
       "3            8.8              0.37         0.48             2.1      0.097   \n",
       "4            7.2              0.56         0.26             2.0      0.083   \n",
       "\n",
       "   free sulfur dioxide  total sulfur dioxide  density    pH  sulphates  \\\n",
       "0                 10.0                  42.0  0.99690  3.19       0.59   \n",
       "1                 36.0                 109.0  0.99007  2.89       0.44   \n",
       "2                 31.0                  72.0  0.99960  3.10       0.73   \n",
       "3                 39.0                 145.0  0.99750  3.04       1.03   \n",
       "4                 13.0                 100.0  0.99586  3.26       0.52   \n",
       "\n",
       "   alcohol  \n",
       "0      9.5  \n",
       "1     12.7  \n",
       "2     10.5  \n",
       "3      9.3  \n",
       "4      9.9  "
      ]
     },
     "execution_count": 32,
     "metadata": {},
     "output_type": "execute_result"
    }
   ],
   "source": [
    "red_X.head()"
   ]
  },
  {
   "cell_type": "code",
   "execution_count": 33,
   "metadata": {},
   "outputs": [
    {
     "data": {
      "text/plain": [
       "0    1\n",
       "1    2\n",
       "2    1\n",
       "3    1\n",
       "4    1\n",
       "Name: new_quality, dtype: int64"
      ]
     },
     "execution_count": 33,
     "metadata": {},
     "output_type": "execute_result"
    }
   ],
   "source": [
    "red_y.head()"
   ]
  },
  {
   "cell_type": "code",
   "execution_count": 34,
   "metadata": {},
   "outputs": [
    {
     "data": {
      "text/plain": [
       "((1338, 11), (1338,))"
      ]
     },
     "execution_count": 34,
     "metadata": {},
     "output_type": "execute_result"
    }
   ],
   "source": [
    "red_X.shape, red_y.shape"
   ]
  },
  {
   "cell_type": "code",
   "execution_count": 35,
   "metadata": {},
   "outputs": [
    {
     "data": {
      "text/html": [
       "<div>\n",
       "<style scoped>\n",
       "    .dataframe tbody tr th:only-of-type {\n",
       "        vertical-align: middle;\n",
       "    }\n",
       "\n",
       "    .dataframe tbody tr th {\n",
       "        vertical-align: top;\n",
       "    }\n",
       "\n",
       "    .dataframe thead th {\n",
       "        text-align: right;\n",
       "    }\n",
       "</style>\n",
       "<table border=\"1\" class=\"dataframe\">\n",
       "  <thead>\n",
       "    <tr style=\"text-align: right;\">\n",
       "      <th></th>\n",
       "      <th>fixed acidity</th>\n",
       "      <th>volatile acidity</th>\n",
       "      <th>citric acid</th>\n",
       "      <th>residual sugar</th>\n",
       "      <th>chlorides</th>\n",
       "      <th>free sulfur dioxide</th>\n",
       "      <th>total sulfur dioxide</th>\n",
       "      <th>density</th>\n",
       "      <th>pH</th>\n",
       "      <th>sulphates</th>\n",
       "      <th>alcohol</th>\n",
       "    </tr>\n",
       "  </thead>\n",
       "  <tbody>\n",
       "    <tr>\n",
       "      <th>0</th>\n",
       "      <td>0.284704</td>\n",
       "      <td>0.472976</td>\n",
       "      <td>-0.673610</td>\n",
       "      <td>-0.096298</td>\n",
       "      <td>-0.440110</td>\n",
       "      <td>-0.563086</td>\n",
       "      <td>-0.129865</td>\n",
       "      <td>0.086734</td>\n",
       "      <td>-0.804520</td>\n",
       "      <td>-0.394631</td>\n",
       "      <td>-0.876321</td>\n",
       "    </tr>\n",
       "    <tr>\n",
       "      <th>1</th>\n",
       "      <td>-0.178156</td>\n",
       "      <td>-1.944704</td>\n",
       "      <td>0.516861</td>\n",
       "      <td>-1.166156</td>\n",
       "      <td>-0.826478</td>\n",
       "      <td>1.949567</td>\n",
       "      <td>1.977642</td>\n",
       "      <td>-3.534675</td>\n",
       "      <td>-2.767887</td>\n",
       "      <td>-1.258249</td>\n",
       "      <td>2.128289</td>\n",
       "    </tr>\n",
       "    <tr>\n",
       "      <th>2</th>\n",
       "      <td>2.425434</td>\n",
       "      <td>-0.820202</td>\n",
       "      <td>1.707333</td>\n",
       "      <td>0.046350</td>\n",
       "      <td>-0.139602</td>\n",
       "      <td>1.466364</td>\n",
       "      <td>0.813795</td>\n",
       "      <td>1.518330</td>\n",
       "      <td>-1.393530</td>\n",
       "      <td>0.411413</td>\n",
       "      <td>0.062619</td>\n",
       "    </tr>\n",
       "    <tr>\n",
       "      <th>3</th>\n",
       "      <td>0.284704</td>\n",
       "      <td>-0.876427</td>\n",
       "      <td>1.086218</td>\n",
       "      <td>-0.310269</td>\n",
       "      <td>0.203836</td>\n",
       "      <td>2.239488</td>\n",
       "      <td>3.110034</td>\n",
       "      <td>0.404866</td>\n",
       "      <td>-1.786204</td>\n",
       "      <td>2.138650</td>\n",
       "      <td>-1.064109</td>\n",
       "    </tr>\n",
       "    <tr>\n",
       "      <th>4</th>\n",
       "      <td>-0.641017</td>\n",
       "      <td>0.191850</td>\n",
       "      <td>-0.052495</td>\n",
       "      <td>-0.381593</td>\n",
       "      <td>-0.096672</td>\n",
       "      <td>-0.273165</td>\n",
       "      <td>1.694544</td>\n",
       "      <td>-0.464696</td>\n",
       "      <td>-0.346402</td>\n",
       "      <td>-0.797653</td>\n",
       "      <td>-0.500745</td>\n",
       "    </tr>\n",
       "  </tbody>\n",
       "</table>\n",
       "</div>"
      ],
      "text/plain": [
       "   fixed acidity  volatile acidity  citric acid  residual sugar  chlorides  \\\n",
       "0       0.284704          0.472976    -0.673610       -0.096298  -0.440110   \n",
       "1      -0.178156         -1.944704     0.516861       -1.166156  -0.826478   \n",
       "2       2.425434         -0.820202     1.707333        0.046350  -0.139602   \n",
       "3       0.284704         -0.876427     1.086218       -0.310269   0.203836   \n",
       "4      -0.641017          0.191850    -0.052495       -0.381593  -0.096672   \n",
       "\n",
       "   free sulfur dioxide  total sulfur dioxide   density        pH  sulphates  \\\n",
       "0            -0.563086             -0.129865  0.086734 -0.804520  -0.394631   \n",
       "1             1.949567              1.977642 -3.534675 -2.767887  -1.258249   \n",
       "2             1.466364              0.813795  1.518330 -1.393530   0.411413   \n",
       "3             2.239488              3.110034  0.404866 -1.786204   2.138650   \n",
       "4            -0.273165              1.694544 -0.464696 -0.346402  -0.797653   \n",
       "\n",
       "    alcohol  \n",
       "0 -0.876321  \n",
       "1  2.128289  \n",
       "2  0.062619  \n",
       "3 -1.064109  \n",
       "4 -0.500745  "
      ]
     },
     "execution_count": 35,
     "metadata": {},
     "output_type": "execute_result"
    }
   ],
   "source": [
    "### 표준화\n",
    "# 데이터 간의 스케일 차이 조정\n",
    "\n",
    "from sklearn.preprocessing import StandardScaler\n",
    "\n",
    "colname = red_X.columns\n",
    "scaler = StandardScaler() \n",
    "red_X = scaler.fit_transform(red_X)\n",
    "red_X = pd.DataFrame(red_X, columns = colname)\n",
    "red_X.head()"
   ]
  },
  {
   "cell_type": "code",
   "execution_count": 36,
   "metadata": {},
   "outputs": [
    {
     "data": {
      "text/html": [
       "<div>\n",
       "<style scoped>\n",
       "    .dataframe tbody tr th:only-of-type {\n",
       "        vertical-align: middle;\n",
       "    }\n",
       "\n",
       "    .dataframe tbody tr th {\n",
       "        vertical-align: top;\n",
       "    }\n",
       "\n",
       "    .dataframe thead th {\n",
       "        text-align: right;\n",
       "    }\n",
       "</style>\n",
       "<table border=\"1\" class=\"dataframe\">\n",
       "  <thead>\n",
       "    <tr style=\"text-align: right;\">\n",
       "      <th></th>\n",
       "      <th>fixed acidity</th>\n",
       "      <th>volatile acidity</th>\n",
       "      <th>citric acid</th>\n",
       "      <th>residual sugar</th>\n",
       "      <th>chlorides</th>\n",
       "      <th>free sulfur dioxide</th>\n",
       "      <th>total sulfur dioxide</th>\n",
       "      <th>density</th>\n",
       "      <th>pH</th>\n",
       "      <th>sulphates</th>\n",
       "      <th>alcohol</th>\n",
       "    </tr>\n",
       "  </thead>\n",
       "  <tbody>\n",
       "    <tr>\n",
       "      <th>0</th>\n",
       "      <td>2.888294</td>\n",
       "      <td>-0.539076</td>\n",
       "      <td>1.603814</td>\n",
       "      <td>-0.452917</td>\n",
       "      <td>-0.375715</td>\n",
       "      <td>-0.079884</td>\n",
       "      <td>-0.192776</td>\n",
       "      <td>1.942507</td>\n",
       "      <td>-1.655312</td>\n",
       "      <td>-0.970377</td>\n",
       "      <td>-1.345791</td>\n",
       "    </tr>\n",
       "    <tr>\n",
       "      <th>1</th>\n",
       "      <td>-1.277450</td>\n",
       "      <td>-0.707752</td>\n",
       "      <td>-0.570091</td>\n",
       "      <td>-0.524241</td>\n",
       "      <td>-0.397180</td>\n",
       "      <td>-0.466446</td>\n",
       "      <td>-0.664605</td>\n",
       "      <td>-0.655576</td>\n",
       "      <td>0.700727</td>\n",
       "      <td>0.468987</td>\n",
       "      <td>-0.312957</td>\n",
       "    </tr>\n",
       "    <tr>\n",
       "      <th>2</th>\n",
       "      <td>-0.293871</td>\n",
       "      <td>-0.482851</td>\n",
       "      <td>0.051025</td>\n",
       "      <td>0.117674</td>\n",
       "      <td>0.268231</td>\n",
       "      <td>0.210038</td>\n",
       "      <td>1.537267</td>\n",
       "      <td>-0.072333</td>\n",
       "      <td>-0.608184</td>\n",
       "      <td>0.065965</td>\n",
       "      <td>-0.970215</td>\n",
       "    </tr>\n",
       "    <tr>\n",
       "      <th>3</th>\n",
       "      <td>-0.293871</td>\n",
       "      <td>0.360526</td>\n",
       "      <td>-0.466572</td>\n",
       "      <td>-0.167622</td>\n",
       "      <td>-0.246926</td>\n",
       "      <td>0.113397</td>\n",
       "      <td>0.247599</td>\n",
       "      <td>0.404866</td>\n",
       "      <td>0.766173</td>\n",
       "      <td>-0.394631</td>\n",
       "      <td>-0.406851</td>\n",
       "    </tr>\n",
       "    <tr>\n",
       "      <th>4</th>\n",
       "      <td>-0.525302</td>\n",
       "      <td>-0.201725</td>\n",
       "      <td>-0.000735</td>\n",
       "      <td>-0.310269</td>\n",
       "      <td>-0.354251</td>\n",
       "      <td>-0.176524</td>\n",
       "      <td>-0.664605</td>\n",
       "      <td>-1.514534</td>\n",
       "      <td>0.242608</td>\n",
       "      <td>-0.164333</td>\n",
       "      <td>1.471030</td>\n",
       "    </tr>\n",
       "  </tbody>\n",
       "</table>\n",
       "</div>"
      ],
      "text/plain": [
       "   fixed acidity  volatile acidity  citric acid  residual sugar  chlorides  \\\n",
       "0       2.888294         -0.539076     1.603814       -0.452917  -0.375715   \n",
       "1      -1.277450         -0.707752    -0.570091       -0.524241  -0.397180   \n",
       "2      -0.293871         -0.482851     0.051025        0.117674   0.268231   \n",
       "3      -0.293871          0.360526    -0.466572       -0.167622  -0.246926   \n",
       "4      -0.525302         -0.201725    -0.000735       -0.310269  -0.354251   \n",
       "\n",
       "   free sulfur dioxide  total sulfur dioxide   density        pH  sulphates  \\\n",
       "0            -0.079884             -0.192776  1.942507 -1.655312  -0.970377   \n",
       "1            -0.466446             -0.664605 -0.655576  0.700727   0.468987   \n",
       "2             0.210038              1.537267 -0.072333 -0.608184   0.065965   \n",
       "3             0.113397              0.247599  0.404866  0.766173  -0.394631   \n",
       "4            -0.176524             -0.664605 -1.514534  0.242608  -0.164333   \n",
       "\n",
       "    alcohol  \n",
       "0 -1.345791  \n",
       "1 -0.312957  \n",
       "2 -0.970215  \n",
       "3 -0.406851  \n",
       "4  1.471030  "
      ]
     },
     "execution_count": 36,
     "metadata": {},
     "output_type": "execute_result"
    }
   ],
   "source": [
    "red_test = scaler.transform(red_test)\n",
    "red_test = pd.DataFrame(red_test, columns = colname)\n",
    "red_test.head()"
   ]
  },
  {
   "cell_type": "markdown",
   "metadata": {},
   "source": [
    "- 제대로 표준화되었음을 확인할 수 있다."
   ]
  },
  {
   "cell_type": "code",
   "execution_count": 37,
   "metadata": {},
   "outputs": [],
   "source": [
    "### 교차 검증\n",
    "# target 변수의 클래스가 불균형함\n",
    "# target의 속성값의 개수를 동일하게 가져오기 위해 StratifiedKFold 활용\n",
    "\n",
    "from sklearn.model_selection import StratifiedKFold\n",
    "\n",
    "n_splits = 5 # 폴드 수 지정\n",
    "skf = StratifiedKFold(n_splits = n_splits, \n",
    "                      random_state = 0, shuffle = True)"
   ]
  },
  {
   "cell_type": "markdown",
   "metadata": {},
   "source": [
    "## **3-2. 기본 단일 모델** "
   ]
  },
  {
   "cell_type": "markdown",
   "metadata": {},
   "source": [
    "**📌 a) 선형 알고리즘(Linear Algorithm)**  \n",
    "- LDA(Linear Discriminant Analysis)\n",
    "- 경사하강법(SGDClassifier)\n",
    "\n",
    "**📌 b) 비선형 알고리즘(Non-linear Algorithm)**\n",
    "- 최소 근접 알고리즘(k-Nearest Neighbors)\n",
    "- 결정 트리(Decision Tree)\n",
    "- 가우시안 나이브 베이즈(Gaussian Naive Bayes)\n",
    "- 서포트 벡터 머신(SVC)"
   ]
  },
  {
   "cell_type": "code",
   "execution_count": 38,
   "metadata": {},
   "outputs": [],
   "source": [
    "from sklearn.model_selection import cross_val_score\n",
    "from sklearn.metrics import accuracy_score\n",
    "\n",
    "from sklearn.discriminant_analysis import LinearDiscriminantAnalysis\n",
    "from sklearn.linear_model import SGDClassifier\n",
    "\n",
    "from sklearn.neighbors import KNeighborsClassifier\n",
    "from sklearn.tree import DecisionTreeClassifier\n",
    "from sklearn.naive_bayes import GaussianNB\n",
    "from sklearn.svm import SVC"
   ]
  },
  {
   "cell_type": "code",
   "execution_count": 39,
   "metadata": {},
   "outputs": [],
   "source": [
    "### 활용할 모델 정의\n",
    "\n",
    "red_models = []\n",
    "\n",
    "red_models.append(('LDA', LinearDiscriminantAnalysis()))\n",
    "red_models.append(('SGD', SGDClassifier()))\n",
    "red_models.append(('KNN', KNeighborsClassifier()))\n",
    "red_models.append(('DT', DecisionTreeClassifier(random_state = 0)))\n",
    "red_models.append(('NB', GaussianNB()))\n",
    "red_models.append(('SVC', SVC(random_state = 0)))"
   ]
  },
  {
   "cell_type": "code",
   "execution_count": 40,
   "metadata": {},
   "outputs": [
    {
     "name": "stdout",
     "output_type": "stream",
     "text": [
      "LDA: 0.594\n",
      "SGD: 0.534\n",
      "KNN: 0.585\n",
      "DT: 0.589\n",
      "NB: 0.555\n",
      "SVC: 0.617\n",
      "\n",
      "모든 모델의 평균 메트릭(정확도): 0.579\n"
     ]
    }
   ],
   "source": [
    "### 순차적으로 modeling + 학습/예측/검증\n",
    "\n",
    "red_results = []\n",
    "red_names = []\n",
    "red_metrics = []\n",
    "\n",
    "for name, model in red_models:\n",
    "    cv_results = cross_val_score(model, red_X, red_y, \n",
    "                                 cv = skf, scoring = 'accuracy')\n",
    "    red_results.append(cv_results)\n",
    "    red_names.append(name)\n",
    "    red_metrics.append(cv_results.mean())\n",
    "    msg = \"%s: %.3f\" % (name, cv_results.mean())\n",
    "    print(msg)\n",
    "\n",
    "print()\n",
    "print('모든 모델의 평균 메트릭(정확도):',round(np.mean(red_metrics),3))"
   ]
  },
  {
   "cell_type": "markdown",
   "metadata": {},
   "source": [
    "## **3-3. 기본 앙상블 모델 생성**"
   ]
  },
  {
   "cell_type": "code",
   "execution_count": 41,
   "metadata": {},
   "outputs": [],
   "source": [
    "from sklearn.ensemble import RandomForestClassifier\n",
    "from sklearn.ensemble import BaggingClassifier \n",
    "from sklearn.ensemble import GradientBoostingClassifier\n",
    "from xgboost import XGBClassifier\n",
    "from lightgbm import LGBMClassifier\n",
    "from sklearn.ensemble import AdaBoostClassifier\n",
    "from sklearn.ensemble import ExtraTreesClassifier"
   ]
  },
  {
   "cell_type": "code",
   "execution_count": 42,
   "metadata": {},
   "outputs": [],
   "source": [
    "red_ensemble = []\n",
    "\n",
    "red_ensemble.append(('RF', RandomForestClassifier(random_state = 0)))\n",
    "red_ensemble.append(('Bagging',BaggingClassifier(DecisionTreeClassifier(), random_state = 0)))\n",
    "red_ensemble.append(('GB', GradientBoostingClassifier(random_state = 0)))\n",
    "red_ensemble.append(('XGB', XGBClassifier(random_state = 0)))\n",
    "red_ensemble.append(('LGBM', LGBMClassifier(random_state = 0)))\n",
    "red_ensemble.append(('Ada', AdaBoostClassifier(random_state = 0)))\n",
    "red_ensemble.append(('ET', ExtraTreesClassifier(random_state = 0)))"
   ]
  },
  {
   "cell_type": "code",
   "execution_count": 43,
   "metadata": {},
   "outputs": [
    {
     "name": "stdout",
     "output_type": "stream",
     "text": [
      "RF: 0.676\n",
      "Bagging: 0.652\n",
      "GB: 0.652\n",
      "XGB: 0.651\n",
      "LGBM: 0.663\n",
      "Ada: 0.498\n",
      "ET: 0.685\n",
      "\n",
      "모든 모델의 평균 메트릭(정확도): 0.639\n"
     ]
    }
   ],
   "source": [
    "### 순차적으로 modeling + 학습/예측/검증\n",
    "\n",
    "red_en_results = []\n",
    "red_en_names = []\n",
    "red_en_metrics = []\n",
    "\n",
    "for name, model in red_ensemble:\n",
    "    cv_results = cross_val_score(model, red_X, red_y, \n",
    "                                 cv = skf, scoring = 'accuracy', error_score=\"raise\")\n",
    "    red_en_results.append(cv_results)\n",
    "    red_en_names.append(name)\n",
    "    red_en_metrics.append(cv_results.mean())\n",
    "    msg = \"%s: %.3f\" % (name, cv_results.mean())\n",
    "    print(msg)\n",
    "\n",
    "print()\n",
    "print('모든 모델의 평균 메트릭(정확도):',round(np.mean(red_en_metrics),3))"
   ]
  },
  {
   "cell_type": "markdown",
   "metadata": {},
   "source": [
    "# **4. 데이터 변환**\n",
    "- 왜곡이 심한 변수들에 대해 로그 변환 수행\n",
    "    - 왜도(skewness)가 1 이상인 변수들만 변환"
   ]
  },
  {
   "cell_type": "code",
   "execution_count": 44,
   "metadata": {},
   "outputs": [
    {
     "data": {
      "text/html": [
       "<div>\n",
       "<style scoped>\n",
       "    .dataframe tbody tr th:only-of-type {\n",
       "        vertical-align: middle;\n",
       "    }\n",
       "\n",
       "    .dataframe tbody tr th {\n",
       "        vertical-align: top;\n",
       "    }\n",
       "\n",
       "    .dataframe thead th {\n",
       "        text-align: right;\n",
       "    }\n",
       "</style>\n",
       "<table border=\"1\" class=\"dataframe\">\n",
       "  <thead>\n",
       "    <tr style=\"text-align: right;\">\n",
       "      <th></th>\n",
       "      <th>fixed acidity</th>\n",
       "      <th>volatile acidity</th>\n",
       "      <th>citric acid</th>\n",
       "      <th>residual sugar</th>\n",
       "      <th>chlorides</th>\n",
       "      <th>free sulfur dioxide</th>\n",
       "      <th>total sulfur dioxide</th>\n",
       "      <th>density</th>\n",
       "      <th>pH</th>\n",
       "      <th>sulphates</th>\n",
       "      <th>alcohol</th>\n",
       "      <th>new_quality</th>\n",
       "    </tr>\n",
       "  </thead>\n",
       "  <tbody>\n",
       "    <tr>\n",
       "      <th>0</th>\n",
       "      <td>8.8</td>\n",
       "      <td>0.61</td>\n",
       "      <td>0.14</td>\n",
       "      <td>2.4</td>\n",
       "      <td>0.067</td>\n",
       "      <td>10.0</td>\n",
       "      <td>42.0</td>\n",
       "      <td>0.99690</td>\n",
       "      <td>3.19</td>\n",
       "      <td>0.59</td>\n",
       "      <td>9.5</td>\n",
       "      <td>1</td>\n",
       "    </tr>\n",
       "    <tr>\n",
       "      <th>1</th>\n",
       "      <td>8.0</td>\n",
       "      <td>0.18</td>\n",
       "      <td>0.37</td>\n",
       "      <td>0.9</td>\n",
       "      <td>0.049</td>\n",
       "      <td>36.0</td>\n",
       "      <td>109.0</td>\n",
       "      <td>0.99007</td>\n",
       "      <td>2.89</td>\n",
       "      <td>0.44</td>\n",
       "      <td>12.7</td>\n",
       "      <td>2</td>\n",
       "    </tr>\n",
       "    <tr>\n",
       "      <th>2</th>\n",
       "      <td>12.5</td>\n",
       "      <td>0.38</td>\n",
       "      <td>0.60</td>\n",
       "      <td>2.6</td>\n",
       "      <td>0.081</td>\n",
       "      <td>31.0</td>\n",
       "      <td>72.0</td>\n",
       "      <td>0.99960</td>\n",
       "      <td>3.10</td>\n",
       "      <td>0.73</td>\n",
       "      <td>10.5</td>\n",
       "      <td>1</td>\n",
       "    </tr>\n",
       "    <tr>\n",
       "      <th>3</th>\n",
       "      <td>8.8</td>\n",
       "      <td>0.37</td>\n",
       "      <td>0.48</td>\n",
       "      <td>2.1</td>\n",
       "      <td>0.097</td>\n",
       "      <td>39.0</td>\n",
       "      <td>145.0</td>\n",
       "      <td>0.99750</td>\n",
       "      <td>3.04</td>\n",
       "      <td>1.03</td>\n",
       "      <td>9.3</td>\n",
       "      <td>1</td>\n",
       "    </tr>\n",
       "    <tr>\n",
       "      <th>4</th>\n",
       "      <td>7.2</td>\n",
       "      <td>0.56</td>\n",
       "      <td>0.26</td>\n",
       "      <td>2.0</td>\n",
       "      <td>0.083</td>\n",
       "      <td>13.0</td>\n",
       "      <td>100.0</td>\n",
       "      <td>0.99586</td>\n",
       "      <td>3.26</td>\n",
       "      <td>0.52</td>\n",
       "      <td>9.9</td>\n",
       "      <td>1</td>\n",
       "    </tr>\n",
       "  </tbody>\n",
       "</table>\n",
       "</div>"
      ],
      "text/plain": [
       "   fixed acidity  volatile acidity  citric acid  residual sugar  chlorides  \\\n",
       "0            8.8              0.61         0.14             2.4      0.067   \n",
       "1            8.0              0.18         0.37             0.9      0.049   \n",
       "2           12.5              0.38         0.60             2.6      0.081   \n",
       "3            8.8              0.37         0.48             2.1      0.097   \n",
       "4            7.2              0.56         0.26             2.0      0.083   \n",
       "\n",
       "   free sulfur dioxide  total sulfur dioxide  density    pH  sulphates  \\\n",
       "0                 10.0                  42.0  0.99690  3.19       0.59   \n",
       "1                 36.0                 109.0  0.99007  2.89       0.44   \n",
       "2                 31.0                  72.0  0.99960  3.10       0.73   \n",
       "3                 39.0                 145.0  0.99750  3.04       1.03   \n",
       "4                 13.0                 100.0  0.99586  3.26       0.52   \n",
       "\n",
       "   alcohol  new_quality  \n",
       "0      9.5            1  \n",
       "1     12.7            2  \n",
       "2     10.5            1  \n",
       "3      9.3            1  \n",
       "4      9.9            1  "
      ]
     },
     "execution_count": 44,
     "metadata": {},
     "output_type": "execute_result"
    }
   ],
   "source": [
    "### 원본 데이터 유지를 위해 복사본 활용\n",
    "\n",
    "red_train_2nd = red_train.copy()\n",
    "red_train_2nd.head()"
   ]
  },
  {
   "cell_type": "code",
   "execution_count": 45,
   "metadata": {},
   "outputs": [
    {
     "name": "stdout",
     "output_type": "stream",
     "text": [
      "전체 왜곡 정도: 1.517559\n"
     ]
    }
   ],
   "source": [
    "### 각 변수들의 왜도(skewness) 확인\n",
    "# 왜도 측정은 표준화되지 않은 원본 데이터로 수행\n",
    "\n",
    "from scipy.stats import skew\n",
    "\n",
    "features_idx = red_train_2nd.dtypes[red_train_2nd.dtypes != 'object'].index\n",
    "skew_features = red_train_2nd[features_idx].apply(lambda x:skew(x))\n",
    "print('전체 왜곡 정도: %f' %skew_features.mean())"
   ]
  },
  {
   "cell_type": "code",
   "execution_count": 46,
   "metadata": {},
   "outputs": [
    {
     "name": "stdout",
     "output_type": "stream",
     "text": [
      "chlorides               5.355371\n",
      "residual sugar          4.566830\n",
      "sulphates               2.556867\n",
      "free sulfur dioxide     1.254573\n",
      "total sulfur dioxide    1.185168\n",
      "dtype: float64\n"
     ]
    }
   ],
   "source": [
    "### 왜도가 1 이상인 변수 파악\n",
    "\n",
    "skew_features_top = skew_features[skew_features > 1]\n",
    "print(skew_features_top.sort_values(ascending = False))"
   ]
  },
  {
   "cell_type": "code",
   "execution_count": 47,
   "metadata": {},
   "outputs": [
    {
     "data": {
      "text/html": [
       "<div>\n",
       "<style scoped>\n",
       "    .dataframe tbody tr th:only-of-type {\n",
       "        vertical-align: middle;\n",
       "    }\n",
       "\n",
       "    .dataframe tbody tr th {\n",
       "        vertical-align: top;\n",
       "    }\n",
       "\n",
       "    .dataframe thead th {\n",
       "        text-align: right;\n",
       "    }\n",
       "</style>\n",
       "<table border=\"1\" class=\"dataframe\">\n",
       "  <thead>\n",
       "    <tr style=\"text-align: right;\">\n",
       "      <th></th>\n",
       "      <th>fixed acidity</th>\n",
       "      <th>volatile acidity</th>\n",
       "      <th>citric acid</th>\n",
       "      <th>residual sugar</th>\n",
       "      <th>chlorides</th>\n",
       "      <th>free sulfur dioxide</th>\n",
       "      <th>total sulfur dioxide</th>\n",
       "      <th>density</th>\n",
       "      <th>pH</th>\n",
       "      <th>sulphates</th>\n",
       "      <th>alcohol</th>\n",
       "      <th>new_quality</th>\n",
       "    </tr>\n",
       "  </thead>\n",
       "  <tbody>\n",
       "    <tr>\n",
       "      <th>0</th>\n",
       "      <td>8.8</td>\n",
       "      <td>0.61</td>\n",
       "      <td>0.14</td>\n",
       "      <td>1.223775</td>\n",
       "      <td>0.064851</td>\n",
       "      <td>2.397895</td>\n",
       "      <td>3.761200</td>\n",
       "      <td>0.99690</td>\n",
       "      <td>3.19</td>\n",
       "      <td>0.463734</td>\n",
       "      <td>9.5</td>\n",
       "      <td>1</td>\n",
       "    </tr>\n",
       "    <tr>\n",
       "      <th>1</th>\n",
       "      <td>8.0</td>\n",
       "      <td>0.18</td>\n",
       "      <td>0.37</td>\n",
       "      <td>0.641854</td>\n",
       "      <td>0.047837</td>\n",
       "      <td>3.610918</td>\n",
       "      <td>4.700480</td>\n",
       "      <td>0.99007</td>\n",
       "      <td>2.89</td>\n",
       "      <td>0.364643</td>\n",
       "      <td>12.7</td>\n",
       "      <td>2</td>\n",
       "    </tr>\n",
       "    <tr>\n",
       "      <th>2</th>\n",
       "      <td>12.5</td>\n",
       "      <td>0.38</td>\n",
       "      <td>0.60</td>\n",
       "      <td>1.280934</td>\n",
       "      <td>0.077887</td>\n",
       "      <td>3.465736</td>\n",
       "      <td>4.290459</td>\n",
       "      <td>0.99960</td>\n",
       "      <td>3.10</td>\n",
       "      <td>0.548121</td>\n",
       "      <td>10.5</td>\n",
       "      <td>1</td>\n",
       "    </tr>\n",
       "    <tr>\n",
       "      <th>3</th>\n",
       "      <td>8.8</td>\n",
       "      <td>0.37</td>\n",
       "      <td>0.48</td>\n",
       "      <td>1.131402</td>\n",
       "      <td>0.092579</td>\n",
       "      <td>3.688879</td>\n",
       "      <td>4.983607</td>\n",
       "      <td>0.99750</td>\n",
       "      <td>3.04</td>\n",
       "      <td>0.708036</td>\n",
       "      <td>9.3</td>\n",
       "      <td>1</td>\n",
       "    </tr>\n",
       "    <tr>\n",
       "      <th>4</th>\n",
       "      <td>7.2</td>\n",
       "      <td>0.56</td>\n",
       "      <td>0.26</td>\n",
       "      <td>1.098612</td>\n",
       "      <td>0.079735</td>\n",
       "      <td>2.639057</td>\n",
       "      <td>4.615121</td>\n",
       "      <td>0.99586</td>\n",
       "      <td>3.26</td>\n",
       "      <td>0.418710</td>\n",
       "      <td>9.9</td>\n",
       "      <td>1</td>\n",
       "    </tr>\n",
       "  </tbody>\n",
       "</table>\n",
       "</div>"
      ],
      "text/plain": [
       "   fixed acidity  volatile acidity  citric acid  residual sugar  chlorides  \\\n",
       "0            8.8              0.61         0.14        1.223775   0.064851   \n",
       "1            8.0              0.18         0.37        0.641854   0.047837   \n",
       "2           12.5              0.38         0.60        1.280934   0.077887   \n",
       "3            8.8              0.37         0.48        1.131402   0.092579   \n",
       "4            7.2              0.56         0.26        1.098612   0.079735   \n",
       "\n",
       "   free sulfur dioxide  total sulfur dioxide  density    pH  sulphates  \\\n",
       "0             2.397895              3.761200  0.99690  3.19   0.463734   \n",
       "1             3.610918              4.700480  0.99007  2.89   0.364643   \n",
       "2             3.465736              4.290459  0.99960  3.10   0.548121   \n",
       "3             3.688879              4.983607  0.99750  3.04   0.708036   \n",
       "4             2.639057              4.615121  0.99586  3.26   0.418710   \n",
       "\n",
       "   alcohol  new_quality  \n",
       "0      9.5            1  \n",
       "1     12.7            2  \n",
       "2     10.5            1  \n",
       "3      9.3            1  \n",
       "4      9.9            1  "
      ]
     },
     "execution_count": 47,
     "metadata": {},
     "output_type": "execute_result"
    }
   ],
   "source": [
    "### 로그 변환 적용\n",
    "# 데이터를 변환하기 위해서는 데이터가 양수여야 함\n",
    "# 따라서, 모든 데이터에 1을 더해준 후 로그 변환 수행\n",
    "\n",
    "from scipy import stats\n",
    "\n",
    "skewed = list(skew_features_top.index)\n",
    "\n",
    "for ftr in skewed:\n",
    "    red_train_2nd[ftr] = np.log1p(red_train_2nd[ftr])\n",
    "\n",
    "red_train_2nd.head()"
   ]
  },
  {
   "cell_type": "code",
   "execution_count": 48,
   "metadata": {},
   "outputs": [
    {
     "name": "stdout",
     "output_type": "stream",
     "text": [
      "전체 왜곡 정도: 0.995577\n"
     ]
    }
   ],
   "source": [
    "### 각 변수들의 왜도(skewness) 확인\n",
    "\n",
    "features_idx = red_train_2nd.dtypes[red_train_2nd.dtypes != 'object'].index\n",
    "skew_features = red_train_2nd[features_idx].apply(lambda x:skew(x))\n",
    "print('전체 왜곡 정도: %f' %skew_features.mean())"
   ]
  },
  {
   "cell_type": "code",
   "execution_count": 49,
   "metadata": {},
   "outputs": [
    {
     "name": "stdout",
     "output_type": "stream",
     "text": [
      "chlorides         4.831316\n",
      "residual sugar    2.251827\n",
      "sulphates         1.722156\n",
      "dtype: float64\n"
     ]
    }
   ],
   "source": [
    "### 왜도가 1 이상인 변수 파악\n",
    "\n",
    "skew_features_top = skew_features[skew_features > 1]\n",
    "print(skew_features_top.sort_values(ascending = False))"
   ]
  },
  {
   "cell_type": "markdown",
   "metadata": {},
   "source": [
    "- 데이터 왜곡 정도가 완화됨"
   ]
  },
  {
   "cell_type": "code",
   "execution_count": 50,
   "metadata": {},
   "outputs": [],
   "source": [
    "### feature / target 분리\n",
    "\n",
    "red_X_2nd = red_train_2nd.drop(['new_quality'], axis = 1)\n",
    "red_y_2nd = red_train_2nd['new_quality']"
   ]
  },
  {
   "cell_type": "code",
   "execution_count": 51,
   "metadata": {},
   "outputs": [
    {
     "data": {
      "text/html": [
       "<div>\n",
       "<style scoped>\n",
       "    .dataframe tbody tr th:only-of-type {\n",
       "        vertical-align: middle;\n",
       "    }\n",
       "\n",
       "    .dataframe tbody tr th {\n",
       "        vertical-align: top;\n",
       "    }\n",
       "\n",
       "    .dataframe thead th {\n",
       "        text-align: right;\n",
       "    }\n",
       "</style>\n",
       "<table border=\"1\" class=\"dataframe\">\n",
       "  <thead>\n",
       "    <tr style=\"text-align: right;\">\n",
       "      <th></th>\n",
       "      <th>fixed acidity</th>\n",
       "      <th>volatile acidity</th>\n",
       "      <th>citric acid</th>\n",
       "      <th>residual sugar</th>\n",
       "      <th>chlorides</th>\n",
       "      <th>free sulfur dioxide</th>\n",
       "      <th>total sulfur dioxide</th>\n",
       "      <th>density</th>\n",
       "      <th>pH</th>\n",
       "      <th>sulphates</th>\n",
       "      <th>alcohol</th>\n",
       "    </tr>\n",
       "  </thead>\n",
       "  <tbody>\n",
       "    <tr>\n",
       "      <th>0</th>\n",
       "      <td>0.284704</td>\n",
       "      <td>0.472976</td>\n",
       "      <td>-0.673610</td>\n",
       "      <td>0.023367</td>\n",
       "      <td>-0.469651</td>\n",
       "      <td>-0.390091</td>\n",
       "      <td>0.190906</td>\n",
       "      <td>0.086734</td>\n",
       "      <td>-0.804520</td>\n",
       "      <td>-0.392274</td>\n",
       "      <td>-0.876321</td>\n",
       "    </tr>\n",
       "    <tr>\n",
       "      <th>1</th>\n",
       "      <td>-0.178156</td>\n",
       "      <td>-1.944704</td>\n",
       "      <td>0.516861</td>\n",
       "      <td>-2.142827</td>\n",
       "      <td>-0.907953</td>\n",
       "      <td>1.571270</td>\n",
       "      <td>1.576780</td>\n",
       "      <td>-3.534675</td>\n",
       "      <td>-2.767887</td>\n",
       "      <td>-1.431818</td>\n",
       "      <td>2.128289</td>\n",
       "    </tr>\n",
       "    <tr>\n",
       "      <th>2</th>\n",
       "      <td>2.425434</td>\n",
       "      <td>-0.820202</td>\n",
       "      <td>1.707333</td>\n",
       "      <td>0.236139</td>\n",
       "      <td>-0.133831</td>\n",
       "      <td>1.336522</td>\n",
       "      <td>0.971809</td>\n",
       "      <td>1.518330</td>\n",
       "      <td>-1.393530</td>\n",
       "      <td>0.493019</td>\n",
       "      <td>0.062619</td>\n",
       "    </tr>\n",
       "    <tr>\n",
       "      <th>3</th>\n",
       "      <td>0.284704</td>\n",
       "      <td>-0.876427</td>\n",
       "      <td>1.086218</td>\n",
       "      <td>-0.320491</td>\n",
       "      <td>0.244679</td>\n",
       "      <td>1.697328</td>\n",
       "      <td>1.994523</td>\n",
       "      <td>0.404866</td>\n",
       "      <td>-1.786204</td>\n",
       "      <td>2.170650</td>\n",
       "      <td>-1.064109</td>\n",
       "    </tr>\n",
       "    <tr>\n",
       "      <th>4</th>\n",
       "      <td>-0.641017</td>\n",
       "      <td>0.191850</td>\n",
       "      <td>-0.052495</td>\n",
       "      <td>-0.442551</td>\n",
       "      <td>-0.086212</td>\n",
       "      <td>-0.000151</td>\n",
       "      <td>1.450835</td>\n",
       "      <td>-0.464696</td>\n",
       "      <td>-0.346402</td>\n",
       "      <td>-0.864609</td>\n",
       "      <td>-0.500745</td>\n",
       "    </tr>\n",
       "  </tbody>\n",
       "</table>\n",
       "</div>"
      ],
      "text/plain": [
       "   fixed acidity  volatile acidity  citric acid  residual sugar  chlorides  \\\n",
       "0       0.284704          0.472976    -0.673610        0.023367  -0.469651   \n",
       "1      -0.178156         -1.944704     0.516861       -2.142827  -0.907953   \n",
       "2       2.425434         -0.820202     1.707333        0.236139  -0.133831   \n",
       "3       0.284704         -0.876427     1.086218       -0.320491   0.244679   \n",
       "4      -0.641017          0.191850    -0.052495       -0.442551  -0.086212   \n",
       "\n",
       "   free sulfur dioxide  total sulfur dioxide   density        pH  sulphates  \\\n",
       "0            -0.390091              0.190906  0.086734 -0.804520  -0.392274   \n",
       "1             1.571270              1.576780 -3.534675 -2.767887  -1.431818   \n",
       "2             1.336522              0.971809  1.518330 -1.393530   0.493019   \n",
       "3             1.697328              1.994523  0.404866 -1.786204   2.170650   \n",
       "4            -0.000151              1.450835 -0.464696 -0.346402  -0.864609   \n",
       "\n",
       "    alcohol  \n",
       "0 -0.876321  \n",
       "1  2.128289  \n",
       "2  0.062619  \n",
       "3 -1.064109  \n",
       "4 -0.500745  "
      ]
     },
     "execution_count": 51,
     "metadata": {},
     "output_type": "execute_result"
    }
   ],
   "source": [
    "### 표준화 재수행\n",
    "\n",
    "colname = red_X_2nd.columns\n",
    "scaler = StandardScaler() \n",
    "red_X_2nd = scaler.fit_transform(red_X_2nd)\n",
    "red_X_2nd = pd.DataFrame(red_X_2nd, columns = colname)\n",
    "red_X_2nd.head()"
   ]
  },
  {
   "cell_type": "markdown",
   "metadata": {},
   "source": [
    "### **a) 단일 모델**"
   ]
  },
  {
   "cell_type": "code",
   "execution_count": 52,
   "metadata": {},
   "outputs": [],
   "source": [
    "### 활용할 모델 정의\n",
    "\n",
    "red2_models = []\n",
    "\n",
    "red2_models.append(('LDA', LinearDiscriminantAnalysis()))\n",
    "red2_models.append(('SGD', SGDClassifier()))\n",
    "red2_models.append(('KNN', KNeighborsClassifier()))\n",
    "red2_models.append(('DT', DecisionTreeClassifier(random_state = 0)))\n",
    "red2_models.append(('NB', GaussianNB()))\n",
    "red2_models.append(('SVC', SVC(random_state = 0)))"
   ]
  },
  {
   "cell_type": "code",
   "execution_count": 53,
   "metadata": {},
   "outputs": [
    {
     "name": "stdout",
     "output_type": "stream",
     "text": [
      "LDA: 0.601\n",
      "SGD: 0.525\n",
      "KNN: 0.585\n",
      "DT: 0.589\n",
      "NB: 0.563\n",
      "SVC: 0.617\n",
      "\n",
      "모든 모델의 평균 메트릭(정확도): 0.58\n"
     ]
    }
   ],
   "source": [
    "### 순차적으로 modeling + 학습/예측/검증\n",
    "\n",
    "red2_results = []\n",
    "red2_names = []\n",
    "red2_metrics = []\n",
    "\n",
    "for name, model in red2_models:\n",
    "    cv_results = cross_val_score(model, red_X_2nd, red_y_2nd, \n",
    "                                 cv = skf, scoring = 'accuracy')\n",
    "    red2_results.append(cv_results)\n",
    "    red2_names.append(name)\n",
    "    red2_metrics.append(cv_results.mean())\n",
    "    msg = \"%s: %.3f\" % (name, cv_results.mean())\n",
    "    print(msg)\n",
    "\n",
    "print()\n",
    "print('모든 모델의 평균 메트릭(정확도):',round(np.mean(red2_metrics),3))"
   ]
  },
  {
   "cell_type": "markdown",
   "metadata": {},
   "source": [
    "### **b) 앙상블 모델**"
   ]
  },
  {
   "cell_type": "code",
   "execution_count": 54,
   "metadata": {},
   "outputs": [],
   "source": [
    "red2_ensemble = []\n",
    "\n",
    "red2_ensemble.append(('RF', RandomForestClassifier(random_state = 0)))\n",
    "red2_ensemble.append(('Bagging',BaggingClassifier(DecisionTreeClassifier(), random_state = 0)))\n",
    "red2_ensemble.append(('GB', GradientBoostingClassifier(random_state = 0)))\n",
    "red2_ensemble.append(('XGB', XGBClassifier(random_state = 0)))\n",
    "red2_ensemble.append(('LGBM', LGBMClassifier(random_state = 0)))\n",
    "red2_ensemble.append(('Ada', AdaBoostClassifier(random_state = 0)))\n",
    "red2_ensemble.append(('ET', ExtraTreesClassifier(random_state = 0)))"
   ]
  },
  {
   "cell_type": "code",
   "execution_count": 55,
   "metadata": {},
   "outputs": [
    {
     "name": "stdout",
     "output_type": "stream",
     "text": [
      "RF: 0.674\n",
      "Bagging: 0.653\n",
      "GB: 0.651\n",
      "XGB: 0.651\n",
      "LGBM: 0.663\n",
      "Ada: 0.497\n",
      "ET: 0.675\n",
      "\n",
      "모든 모델의 평균 메트릭(정확도): 0.638\n"
     ]
    }
   ],
   "source": [
    "### 순차적으로 modeling + 학습/예측/검증\n",
    "\n",
    "red2_en_results = []\n",
    "red2_en_names = []\n",
    "red2_en_metrics = []\n",
    "\n",
    "for name, model in red2_ensemble:\n",
    "    cv_results = cross_val_score(model, red_X_2nd, red_y_2nd, \n",
    "                                 cv = skf, scoring = 'accuracy')\n",
    "    red2_en_results.append(cv_results)\n",
    "    red2_en_names.append(name)\n",
    "    red2_en_metrics.append(cv_results.mean())\n",
    "    msg = \"%s: %.3f\" % (name, cv_results.mean())\n",
    "    print(msg)\n",
    "\n",
    "print()\n",
    "print('모든 모델의 평균 메트릭(정확도):',round(np.mean(red2_en_metrics),3))"
   ]
  },
  {
   "cell_type": "markdown",
   "metadata": {},
   "source": [
    "- 단일 모델에서는 성능이 향상되고, 앙상블 모델에서는 성능이 하락됨\n",
    "    - 현재 앙상블 모델의 성능이 대부분 더 좋다.\n",
    "    - 성능이 떨어지기에 로그 변환을 하지 않는 쪽으로 결정"
   ]
  },
  {
   "cell_type": "markdown",
   "metadata": {},
   "source": [
    "# **5. 변수들 간의 상관도**"
   ]
  },
  {
   "cell_type": "markdown",
   "metadata": {},
   "source": [
    "## **5-1. target 변수와의 상관도**"
   ]
  },
  {
   "cell_type": "markdown",
   "metadata": {},
   "source": [
    "- target 변수와 가장 상관도가 높은 변수는 alcohol이다.\n",
    "- 해당 변수의 이상치를 제거해보자."
   ]
  },
  {
   "cell_type": "code",
   "execution_count": 56,
   "metadata": {},
   "outputs": [],
   "source": [
    "### 데이터 원본을 유지하기 위해 복사본 활용\n",
    "\n",
    "red_X_3rd = red_X.copy()\n",
    "red_y_3rd = red_y.copy()"
   ]
  },
  {
   "cell_type": "code",
   "execution_count": 57,
   "metadata": {},
   "outputs": [],
   "source": [
    "red_train_3 = pd.concat([red_X_3rd, red_y_3rd], axis = 1)"
   ]
  },
  {
   "cell_type": "code",
   "execution_count": 58,
   "metadata": {},
   "outputs": [],
   "source": [
    "### 이상치 제거 함수\n",
    "\n",
    "def get_outlier(df = None, column = None, weight = 1.5):\n",
    "    # 1/4 분위와 3/4 분위 지점을 np.percentile로 구함 \n",
    "    df = df[column]\n",
    "    quantile_25 = np.percentile(df.values, 25)\n",
    "    quantile_75 = np.percentile(df.values, 75)\n",
    "    \n",
    "    # IQR을 구하고, IQR에 1.5를 곱하여 최대값과 최소값 지점 구함. \n",
    "    iqr = quantile_75 - quantile_25\n",
    "    iqr_weight = iqr * weight\n",
    "    lowest_val = quantile_25 - iqr_weight\n",
    "    highest_val = quantile_75 + iqr_weight\n",
    "    \n",
    "    # 최대값 보다 크거나, 최소값 보다 작은 값을 아웃라이어로 설정하고 DataFrame index 반환. \n",
    "    outlier_index = df[(df < lowest_val) | (df > highest_val)].index\n",
    "    \n",
    "    return outlier_index"
   ]
  },
  {
   "cell_type": "code",
   "execution_count": 59,
   "metadata": {},
   "outputs": [
    {
     "name": "stdout",
     "output_type": "stream",
     "text": [
      "이상치 데이터 인덱스: Int64Index([215, 220, 272, 482, 533, 574, 694, 958, 1009], dtype='int64')\n"
     ]
    }
   ],
   "source": [
    "### alcohol에서 이상치 찾기\n",
    "\n",
    "outlier_index = get_outlier(df = red_train_3, column = 'alcohol', weight = 1.5)\n",
    "print('이상치 데이터 인덱스:', outlier_index)"
   ]
  },
  {
   "cell_type": "code",
   "execution_count": 60,
   "metadata": {},
   "outputs": [],
   "source": [
    "### 이상치 데이터 삭제\n",
    "\n",
    "red_train_3.drop(outlier_index, axis = 0, inplace = True)"
   ]
  },
  {
   "cell_type": "code",
   "execution_count": 61,
   "metadata": {},
   "outputs": [],
   "source": [
    "### feature/target 분리\n",
    "\n",
    "red_X_3rd = red_train_3.drop(['new_quality'], axis = 1)\n",
    "red_y_3rd = red_train_3['new_quality']"
   ]
  },
  {
   "cell_type": "markdown",
   "metadata": {},
   "source": [
    "### **a) 단일 모델**"
   ]
  },
  {
   "cell_type": "code",
   "execution_count": 62,
   "metadata": {},
   "outputs": [],
   "source": [
    "### 활용할 모델 정의\n",
    "\n",
    "red3_models = []\n",
    "\n",
    "red3_models.append(('LDA', LinearDiscriminantAnalysis()))\n",
    "red3_models.append(('SGD', SGDClassifier()))\n",
    "red3_models.append(('KNN', KNeighborsClassifier()))\n",
    "red3_models.append(('DT', DecisionTreeClassifier(random_state = 0)))\n",
    "red3_models.append(('NB', GaussianNB()))\n",
    "red3_models.append(('SVC', SVC(random_state = 0)))"
   ]
  },
  {
   "cell_type": "code",
   "execution_count": 63,
   "metadata": {},
   "outputs": [
    {
     "name": "stdout",
     "output_type": "stream",
     "text": [
      "LDA: 0.594\n",
      "SGD: 0.518\n",
      "KNN: 0.570\n",
      "DT: 0.591\n",
      "NB: 0.552\n",
      "SVC: 0.627\n",
      "\n",
      "모든 모델의 평균 메트릭(정확도): 0.575\n"
     ]
    }
   ],
   "source": [
    "### 순차적으로 modeling + 학습/예측/검증\n",
    "\n",
    "red3_results = []\n",
    "red3_names = []\n",
    "red3_metrics = []\n",
    "\n",
    "for name, model in red3_models:\n",
    "    cv_results = cross_val_score(model, red_X_3rd, red_y_3rd, \n",
    "                                 cv = skf, scoring = 'accuracy')\n",
    "    red3_results.append(cv_results)\n",
    "    red3_names.append(name)\n",
    "    red3_metrics.append(cv_results.mean())\n",
    "    msg = \"%s: %.3f\" % (name, cv_results.mean())\n",
    "    print(msg)\n",
    "\n",
    "print()\n",
    "print('모든 모델의 평균 메트릭(정확도):',round(np.mean(red3_metrics),3))"
   ]
  },
  {
   "cell_type": "markdown",
   "metadata": {},
   "source": [
    "### **b) 앙상블 모델**"
   ]
  },
  {
   "cell_type": "code",
   "execution_count": 64,
   "metadata": {},
   "outputs": [],
   "source": [
    "red3_ensemble = []\n",
    "\n",
    "red3_ensemble.append(('RF', RandomForestClassifier(random_state = 0)))\n",
    "red3_ensemble.append(('Bagging',BaggingClassifier(DecisionTreeClassifier(), random_state = 0)))\n",
    "red3_ensemble.append(('GB', GradientBoostingClassifier(random_state = 0)))\n",
    "red3_ensemble.append(('XGB', XGBClassifier(random_state = 0)))\n",
    "red3_ensemble.append(('LGBM', LGBMClassifier(random_state = 0)))\n",
    "red3_ensemble.append(('Ada', AdaBoostClassifier(random_state = 0)))\n",
    "red3_ensemble.append(('ET', ExtraTreesClassifier(random_state = 0)))"
   ]
  },
  {
   "cell_type": "code",
   "execution_count": 65,
   "metadata": {},
   "outputs": [
    {
     "name": "stdout",
     "output_type": "stream",
     "text": [
      "RF: 0.669\n",
      "Bagging: 0.655\n",
      "GB: 0.658\n",
      "XGB: 0.660\n",
      "LGBM: 0.653\n",
      "Ada: 0.488\n",
      "ET: 0.681\n",
      "\n",
      "모든 모델의 평균 메트릭(정확도): 0.638\n"
     ]
    }
   ],
   "source": [
    "### 순차적으로 modeling + 학습/예측/검증\n",
    "\n",
    "red3_en_results = []\n",
    "red3_en_names = []\n",
    "red3_en_metrics = []\n",
    "\n",
    "for name, model in red3_ensemble:\n",
    "    cv_results = cross_val_score(model, red_X_3rd, red_y_3rd, \n",
    "                                 cv = skf, scoring = 'accuracy')\n",
    "    red3_en_results.append(cv_results)\n",
    "    red3_en_names.append(name)\n",
    "    red3_en_metrics.append(cv_results.mean())\n",
    "    msg = \"%s: %.3f\" % (name, cv_results.mean())\n",
    "    print(msg)\n",
    "\n",
    "print()\n",
    "print('모든 모델의 평균 메트릭(정확도):',round(np.mean(red3_en_metrics),3))"
   ]
  },
  {
   "cell_type": "markdown",
   "metadata": {},
   "source": [
    "- 성능이 조금 개선됨"
   ]
  },
  {
   "cell_type": "markdown",
   "metadata": {},
   "source": [
    "## **5-2. feature 변수들 간의 상관도**"
   ]
  },
  {
   "attachments": {
    "image.png": {
     "image/png": "[encoded data removed]"
    }
   },
   "cell_type": "markdown",
   "metadata": {},
   "source": [
    "![image.png](attachment:image.png)"
   ]
  },
  {
   "cell_type": "markdown",
   "metadata": {},
   "source": [
    "- target 변수(quality)와 상관도가 가장 높은 변수는 ```alcohol```이다.\n",
    "    - 상관계수는 **0.48**로, 약한 양의 선형 상관관계를 가진다고 할 수 있다.\n",
    "- '산도'와 관련된 변수들끼리 상관관계가 있다.\n",
    "    - ```fixed acidity```, ```volatile acidity```, ```citric acid```, ```pH```\n",
    "    - target 변수와의 상관도: volatile acidity > citric acid > fixed acidity > pH\n",
    "    - ```pH```는 ```fixed acidity```로 관계를 어느 정도 유추할 수 있기에 **삭제**하기로 결정\n",
    "    - ```density```는 산도와 당도 등 여러 가지를 종합하여 사람이 맛으로 느끼는 바디감 등을 수치화 한 것으로, 다른 변수들을 통해 관련된 정보들을 도출할 수 있다. -> **삭제** 결정\n",
    "- total sulfur dioxide와 free sulfur dioxide 간 상관관계가 있다.\n",
    "    - 이름으로 보아 서로 관련있는 변수임을 짐작할 수 있다.\n",
    "    - target 변수와 상관도가 조금 더 높은 ```free sulfur dioxide```만 남김\n",
    "- density와 fixed acidity 간 강한 상관관계가 있다.\n",
    "- alcohol과 density 간 상관관계가 있다."
   ]
  },
  {
   "cell_type": "markdown",
   "metadata": {},
   "source": [
    "> 최종 삭제 변수: pH, density, free sulfur dioxide"
   ]
  },
  {
   "cell_type": "markdown",
   "metadata": {},
   "source": [
    "- 변수 판단 기준: 아래 링크 활용\n",
    "    - [와인상식](http://the-scent.co.kr/bbs/board.php?bo_table=wine_how_to&wr_id=29&page=7)"
   ]
  },
  {
   "cell_type": "markdown",
   "metadata": {},
   "source": [
    "⭐ **이후 최종 예측 시 test에서도 해당 변수들을 제거해 주는 거 잊지 말기!**"
   ]
  },
  {
   "cell_type": "code",
   "execution_count": 66,
   "metadata": {},
   "outputs": [],
   "source": [
    "### 데이터 원본을 유지하기 위해 복사본 활용\n",
    "\n",
    "red_X_4th = red_X_3rd.copy()\n",
    "red_y_4th = red_y_3rd.copy()"
   ]
  },
  {
   "cell_type": "code",
   "execution_count": 67,
   "metadata": {},
   "outputs": [],
   "source": [
    "red_train_4 = pd.concat([red_X_4th, red_y_4th], axis = 1)"
   ]
  },
  {
   "cell_type": "code",
   "execution_count": 68,
   "metadata": {},
   "outputs": [
    {
     "data": {
      "text/html": [
       "<div>\n",
       "<style scoped>\n",
       "    .dataframe tbody tr th:only-of-type {\n",
       "        vertical-align: middle;\n",
       "    }\n",
       "\n",
       "    .dataframe tbody tr th {\n",
       "        vertical-align: top;\n",
       "    }\n",
       "\n",
       "    .dataframe thead th {\n",
       "        text-align: right;\n",
       "    }\n",
       "</style>\n",
       "<table border=\"1\" class=\"dataframe\">\n",
       "  <thead>\n",
       "    <tr style=\"text-align: right;\">\n",
       "      <th></th>\n",
       "      <th>fixed acidity</th>\n",
       "      <th>volatile acidity</th>\n",
       "      <th>citric acid</th>\n",
       "      <th>residual sugar</th>\n",
       "      <th>chlorides</th>\n",
       "      <th>total sulfur dioxide</th>\n",
       "      <th>sulphates</th>\n",
       "      <th>alcohol</th>\n",
       "      <th>new_quality</th>\n",
       "    </tr>\n",
       "  </thead>\n",
       "  <tbody>\n",
       "    <tr>\n",
       "      <th>0</th>\n",
       "      <td>0.284704</td>\n",
       "      <td>0.472976</td>\n",
       "      <td>-0.673610</td>\n",
       "      <td>-0.096298</td>\n",
       "      <td>-0.440110</td>\n",
       "      <td>-0.129865</td>\n",
       "      <td>-0.394631</td>\n",
       "      <td>-0.876321</td>\n",
       "      <td>1</td>\n",
       "    </tr>\n",
       "    <tr>\n",
       "      <th>1</th>\n",
       "      <td>-0.178156</td>\n",
       "      <td>-1.944704</td>\n",
       "      <td>0.516861</td>\n",
       "      <td>-1.166156</td>\n",
       "      <td>-0.826478</td>\n",
       "      <td>1.977642</td>\n",
       "      <td>-1.258249</td>\n",
       "      <td>2.128289</td>\n",
       "      <td>2</td>\n",
       "    </tr>\n",
       "    <tr>\n",
       "      <th>2</th>\n",
       "      <td>2.425434</td>\n",
       "      <td>-0.820202</td>\n",
       "      <td>1.707333</td>\n",
       "      <td>0.046350</td>\n",
       "      <td>-0.139602</td>\n",
       "      <td>0.813795</td>\n",
       "      <td>0.411413</td>\n",
       "      <td>0.062619</td>\n",
       "      <td>1</td>\n",
       "    </tr>\n",
       "    <tr>\n",
       "      <th>3</th>\n",
       "      <td>0.284704</td>\n",
       "      <td>-0.876427</td>\n",
       "      <td>1.086218</td>\n",
       "      <td>-0.310269</td>\n",
       "      <td>0.203836</td>\n",
       "      <td>3.110034</td>\n",
       "      <td>2.138650</td>\n",
       "      <td>-1.064109</td>\n",
       "      <td>1</td>\n",
       "    </tr>\n",
       "    <tr>\n",
       "      <th>4</th>\n",
       "      <td>-0.641017</td>\n",
       "      <td>0.191850</td>\n",
       "      <td>-0.052495</td>\n",
       "      <td>-0.381593</td>\n",
       "      <td>-0.096672</td>\n",
       "      <td>1.694544</td>\n",
       "      <td>-0.797653</td>\n",
       "      <td>-0.500745</td>\n",
       "      <td>1</td>\n",
       "    </tr>\n",
       "  </tbody>\n",
       "</table>\n",
       "</div>"
      ],
      "text/plain": [
       "   fixed acidity  volatile acidity  citric acid  residual sugar  chlorides  \\\n",
       "0       0.284704          0.472976    -0.673610       -0.096298  -0.440110   \n",
       "1      -0.178156         -1.944704     0.516861       -1.166156  -0.826478   \n",
       "2       2.425434         -0.820202     1.707333        0.046350  -0.139602   \n",
       "3       0.284704         -0.876427     1.086218       -0.310269   0.203836   \n",
       "4      -0.641017          0.191850    -0.052495       -0.381593  -0.096672   \n",
       "\n",
       "   total sulfur dioxide  sulphates   alcohol  new_quality  \n",
       "0             -0.129865  -0.394631 -0.876321            1  \n",
       "1              1.977642  -1.258249  2.128289            2  \n",
       "2              0.813795   0.411413  0.062619            1  \n",
       "3              3.110034   2.138650 -1.064109            1  \n",
       "4              1.694544  -0.797653 -0.500745            1  "
      ]
     },
     "execution_count": 68,
     "metadata": {},
     "output_type": "execute_result"
    }
   ],
   "source": [
    "red_train_4 = red_train_4.drop(['pH', 'density', 'free sulfur dioxide'], axis = 1)\n",
    "red_train_4.head()"
   ]
  },
  {
   "cell_type": "code",
   "execution_count": 69,
   "metadata": {},
   "outputs": [],
   "source": [
    "### feature/target 분리\n",
    "\n",
    "X_4th = red_train_4.drop(['new_quality'], axis = 1)\n",
    "y_4th = red_train_4['new_quality']"
   ]
  },
  {
   "cell_type": "markdown",
   "metadata": {},
   "source": [
    "### **a) 단일 모델**"
   ]
  },
  {
   "cell_type": "code",
   "execution_count": 70,
   "metadata": {},
   "outputs": [],
   "source": [
    "### 활용할 모델 정의\n",
    "\n",
    "red4_models = []\n",
    "\n",
    "red4_models.append(('LDA', LinearDiscriminantAnalysis()))\n",
    "red4_models.append(('SGD', SGDClassifier()))\n",
    "red4_models.append(('KNN', KNeighborsClassifier()))\n",
    "red4_models.append(('DT', DecisionTreeClassifier(random_state = 0)))\n",
    "red4_models.append(('NB', GaussianNB()))\n",
    "red4_models.append(('SVC', SVC(random_state = 0)))"
   ]
  },
  {
   "cell_type": "code",
   "execution_count": 71,
   "metadata": {},
   "outputs": [
    {
     "name": "stdout",
     "output_type": "stream",
     "text": [
      "LDA: 0.594\n",
      "SGD: 0.527\n",
      "KNN: 0.570\n",
      "DT: 0.591\n",
      "NB: 0.552\n",
      "SVC: 0.627\n",
      "\n",
      "모든 모델의 평균 메트릭(정확도): 0.577\n"
     ]
    }
   ],
   "source": [
    "### 순차적으로 modeling + 학습/예측/검증\n",
    "\n",
    "red4_results = []\n",
    "red4_names = []\n",
    "red4_metrics = []\n",
    "\n",
    "for name, model in red4_models:\n",
    "    cv_results = cross_val_score(model, red_X_4th, red_y_4th, \n",
    "                                 cv = skf, scoring = 'accuracy')\n",
    "    red4_results.append(cv_results)\n",
    "    red4_names.append(name)\n",
    "    red4_metrics.append(cv_results.mean())\n",
    "    msg = \"%s: %.3f\" % (name, cv_results.mean())\n",
    "    print(msg)\n",
    "\n",
    "print()\n",
    "print('모든 모델의 평균 메트릭(정확도):',round(np.mean(red4_metrics),3))"
   ]
  },
  {
   "cell_type": "markdown",
   "metadata": {},
   "source": [
    "### **b) 앙상블 모델**"
   ]
  },
  {
   "cell_type": "code",
   "execution_count": 72,
   "metadata": {},
   "outputs": [],
   "source": [
    "red4_ensemble = []\n",
    "\n",
    "red4_ensemble.append(('RF', RandomForestClassifier(random_state = 0)))\n",
    "red4_ensemble.append(('Bagging',BaggingClassifier(DecisionTreeClassifier(), random_state = 0)))\n",
    "red4_ensemble.append(('GB', GradientBoostingClassifier(random_state = 0)))\n",
    "red4_ensemble.append(('XGB', XGBClassifier(random_state = 0)))\n",
    "red4_ensemble.append(('LGBM', LGBMClassifier(random_state = 0)))\n",
    "red4_ensemble.append(('Ada', AdaBoostClassifier(random_state = 0)))\n",
    "red4_ensemble.append(('ET', ExtraTreesClassifier(random_state = 0)))"
   ]
  },
  {
   "cell_type": "code",
   "execution_count": 73,
   "metadata": {},
   "outputs": [
    {
     "name": "stdout",
     "output_type": "stream",
     "text": [
      "RF: 0.669\n",
      "Bagging: 0.655\n",
      "GB: 0.658\n",
      "XGB: 0.660\n",
      "LGBM: 0.653\n",
      "Ada: 0.488\n",
      "ET: 0.681\n",
      "\n",
      "모든 모델의 평균 메트릭(정확도): 0.638\n"
     ]
    }
   ],
   "source": [
    "### 순차적으로 modeling + 학습/예측/검증\n",
    "\n",
    "red4_en_results = []\n",
    "red4_en_names = []\n",
    "red4_en_metrics = []\n",
    "\n",
    "for name, model in red4_ensemble:\n",
    "    cv_results = cross_val_score(model, red_X_4th, red_y_4th, \n",
    "                                 cv = skf, scoring = 'accuracy')\n",
    "    red4_en_results.append(cv_results)\n",
    "    red4_en_names.append(name)\n",
    "    red4_en_metrics.append(cv_results.mean())\n",
    "    msg = \"%s: %.3f\" % (name, cv_results.mean())\n",
    "    print(msg)\n",
    "\n",
    "print()\n",
    "print('모든 모델의 평균 메트릭(정확도):',round(np.mean(red4_en_metrics),3))"
   ]
  },
  {
   "cell_type": "markdown",
   "metadata": {},
   "source": [
    "- 성능에 별다른 개선은 x"
   ]
  },
  {
   "cell_type": "markdown",
   "metadata": {},
   "source": [
    "**⭐ 데이터는 이상치가 제거된 ```red_X_3rd```와 ```red_y_3rd```를 계속해서 활용**"
   ]
  },
  {
   "cell_type": "markdown",
   "metadata": {},
   "source": [
    "# **6. 데이터 불균형 처리**"
   ]
  },
  {
   "cell_type": "markdown",
   "metadata": {},
   "source": [
    "## **6-1. 클래스 가중치 부여(Weight Balancing)**"
   ]
  },
  {
   "cell_type": "markdown",
   "metadata": {},
   "source": [
    "- 관련 코드 같은 걸 찾기는 했는데,, 잘못 적용한 건지 성능이 너무 떨어져서 지웠습니다...ㅎ  \n",
    "(원래는 가중치 주면 비슷하거나 성능이 올라가면 올라가지 내려가는 경우는 거의 없음,,)\n",
    "- 혹시 활용할 사람 있을까봐 링크 남겨둘게용\n",
    "    - [Reference](https://medium.com/grabngoinfo/balanced-weights-for-imbalanced-classification-465f0e13c5ad)"
   ]
  },
  {
   "cell_type": "markdown",
   "metadata": {},
   "source": [
    "## **6-2. SMOTE**\n",
    "- 클래스를 모아도 클래스 간의 불균형이 해결되지는 x\n",
    "    - 오버샘플링 적용"
   ]
  },
  {
   "cell_type": "code",
   "execution_count": 74,
   "metadata": {},
   "outputs": [
    {
     "name": "stdout",
     "output_type": "stream",
     "text": [
      "SMOTE 적용 전 학습용 피처/레이블 데이터 세트:  (1329, 11) (1329,)\n",
      "SMOTE 적용 후 학습용 피처/레이블 데이터 세트:  (2280, 11) (2280,)\n",
      "SMOTE 적용 후 레이블 값 분포: \n",
      " 1    570\n",
      "2    570\n",
      "0    570\n",
      "3    570\n",
      "Name: new_quality, dtype: int64\n"
     ]
    }
   ],
   "source": [
    "from imblearn.over_sampling import SMOTE\n",
    "\n",
    "smote = SMOTE(random_state = 0)\n",
    "red_X_over, red_y_over = smote.fit_resample(red_X_3rd, red_y_3rd)\n",
    "\n",
    "print('SMOTE 적용 전 학습용 피처/레이블 데이터 세트: ', red_X_3rd.shape, red_y_3rd.shape)\n",
    "print('SMOTE 적용 후 학습용 피처/레이블 데이터 세트: ', red_X_over.shape, red_y_over.shape)\n",
    "print('SMOTE 적용 후 레이블 값 분포: \\n', pd.Series(red_y_over).value_counts())"
   ]
  },
  {
   "cell_type": "markdown",
   "metadata": {},
   "source": [
    "- SMOTE 적용 후 클래스 4의 경우 11배 이상 데이터가 증가함\n",
    "- 클래스 7의 경우 4배 정도 증가"
   ]
  },
  {
   "cell_type": "markdown",
   "metadata": {},
   "source": [
    "### **a) 단일 모델**"
   ]
  },
  {
   "cell_type": "code",
   "execution_count": 75,
   "metadata": {},
   "outputs": [],
   "source": [
    "### 활용할 모델 정의\n",
    "\n",
    "red5_models = []\n",
    "\n",
    "red5_models.append(('LDA', LinearDiscriminantAnalysis()))\n",
    "red5_models.append(('SGD', SGDClassifier()))\n",
    "red5_models.append(('KNN', KNeighborsClassifier()))\n",
    "red5_models.append(('DT', DecisionTreeClassifier(random_state = 0)))\n",
    "red5_models.append(('NB', GaussianNB()))\n",
    "red5_models.append(('SVC', SVC(random_state = 0)))"
   ]
  },
  {
   "cell_type": "code",
   "execution_count": 76,
   "metadata": {},
   "outputs": [
    {
     "name": "stdout",
     "output_type": "stream",
     "text": [
      "LDA: 0.586\n",
      "SGD: 0.531\n",
      "KNN: 0.718\n",
      "DT: 0.739\n",
      "NB: 0.528\n",
      "SVC: 0.671\n",
      "\n",
      "모든 모델의 평균 메트릭(정확도): 0.629\n"
     ]
    }
   ],
   "source": [
    "### 순차적으로 modeling + 학습/예측/검증\n",
    "\n",
    "red5_results = []\n",
    "red5_names = []\n",
    "red5_metrics = []\n",
    "\n",
    "for name, model in red5_models:\n",
    "    cv_results = cross_val_score(model, red_X_over, red_y_over, \n",
    "                                 cv = skf, scoring = 'accuracy')\n",
    "    red5_results.append(cv_results)\n",
    "    red5_names.append(name)\n",
    "    red5_metrics.append(cv_results.mean())\n",
    "    msg = \"%s: %.3f\" % (name, cv_results.mean())\n",
    "    print(msg)\n",
    "\n",
    "print()\n",
    "print('모든 모델의 평균 메트릭(정확도):',round(np.mean(red5_metrics),3))"
   ]
  },
  {
   "cell_type": "markdown",
   "metadata": {},
   "source": [
    "### **b) 앙상블 모델**"
   ]
  },
  {
   "cell_type": "code",
   "execution_count": 77,
   "metadata": {},
   "outputs": [],
   "source": [
    "red5_ensemble = []\n",
    "\n",
    "red5_ensemble.append(('RF', RandomForestClassifier(random_state = 0)))\n",
    "red5_ensemble.append(('Bagging',BaggingClassifier(DecisionTreeClassifier(), random_state = 0)))\n",
    "red5_ensemble.append(('GB', GradientBoostingClassifier(random_state = 0)))\n",
    "red5_ensemble.append(('XGB', XGBClassifier(random_state = 0)))\n",
    "red5_ensemble.append(('LGBM', LGBMClassifier(random_state = 0)))\n",
    "red5_ensemble.append(('Ada', AdaBoostClassifier(random_state = 0)))\n",
    "red5_ensemble.append(('ET', ExtraTreesClassifier(random_state = 0)))"
   ]
  },
  {
   "cell_type": "code",
   "execution_count": 78,
   "metadata": {},
   "outputs": [
    {
     "name": "stdout",
     "output_type": "stream",
     "text": [
      "RF: 0.813\n",
      "Bagging: 0.771\n",
      "GB: 0.750\n",
      "XGB: 0.810\n",
      "LGBM: 0.814\n",
      "Ada: 0.509\n",
      "ET: 0.829\n",
      "\n",
      "모든 모델의 평균 메트릭(정확도): 0.756\n"
     ]
    }
   ],
   "source": [
    "### 순차적으로 modeling + 학습/예측/검증\n",
    "\n",
    "red5_en_results = []\n",
    "red5_en_names = []\n",
    "red5_en_metrics = []\n",
    "\n",
    "for name, model in red5_ensemble:\n",
    "    cv_results = cross_val_score(model, red_X_over, red_y_over, \n",
    "                                 cv = skf, scoring = 'accuracy')\n",
    "    red5_en_results.append(cv_results)\n",
    "    red5_en_names.append(name)\n",
    "    red5_en_metrics.append(cv_results.mean())\n",
    "    msg = \"%s: %.3f\" % (name, cv_results.mean())\n",
    "    print(msg)\n",
    "\n",
    "print()\n",
    "print('모든 모델의 평균 메트릭(정확도):',round(np.mean(red5_en_metrics),3))"
   ]
  },
  {
   "cell_type": "markdown",
   "metadata": {},
   "source": [
    "- 성능이 크게 **향상됨**"
   ]
  },
  {
   "cell_type": "markdown",
   "metadata": {},
   "source": [
    "# **7. 하이퍼 파라미터 튜닝**"
   ]
  },
  {
   "cell_type": "markdown",
   "metadata": {},
   "source": [
    "- 성능이 좋은 모델은 **ExtraTrees**, **LGBM**, **XGB**임\n",
    "    - 모두 **Oversampling** 된 데이터로 학습\n",
    "- 해당 모델들에 대해 **하이퍼 파라미터 튜닝**을 적용해 보자.\n",
    "- [extraTrees 설명](https://velog.io/@nata0919/Extra-Trees-%EC%A0%95%EB%A6%AC)"
   ]
  },
  {
   "cell_type": "markdown",
   "metadata": {},
   "source": [
    "### **7-1. ExtraTrees**"
   ]
  },
  {
   "cell_type": "code",
   "execution_count": 87,
   "metadata": {},
   "outputs": [],
   "source": [
    "from sklearn.model_selection import GridSearchCV"
   ]
  },
  {
   "cell_type": "code",
   "execution_count": 88,
   "metadata": {},
   "outputs": [
    {
     "name": "stdout",
     "output_type": "stream",
     "text": [
      "최적 모델: 0.832018 using {'n_estimators': 400}\n"
     ]
    }
   ],
   "source": [
    "params = {\n",
    "    'n_estimators' : [200, 300, 400, 500, 600]\n",
    "}\n",
    "\n",
    "### 모델 객체\n",
    "et = ExtraTreesClassifier(random_state = 0)\n",
    "\n",
    "skf = StratifiedKFold(n_splits = 5, \n",
    "                      random_state = 0, shuffle = True)\n",
    "grid = GridSearchCV(estimator = et, param_grid = params, \n",
    "                    scoring = 'accuracy', cv = skf)\n",
    "grid_result = grid.fit(red_X_over, red_y_over)\n",
    "\n",
    "print(\"최적 모델: %f using %s\" % (grid_result.best_score_, grid_result.best_params_))"
   ]
  },
  {
   "cell_type": "code",
   "execution_count": 89,
   "metadata": {},
   "outputs": [],
   "source": [
    "### 최적 모델 생성\n",
    "\n",
    "et_opt = ExtraTreesClassifier(n_estimators = 400, random_state = 0)"
   ]
  },
  {
   "cell_type": "markdown",
   "metadata": {},
   "source": [
    "### **7-2. LightGBM**\n",
    "- [lgbm 파라미터 튜닝](https://lightgbm.readthedocs.io/en/latest/pythonapi/lightgbm.LGBMClassifier.html)"
   ]
  },
  {
   "cell_type": "code",
   "execution_count": 80,
   "metadata": {},
   "outputs": [
    {
     "name": "stdout",
     "output_type": "stream",
     "text": [
      "최적 모델: 0.832895 using {'boosting_type': 'dart', 'learning_rate': 0.2, 'n_estimators': 500, 'num_leaves': 40}\n"
     ]
    }
   ],
   "source": [
    "params = {\n",
    "    'boosting_type' : ['gbdt', 'dart', 'rf'], \n",
    "    'learning_rate' : [0.01, 0.05, 0.1, 0.15, 0.2],\n",
    "    'n_estimators' : [100, 200, 300, 400, 500],\n",
    "    'num_leaves' : [10, 20, 30, 40, 50]\n",
    "}\n",
    "\n",
    "### 모델 객체\n",
    "lgbm = LGBMClassifier(random_state = 0)\n",
    "\n",
    "skf = StratifiedKFold(n_splits = 5, \n",
    "                      random_state = 0, shuffle = True)\n",
    "grid = GridSearchCV(estimator = lgbm, param_grid = params, \n",
    "                    scoring = 'accuracy', cv = skf)\n",
    "grid_result = grid.fit(red_X_over, red_y_over)\n",
    "\n",
    "print(\"최적 모델: %f using %s\" % (grid_result.best_score_, grid_result.best_params_))"
   ]
  },
  {
   "cell_type": "code",
   "execution_count": 93,
   "metadata": {},
   "outputs": [],
   "source": [
    "lgbm_opt = LGBMClassifier(boosting_type = 'dart',learning_rate = 0.2,\n",
    "                          n_estimators = 500,num_leaves = 40, random_state = 0)"
   ]
  },
  {
   "cell_type": "markdown",
   "metadata": {},
   "source": [
    "### **7-3. XGB**"
   ]
  },
  {
   "cell_type": "code",
   "execution_count": 84,
   "metadata": {},
   "outputs": [
    {
     "name": "stdout",
     "output_type": "stream",
     "text": [
      "최적 모델: 0.811404 using {'learning_rate': 0.3, 'max_depth': 4, 'max_leaves': 200, 'tree_method': 'gpu_hist'}\n"
     ]
    }
   ],
   "source": [
    "params = {\n",
    "    'tree_method' : ['exact', 'gpu_hist'],\n",
    "    'learning_rate' : [0.01, 0.1, 0.3],\n",
    "    'max_depth' : [4,6,8],\n",
    "    'max_leaves' : [200, 300, 400],\n",
    "}\n",
    "\n",
    "### 모델 객체\n",
    "xgb = XGBClassifier(random_state = 0)\n",
    "\n",
    "skf = StratifiedKFold(n_splits = 5, \n",
    "                      random_state = 0, shuffle = True)\n",
    "grid = GridSearchCV(estimator = xgb, param_grid = params, \n",
    "                    scoring = 'accuracy', cv = skf)\n",
    "grid_result = grid.fit(red_X_over, red_y_over)\n",
    "\n",
    "print(\"최적 모델: %f using %s\" % (grid_result.best_score_, grid_result.best_params_))"
   ]
  },
  {
   "cell_type": "code",
   "execution_count": 97,
   "metadata": {},
   "outputs": [],
   "source": [
    "xgb_opt = XGBClassifier(learning_rate = 0.3, max_depth = 4, max_leaves = 200, \n",
    "                        tree_method = 'gpu_hist',random_state = 0)"
   ]
  },
  {
   "cell_type": "markdown",
   "metadata": {},
   "source": [
    "# **8. 스태킹 모델 생성**\n",
    "- 개별 모델: hyper parameter tuning을 적용한 ```ET```, ```LGBM```, ```XGB```\n",
    "- 최종 예측 모델: ```RandomForest```"
   ]
  },
  {
   "cell_type": "code",
   "execution_count": 98,
   "metadata": {},
   "outputs": [],
   "source": [
    "from sklearn.model_selection import StratifiedKFold\n",
    "from sklearn.metrics import mean_absolute_error\n",
    "\n",
    "### 개별 기반 모델에서 최종 메타 모델이 사용할 학습/테스트용 데이터를 생성하기 위한 함수\n",
    "def get_stacking_base_datasets(model, X_train_n, y_train_n, X_test_n, n_folds):\n",
    "    # 지정된 n_folds 값으로 KFold 생성\n",
    "    skf = StratifiedKFold(n_splits = n_folds, shuffle = True, random_state = 0)\n",
    "    \n",
    "    # 추후에 메타 모델이 사용할 학습 데이터 반환을 위한 넘파이 배열 초기화 \n",
    "    train_fold_pred = np.zeros((X_train_n.shape[0],1))\n",
    "    test_pred = np.zeros((X_test_n.shape[0], n_folds))\n",
    "    print(model.__class__.__name__ , ' model 시작')\n",
    "    \n",
    "    for folder_counter, (train_index, valid_index) in enumerate(skf.split(X_train_n, y_train_n)):\n",
    "        # 입력된 학습 데이터에서 기반 모델이 학습/예측할 폴드 데이터 셋 추출 \n",
    "        print('\\t 폴드 세트: ',folder_counter,' 시작 ')\n",
    "        X_tr = X_train_n.iloc[train_index] \n",
    "        y_tr = y_train_n.iloc[train_index] \n",
    "        X_te = X_train_n.iloc[valid_index]  \n",
    "        \n",
    "        # 폴드 세트 내부에서 다시 만들어진 학습 데이터로 기반 모델의 학습 수행\n",
    "        model.fit(X_tr, y_tr)       \n",
    "        \n",
    "        # 폴드 세트 내부에서 다시 만들어진 검증 데이터로 기반 모델 예측 후 데이터 저장\n",
    "        train_fold_pred[valid_index, :] = model.predict(X_te).reshape(-1,1)\n",
    "        \n",
    "        # 입력된 원본 테스트 데이터를 폴드 세트내 학습된 기반 모델에서 예측 후 데이터 저장 \n",
    "        test_pred[:, folder_counter] = model.predict(X_test_n)\n",
    "            \n",
    "    # 폴드 세트 내에서 원본 테스트 데이터를 예측한 데이터를 평균하여 테스트 데이터로 생성 \n",
    "    test_pred_mean = np.mean(test_pred, axis = 1).reshape(-1,1)    \n",
    "    \n",
    "    # train_fold_pred는 최종 메타 모델이 사용하는 학습 데이터\n",
    "    # test_pred_mean은 테스트 데이터\n",
    "    \n",
    "    return train_fold_pred, test_pred_mean"
   ]
  },
  {
   "cell_type": "markdown",
   "metadata": {},
   "source": [
    "**✔ 에러 해결**  \n",
    "```.iloc[]```는 기본적으로 (축의 0부터 길이-1까지의) 정수 위치 기반이지만 bool 배열과 함께 사용할 수도 있음"
   ]
  },
  {
   "cell_type": "code",
   "execution_count": 99,
   "metadata": {},
   "outputs": [],
   "source": [
    "### 학습용, 검증용 데이터 분한\n",
    "\n",
    "from sklearn.model_selection import train_test_split\n",
    "\n",
    "X_train, X_valid, y_train, y_valid = train_test_split(red_X_over,red_y_over, \n",
    "                                                    test_size = 0.2, random_state = 0)"
   ]
  },
  {
   "cell_type": "code",
   "execution_count": 100,
   "metadata": {},
   "outputs": [
    {
     "name": "stdout",
     "output_type": "stream",
     "text": [
      "ExtraTreesClassifier  model 시작\n",
      "\t 폴드 세트:  0  시작 \n",
      "\t 폴드 세트:  1  시작 \n",
      "\t 폴드 세트:  2  시작 \n",
      "\t 폴드 세트:  3  시작 \n",
      "\t 폴드 세트:  4  시작 \n",
      "LGBMClassifier  model 시작\n",
      "\t 폴드 세트:  0  시작 \n",
      "\t 폴드 세트:  1  시작 \n",
      "\t 폴드 세트:  2  시작 \n",
      "\t 폴드 세트:  3  시작 \n",
      "\t 폴드 세트:  4  시작 \n",
      "XGBClassifier  model 시작\n",
      "\t 폴드 세트:  0  시작 \n",
      "\t 폴드 세트:  1  시작 \n",
      "\t 폴드 세트:  2  시작 \n",
      "\t 폴드 세트:  3  시작 \n",
      "\t 폴드 세트:  4  시작 \n"
     ]
    }
   ],
   "source": [
    "### 1. 각 개별 기반 모델 학습\n",
    "# 각 모델별로 메타 모델이 추후에 사용할 학습용/테스트용 데이터 세트를 생성\n",
    "\n",
    "et_train, et_valid = get_stacking_base_datasets(et_opt, X_train, y_train, X_valid, 5)\n",
    "lgbm_train, lgbm_valid = get_stacking_base_datasets(lgbm_opt, X_train, y_train, X_valid, 5)\n",
    "xgb_train, xgb_valid = get_stacking_base_datasets(xgb_opt, X_train, y_train, X_valid,5)    "
   ]
  },
  {
   "cell_type": "code",
   "execution_count": 101,
   "metadata": {},
   "outputs": [
    {
     "name": "stdout",
     "output_type": "stream",
     "text": [
      "최종 메타 모델의 예측 정확도: 0.8268\n"
     ]
    }
   ],
   "source": [
    "### 2. 최종 예측\n",
    "\n",
    "Stack_final_X_train = np.concatenate((et_train, lgbm_train, xgb_train), axis = 1)\n",
    "Stack_final_X_valid = np.concatenate((et_valid, lgbm_valid, xgb_valid), axis = 1)\n",
    "\n",
    "rf_final = RandomForestClassifier(random_state = 0)\n",
    "rf_final.fit(Stack_final_X_train, y_train)\n",
    "stack_final = rf_final.predict(Stack_final_X_valid)\n",
    "\n",
    "print('최종 메타 모델의 예측 정확도: {0:.4f}'.format(accuracy_score(y_valid, stack_final)))"
   ]
  },
  {
   "cell_type": "markdown",
   "metadata": {},
   "source": [
    "- 개별 lgbm 단일 모델의 성능이 더 좋다."
   ]
  },
  {
   "cell_type": "markdown",
   "metadata": {},
   "source": [
    "# **9. 제출 파일 생성**\n",
    "- class: [4,5,6,7]을 [0,1,2,3]으로 변경한 상태\n",
    "    - XGB 에러(클래스가 0부터 시작하길 바람)\n",
    "    - 최종 예측은 각 예측값 + 4 해야 함"
   ]
  },
  {
   "cell_type": "code",
   "execution_count": 102,
   "metadata": {},
   "outputs": [],
   "source": [
    "submission = pd.read_csv('./data/sample_submission.csv')"
   ]
  },
  {
   "cell_type": "code",
   "execution_count": 103,
   "metadata": {},
   "outputs": [
    {
     "data": {
      "text/plain": [
       "LGBMClassifier(boosting_type='dart', learning_rate=0.2, n_estimators=500,\n",
       "               num_leaves=40, random_state=0)"
      ]
     },
     "execution_count": 103,
     "metadata": {},
     "output_type": "execute_result"
    }
   ],
   "source": [
    "from sklearn.ensemble import ExtraTreesClassifier\n",
    "\n",
    "fin_model = LGBMClassifier(boosting_type = 'dart',learning_rate = 0.2,\n",
    "                           n_estimators = 500,num_leaves = 40, random_state = 0)\n",
    "fin_model.fit(red_X_over, red_y_over)"
   ]
  },
  {
   "cell_type": "code",
   "execution_count": 104,
   "metadata": {},
   "outputs": [],
   "source": [
    "y_red_pred = fin_model.predict(red_test)"
   ]
  },
  {
   "cell_type": "code",
   "execution_count": 105,
   "metadata": {},
   "outputs": [
    {
     "data": {
      "text/html": [
       "<div>\n",
       "<style scoped>\n",
       "    .dataframe tbody tr th:only-of-type {\n",
       "        vertical-align: middle;\n",
       "    }\n",
       "\n",
       "    .dataframe tbody tr th {\n",
       "        vertical-align: top;\n",
       "    }\n",
       "\n",
       "    .dataframe thead th {\n",
       "        text-align: right;\n",
       "    }\n",
       "</style>\n",
       "<table border=\"1\" class=\"dataframe\">\n",
       "  <thead>\n",
       "    <tr style=\"text-align: right;\">\n",
       "      <th></th>\n",
       "      <th>index</th>\n",
       "      <th>quality</th>\n",
       "    </tr>\n",
       "  </thead>\n",
       "  <tbody>\n",
       "    <tr>\n",
       "      <th>0</th>\n",
       "      <td>0</td>\n",
       "      <td>0</td>\n",
       "    </tr>\n",
       "    <tr>\n",
       "      <th>1</th>\n",
       "      <td>1</td>\n",
       "      <td>6</td>\n",
       "    </tr>\n",
       "    <tr>\n",
       "      <th>2</th>\n",
       "      <td>2</td>\n",
       "      <td>0</td>\n",
       "    </tr>\n",
       "    <tr>\n",
       "      <th>3</th>\n",
       "      <td>3</td>\n",
       "      <td>0</td>\n",
       "    </tr>\n",
       "    <tr>\n",
       "      <th>4</th>\n",
       "      <td>4</td>\n",
       "      <td>0</td>\n",
       "    </tr>\n",
       "    <tr>\n",
       "      <th>...</th>\n",
       "      <td>...</td>\n",
       "      <td>...</td>\n",
       "    </tr>\n",
       "    <tr>\n",
       "      <th>995</th>\n",
       "      <td>995</td>\n",
       "      <td>6</td>\n",
       "    </tr>\n",
       "    <tr>\n",
       "      <th>996</th>\n",
       "      <td>996</td>\n",
       "      <td>0</td>\n",
       "    </tr>\n",
       "    <tr>\n",
       "      <th>997</th>\n",
       "      <td>997</td>\n",
       "      <td>5</td>\n",
       "    </tr>\n",
       "    <tr>\n",
       "      <th>998</th>\n",
       "      <td>998</td>\n",
       "      <td>6</td>\n",
       "    </tr>\n",
       "    <tr>\n",
       "      <th>999</th>\n",
       "      <td>999</td>\n",
       "      <td>0</td>\n",
       "    </tr>\n",
       "  </tbody>\n",
       "</table>\n",
       "<p>1000 rows × 2 columns</p>\n",
       "</div>"
      ],
      "text/plain": [
       "     index  quality\n",
       "0        0        0\n",
       "1        1        6\n",
       "2        2        0\n",
       "3        3        0\n",
       "4        4        0\n",
       "..     ...      ...\n",
       "995    995        6\n",
       "996    996        0\n",
       "997    997        5\n",
       "998    998        6\n",
       "999    999        0\n",
       "\n",
       "[1000 rows x 2 columns]"
      ]
     },
     "execution_count": 105,
     "metadata": {},
     "output_type": "execute_result"
    }
   ],
   "source": [
    "submission.iloc[red_idx,-1] =  y_red_pred + 4\n",
    "submission"
   ]
  },
  {
   "cell_type": "code",
   "execution_count": 106,
   "metadata": {},
   "outputs": [],
   "source": [
    "# csv 파일로 저장\n",
    "\n",
    "submission.to_csv('./data/red_submission.csv', index = False)"
   ]
  }
 ],
 "metadata": {
  "kernelspec": {
   "display_name": "Python 3 (ipykernel)",
   "language": "python",
   "name": "python3"
  },
  "language_info": {
   "codemirror_mode": {
    "name": "ipython",
    "version": 3
   },
   "file_extension": ".py",
   "mimetype": "text/x-python",
   "name": "python",
   "nbconvert_exporter": "python",
   "pygments_lexer": "ipython3",
   "version": "3.8.9"
  }
 },
 "nbformat": 4,
 "nbformat_minor": 4
}
