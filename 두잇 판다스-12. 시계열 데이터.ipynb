{
  "nbformat": 4,
  "nbformat_minor": 0,
  "metadata": {
    "colab": {
      "provenance": [],
      "mount_file_id": "16dOb9J29AOwvm7OOP-fSHDV8iwTdaZbG",
      "authorship_tag": "ABX9TyODD6Wzn9vJN/Neq9s1dQq3",
      "include_colab_link": true
    },
    "kernelspec": {
      "name": "python3",
      "display_name": "Python 3"
    },
    "language_info": {
      "name": "python"
    }
  },
  "cells": [
    {
      "cell_type": "markdown",
      "metadata": {
        "id": "view-in-github",
        "colab_type": "text"
      },
      "source": [
        "<a href=\"https://colab.research.google.com/github/chasubeen/ESAA_8th_YB/blob/Week_5/%EB%91%90%EC%9E%87%20%ED%8C%90%EB%8B%A4%EC%8A%A4-12.%20%EC%8B%9C%EA%B3%84%EC%97%B4%20%EB%8D%B0%EC%9D%B4%ED%84%B0.ipynb\" target=\"_parent\"><img src=\"https://colab.research.google.com/assets/colab-badge.svg\" alt=\"Open In Colab\"/></a>"
      ]
    },
    {
      "cell_type": "markdown",
      "source": [
        "# **1. datetime 오브젝트**"
      ],
      "metadata": {
        "id": "9GQdCjN-0FBW"
      }
    },
    {
      "cell_type": "markdown",
      "source": [
        "### **1-1. datetime 오브젝트 사용하기(월 과제)**\n",
        "- 날짜와 시간을 처리하는 등의 다양한 기능을 제공하는 파이썬 라이브러리\n",
        "- 날짜를 처리하는 ```date``` 오브젝트, 시간을 처리하는 ```time``` 오브젝트, 날짜와 시간을 모두 처리하는 ```datetime``` 오브젝트가 포함되어 있음"
      ],
      "metadata": {
        "id": "e4XXT0pf0PLd"
      }
    },
    {
      "cell_type": "code",
      "source": [
        "from datetime import datetime"
      ],
      "metadata": {
        "id": "YKPdl53609DV"
      },
      "execution_count": 1,
      "outputs": []
    },
    {
      "cell_type": "code",
      "source": [
        "# 현재 시간 출력\n",
        "\n",
        "now1 = datetime.now() \n",
        "print(now1)\n",
        "\n",
        "now2 = datetime.today()\n",
        "print(now2) "
      ],
      "metadata": {
        "colab": {
          "base_uri": "https://localhost:8080/"
        },
        "id": "rr7yuJ551oZU",
        "outputId": "134ebbce-bda6-4306-fd6f-59f6718bfc59"
      },
      "execution_count": 2,
      "outputs": [
        {
          "output_type": "stream",
          "name": "stdout",
          "text": [
            "2023-04-08 17:09:49.679930\n",
            "2023-04-08 17:09:49.681379\n"
          ]
        }
      ]
    },
    {
      "cell_type": "code",
      "source": [
        "t1 = datetime.now() \n",
        "t2 = datetime(1970, 1, 1)\n",
        "t3 = datetime(1970, 12, 12, 13, 24, 34)\n",
        "\n",
        "print(t1)\n",
        "print(t2)\n",
        "print(t3)"
      ],
      "metadata": {
        "colab": {
          "base_uri": "https://localhost:8080/"
        },
        "id": "b4Nlor561pmS",
        "outputId": "8c1b389b-3972-4e01-a578-0f3dce19ff8c"
      },
      "execution_count": 3,
      "outputs": [
        {
          "output_type": "stream",
          "name": "stdout",
          "text": [
            "2023-04-08 17:09:49.699162\n",
            "1970-01-01 00:00:00\n",
            "1970-12-12 13:24:34\n"
          ]
        }
      ]
    },
    {
      "cell_type": "code",
      "source": [
        "# 시간 계산\n",
        "\n",
        "diff1 = t1 - t2\n",
        "\n",
        "print(diff1)\n",
        "print(type(diff1))"
      ],
      "metadata": {
        "colab": {
          "base_uri": "https://localhost:8080/"
        },
        "id": "QFQH4ZfU2JXW",
        "outputId": "240bafa7-456e-439e-d341-8effaaeec673"
      },
      "execution_count": 4,
      "outputs": [
        {
          "output_type": "stream",
          "name": "stdout",
          "text": [
            "19455 days, 17:09:49.699162\n",
            "<class 'datetime.timedelta'>\n"
          ]
        }
      ]
    },
    {
      "cell_type": "code",
      "source": [
        "diff2 = t2 - t1\n",
        "\n",
        "print(diff2)\n",
        "print(type(diff2))"
      ],
      "metadata": {
        "colab": {
          "base_uri": "https://localhost:8080/"
        },
        "id": "SacMeob13Y3M",
        "outputId": "b854e615-9003-4e74-b512-e8040c13da6f"
      },
      "execution_count": 5,
      "outputs": [
        {
          "output_type": "stream",
          "name": "stdout",
          "text": [
            "-19456 days, 6:50:10.300838\n",
            "<class 'datetime.timedelta'>\n"
          ]
        }
      ]
    },
    {
      "cell_type": "markdown",
      "source": [
        "### **1-2. to_datetime()**"
      ],
      "metadata": {
        "id": "U2sYhcrO2DVn"
      }
    },
    {
      "cell_type": "code",
      "source": [
        "### 데이터 불러오기\n",
        "\n",
        "import pandas as pd \n",
        "import os\n",
        "\n",
        "ebola = pd.read_csv('/content/drive/MyDrive/Colab Notebooks/ESAA 8기/YB/5주차/country_timeseries.csv')"
      ],
      "metadata": {
        "id": "oxvrPOjn2Pr7"
      },
      "execution_count": 6,
      "outputs": []
    },
    {
      "cell_type": "code",
      "source": [
        "print(ebola.info())"
      ],
      "metadata": {
        "colab": {
          "base_uri": "https://localhost:8080/"
        },
        "id": "nKgxu-gU21-D",
        "outputId": "40c4696e-f49a-430a-ece3-cee9b8dad3ca"
      },
      "execution_count": 7,
      "outputs": [
        {
          "output_type": "stream",
          "name": "stdout",
          "text": [
            "<class 'pandas.core.frame.DataFrame'>\n",
            "RangeIndex: 122 entries, 0 to 121\n",
            "Data columns (total 18 columns):\n",
            " #   Column               Non-Null Count  Dtype  \n",
            "---  ------               --------------  -----  \n",
            " 0   Date                 122 non-null    object \n",
            " 1   Day                  122 non-null    int64  \n",
            " 2   Cases_Guinea         93 non-null     float64\n",
            " 3   Cases_Liberia        83 non-null     float64\n",
            " 4   Cases_SierraLeone    87 non-null     float64\n",
            " 5   Cases_Nigeria        38 non-null     float64\n",
            " 6   Cases_Senegal        25 non-null     float64\n",
            " 7   Cases_UnitedStates   18 non-null     float64\n",
            " 8   Cases_Spain          16 non-null     float64\n",
            " 9   Cases_Mali           12 non-null     float64\n",
            " 10  Deaths_Guinea        92 non-null     float64\n",
            " 11  Deaths_Liberia       81 non-null     float64\n",
            " 12  Deaths_SierraLeone   87 non-null     float64\n",
            " 13  Deaths_Nigeria       38 non-null     float64\n",
            " 14  Deaths_Senegal       22 non-null     float64\n",
            " 15  Deaths_UnitedStates  18 non-null     float64\n",
            " 16  Deaths_Spain         16 non-null     float64\n",
            " 17  Deaths_Mali          12 non-null     float64\n",
            "dtypes: float64(16), int64(1), object(1)\n",
            "memory usage: 17.3+ KB\n",
            "None\n"
          ]
        }
      ]
    },
    {
      "cell_type": "markdown",
      "source": [
        "- **문자열**로 저장된 Date 열이 있는 것을 확인할 수 있음"
      ],
      "metadata": {
        "id": "j3fzWP2825H-"
      }
    },
    {
      "cell_type": "code",
      "source": [
        "### 문자열 -> datetime 오브젝트\n",
        "\n",
        "ebola['date_dt'] = pd.to_datetime(ebola['Date'])\n",
        "print(ebola.info())"
      ],
      "metadata": {
        "colab": {
          "base_uri": "https://localhost:8080/"
        },
        "id": "tyM5f-Ig3Cz2",
        "outputId": "530a972e-0f94-43f8-a0f2-9a27fe5549a3"
      },
      "execution_count": 8,
      "outputs": [
        {
          "output_type": "stream",
          "name": "stdout",
          "text": [
            "<class 'pandas.core.frame.DataFrame'>\n",
            "RangeIndex: 122 entries, 0 to 121\n",
            "Data columns (total 19 columns):\n",
            " #   Column               Non-Null Count  Dtype         \n",
            "---  ------               --------------  -----         \n",
            " 0   Date                 122 non-null    object        \n",
            " 1   Day                  122 non-null    int64         \n",
            " 2   Cases_Guinea         93 non-null     float64       \n",
            " 3   Cases_Liberia        83 non-null     float64       \n",
            " 4   Cases_SierraLeone    87 non-null     float64       \n",
            " 5   Cases_Nigeria        38 non-null     float64       \n",
            " 6   Cases_Senegal        25 non-null     float64       \n",
            " 7   Cases_UnitedStates   18 non-null     float64       \n",
            " 8   Cases_Spain          16 non-null     float64       \n",
            " 9   Cases_Mali           12 non-null     float64       \n",
            " 10  Deaths_Guinea        92 non-null     float64       \n",
            " 11  Deaths_Liberia       81 non-null     float64       \n",
            " 12  Deaths_SierraLeone   87 non-null     float64       \n",
            " 13  Deaths_Nigeria       38 non-null     float64       \n",
            " 14  Deaths_Senegal       22 non-null     float64       \n",
            " 15  Deaths_UnitedStates  18 non-null     float64       \n",
            " 16  Deaths_Spain         16 non-null     float64       \n",
            " 17  Deaths_Mali          12 non-null     float64       \n",
            " 18  date_dt              122 non-null    datetime64[ns]\n",
            "dtypes: datetime64[ns](1), float64(16), int64(1), object(1)\n",
            "memory usage: 18.2+ KB\n",
            "None\n"
          ]
        }
      ]
    },
    {
      "cell_type": "code",
      "source": [
        "### 시간 형식 지정\n",
        "\n",
        "test_df1 = pd.DataFrame({'order_day':['01/01/15', '02/01/15', '03/01/15']})\n",
        "\n",
        "test_df1['date_dt1'] = pd.to_datetime(test_df1['order_day'], format='%d/%m/%y')\n",
        "test_df1['date_dt2'] = pd.to_datetime(test_df1['order_day'], format='%m/%d/%y')\n",
        "test_df1['date_dt3'] = pd.to_datetime(test_df1['order_day'], format='%y/%m/%d')\n",
        "\n",
        "print(test_df1)"
      ],
      "metadata": {
        "colab": {
          "base_uri": "https://localhost:8080/"
        },
        "id": "sqO_3du73Qbt",
        "outputId": "72b0a38b-9250-493a-cfeb-b152d4a1b4dc"
      },
      "execution_count": 9,
      "outputs": [
        {
          "output_type": "stream",
          "name": "stdout",
          "text": [
            "  order_day   date_dt1   date_dt2   date_dt3\n",
            "0  01/01/15 2015-01-01 2015-01-01 2001-01-15\n",
            "1  02/01/15 2015-01-02 2015-02-01 2002-01-15\n",
            "2  03/01/15 2015-01-03 2015-03-01 2003-01-15\n"
          ]
        }
      ]
    },
    {
      "cell_type": "code",
      "source": [
        "test_df2 = pd.DataFrame({'order_day':['01-01-15', '02-01-15', '03-01-15']})\n",
        "test_df2['date_dt'] = pd.to_datetime(test_df2['order_day'], format='%d-%m-%y')\n",
        "\n",
        "print(test_df2)"
      ],
      "metadata": {
        "colab": {
          "base_uri": "https://localhost:8080/"
        },
        "id": "oUIzuknC43Ta",
        "outputId": "1934df0c-42c0-4a8b-830f-a2def81e278c"
      },
      "execution_count": 10,
      "outputs": [
        {
          "output_type": "stream",
          "name": "stdout",
          "text": [
            "  order_day    date_dt\n",
            "0  01-01-15 2015-01-01\n",
            "1  02-01-15 2015-01-02\n",
            "2  03-01-15 2015-01-03\n"
          ]
        }
      ]
    },
    {
      "cell_type": "code",
      "source": [
        "### 특정 시간 단위까지만 출력하기\n",
        "\n",
        "now = datetime.now()\n",
        "print(now)"
      ],
      "metadata": {
        "colab": {
          "base_uri": "https://localhost:8080/"
        },
        "id": "3dKRcoj83yua",
        "outputId": "595d3bc1-dd79-4315-de22-f8058989cb3f"
      },
      "execution_count": 11,
      "outputs": [
        {
          "output_type": "stream",
          "name": "stdout",
          "text": [
            "2023-04-08 17:22:36.916302\n"
          ]
        }
      ]
    },
    {
      "cell_type": "code",
      "source": [
        "nowDate = now.strftime('%Y-%m-%d')\n",
        "print(nowDate)"
      ],
      "metadata": {
        "colab": {
          "base_uri": "https://localhost:8080/"
        },
        "id": "mR8-rDyQ5DK6",
        "outputId": "58df828d-9efd-459b-b3bd-4b0aa845ae49"
      },
      "execution_count": 12,
      "outputs": [
        {
          "output_type": "stream",
          "name": "stdout",
          "text": [
            "2023-04-08\n"
          ]
        }
      ]
    },
    {
      "cell_type": "code",
      "source": [
        "nowTime = now.strftime('%H:%M:%S')\n",
        "print(nowTime) "
      ],
      "metadata": {
        "colab": {
          "base_uri": "https://localhost:8080/"
        },
        "id": "uqQHe6745ETz",
        "outputId": "92177ca1-f225-4202-ba98-33b2c8a86ad7"
      },
      "execution_count": 13,
      "outputs": [
        {
          "output_type": "stream",
          "name": "stdout",
          "text": [
            "17:22:36\n"
          ]
        }
      ]
    },
    {
      "cell_type": "code",
      "source": [
        "nowDatetime = now.strftime('%Y-%m-%d %H:%M:%S')\n",
        "print(nowDatetime) "
      ],
      "metadata": {
        "colab": {
          "base_uri": "https://localhost:8080/"
        },
        "id": "7vKF6Anu5GIS",
        "outputId": "50fa60ef-8331-46f4-ff17-b5d43994b0f4"
      },
      "execution_count": 14,
      "outputs": [
        {
          "output_type": "stream",
          "name": "stdout",
          "text": [
            "2023-04-08 17:22:36\n"
          ]
        }
      ]
    },
    {
      "cell_type": "markdown",
      "source": [
        "### **1-3. read_csv()**"
      ],
      "metadata": {
        "id": "Z29qSDxy5h1Z"
      }
    },
    {
      "cell_type": "code",
      "source": [
        "ebola1 = pd.read_csv('/content/drive/MyDrive/Colab Notebooks/ESAA 8기/YB/5주차/country_timeseries.csv', parse_dates=['Date']) \n",
        "print(ebola1.info())"
      ],
      "metadata": {
        "colab": {
          "base_uri": "https://localhost:8080/"
        },
        "id": "2Pg0MFy55s-u",
        "outputId": "fff02843-ee9c-41f7-ad5a-4bb4f971323c"
      },
      "execution_count": 15,
      "outputs": [
        {
          "output_type": "stream",
          "name": "stdout",
          "text": [
            "<class 'pandas.core.frame.DataFrame'>\n",
            "RangeIndex: 122 entries, 0 to 121\n",
            "Data columns (total 18 columns):\n",
            " #   Column               Non-Null Count  Dtype         \n",
            "---  ------               --------------  -----         \n",
            " 0   Date                 122 non-null    datetime64[ns]\n",
            " 1   Day                  122 non-null    int64         \n",
            " 2   Cases_Guinea         93 non-null     float64       \n",
            " 3   Cases_Liberia        83 non-null     float64       \n",
            " 4   Cases_SierraLeone    87 non-null     float64       \n",
            " 5   Cases_Nigeria        38 non-null     float64       \n",
            " 6   Cases_Senegal        25 non-null     float64       \n",
            " 7   Cases_UnitedStates   18 non-null     float64       \n",
            " 8   Cases_Spain          16 non-null     float64       \n",
            " 9   Cases_Mali           12 non-null     float64       \n",
            " 10  Deaths_Guinea        92 non-null     float64       \n",
            " 11  Deaths_Liberia       81 non-null     float64       \n",
            " 12  Deaths_SierraLeone   87 non-null     float64       \n",
            " 13  Deaths_Nigeria       38 non-null     float64       \n",
            " 14  Deaths_Senegal       22 non-null     float64       \n",
            " 15  Deaths_UnitedStates  18 non-null     float64       \n",
            " 16  Deaths_Spain         16 non-null     float64       \n",
            " 17  Deaths_Mali          12 non-null     float64       \n",
            "dtypes: datetime64[ns](1), float64(16), int64(1)\n",
            "memory usage: 17.3 KB\n",
            "None\n"
          ]
        }
      ]
    },
    {
      "cell_type": "markdown",
      "source": [
        "### **1-4. 날짜 정보 추출하기**"
      ],
      "metadata": {
        "id": "ApkougPM6A6l"
      }
    },
    {
      "cell_type": "code",
      "source": [
        "date_series = pd.Series(['2018-05-16', '2018-05-17', '2018-05-18'])\n",
        "d1 = pd.to_datetime(date_series) \n",
        "print(d1)"
      ],
      "metadata": {
        "colab": {
          "base_uri": "https://localhost:8080/"
        },
        "id": "blxVFZ9L6D73",
        "outputId": "2ae01fa3-8f8c-4684-ceae-da4e32ec5a0c"
      },
      "execution_count": 16,
      "outputs": [
        {
          "output_type": "stream",
          "name": "stdout",
          "text": [
            "0   2018-05-16\n",
            "1   2018-05-17\n",
            "2   2018-05-18\n",
            "dtype: datetime64[ns]\n"
          ]
        }
      ]
    },
    {
      "cell_type": "code",
      "source": [
        "print(d1[0].year)"
      ],
      "metadata": {
        "colab": {
          "base_uri": "https://localhost:8080/"
        },
        "id": "mrc1AO1s9DIP",
        "outputId": "38985008-5ae2-4fdd-ccd1-bf749ea0d681"
      },
      "execution_count": 17,
      "outputs": [
        {
          "output_type": "stream",
          "name": "stdout",
          "text": [
            "2018\n"
          ]
        }
      ]
    },
    {
      "cell_type": "code",
      "source": [
        "print(d1[0].month)"
      ],
      "metadata": {
        "colab": {
          "base_uri": "https://localhost:8080/"
        },
        "id": "3ofS3gB39FsJ",
        "outputId": "6af00f5f-da1a-42fc-bfda-c7e35bdc2be9"
      },
      "execution_count": 18,
      "outputs": [
        {
          "output_type": "stream",
          "name": "stdout",
          "text": [
            "5\n"
          ]
        }
      ]
    },
    {
      "cell_type": "code",
      "source": [
        "print(d1[0].day)"
      ],
      "metadata": {
        "colab": {
          "base_uri": "https://localhost:8080/"
        },
        "id": "zilKHhvM9jWX",
        "outputId": "bbea2d73-ef78-4f11-f86d-70c3ae87894c"
      },
      "execution_count": 19,
      "outputs": [
        {
          "output_type": "stream",
          "name": "stdout",
          "text": [
            "16\n"
          ]
        }
      ]
    },
    {
      "cell_type": "markdown",
      "source": [
        "### **1-5. dt 접근자**"
      ],
      "metadata": {
        "id": "b2ZGAZDa9TdB"
      }
    },
    {
      "cell_type": "code",
      "source": [
        "ebola = pd.read_csv('/content/drive/MyDrive/Colab Notebooks/ESAA 8기/YB/5주차/country_timeseries.csv') \n",
        "ebola['date_dt'] = pd.to_datetime(ebola['Date'])"
      ],
      "metadata": {
        "id": "bM_oyEhH9hol"
      },
      "execution_count": 20,
      "outputs": []
    },
    {
      "cell_type": "code",
      "source": [
        "### dt 접근자 사용 x\n",
        "\n",
        "print(ebola[['Date', 'date_dt']].head())"
      ],
      "metadata": {
        "colab": {
          "base_uri": "https://localhost:8080/"
        },
        "id": "M7zrEY8j9q3R",
        "outputId": "b5953345-8851-486c-d628-fb0fdf7765a7"
      },
      "execution_count": 21,
      "outputs": [
        {
          "output_type": "stream",
          "name": "stdout",
          "text": [
            "         Date    date_dt\n",
            "0    1/5/2015 2015-01-05\n",
            "1    1/4/2015 2015-01-04\n",
            "2    1/3/2015 2015-01-03\n",
            "3    1/2/2015 2015-01-02\n",
            "4  12/31/2014 2014-12-31\n"
          ]
        }
      ]
    },
    {
      "cell_type": "code",
      "source": [
        "print(ebola['date_dt'][3].year)"
      ],
      "metadata": {
        "colab": {
          "base_uri": "https://localhost:8080/"
        },
        "id": "T_IWOzgt9vcN",
        "outputId": "183dd442-22f4-4793-f402-1fc944c0fd04"
      },
      "execution_count": 22,
      "outputs": [
        {
          "output_type": "stream",
          "name": "stdout",
          "text": [
            "2015\n"
          ]
        }
      ]
    },
    {
      "cell_type": "code",
      "source": [
        "print(ebola['date_dt'][3].month)"
      ],
      "metadata": {
        "colab": {
          "base_uri": "https://localhost:8080/"
        },
        "id": "grqwyasj9zD3",
        "outputId": "1aa0a8de-646f-463c-a9f9-821af123b52b"
      },
      "execution_count": 23,
      "outputs": [
        {
          "output_type": "stream",
          "name": "stdout",
          "text": [
            "1\n"
          ]
        }
      ]
    },
    {
      "cell_type": "code",
      "source": [
        "print(ebola['date_dt'][3].day)"
      ],
      "metadata": {
        "colab": {
          "base_uri": "https://localhost:8080/"
        },
        "id": "W6tmtAmt91kA",
        "outputId": "de263968-7514-405d-f4e5-a02afddce812"
      },
      "execution_count": 24,
      "outputs": [
        {
          "output_type": "stream",
          "name": "stdout",
          "text": [
            "2\n"
          ]
        }
      ]
    },
    {
      "cell_type": "code",
      "source": [
        "### dt 접근자 활용\n",
        "\n",
        "ebola['year'] = ebola['date_dt'].dt.year\n",
        "print(ebola[['Date', 'date_dt', 'year']].head())"
      ],
      "metadata": {
        "colab": {
          "base_uri": "https://localhost:8080/"
        },
        "id": "ZQ3VFE2793xl",
        "outputId": "d05457a1-60ff-49a1-bfd7-c15ff74a52df"
      },
      "execution_count": 25,
      "outputs": [
        {
          "output_type": "stream",
          "name": "stdout",
          "text": [
            "         Date    date_dt  year\n",
            "0    1/5/2015 2015-01-05  2015\n",
            "1    1/4/2015 2015-01-04  2015\n",
            "2    1/3/2015 2015-01-03  2015\n",
            "3    1/2/2015 2015-01-02  2015\n",
            "4  12/31/2014 2014-12-31  2014\n"
          ]
        }
      ]
    },
    {
      "cell_type": "code",
      "source": [
        "ebola['month'], ebola['day'] = (ebola['date_dt'].dt.month, ebola['date_dt'].dt.day)\n",
        "\n",
        "print(ebola[['Date', 'date_dt', 'year', 'month', 'day']].head())"
      ],
      "metadata": {
        "colab": {
          "base_uri": "https://localhost:8080/"
        },
        "id": "kIbRwPys-F5l",
        "outputId": "d86f0bf7-50e2-438d-c44b-601d29933abf"
      },
      "execution_count": 26,
      "outputs": [
        {
          "output_type": "stream",
          "name": "stdout",
          "text": [
            "         Date    date_dt  year  month  day\n",
            "0    1/5/2015 2015-01-05  2015      1    5\n",
            "1    1/4/2015 2015-01-04  2015      1    4\n",
            "2    1/3/2015 2015-01-03  2015      1    3\n",
            "3    1/2/2015 2015-01-02  2015      1    2\n",
            "4  12/31/2014 2014-12-31  2014     12   31\n"
          ]
        }
      ]
    },
    {
      "cell_type": "code",
      "source": [
        "print(ebola.info())"
      ],
      "metadata": {
        "colab": {
          "base_uri": "https://localhost:8080/"
        },
        "id": "H3gg-7Km-RWO",
        "outputId": "3003d47a-15d4-4c91-a1bb-0e5184aedaef"
      },
      "execution_count": 27,
      "outputs": [
        {
          "output_type": "stream",
          "name": "stdout",
          "text": [
            "<class 'pandas.core.frame.DataFrame'>\n",
            "RangeIndex: 122 entries, 0 to 121\n",
            "Data columns (total 22 columns):\n",
            " #   Column               Non-Null Count  Dtype         \n",
            "---  ------               --------------  -----         \n",
            " 0   Date                 122 non-null    object        \n",
            " 1   Day                  122 non-null    int64         \n",
            " 2   Cases_Guinea         93 non-null     float64       \n",
            " 3   Cases_Liberia        83 non-null     float64       \n",
            " 4   Cases_SierraLeone    87 non-null     float64       \n",
            " 5   Cases_Nigeria        38 non-null     float64       \n",
            " 6   Cases_Senegal        25 non-null     float64       \n",
            " 7   Cases_UnitedStates   18 non-null     float64       \n",
            " 8   Cases_Spain          16 non-null     float64       \n",
            " 9   Cases_Mali           12 non-null     float64       \n",
            " 10  Deaths_Guinea        92 non-null     float64       \n",
            " 11  Deaths_Liberia       81 non-null     float64       \n",
            " 12  Deaths_SierraLeone   87 non-null     float64       \n",
            " 13  Deaths_Nigeria       38 non-null     float64       \n",
            " 14  Deaths_Senegal       22 non-null     float64       \n",
            " 15  Deaths_UnitedStates  18 non-null     float64       \n",
            " 16  Deaths_Spain         16 non-null     float64       \n",
            " 17  Deaths_Mali          12 non-null     float64       \n",
            " 18  date_dt              122 non-null    datetime64[ns]\n",
            " 19  year                 122 non-null    int64         \n",
            " 20  month                122 non-null    int64         \n",
            " 21  day                  122 non-null    int64         \n",
            "dtypes: datetime64[ns](1), float64(16), int64(4), object(1)\n",
            "memory usage: 21.1+ KB\n",
            "None\n"
          ]
        }
      ]
    },
    {
      "cell_type": "markdown",
      "source": [
        "- ```date_dt```열은 **datetime** 오브젝트이고 나머지는 정수형임"
      ],
      "metadata": {
        "id": "Cjy2Arzj-Tkj"
      }
    },
    {
      "cell_type": "markdown",
      "source": [
        "# **2. 사례별 시계열 데이터 계산하기**"
      ],
      "metadata": {
        "id": "DNCJuG-k-hU4"
      }
    },
    {
      "cell_type": "markdown",
      "source": [
        "### **2-1. 에볼라 최초 발병일 계산하기**"
      ],
      "metadata": {
        "id": "zn_9r3Vw-jwN"
      }
    },
    {
      "cell_type": "code",
      "source": [
        "# 시간이 \"역순\"으로 정렬된 상태여서 뒤에서부터 본다.\n",
        "\n",
        "print(ebola.iloc[-5:, :5])"
      ],
      "metadata": {
        "colab": {
          "base_uri": "https://localhost:8080/"
        },
        "id": "Rr9GtsRo-pFm",
        "outputId": "91d8e337-9321-4048-b394-d7950de027a2"
      },
      "execution_count": 28,
      "outputs": [
        {
          "output_type": "stream",
          "name": "stdout",
          "text": [
            "          Date  Day  Cases_Guinea  Cases_Liberia  Cases_SierraLeone\n",
            "117  3/27/2014    5         103.0            8.0                6.0\n",
            "118  3/26/2014    4          86.0            NaN                NaN\n",
            "119  3/25/2014    3          86.0            NaN                NaN\n",
            "120  3/24/2014    2          86.0            NaN                NaN\n",
            "121  3/22/2014    0          49.0            NaN                NaN\n"
          ]
        }
      ]
    },
    {
      "cell_type": "code",
      "source": [
        "# 최초 발병일\n",
        "\n",
        "print(ebola['date_dt'].min())\n",
        "print(type(ebola['date_dt'].min()))"
      ],
      "metadata": {
        "colab": {
          "base_uri": "https://localhost:8080/"
        },
        "id": "lJQj1u-A-vaQ",
        "outputId": "6bb5be20-3483-4a61-e5e0-e9d3422cf94b"
      },
      "execution_count": 29,
      "outputs": [
        {
          "output_type": "stream",
          "name": "stdout",
          "text": [
            "2014-03-22 00:00:00\n",
            "<class 'pandas._libs.tslibs.timestamps.Timestamp'>\n"
          ]
        }
      ]
    },
    {
      "cell_type": "code",
      "source": [
        "# 에볼라의 진행 정도 파악\n",
        "# (현재 일) - (최초 발병일)\n",
        "\n",
        "ebola['outbreak_d'] = ebola['date_dt'] - ebola['date_dt'].min()\n",
        "\n",
        "print(ebola[['Date', 'Day', 'outbreak_d']].head())"
      ],
      "metadata": {
        "colab": {
          "base_uri": "https://localhost:8080/"
        },
        "id": "4YTAy_sk-40q",
        "outputId": "7384d5e2-64fe-4ac1-b144-05fb96475ca8"
      },
      "execution_count": 30,
      "outputs": [
        {
          "output_type": "stream",
          "name": "stdout",
          "text": [
            "         Date  Day outbreak_d\n",
            "0    1/5/2015  289   289 days\n",
            "1    1/4/2015  288   288 days\n",
            "2    1/3/2015  287   287 days\n",
            "3    1/2/2015  286   286 days\n",
            "4  12/31/2014  284   284 days\n"
          ]
        }
      ]
    },
    {
      "cell_type": "markdown",
      "source": [
        "### **2-2. 파산한 은행의 개수 계산하기**"
      ],
      "metadata": {
        "id": "nKRlPif9_IeZ"
      }
    },
    {
      "cell_type": "code",
      "source": [
        "banks = pd.read_csv('/content/drive/MyDrive/Colab Notebooks/ESAA 8기/YB/5주차/banklist.csv') \n",
        "print(banks.head())"
      ],
      "metadata": {
        "colab": {
          "base_uri": "https://localhost:8080/"
        },
        "id": "9YkmE2mZ_L2M",
        "outputId": "5e3d805c-2a6f-4747-906f-798998bd7701"
      },
      "execution_count": 31,
      "outputs": [
        {
          "output_type": "stream",
          "name": "stdout",
          "text": [
            "                                           Bank Name         City  ST   CERT  \\\n",
            "0                Washington Federal Bank for Savings      Chicago  IL  30570   \n",
            "1    The Farmers and Merchants State Bank of Argonia      Argonia  KS  17719   \n",
            "2                                Fayette County Bank   Saint Elmo  IL   1802   \n",
            "3  Guaranty Bank, (d/b/a BestBank in Georgia & Mi...    Milwaukee  WI  30003   \n",
            "4                                     First NBC Bank  New Orleans  LA  58302   \n",
            "\n",
            "                 Acquiring Institution Closing Date Updated Date  \n",
            "0                   Royal Savings Bank    15-Dec-17    20-Dec-17  \n",
            "1                          Conway Bank    13-Oct-17    20-Oct-17  \n",
            "2            United Fidelity Bank, fsb    26-May-17    26-Jul-17  \n",
            "3  First-Citizens Bank & Trust Company     5-May-17    26-Jul-17  \n",
            "4                         Whitney Bank    28-Apr-17     5-Dec-17  \n"
          ]
        }
      ]
    },
    {
      "cell_type": "code",
      "source": [
        "banks_no_dates = pd.read_csv('/content/drive/MyDrive/Colab Notebooks/ESAA 8기/YB/5주차/banklist.csv')\n",
        "print(banks_no_dates.info())"
      ],
      "metadata": {
        "colab": {
          "base_uri": "https://localhost:8080/"
        },
        "id": "ZYAYBbdU_qG-",
        "outputId": "f0d6cf09-2e96-467d-c00e-f06333be6983"
      },
      "execution_count": 32,
      "outputs": [
        {
          "output_type": "stream",
          "name": "stdout",
          "text": [
            "<class 'pandas.core.frame.DataFrame'>\n",
            "RangeIndex: 555 entries, 0 to 554\n",
            "Data columns (total 7 columns):\n",
            " #   Column                 Non-Null Count  Dtype \n",
            "---  ------                 --------------  ----- \n",
            " 0   Bank Name              555 non-null    object\n",
            " 1   City                   555 non-null    object\n",
            " 2   ST                     555 non-null    object\n",
            " 3   CERT                   555 non-null    int64 \n",
            " 4   Acquiring Institution  555 non-null    object\n",
            " 5   Closing Date           555 non-null    object\n",
            " 6   Updated Date           555 non-null    object\n",
            "dtypes: int64(1), object(6)\n",
            "memory usage: 30.5+ KB\n",
            "None\n"
          ]
        }
      ]
    },
    {
      "cell_type": "code",
      "source": [
        "# read_csv 메서드의 parse_dates 속성을 활용하여 datetime으로 특정 열 지정\n",
        "\n",
        "banks = pd.read_csv('/content/drive/MyDrive/Colab Notebooks/ESAA 8기/YB/5주차/banklist.csv', parse_dates=[5, 6]) \n",
        "print(banks.info())"
      ],
      "metadata": {
        "colab": {
          "base_uri": "https://localhost:8080/"
        },
        "id": "OLe-xXRj_c6X",
        "outputId": "7aa25881-51ee-41dc-e770-7ecf02a5a12f"
      },
      "execution_count": 33,
      "outputs": [
        {
          "output_type": "stream",
          "name": "stdout",
          "text": [
            "<class 'pandas.core.frame.DataFrame'>\n",
            "RangeIndex: 555 entries, 0 to 554\n",
            "Data columns (total 7 columns):\n",
            " #   Column                 Non-Null Count  Dtype         \n",
            "---  ------                 --------------  -----         \n",
            " 0   Bank Name              555 non-null    object        \n",
            " 1   City                   555 non-null    object        \n",
            " 2   ST                     555 non-null    object        \n",
            " 3   CERT                   555 non-null    int64         \n",
            " 4   Acquiring Institution  555 non-null    object        \n",
            " 5   Closing Date           555 non-null    datetime64[ns]\n",
            " 6   Updated Date           555 non-null    datetime64[ns]\n",
            "dtypes: datetime64[ns](2), int64(1), object(4)\n",
            "memory usage: 30.5+ KB\n",
            "None\n"
          ]
        }
      ]
    },
    {
      "cell_type": "code",
      "source": [
        "# dt 접근자와 quarter 속성을 통해 은행이 파산한 분기 파악하기\n",
        "\n",
        "banks['closing_quarter'], banks['closing_year'] = (banks['Closing Date'].dt.quarter, \n",
        "                                                   banks['Closing Date'].dt.year)\n",
        "\n",
        "print(banks.head())"
      ],
      "metadata": {
        "colab": {
          "base_uri": "https://localhost:8080/"
        },
        "id": "Tf40DtQj_0LC",
        "outputId": "14d31a0d-6b4d-4b66-bead-91ca399e3433"
      },
      "execution_count": 34,
      "outputs": [
        {
          "output_type": "stream",
          "name": "stdout",
          "text": [
            "                                           Bank Name         City  ST   CERT  \\\n",
            "0                Washington Federal Bank for Savings      Chicago  IL  30570   \n",
            "1    The Farmers and Merchants State Bank of Argonia      Argonia  KS  17719   \n",
            "2                                Fayette County Bank   Saint Elmo  IL   1802   \n",
            "3  Guaranty Bank, (d/b/a BestBank in Georgia & Mi...    Milwaukee  WI  30003   \n",
            "4                                     First NBC Bank  New Orleans  LA  58302   \n",
            "\n",
            "                 Acquiring Institution Closing Date Updated Date  \\\n",
            "0                   Royal Savings Bank   2017-12-15   2017-12-20   \n",
            "1                          Conway Bank   2017-10-13   2017-10-20   \n",
            "2            United Fidelity Bank, fsb   2017-05-26   2017-07-26   \n",
            "3  First-Citizens Bank & Trust Company   2017-05-05   2017-07-26   \n",
            "4                         Whitney Bank   2017-04-28   2017-12-05   \n",
            "\n",
            "   closing_quarter  closing_year  \n",
            "0                4          2017  \n",
            "1                4          2017  \n",
            "2                2          2017  \n",
            "3                2          2017  \n",
            "4                2          2017  \n"
          ]
        }
      ]
    },
    {
      "cell_type": "code",
      "source": [
        "### 연도별로 파산한 은행의 개수\n",
        "# groupby() 활용\n",
        "\n",
        "closing_year = banks.groupby(['closing_year']).size()\n",
        "print(closing_year)"
      ],
      "metadata": {
        "colab": {
          "base_uri": "https://localhost:8080/"
        },
        "id": "s7FB_474AJ2D",
        "outputId": "16f8baa9-5699-4d97-a33c-dbe211894db1"
      },
      "execution_count": 35,
      "outputs": [
        {
          "output_type": "stream",
          "name": "stdout",
          "text": [
            "closing_year\n",
            "2000      2\n",
            "2001      4\n",
            "2002     11\n",
            "2003      3\n",
            "2004      4\n",
            "2007      3\n",
            "2008     25\n",
            "2009    140\n",
            "2010    157\n",
            "2011     92\n",
            "2012     51\n",
            "2013     24\n",
            "2014     18\n",
            "2015      8\n",
            "2016      5\n",
            "2017      8\n",
            "dtype: int64\n"
          ]
        }
      ]
    },
    {
      "cell_type": "code",
      "source": [
        "### 각 연도별, 분디별로 파산한 은행의 개수\n",
        "\n",
        "closing_year_q = banks.groupby(['closing_year', 'closing_quarter']).size()\n",
        "print(closing_year_q)"
      ],
      "metadata": {
        "colab": {
          "base_uri": "https://localhost:8080/"
        },
        "id": "4lumimE2ARLp",
        "outputId": "b3d5a2f4-133c-4d3f-ab44-9bfeeafed8d7"
      },
      "execution_count": 36,
      "outputs": [
        {
          "output_type": "stream",
          "name": "stdout",
          "text": [
            "closing_year  closing_quarter\n",
            "2000          4                   2\n",
            "2001          1                   1\n",
            "              2                   1\n",
            "              3                   2\n",
            "2002          1                   6\n",
            "              2                   2\n",
            "              3                   1\n",
            "              4                   2\n",
            "2003          1                   1\n",
            "              2                   1\n",
            "              4                   1\n",
            "2004          1                   3\n",
            "              2                   1\n",
            "2007          1                   1\n",
            "              3                   1\n",
            "              4                   1\n",
            "2008          1                   2\n",
            "              2                   2\n",
            "              3                   9\n",
            "              4                  12\n",
            "2009          1                  21\n",
            "              2                  24\n",
            "              3                  50\n",
            "              4                  45\n",
            "2010          1                  41\n",
            "              2                  45\n",
            "              3                  41\n",
            "              4                  30\n",
            "2011          1                  26\n",
            "              2                  22\n",
            "              3                  26\n",
            "              4                  18\n",
            "2012          1                  16\n",
            "              2                  15\n",
            "              3                  12\n",
            "              4                   8\n",
            "2013          1                   4\n",
            "              2                  12\n",
            "              3                   6\n",
            "              4                   2\n",
            "2014          1                   5\n",
            "              2                   7\n",
            "              3                   2\n",
            "              4                   4\n",
            "2015          1                   4\n",
            "              2                   1\n",
            "              3                   1\n",
            "              4                   2\n",
            "2016          1                   1\n",
            "              2                   2\n",
            "              3                   2\n",
            "2017          1                   3\n",
            "              2                   3\n",
            "              4                   2\n",
            "dtype: int64\n"
          ]
        }
      ]
    },
    {
      "cell_type": "code",
      "source": [
        "### 시각화\n",
        "\n",
        "import matplotlib.pyplot as plt\n",
        "\n",
        "fig, ax = plt.subplots()\n",
        "ax = closing_year.plot() \n",
        "plt.show()\n",
        "\n",
        "fig, ax = plt.subplots() \n",
        "ax = closing_year_q.plot() \n",
        "plt.show()"
      ],
      "metadata": {
        "colab": {
          "base_uri": "https://localhost:8080/",
          "height": 883
        },
        "id": "dbj5w-N3AYT7",
        "outputId": "aea7ddf3-e886-45f2-e530-7bc1146b2dfd"
      },
      "execution_count": 37,
      "outputs": [
        {
          "output_type": "display_data",
          "data": {
            "text/plain": [
              "<Figure size 640x480 with 1 Axes>"
            ],
            "image/png": "[encoded data removed]"
          },
          "metadata": {}
        },
        {
          "output_type": "display_data",
          "data": {
            "text/plain": [
              "<Figure size 640x480 with 1 Axes>"
            ],
            "image/png": "[encoded data removed]"
          },
          "metadata": {}
        }
      ]
    },
    {
      "cell_type": "markdown",
      "source": [
        "### **2-3. 테슬라 주식 데이터로 시간 계산하기**"
      ],
      "metadata": {
        "id": "SK5YyMby3p7y"
      }
    },
    {
      "cell_type": "code",
      "source": [
        "# !pip install pandas-datareader"
      ],
      "metadata": {
        "id": "CyvNZaWG3wz1"
      },
      "execution_count": null,
      "outputs": []
    },
    {
      "cell_type": "code",
      "source": [
        "import pandas as pd\n",
        "\n",
        "tesla = pd.read_csv('/content/drive/MyDrive/Colab Notebooks/ESAA 8기/YB/5주차/tesla_stock_quandl.csv')"
      ],
      "metadata": {
        "id": "gOWPphZI4Y28"
      },
      "execution_count": null,
      "outputs": []
    },
    {
      "cell_type": "code",
      "source": [
        "print(tesla.head())"
      ],
      "metadata": {
        "colab": {
          "base_uri": "https://localhost:8080/"
        },
        "id": "fSVp0AH45ycT",
        "outputId": "09d36f77-2ae2-4e42-8a45-44191d1c84c2"
      },
      "execution_count": null,
      "outputs": [
        {
          "output_type": "stream",
          "name": "stdout",
          "text": [
            "         Date    Open    High     Low   Close    Volume  ExDividend  \\\n",
            "0  2018-03-27  304.00  304.27  277.18  279.18  13696168           0   \n",
            "1  2018-03-26  307.34  307.59  291.36  304.18   8324639           0   \n",
            "2  2018-03-23  311.25  311.61  300.45  301.54   6600538           0   \n",
            "3  2018-03-22  313.89  318.82  308.18  309.10   4914307           0   \n",
            "4  2018-03-21  310.25  322.44  310.19  316.53   5927881           0   \n",
            "\n",
            "   SplitRatio  AdjOpen  AdjHigh  AdjLow  AdjClose  AdjVolume  \n",
            "0           1   304.00   304.27  277.18    279.18   13696168  \n",
            "1           1   307.34   307.59  291.36    304.18    8324639  \n",
            "2           1   311.25   311.61  300.45    301.54    6600538  \n",
            "3           1   313.89   318.82  308.18    309.10    4914307  \n",
            "4           1   310.25   322.44  310.19    316.53    5927881  \n"
          ]
        }
      ]
    },
    {
      "cell_type": "markdown",
      "source": [
        "- 시간 계산을 위해 문자열 -> datetime 오브젝트로 변경하자."
      ],
      "metadata": {
        "id": "TzoQheTn6H_m"
      }
    },
    {
      "cell_type": "code",
      "source": [
        "### Date 열을 Datetime 형으로 변환\n",
        "# 파일을 읽을 때 parse_dates 인자로 Date 열 전달\n",
        "\n",
        "tesla = pd.read_csv('/content/drive/MyDrive/Colab Notebooks/ESAA 8기/YB/5주차/tesla_stock_quandl.csv', parse_dates = [0])\n",
        "print(tesla.info())"
      ],
      "metadata": {
        "colab": {
          "base_uri": "https://localhost:8080/"
        },
        "id": "etRtNpmM6NoR",
        "outputId": "043a28c1-4d3e-44fa-c1f9-170f55735cf5"
      },
      "execution_count": null,
      "outputs": [
        {
          "output_type": "stream",
          "name": "stdout",
          "text": [
            "<class 'pandas.core.frame.DataFrame'>\n",
            "RangeIndex: 1949 entries, 0 to 1948\n",
            "Data columns (total 13 columns):\n",
            " #   Column      Non-Null Count  Dtype         \n",
            "---  ------      --------------  -----         \n",
            " 0   Date        1949 non-null   datetime64[ns]\n",
            " 1   Open        1949 non-null   float64       \n",
            " 2   High        1949 non-null   float64       \n",
            " 3   Low         1949 non-null   float64       \n",
            " 4   Close       1949 non-null   float64       \n",
            " 5   Volume      1949 non-null   int64         \n",
            " 6   ExDividend  1949 non-null   int64         \n",
            " 7   SplitRatio  1949 non-null   int64         \n",
            " 8   AdjOpen     1949 non-null   float64       \n",
            " 9   AdjHigh     1949 non-null   float64       \n",
            " 10  AdjLow      1949 non-null   float64       \n",
            " 11  AdjClose    1949 non-null   float64       \n",
            " 12  AdjVolume   1949 non-null   int64         \n",
            "dtypes: datetime64[ns](1), float64(8), int64(4)\n",
            "memory usage: 198.1 KB\n",
            "None\n"
          ]
        }
      ]
    },
    {
      "cell_type": "code",
      "source": [
        "### dt 접근자\n",
        "# date의 각 요소(월, 일 등)에 접근할 수 있음\n",
        "\n",
        "print(tesla.loc[(tesla.Date.dt.year == 2010) & (tesla.Date.dt.month == 6)])"
      ],
      "metadata": {
        "colab": {
          "base_uri": "https://localhost:8080/"
        },
        "id": "VFZIuNO76kyb",
        "outputId": "b8fd88dc-6cff-4ed7-e30b-a07ae8548990"
      },
      "execution_count": null,
      "outputs": [
        {
          "output_type": "stream",
          "name": "stdout",
          "text": [
            "           Date   Open     High    Low  Close    Volume  ExDividend  \\\n",
            "1947 2010-06-30  25.79  30.4192  23.30  23.83  17187100           0   \n",
            "1948 2010-06-29  19.00  25.0000  17.54  23.89  18766300           0   \n",
            "\n",
            "      SplitRatio  AdjOpen  AdjHigh  AdjLow  AdjClose  AdjVolume  \n",
            "1947           1    25.79  30.4192   23.30     23.83   17187100  \n",
            "1948           1    19.00  25.0000   17.54     23.89   18766300  \n"
          ]
        }
      ]
    },
    {
      "cell_type": "markdown",
      "source": [
        "##### **a) datetime 오브젝트와 인덱스 - ```DatetimeIndex```**\n",
        "- datetime 오브젝트를 인덱스로 지정"
      ],
      "metadata": {
        "id": "Ayv0X5rd66Fm"
      }
    },
    {
      "cell_type": "code",
      "source": [
        "# 'Date' 열을 df의 인덱스로 지정\n",
        "\n",
        "tesla.index = tesla['Date'] \n",
        "print(tesla.index)"
      ],
      "metadata": {
        "colab": {
          "base_uri": "https://localhost:8080/"
        },
        "id": "rzbbgCs89jLZ",
        "outputId": "75cc336a-a37f-43cf-ebcc-dd29f9f4f685"
      },
      "execution_count": null,
      "outputs": [
        {
          "output_type": "stream",
          "name": "stdout",
          "text": [
            "DatetimeIndex(['2018-03-27', '2018-03-26', '2018-03-23', '2018-03-22',\n",
            "               '2018-03-21', '2018-03-20', '2018-03-19', '2018-03-16',\n",
            "               '2018-03-15', '2018-03-14',\n",
            "               ...\n",
            "               '2010-07-13', '2010-07-12', '2010-07-09', '2010-07-08',\n",
            "               '2010-07-07', '2010-07-06', '2010-07-02', '2010-07-01',\n",
            "               '2010-06-30', '2010-06-29'],\n",
            "              dtype='datetime64[ns]', name='Date', length=1949, freq=None)\n"
          ]
        }
      ]
    },
    {
      "cell_type": "markdown",
      "source": [
        "- datetime 오브젝트를 인덱스로 지정하면 원하는 시간의 데이터를 바로 추출할 수 있음"
      ],
      "metadata": {
        "id": "vr5B4NaF948K"
      }
    },
    {
      "cell_type": "code",
      "source": [
        "print(tesla['2015'].iloc[:5, :5])"
      ],
      "metadata": {
        "colab": {
          "base_uri": "https://localhost:8080/"
        },
        "id": "P0HQ6JRR9cAF",
        "outputId": "009a0ff4-965f-4a7b-ad9b-268c4c49c5a4"
      },
      "execution_count": null,
      "outputs": [
        {
          "output_type": "stream",
          "name": "stdout",
          "text": [
            "                 Date    Open     High       Low   Close\n",
            "Date                                                    \n",
            "2015-12-31 2015-12-31  238.51  243.450  238.3700  240.01\n",
            "2015-12-30 2015-12-30  236.60  243.634  235.6707  238.09\n",
            "2015-12-29 2015-12-29  230.06  237.720  229.5470  237.19\n",
            "2015-12-28 2015-12-28  231.49  231.980  225.5400  228.95\n",
            "2015-12-24 2015-12-24  230.56  231.880  228.2800  230.57\n"
          ]
        },
        {
          "output_type": "stream",
          "name": "stderr",
          "text": [
            "<ipython-input-16-846783a4896c>:1: FutureWarning: Indexing a DataFrame with a datetimelike index using a single string to slice the rows, like `frame[string]`, is deprecated and will be removed in a future version. Use `frame.loc[string]` instead.\n",
            "  print(tesla['2015'].iloc[:5, :5])\n"
          ]
        }
      ]
    },
    {
      "cell_type": "code",
      "source": [
        "print(tesla['2010-06'].iloc[:, :5])"
      ],
      "metadata": {
        "colab": {
          "base_uri": "https://localhost:8080/"
        },
        "id": "ods0Ai8X9-u6",
        "outputId": "cf45589b-2ec9-4d86-8ce6-b5b913e9f3f5"
      },
      "execution_count": null,
      "outputs": [
        {
          "output_type": "stream",
          "name": "stdout",
          "text": [
            "                 Date   Open     High    Low  Close\n",
            "Date                                               \n",
            "2010-06-30 2010-06-30  25.79  30.4192  23.30  23.83\n",
            "2010-06-29 2010-06-29  19.00  25.0000  17.54  23.89\n"
          ]
        },
        {
          "output_type": "stream",
          "name": "stderr",
          "text": [
            "<ipython-input-17-01bd23607ac5>:1: FutureWarning: Indexing a DataFrame with a datetimelike index using a single string to slice the rows, like `frame[string]`, is deprecated and will be removed in a future version. Use `frame.loc[string]` instead.\n",
            "  print(tesla['2010-06'].iloc[:, :5])\n"
          ]
        }
      ]
    },
    {
      "cell_type": "markdown",
      "source": [
        "##### **b) 시간 간격과 인덱스 - ```Timedeltaindex```**"
      ],
      "metadata": {
        "id": "oI7-_wo5-BXn"
      }
    },
    {
      "cell_type": "code",
      "source": [
        "# 경과된 시간 측정하기\n",
        "\n",
        "tesla['ref_date'] = tesla['Date'] - tesla['Date'].min()\n",
        "\n",
        "print(tesla.head())"
      ],
      "metadata": {
        "colab": {
          "base_uri": "https://localhost:8080/"
        },
        "id": "5UDy-yvuEdD0",
        "outputId": "fdf584aa-a50d-4dd0-f48f-be17be983de9"
      },
      "execution_count": null,
      "outputs": [
        {
          "output_type": "stream",
          "name": "stdout",
          "text": [
            "                 Date    Open    High     Low   Close    Volume  ExDividend  \\\n",
            "Date                                                                          \n",
            "2018-03-27 2018-03-27  304.00  304.27  277.18  279.18  13696168           0   \n",
            "2018-03-26 2018-03-26  307.34  307.59  291.36  304.18   8324639           0   \n",
            "2018-03-23 2018-03-23  311.25  311.61  300.45  301.54   6600538           0   \n",
            "2018-03-22 2018-03-22  313.89  318.82  308.18  309.10   4914307           0   \n",
            "2018-03-21 2018-03-21  310.25  322.44  310.19  316.53   5927881           0   \n",
            "\n",
            "            SplitRatio  AdjOpen  AdjHigh  AdjLow  AdjClose  AdjVolume  \\\n",
            "Date                                                                    \n",
            "2018-03-27           1   304.00   304.27  277.18    279.18   13696168   \n",
            "2018-03-26           1   307.34   307.59  291.36    304.18    8324639   \n",
            "2018-03-23           1   311.25   311.61  300.45    301.54    6600538   \n",
            "2018-03-22           1   313.89   318.82  308.18    309.10    4914307   \n",
            "2018-03-21           1   310.25   322.44  310.19    316.53    5927881   \n",
            "\n",
            "            ref_date  \n",
            "Date                  \n",
            "2018-03-27 2828 days  \n",
            "2018-03-26 2827 days  \n",
            "2018-03-23 2824 days  \n",
            "2018-03-22 2823 days  \n",
            "2018-03-21 2822 days  \n"
          ]
        }
      ]
    },
    {
      "cell_type": "code",
      "source": [
        "# 인덱스 지정\n",
        "\n",
        "tesla.index = tesla['ref_date'] \n",
        "print(tesla.iloc[:5, :5])"
      ],
      "metadata": {
        "colab": {
          "base_uri": "https://localhost:8080/"
        },
        "id": "H1KurIusEm3D",
        "outputId": "d9eb489b-6217-4dec-b8a6-7fec2fa15e36"
      },
      "execution_count": null,
      "outputs": [
        {
          "output_type": "stream",
          "name": "stdout",
          "text": [
            "                Date    Open    High     Low   Close\n",
            "ref_date                                            \n",
            "2828 days 2018-03-27  304.00  304.27  277.18  279.18\n",
            "2827 days 2018-03-26  307.34  307.59  291.36  304.18\n",
            "2824 days 2018-03-23  311.25  311.61  300.45  301.54\n",
            "2823 days 2018-03-22  313.89  318.82  308.18  309.10\n",
            "2822 days 2018-03-21  310.25  322.44  310.19  316.53\n"
          ]
        }
      ]
    },
    {
      "cell_type": "code",
      "source": [
        "# 데이터 수집 이후 최초 5일의 데이터\n",
        "\n",
        "print(tesla['5 days':].iloc[:5, :5])"
      ],
      "metadata": {
        "colab": {
          "base_uri": "https://localhost:8080/"
        },
        "id": "NwAnrJ4VEy4o",
        "outputId": "27bb16a3-f78b-46da-e307-0b58bdaffefa"
      },
      "execution_count": null,
      "outputs": [
        {
          "output_type": "stream",
          "name": "stdout",
          "text": [
            "               Date   Open     High    Low  Close\n",
            "ref_date                                         \n",
            "3 days   2010-07-02  23.00  23.1000  18.71  19.20\n",
            "2 days   2010-07-01  25.00  25.9200  20.27  21.96\n",
            "1 days   2010-06-30  25.79  30.4192  23.30  23.83\n",
            "0 days   2010-06-29  19.00  25.0000  17.54  23.89\n"
          ]
        }
      ]
    },
    {
      "cell_type": "markdown",
      "source": [
        "##### **c) 시간 범위와 인덱스**\n",
        "- 특정 일에 누락된 데이터도 포함시켜 데이터를 살펴보려면 임의로 시간 범위를 생성하여 인덱스로 지정해야 함\n",
        "- 해당 예제에서는 **에볼라 데이터**를 활용"
      ],
      "metadata": {
        "id": "cQNYXSk8E35_"
      }
    },
    {
      "cell_type": "code",
      "source": [
        "### 데이터 불러오기\n",
        "\n",
        "ebola = pd.read_csv('/content/drive/MyDrive/Colab Notebooks/ESAA 8기/YB/5주차/country_timeseries.csv', \n",
        "                    parse_dates=[0]) \n",
        "print(ebola.iloc[:5, :5])"
      ],
      "metadata": {
        "colab": {
          "base_uri": "https://localhost:8080/"
        },
        "id": "0tDvTIyeFN2v",
        "outputId": "ff346ceb-c626-4421-cc77-8e29fc1297fc"
      },
      "execution_count": null,
      "outputs": [
        {
          "output_type": "stream",
          "name": "stdout",
          "text": [
            "        Date  Day  Cases_Guinea  Cases_Liberia  Cases_SierraLeone\n",
            "0 2015-01-05  289        2776.0            NaN            10030.0\n",
            "1 2015-01-04  288        2775.0            NaN             9780.0\n",
            "2 2015-01-03  287        2769.0         8166.0             9722.0\n",
            "3 2015-01-02  286           NaN         8157.0                NaN\n",
            "4 2014-12-31  284        2730.0         8115.0             9633.0\n"
          ]
        }
      ]
    },
    {
      "cell_type": "code",
      "source": [
        "print(ebola.iloc[-5:, :5])"
      ],
      "metadata": {
        "colab": {
          "base_uri": "https://localhost:8080/"
        },
        "id": "zgyZnS_kE_H8",
        "outputId": "09ece9c3-0aa7-443a-9ef7-889714e32f45"
      },
      "execution_count": null,
      "outputs": [
        {
          "output_type": "stream",
          "name": "stdout",
          "text": [
            "          Date  Day  Cases_Guinea  Cases_Liberia  Cases_SierraLeone\n",
            "117 2014-03-27    5         103.0            8.0                6.0\n",
            "118 2014-03-26    4          86.0            NaN                NaN\n",
            "119 2014-03-25    3          86.0            NaN                NaN\n",
            "120 2014-03-24    2          86.0            NaN                NaN\n",
            "121 2014-03-22    0          49.0            NaN                NaN\n"
          ]
        }
      ]
    },
    {
      "cell_type": "markdown",
      "source": [
        "- 누락된 데이터가 존재함"
      ],
      "metadata": {
        "id": "KxUgWHAGF0kz"
      }
    },
    {
      "cell_type": "code",
      "source": [
        "### 시간 인덱스 생성\n",
        "# date_range 메서드 활용\n",
        "\n",
        "head_range = pd.date_range(start = '2014-12-31', end = '2015-01-05') \n",
        "print(head_range)"
      ],
      "metadata": {
        "colab": {
          "base_uri": "https://localhost:8080/"
        },
        "id": "N-xP843_F2ar",
        "outputId": "7e3d7032-456f-4e87-970f-e83419851f0c"
      },
      "execution_count": null,
      "outputs": [
        {
          "output_type": "stream",
          "name": "stdout",
          "text": [
            "DatetimeIndex(['2014-12-31', '2015-01-01', '2015-01-02', '2015-01-03',\n",
            "               '2015-01-04', '2015-01-05'],\n",
            "              dtype='datetime64[ns]', freq='D')\n"
          ]
        }
      ]
    },
    {
      "cell_type": "code",
      "source": [
        "# 일부 데이터만 추출하여 가공\n",
        "ebola_5 = ebola.head()\n",
        "\n",
        "ebola_5.index = ebola_5['Date'] # 인덱스 지정 필요\n",
        "ebola_5.reindex(head_range)\n",
        "\n",
        "print(ebola_5.iloc[:5, :5])"
      ],
      "metadata": {
        "colab": {
          "base_uri": "https://localhost:8080/"
        },
        "id": "LT5tjqzhGww3",
        "outputId": "36c53aff-8771-46dc-ff7a-929d2e8f5a52"
      },
      "execution_count": null,
      "outputs": [
        {
          "output_type": "stream",
          "name": "stdout",
          "text": [
            "                 Date  Day  Cases_Guinea  Cases_Liberia  Cases_SierraLeone\n",
            "Date                                                                      \n",
            "2015-01-05 2015-01-05  289        2776.0            NaN            10030.0\n",
            "2015-01-04 2015-01-04  288        2775.0            NaN             9780.0\n",
            "2015-01-03 2015-01-03  287        2769.0         8166.0             9722.0\n",
            "2015-01-02 2015-01-02  286           NaN         8157.0                NaN\n",
            "2014-12-31 2014-12-31  284        2730.0         8115.0             9633.0\n"
          ]
        }
      ]
    },
    {
      "cell_type": "markdown",
      "source": [
        "### **2-4. 에볼라 확산 속도 비교하기**"
      ],
      "metadata": {
        "id": "Db9kc1rqG7qE"
      }
    },
    {
      "cell_type": "code",
      "source": [
        "import matplotlib.pyplot as plt\n",
        "\n",
        "ebola.index = ebola['Date']\n",
        "\n",
        "fig, ax = plt.subplots() \n",
        "ax = ebola.iloc[0:, 1:].plot(ax=ax) # 숫자가 너무 커서 제대로 plotting되지 x\n",
        "ax.legend(fontsize=7, loc=2, borderaxespad=0.) \n",
        "plt.show()"
      ],
      "metadata": {
        "id": "yRvxJZTPCzj2"
      },
      "execution_count": null,
      "outputs": []
    },
    {
      "cell_type": "markdown",
      "source": [
        "![image.png](data:image/png;base64,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)"
      ],
      "metadata": {
        "id": "-66TP7CoEE1v"
      }
    },
    {
      "cell_type": "markdown",
      "source": [
        "- 위의 그래프의 경우 각 나라의 에볼라 발병일이 **다름**\n",
        "- 에볼라의 확산 속도를 같은 방법으로 측정하기 위해서는 가장 처음 에볼라가 발병한 **Guineau**와 동일하게 설정해 주어야 함\n",
        "  - 해당 국가와 동일한 위치로 옮겨줘야 함"
      ],
      "metadata": {
        "id": "XkdJG-CzERjV"
      }
    },
    {
      "cell_type": "code",
      "source": [
        "ebola_sub = ebola[['Day', 'Cases_Guinea', 'Cases_Liberia']] \n",
        "print(ebola_sub.tail(10))"
      ],
      "metadata": {
        "colab": {
          "base_uri": "https://localhost:8080/"
        },
        "id": "TLNBE6uMEpJr",
        "outputId": "daa74ad7-b27f-4d41-bcb8-a83a62e9decf"
      },
      "execution_count": 42,
      "outputs": [
        {
          "output_type": "stream",
          "name": "stdout",
          "text": [
            "           Day  Cases_Guinea  Cases_Liberia\n",
            "Date                                       \n",
            "4/4/2014    13         143.0           18.0\n",
            "4/1/2014    10         127.0            8.0\n",
            "3/31/2014    9         122.0            8.0\n",
            "3/29/2014    7         112.0            7.0\n",
            "3/28/2014    6         112.0            3.0\n",
            "3/27/2014    5         103.0            8.0\n",
            "3/26/2014    4          86.0            NaN\n",
            "3/25/2014    3          86.0            NaN\n",
            "3/24/2014    2          86.0            NaN\n",
            "3/22/2014    0          49.0            NaN\n"
          ]
        }
      ]
    },
    {
      "cell_type": "markdown",
      "source": [
        "#### **✔ 시각화**"
      ],
      "metadata": {
        "id": "aU_RE-RyFjGX"
      }
    },
    {
      "cell_type": "code",
      "source": [
        "### Date 열의 자료형을 datetime 오브젝트로 변환하여 df를 재로딩\n",
        "\n",
        "ebola = pd.read_csv('/content/drive/MyDrive/Colab Notebooks/ESAA 8기/YB/5주차/country_timeseries.csv',  parse_dates=['Date'])\n",
        "\n",
        "print(ebola.head().iloc[:, :5])"
      ],
      "metadata": {
        "colab": {
          "base_uri": "https://localhost:8080/"
        },
        "id": "yvsbm0FMEyzO",
        "outputId": "fcfd8adc-bdcf-4cff-825f-30f4f0e8c2ea"
      },
      "execution_count": 51,
      "outputs": [
        {
          "output_type": "stream",
          "name": "stdout",
          "text": [
            "        Date  Day  Cases_Guinea  Cases_Liberia  Cases_SierraLeone\n",
            "0 2015-01-05  289        2776.0            NaN            10030.0\n",
            "1 2015-01-04  288        2775.0            NaN             9780.0\n",
            "2 2015-01-03  287        2769.0         8166.0             9722.0\n",
            "3 2015-01-02  286           NaN         8157.0                NaN\n",
            "4 2014-12-31  284        2730.0         8115.0             9633.0\n"
          ]
        }
      ]
    },
    {
      "cell_type": "markdown",
      "source": [
        "- 중간에 아예 날짜가 없는 데이터도 있음\n",
        "  - 해당 데이터도 포함시켜야 확산 속도를 제대로 비교 가능"
      ],
      "metadata": {
        "id": "sBx1qB_QE_Zu"
      }
    },
    {
      "cell_type": "code",
      "source": [
        "### 시간 범위 생성\n",
        "\n",
        "ebola.index = ebola['Date']\n",
        "\n",
        "new_idx = pd.date_range(ebola.index.min(), ebola.index.max())"
      ],
      "metadata": {
        "id": "S7i4fLDIFGdV"
      },
      "execution_count": 52,
      "outputs": []
    },
    {
      "cell_type": "code",
      "source": [
        "print(new_idx)"
      ],
      "metadata": {
        "colab": {
          "base_uri": "https://localhost:8080/"
        },
        "id": "oMbHPOE3FNuO",
        "outputId": "9767cc35-acad-458f-ee5f-59cb0d870f5a"
      },
      "execution_count": 53,
      "outputs": [
        {
          "output_type": "stream",
          "name": "stdout",
          "text": [
            "DatetimeIndex(['2014-03-22', '2014-03-23', '2014-03-24', '2014-03-25',\n",
            "               '2014-03-26', '2014-03-27', '2014-03-28', '2014-03-29',\n",
            "               '2014-03-30', '2014-03-31',\n",
            "               ...\n",
            "               '2014-12-27', '2014-12-28', '2014-12-29', '2014-12-30',\n",
            "               '2014-12-31', '2015-01-01', '2015-01-02', '2015-01-03',\n",
            "               '2015-01-04', '2015-01-05'],\n",
            "              dtype='datetime64[ns]', length=290, freq='D')\n"
          ]
        }
      ]
    },
    {
      "cell_type": "code",
      "source": [
        "# 데이터 집합에 있는 시간 순서와 맞추기 위해 reversed() 메서드 활용\n",
        "\n",
        "new_idx = reversed(new_idx)"
      ],
      "metadata": {
        "id": "TIo5_UJeFQ_d"
      },
      "execution_count": 54,
      "outputs": []
    },
    {
      "cell_type": "code",
      "source": [
        "### 새로 생성한 인덱스로 인덱스 재설정\n",
        "# ebola 데이터 프레임에 없었던 날짜 또한 포함될 수 있음\n",
        "\n",
        "ebola = ebola.reindex(new_idx)\n",
        "\n",
        "print(ebola.head().iloc[:, :5])"
      ],
      "metadata": {
        "colab": {
          "base_uri": "https://localhost:8080/"
        },
        "id": "E-cPKQx2FXmK",
        "outputId": "4d3984dd-96cc-47b2-f881-218a43923540"
      },
      "execution_count": 55,
      "outputs": [
        {
          "output_type": "stream",
          "name": "stdout",
          "text": [
            "                 Date    Day  Cases_Guinea  Cases_Liberia  Cases_SierraLeone\n",
            "Date                                                                        \n",
            "2015-01-05 2015-01-05  289.0        2776.0            NaN            10030.0\n",
            "2015-01-04 2015-01-04  288.0        2775.0            NaN             9780.0\n",
            "2015-01-03 2015-01-03  287.0        2769.0         8166.0             9722.0\n",
            "2015-01-02 2015-01-02  286.0           NaN         8157.0                NaN\n",
            "2015-01-01        NaT    NaN           NaN            NaN                NaN\n"
          ]
        }
      ]
    },
    {
      "cell_type": "code",
      "source": [
        "print(ebola.tail().iloc[:, :5])"
      ],
      "metadata": {
        "colab": {
          "base_uri": "https://localhost:8080/"
        },
        "id": "mzWEOts4Fg9X",
        "outputId": "ebfff56d-c181-4f20-b6ae-937c615fb9f3"
      },
      "execution_count": 56,
      "outputs": [
        {
          "output_type": "stream",
          "name": "stdout",
          "text": [
            "                 Date  Day  Cases_Guinea  Cases_Liberia  Cases_SierraLeone\n",
            "Date                                                                      \n",
            "2014-03-26 2014-03-26  4.0          86.0            NaN                NaN\n",
            "2014-03-25 2014-03-25  3.0          86.0            NaN                NaN\n",
            "2014-03-24 2014-03-24  2.0          86.0            NaN                NaN\n",
            "2014-03-23        NaT  NaN           NaN            NaN                NaN\n",
            "2014-03-22 2014-03-22  0.0          49.0            NaN                NaN\n"
          ]
        }
      ]
    },
    {
      "cell_type": "markdown",
      "source": [
        "##### **✔ 각 나라의 에볼라 발병일 옮기기**"
      ],
      "metadata": {
        "id": "SZFeh2kkGGv9"
      }
    },
    {
      "cell_type": "code",
      "source": [
        "### 각 나라의 에볼라 발병일 구하기\n",
        "# 유효한 값이 있는 첫 번째와 마지막 인덱스를 각각 구하기\n",
        "\n",
        "last_valid = ebola.apply(pd.Series.last_valid_index) # 가장 오래된 데이터\n",
        "print(last_valid)"
      ],
      "metadata": {
        "colab": {
          "base_uri": "https://localhost:8080/"
        },
        "id": "MooUR7vIF7nx",
        "outputId": "f78a8417-8d0c-48d8-93e6-f5f6cdf4f52d"
      },
      "execution_count": 57,
      "outputs": [
        {
          "output_type": "stream",
          "name": "stdout",
          "text": [
            "Date                  2014-03-22\n",
            "Day                   2014-03-22\n",
            "Cases_Guinea          2014-03-22\n",
            "Cases_Liberia         2014-03-27\n",
            "Cases_SierraLeone     2014-03-27\n",
            "Cases_Nigeria         2014-07-23\n",
            "Cases_Senegal         2014-08-31\n",
            "Cases_UnitedStates    2014-10-01\n",
            "Cases_Spain           2014-10-08\n",
            "Cases_Mali            2014-10-22\n",
            "Deaths_Guinea         2014-03-22\n",
            "Deaths_Liberia        2014-03-27\n",
            "Deaths_SierraLeone    2014-03-27\n",
            "Deaths_Nigeria        2014-07-23\n",
            "Deaths_Senegal        2014-09-07\n",
            "Deaths_UnitedStates   2014-10-01\n",
            "Deaths_Spain          2014-10-08\n",
            "Deaths_Mali           2014-10-22\n",
            "dtype: datetime64[ns]\n"
          ]
        }
      ]
    },
    {
      "cell_type": "code",
      "source": [
        "first_valid = ebola.apply(pd.Series.first_valid_index) # 가장 최근 데이터\n",
        "print(first_valid)"
      ],
      "metadata": {
        "colab": {
          "base_uri": "https://localhost:8080/"
        },
        "id": "N3uPQBgFGTb6",
        "outputId": "61e470bb-7992-4392-fb4b-cb54cea159fc"
      },
      "execution_count": 58,
      "outputs": [
        {
          "output_type": "stream",
          "name": "stdout",
          "text": [
            "Date                  2015-01-05\n",
            "Day                   2015-01-05\n",
            "Cases_Guinea          2015-01-05\n",
            "Cases_Liberia         2015-01-03\n",
            "Cases_SierraLeone     2015-01-05\n",
            "Cases_Nigeria         2014-12-07\n",
            "Cases_Senegal         2014-12-07\n",
            "Cases_UnitedStates    2014-12-07\n",
            "Cases_Spain           2014-12-07\n",
            "Cases_Mali            2014-12-07\n",
            "Deaths_Guinea         2015-01-05\n",
            "Deaths_Liberia        2015-01-03\n",
            "Deaths_SierraLeone    2015-01-05\n",
            "Deaths_Nigeria        2014-12-07\n",
            "Deaths_Senegal        2014-12-07\n",
            "Deaths_UnitedStates   2014-12-07\n",
            "Deaths_Spain          2014-12-07\n",
            "Deaths_Mali           2014-12-07\n",
            "dtype: datetime64[ns]\n"
          ]
        }
      ]
    },
    {
      "cell_type": "code",
      "source": [
        "### 에볼라 발병일 통일시키기\n",
        "# 에볼라가 가장 처음 발병한 날 - 각 나라의 에볼라 발병일\n",
        "\n",
        "earliest_date = ebola.index.min() \n",
        "print(earliest_date)\n",
        "\n",
        "print()\n",
        "shift_values = last_valid - earliest_date \n",
        "print(shift_values)"
      ],
      "metadata": {
        "colab": {
          "base_uri": "https://localhost:8080/"
        },
        "id": "sLLFybBpGVnX",
        "outputId": "ed3d177a-b0b7-4a38-c69a-b5c728483760"
      },
      "execution_count": 59,
      "outputs": [
        {
          "output_type": "stream",
          "name": "stdout",
          "text": [
            "2014-03-22 00:00:00\n",
            "\n",
            "Date                    0 days\n",
            "Day                     0 days\n",
            "Cases_Guinea            0 days\n",
            "Cases_Liberia           5 days\n",
            "Cases_SierraLeone       5 days\n",
            "Cases_Nigeria         123 days\n",
            "Cases_Senegal         162 days\n",
            "Cases_UnitedStates    193 days\n",
            "Cases_Spain           200 days\n",
            "Cases_Mali            214 days\n",
            "Deaths_Guinea           0 days\n",
            "Deaths_Liberia          5 days\n",
            "Deaths_SierraLeone      5 days\n",
            "Deaths_Nigeria        123 days\n",
            "Deaths_Senegal        169 days\n",
            "Deaths_UnitedStates   193 days\n",
            "Deaths_Spain          200 days\n",
            "Deaths_Mali           214 days\n",
            "dtype: timedelta64[ns]\n"
          ]
        }
      ]
    },
    {
      "cell_type": "code",
      "source": [
        "### 각 나라의 에볼라 발병일 옮기기\n",
        "\n",
        "ebola_dict = {} \n",
        "for idx, col in enumerate(ebola):\n",
        "    d = shift_values[idx].days \n",
        "    shifted = ebola[col].shift(d) # 날짜 옮기기\n",
        "    ebola_dict[col] = shifted"
      ],
      "metadata": {
        "id": "Gj3hsQUZGsuN"
      },
      "execution_count": 60,
      "outputs": []
    },
    {
      "cell_type": "code",
      "source": [
        "### df로 다시 변환\n",
        "\n",
        "ebola_shift = pd.DataFrame(ebola_dict)"
      ],
      "metadata": {
        "id": "fzFeFKiJG4Uo"
      },
      "execution_count": 61,
      "outputs": []
    },
    {
      "cell_type": "code",
      "source": [
        "print(ebola_shift.tail())"
      ],
      "metadata": {
        "id": "ZkkCj8bGG8Y0",
        "colab": {
          "base_uri": "https://localhost:8080/"
        },
        "outputId": "e52dbe91-f1cc-4945-cddb-f8660d566eaa"
      },
      "execution_count": 63,
      "outputs": [
        {
          "output_type": "stream",
          "name": "stdout",
          "text": [
            "                 Date  Day  Cases_Guinea  Cases_Liberia  Cases_SierraLeone  \\\n",
            "Date                                                                         \n",
            "2014-03-26 2014-03-26  4.0          86.0            8.0                2.0   \n",
            "2014-03-25 2014-03-25  3.0          86.0            NaN                NaN   \n",
            "2014-03-24 2014-03-24  2.0          86.0            7.0                NaN   \n",
            "2014-03-23        NaT  NaN           NaN            3.0                2.0   \n",
            "2014-03-22 2014-03-22  0.0          49.0            8.0                6.0   \n",
            "\n",
            "            Cases_Nigeria  Cases_Senegal  Cases_UnitedStates  Cases_Spain  \\\n",
            "Date                                                                        \n",
            "2014-03-26            1.0            NaN                 1.0          1.0   \n",
            "2014-03-25            NaN            NaN                 NaN          NaN   \n",
            "2014-03-24            NaN            NaN                 NaN          NaN   \n",
            "2014-03-23            NaN            NaN                 NaN          NaN   \n",
            "2014-03-22            0.0            1.0                 1.0          1.0   \n",
            "\n",
            "            Cases_Mali  Deaths_Guinea  Deaths_Liberia  Deaths_SierraLeone  \\\n",
            "Date                                                                        \n",
            "2014-03-26         NaN           62.0             4.0                 2.0   \n",
            "2014-03-25         NaN           60.0             NaN                 NaN   \n",
            "2014-03-24         NaN           59.0             2.0                 NaN   \n",
            "2014-03-23         NaN            NaN             3.0                 2.0   \n",
            "2014-03-22         1.0           29.0             6.0                 5.0   \n",
            "\n",
            "            Deaths_Nigeria  Deaths_Senegal  Deaths_UnitedStates  Deaths_Spain  \\\n",
            "Date                                                                            \n",
            "2014-03-26             1.0             NaN                  0.0           1.0   \n",
            "2014-03-25             NaN             NaN                  NaN           NaN   \n",
            "2014-03-24             NaN             NaN                  NaN           NaN   \n",
            "2014-03-23             NaN             NaN                  NaN           NaN   \n",
            "2014-03-22             0.0             0.0                  0.0           1.0   \n",
            "\n",
            "            Deaths_Mali  \n",
            "Date                     \n",
            "2014-03-26          NaN  \n",
            "2014-03-25          NaN  \n",
            "2014-03-24          NaN  \n",
            "2014-03-23          NaN  \n",
            "2014-03-22          1.0  \n"
          ]
        }
      ]
    },
    {
      "cell_type": "markdown",
      "source": [
        "- 최초 발병일이 제대로 옮겨짐"
      ],
      "metadata": {
        "id": "E6yhVWtYG_gh"
      }
    },
    {
      "cell_type": "code",
      "source": [
        "### 인덱스 지정, 필요없는 열 제거\n",
        "\n",
        "ebola_shift.index = ebola_shift['Day'] \n",
        "ebola_shift = ebola_shift.drop(['Date', 'Day'], axis=1)\n",
        "\n",
        "print(ebola_shift.tail())"
      ],
      "metadata": {
        "colab": {
          "base_uri": "https://localhost:8080/"
        },
        "id": "W0M8dJs8HCYl",
        "outputId": "fabd37b3-016e-46a1-f6ea-186b44840fd3"
      },
      "execution_count": 64,
      "outputs": [
        {
          "output_type": "stream",
          "name": "stdout",
          "text": [
            "     Cases_Guinea  Cases_Liberia  Cases_SierraLeone  Cases_Nigeria  \\\n",
            "Day                                                                  \n",
            "4.0          86.0            8.0                2.0            1.0   \n",
            "3.0          86.0            NaN                NaN            NaN   \n",
            "2.0          86.0            7.0                NaN            NaN   \n",
            "NaN           NaN            3.0                2.0            NaN   \n",
            "0.0          49.0            8.0                6.0            0.0   \n",
            "\n",
            "     Cases_Senegal  Cases_UnitedStates  Cases_Spain  Cases_Mali  \\\n",
            "Day                                                               \n",
            "4.0            NaN                 1.0          1.0         NaN   \n",
            "3.0            NaN                 NaN          NaN         NaN   \n",
            "2.0            NaN                 NaN          NaN         NaN   \n",
            "NaN            NaN                 NaN          NaN         NaN   \n",
            "0.0            1.0                 1.0          1.0         1.0   \n",
            "\n",
            "     Deaths_Guinea  Deaths_Liberia  Deaths_SierraLeone  Deaths_Nigeria  \\\n",
            "Day                                                                      \n",
            "4.0           62.0             4.0                 2.0             1.0   \n",
            "3.0           60.0             NaN                 NaN             NaN   \n",
            "2.0           59.0             2.0                 NaN             NaN   \n",
            "NaN            NaN             3.0                 2.0             NaN   \n",
            "0.0           29.0             6.0                 5.0             0.0   \n",
            "\n",
            "     Deaths_Senegal  Deaths_UnitedStates  Deaths_Spain  Deaths_Mali  \n",
            "Day                                                                  \n",
            "4.0             NaN                  0.0           1.0          NaN  \n",
            "3.0             NaN                  NaN           NaN          NaN  \n",
            "2.0             NaN                  NaN           NaN          NaN  \n",
            "NaN             NaN                  NaN           NaN          NaN  \n",
            "0.0             0.0                  0.0           1.0          1.0  \n"
          ]
        }
      ]
    },
    {
      "cell_type": "code",
      "source": [
        "### 시각화\n",
        "\n",
        "fig, ax = plt.subplots() \n",
        "ax = ebola_shift.iloc[:, :].plot(ax=ax)\n",
        "ax.legend(fontsize=7, loc=2, borderaxespad=0.) \n",
        "plt.show()"
      ],
      "metadata": {
        "colab": {
          "base_uri": "https://localhost:8080/",
          "height": 449
        },
        "id": "YC66d3fWHI1O",
        "outputId": "f6f5b74d-15dc-4e66-f06e-02271c133afc"
      },
      "execution_count": 65,
      "outputs": [
        {
          "output_type": "display_data",
          "data": {
            "text/plain": [
              "<Figure size 640x480 with 1 Axes>"
            ],
            "image/png": "[encoded data removed]"
          },
          "metadata": {}
        }
      ]
    }
  ]
}