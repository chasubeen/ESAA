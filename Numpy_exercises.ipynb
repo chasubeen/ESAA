{
  "nbformat": 4,
  "nbformat_minor": 5,
  "metadata": {
    "colab": {
      "provenance": [],
      "include_colab_link": true
    },
    "language_info": {
      "name": "python"
    },
    "kernelspec": {
      "name": "python3",
      "display_name": "Python 3"
    }
  },
  "cells": [
    {
      "cell_type": "markdown",
      "metadata": {
        "id": "view-in-github",
        "colab_type": "text"
      },
      "source": [
        "<a href=\"https://colab.research.google.com/github/chasubeen/ESAA_8th_YB/blob/Week_2/Numpy_exercises.ipynb\" target=\"_parent\"><img src=\"https://colab.research.google.com/assets/colab-badge.svg\" alt=\"Open In Colab\"/></a>"
      ]
    },
    {
      "cell_type": "markdown",
      "metadata": {
        "id": "bf79c78b"
      },
      "source": [
        "# Numpy exercises\n",
        "\n",
        "This is a collection of exercises that have been collected in the numpy mailing list, on stack overflow\n",
        "and in the numpy documentation. The goal of this collection is to offer a quick reference for both old\n",
        "and new users but also to provide a set of exercises for those who teach.\n",
        "\n",
        "\n",
        "If you find an error or think you've a better way to solve some of them, feel\n",
        "free to open an issue at <https://github.com/rougier/numpy-100>."
      ],
      "id": "bf79c78b"
    },
    {
      "cell_type": "markdown",
      "metadata": {
        "id": "8536e059"
      },
      "source": [
        "File automatically generated. See the documentation to update questions/answers/hints programmatically."
      ],
      "id": "8536e059"
    },
    {
      "cell_type": "markdown",
      "metadata": {
        "id": "017db353"
      },
      "source": [
        "#### 1. Import the numpy package under the name `np` (★☆☆)"
      ],
      "id": "017db353"
    },
    {
      "cell_type": "code",
      "metadata": {
        "id": "68182a76"
      },
      "source": [
        "import numpy as np"
      ],
      "id": "68182a76",
      "execution_count": 1,
      "outputs": []
    },
    {
      "cell_type": "markdown",
      "metadata": {
        "id": "46950f4f"
      },
      "source": [
        "#### 2. Print the numpy version and the configuration (★☆☆)"
      ],
      "id": "46950f4f"
    },
    {
      "cell_type": "code",
      "metadata": {
        "id": "2a9f5838",
        "colab": {
          "base_uri": "https://localhost:8080/"
        },
        "outputId": "5d78f009-0bd1-4718-c64e-b594887fa1b1"
      },
      "source": [
        "print(np.__version__)"
      ],
      "id": "2a9f5838",
      "execution_count": 2,
      "outputs": [
        {
          "output_type": "stream",
          "name": "stdout",
          "text": [
            "1.22.4\n"
          ]
        }
      ]
    },
    {
      "cell_type": "markdown",
      "metadata": {
        "id": "e3c20b3d"
      },
      "source": [
        "#### 3. Create a null vector of size 10 (★☆☆)"
      ],
      "id": "e3c20b3d"
    },
    {
      "cell_type": "markdown",
      "source": [
        "- null vector: 모든 원소가 0인 벡터\n",
        "- ```np.zeros(n)```: 모든 원소가 0인 크기 n의 array 생성"
      ],
      "metadata": {
        "id": "xuHBLJ8uduha"
      },
      "id": "xuHBLJ8uduha"
    },
    {
      "cell_type": "code",
      "metadata": {
        "id": "8a758bcf",
        "colab": {
          "base_uri": "https://localhost:8080/"
        },
        "outputId": "a515247a-60a1-4df4-8eb9-ade2e3a2962d"
      },
      "source": [
        "a = np.zeros(10)\n",
        "a"
      ],
      "id": "8a758bcf",
      "execution_count": 3,
      "outputs": [
        {
          "output_type": "execute_result",
          "data": {
            "text/plain": [
              "array([0., 0., 0., 0., 0., 0., 0., 0., 0., 0.])"
            ]
          },
          "metadata": {},
          "execution_count": 3
        }
      ]
    },
    {
      "cell_type": "markdown",
      "metadata": {
        "id": "b15a879f"
      },
      "source": [
        "#### 4. How to find the memory size of any array (★☆☆)"
      ],
      "id": "b15a879f"
    },
    {
      "cell_type": "markdown",
      "source": [
        "- 배열의 메모리 크기\n",
        "  - 배열의 크기(arr.size) * 배열 내 각 원소의 byte 크기(arr.itemsize)"
      ],
      "metadata": {
        "id": "NLEG9C7td_ke"
      },
      "id": "NLEG9C7td_ke"
    },
    {
      "cell_type": "code",
      "metadata": {
        "id": "1cc3cbc5",
        "colab": {
          "base_uri": "https://localhost:8080/"
        },
        "outputId": "b5525444-92e4-4e16-a545-50b9198cce9b"
      },
      "source": [
        "Z = np.zeros((10,10))\n",
        "print(\"%d bytes\" % (Z.size * Z.itemsize))"
      ],
      "id": "1cc3cbc5",
      "execution_count": 4,
      "outputs": [
        {
          "output_type": "stream",
          "name": "stdout",
          "text": [
            "800 bytes\n"
          ]
        }
      ]
    },
    {
      "cell_type": "markdown",
      "metadata": {
        "id": "0b16cd77"
      },
      "source": [
        "#### 5. Create a null vector of size 10 but the fifth value which is 1 (★☆☆)"
      ],
      "id": "0b16cd77"
    },
    {
      "cell_type": "code",
      "metadata": {
        "id": "4d9b5975",
        "colab": {
          "base_uri": "https://localhost:8080/"
        },
        "outputId": "52f61fe7-69fa-4c34-fd9c-cc0f711ebb4a"
      },
      "source": [
        "a = np.zeros(10) # null vector: 배열의 원소의 값이 0인 배열\n",
        "a[4] = 5\n",
        "a"
      ],
      "id": "4d9b5975",
      "execution_count": 5,
      "outputs": [
        {
          "output_type": "execute_result",
          "data": {
            "text/plain": [
              "array([0., 0., 0., 0., 5., 0., 0., 0., 0., 0.])"
            ]
          },
          "metadata": {},
          "execution_count": 5
        }
      ]
    },
    {
      "cell_type": "markdown",
      "source": [
        "- 인덱싱을 통해 배열 내의 특정 원소의 값을 변경할 수 있다."
      ],
      "metadata": {
        "id": "uXVrMrQLehLF"
      },
      "id": "uXVrMrQLehLF"
    },
    {
      "cell_type": "markdown",
      "metadata": {
        "id": "782d4c77"
      },
      "source": [
        "#### 6. Create a vector with values ranging from 10 to 49 (★☆☆)"
      ],
      "id": "782d4c77"
    },
    {
      "cell_type": "markdown",
      "source": [
        "- ```np.arange(start = 0, stop, step)```\n",
        "  - start부터 (stop - 1)까지의 값을 순차적으로 ndarray 값으로 반환"
      ],
      "metadata": {
        "id": "l4kDWbFDe56T"
      },
      "id": "l4kDWbFDe56T"
    },
    {
      "cell_type": "code",
      "metadata": {
        "id": "5dbe1a08",
        "colab": {
          "base_uri": "https://localhost:8080/"
        },
        "outputId": "6e213b0e-b337-43ee-9c8e-00b0506c911c"
      },
      "source": [
        "arr = np.arange(10,50)\n",
        "print(arr)"
      ],
      "id": "5dbe1a08",
      "execution_count": 6,
      "outputs": [
        {
          "output_type": "stream",
          "name": "stdout",
          "text": [
            "[10 11 12 13 14 15 16 17 18 19 20 21 22 23 24 25 26 27 28 29 30 31 32 33\n",
            " 34 35 36 37 38 39 40 41 42 43 44 45 46 47 48 49]\n"
          ]
        }
      ]
    },
    {
      "cell_type": "markdown",
      "metadata": {
        "id": "48d48f01"
      },
      "source": [
        "#### 7. Reverse a vector (first element becomes last) (★☆☆)"
      ],
      "id": "48d48f01"
    },
    {
      "cell_type": "code",
      "metadata": {
        "id": "3ed233e7",
        "colab": {
          "base_uri": "https://localhost:8080/"
        },
        "outputId": "4e2b2e99-805e-4bfb-dc74-5c1b5580178a"
      },
      "source": [
        "print(arr[::-1]) # 내림차순 정렬"
      ],
      "id": "3ed233e7",
      "execution_count": 7,
      "outputs": [
        {
          "output_type": "stream",
          "name": "stdout",
          "text": [
            "[49 48 47 46 45 44 43 42 41 40 39 38 37 36 35 34 33 32 31 30 29 28 27 26\n",
            " 25 24 23 22 21 20 19 18 17 16 15 14 13 12 11 10]\n"
          ]
        }
      ]
    },
    {
      "cell_type": "markdown",
      "metadata": {
        "id": "4fa39382"
      },
      "source": [
        "#### 8. Create a 3x3 matrix with values ranging from 0 to 8 (★☆☆)"
      ],
      "id": "4fa39382"
    },
    {
      "cell_type": "code",
      "metadata": {
        "id": "c97757ec",
        "colab": {
          "base_uri": "https://localhost:8080/"
        },
        "outputId": "478f2c40-4837-4b82-f344-689d4a093066"
      },
      "source": [
        "arr = np.arange(0,9) # 1차원 배열 생성\n",
        "arr.reshape(3,3) # 3x3의 2차원 배열로"
      ],
      "id": "c97757ec",
      "execution_count": 8,
      "outputs": [
        {
          "output_type": "execute_result",
          "data": {
            "text/plain": [
              "array([[0, 1, 2],\n",
              "       [3, 4, 5],\n",
              "       [6, 7, 8]])"
            ]
          },
          "metadata": {},
          "execution_count": 8
        }
      ]
    },
    {
      "cell_type": "markdown",
      "metadata": {
        "id": "da64551a"
      },
      "source": [
        "#### 9. Find indices of non-zero elements from [1,2,0,0,4,0] (★☆☆)"
      ],
      "id": "da64551a"
    },
    {
      "cell_type": "markdown",
      "source": [
        "- ```np.where(조건식)```\n",
        "  - 조건에 해당하는 원소가 위치하는 인덱스 반환\n",
        "- ```np.nonzero(배열)```\n",
        "  - 배열 내 원소들 중 0이 아닌 원소의 위치 반환"
      ],
      "metadata": {
        "id": "cRcQQegVfue0"
      },
      "id": "cRcQQegVfue0"
    },
    {
      "cell_type": "code",
      "metadata": {
        "id": "327f7adb",
        "colab": {
          "base_uri": "https://localhost:8080/"
        },
        "outputId": "3b897aa7-d869-433a-c2dc-b3582350af8c"
      },
      "source": [
        "arr = np.array([1,2,0,0,4,0])\n",
        "np.where(arr != 0)"
      ],
      "id": "327f7adb",
      "execution_count": 9,
      "outputs": [
        {
          "output_type": "execute_result",
          "data": {
            "text/plain": [
              "(array([0, 1, 4]),)"
            ]
          },
          "metadata": {},
          "execution_count": 9
        }
      ]
    },
    {
      "cell_type": "markdown",
      "metadata": {
        "id": "f89d9c9e"
      },
      "source": [
        "#### 10. Create a 3x3 identity matrix (★☆☆)\n",
        "Hint : identity & eye, try to use 'help' to learn how to use two functions of numpy"
      ],
      "id": "f89d9c9e"
    },
    {
      "cell_type": "markdown",
      "source": [
        "- ```np.eye(n)```\n",
        "  - n x n의 identity matrix 생성"
      ],
      "metadata": {
        "id": "Z4CL9Ey4gN4l"
      },
      "id": "Z4CL9Ey4gN4l"
    },
    {
      "cell_type": "code",
      "metadata": {
        "id": "ba625832",
        "colab": {
          "base_uri": "https://localhost:8080/"
        },
        "outputId": "f3f14e9c-bf8b-4065-9216-01bb0589073a"
      },
      "source": [
        "arr = np.eye(3)\n",
        "arr"
      ],
      "id": "ba625832",
      "execution_count": 10,
      "outputs": [
        {
          "output_type": "execute_result",
          "data": {
            "text/plain": [
              "array([[1., 0., 0.],\n",
              "       [0., 1., 0.],\n",
              "       [0., 0., 1.]])"
            ]
          },
          "metadata": {},
          "execution_count": 10
        }
      ]
    },
    {
      "cell_type": "markdown",
      "metadata": {
        "id": "7e44c6fa"
      },
      "source": [
        "#### 11. Create a 3x3x3 array with random values (★☆☆)\n",
        "Hint : numpy.random.random"
      ],
      "id": "7e44c6fa"
    },
    {
      "cell_type": "markdown",
      "source": [
        "- ```numpy.random.random(size)```\n",
        "  - numpy의 random 모듈 안의 random 함수\n",
        "  - [0.0, 1.0) 구간에서 난수 발생"
      ],
      "metadata": {
        "id": "pIB2h3iYgZMG"
      },
      "id": "pIB2h3iYgZMG"
    },
    {
      "cell_type": "code",
      "metadata": {
        "id": "1cb3dddf",
        "colab": {
          "base_uri": "https://localhost:8080/"
        },
        "outputId": "4ea6a61b-b4b9-4160-f3e8-25fd98796295"
      },
      "source": [
        "arr = np.random.random([3,3,3])\n",
        "arr"
      ],
      "id": "1cb3dddf",
      "execution_count": 11,
      "outputs": [
        {
          "output_type": "execute_result",
          "data": {
            "text/plain": [
              "array([[[0.53373537, 0.46841463, 0.86423489],\n",
              "        [0.07929042, 0.57081879, 0.40767353],\n",
              "        [0.91479135, 0.22834758, 0.80988675]],\n",
              "\n",
              "       [[0.05386595, 0.3684818 , 0.1547544 ],\n",
              "        [0.27429474, 0.10914382, 0.22853842],\n",
              "        [0.16214348, 0.06740927, 0.03852341]],\n",
              "\n",
              "       [[0.36215825, 0.42410554, 0.98199147],\n",
              "        [0.00193404, 0.27659887, 0.82499048],\n",
              "        [0.65196215, 0.12464823, 0.75805707]]])"
            ]
          },
          "metadata": {},
          "execution_count": 11
        }
      ]
    },
    {
      "cell_type": "markdown",
      "metadata": {
        "id": "13c5928c"
      },
      "source": [
        "#### 12. Create a 10x10 array with random values and find the **min**imum and **max**imum values (★☆☆)"
      ],
      "id": "13c5928c"
    },
    {
      "cell_type": "code",
      "metadata": {
        "id": "911c9b93",
        "colab": {
          "base_uri": "https://localhost:8080/"
        },
        "outputId": "b45ef1af-1759-4cec-8aa4-ce0c10c8e6d4"
      },
      "source": [
        "rand = np.random.random([10,10])\n",
        "print(rand.min())\n",
        "print(rand.max())"
      ],
      "id": "911c9b93",
      "execution_count": 12,
      "outputs": [
        {
          "output_type": "stream",
          "name": "stdout",
          "text": [
            "0.00918959427596766\n",
            "0.9984713449507434\n"
          ]
        }
      ]
    },
    {
      "cell_type": "markdown",
      "metadata": {
        "id": "3fa2e461"
      },
      "source": [
        "#### 13. Create a random vector of size 30 and find the **mean** value (★☆☆)"
      ],
      "id": "3fa2e461"
    },
    {
      "cell_type": "code",
      "metadata": {
        "id": "323eb38a",
        "colab": {
          "base_uri": "https://localhost:8080/"
        },
        "outputId": "45a37579-4509-44d6-e710-0c4c77ae8987"
      },
      "source": [
        "arr = np.random.random(30)\n",
        "print(arr.mean())"
      ],
      "id": "323eb38a",
      "execution_count": 13,
      "outputs": [
        {
          "output_type": "stream",
          "name": "stdout",
          "text": [
            "0.5357890078978819\n"
          ]
        }
      ]
    },
    {
      "cell_type": "markdown",
      "metadata": {
        "id": "73f7a549"
      },
      "source": [
        "#### 14. Create a 2d array with 1 on the border and 0 inside (★☆☆)"
      ],
      "id": "73f7a549"
    },
    {
      "cell_type": "markdown",
      "source": [
        "- ```np.ones((nrows, ncols), dtype = float64)```\n",
        "  - 튜플 형태의 shape값 입력 시 모든 값을 1로 채운 해당 shape를 가진 ndarray 반환"
      ],
      "metadata": {
        "id": "AS1vZ47RhAv6"
      },
      "id": "AS1vZ47RhAv6"
    },
    {
      "cell_type": "code",
      "metadata": {
        "id": "e3a6807d",
        "colab": {
          "base_uri": "https://localhost:8080/"
        },
        "outputId": "63d7e3f5-b95c-41bf-e73d-e079b96a71b7"
      },
      "source": [
        "arr = np.ones([3,5])\n",
        "arr[1,1:4] = 0\n",
        "print(arr)"
      ],
      "id": "e3a6807d",
      "execution_count": 14,
      "outputs": [
        {
          "output_type": "stream",
          "name": "stdout",
          "text": [
            "[[1. 1. 1. 1. 1.]\n",
            " [1. 0. 0. 0. 1.]\n",
            " [1. 1. 1. 1. 1.]]\n"
          ]
        }
      ]
    },
    {
      "cell_type": "markdown",
      "metadata": {
        "id": "d6ad1a9f"
      },
      "source": [
        "#### 15. What is the result of the following expression? (★☆☆)\n",
        "```python\n",
        "0 * np.nan\n",
        "np.nan == np.nan\n",
        "np.inf > np.nan\n",
        "np.nan - np.nan\n",
        "np.nan in set([np.nan])\n",
        "0.3 == 3 * 0.1\n",
        "```"
      ],
      "id": "d6ad1a9f"
    },
    {
      "cell_type": "code",
      "metadata": {
        "id": "ee7ff0f3"
      },
      "source": [
        "# nan\n",
        "# False\n",
        "# False\n",
        "# nan\n",
        "# true\n",
        "# False"
      ],
      "id": "ee7ff0f3",
      "execution_count": 15,
      "outputs": []
    },
    {
      "cell_type": "markdown",
      "source": [
        "- nan과의 수치 연산 시 결과는 무조건 nan으로 나온다. \n"
      ],
      "metadata": {
        "id": "mzmCqGbThbU0"
      },
      "id": "mzmCqGbThbU0"
    },
    {
      "cell_type": "markdown",
      "metadata": {
        "id": "e3a7ba7f"
      },
      "source": [
        "#### 16. Create a 5x5 matrix with values 1,2,3,4 just below the **diag**onal (★☆☆)"
      ],
      "id": "e3a7ba7f"
    },
    {
      "cell_type": "markdown",
      "source": [
        "- ```np.diag(arr, k = 0)```\n",
        "  - 주어진 원소들로 대각행렬을 생성하는 함수\n",
        "  - k: 주대각선을 기준으로 대각성분들을 어떻게 이동시킬 것인가.\n",
        "    - k > 0: 주대각선 윗부분으로\n",
        "    - k < 0: 주대각선 아랫부분으로 "
      ],
      "metadata": {
        "id": "tGzzYA03iNqp"
      },
      "id": "tGzzYA03iNqp"
    },
    {
      "cell_type": "code",
      "metadata": {
        "id": "01d8e257",
        "colab": {
          "base_uri": "https://localhost:8080/"
        },
        "outputId": "3eed2f8d-5a0b-402e-b953-819a73521810"
      },
      "source": [
        "np.diag([1,2,3,4],k = -1) # k: 주대각선에서 원소들을 어느정도로 이동시킬 것인가"
      ],
      "id": "01d8e257",
      "execution_count": 16,
      "outputs": [
        {
          "output_type": "execute_result",
          "data": {
            "text/plain": [
              "array([[0, 0, 0, 0, 0],\n",
              "       [1, 0, 0, 0, 0],\n",
              "       [0, 2, 0, 0, 0],\n",
              "       [0, 0, 3, 0, 0],\n",
              "       [0, 0, 0, 4, 0]])"
            ]
          },
          "metadata": {},
          "execution_count": 16
        }
      ]
    },
    {
      "cell_type": "markdown",
      "metadata": {
        "id": "6d17ab5d"
      },
      "source": [
        "#### 17. Create a 8x8 matrix and fill it with a checkerboard pattern (★☆☆)"
      ],
      "id": "6d17ab5d"
    },
    {
      "cell_type": "code",
      "metadata": {
        "id": "841373cd",
        "colab": {
          "base_uri": "https://localhost:8080/"
        },
        "outputId": "0df98d35-baec-45d7-aa45-3e150e365094"
      },
      "source": [
        "matrix = np.zeros((8,8))\n",
        "matrix[::2,1:2] = 1\n",
        "matrix[1::2,::2] = 1 # 1부터 시작해서 끝까지 가는데 2개 간격으로\n",
        "matrix"
      ],
      "id": "841373cd",
      "execution_count": 17,
      "outputs": [
        {
          "output_type": "execute_result",
          "data": {
            "text/plain": [
              "array([[0., 1., 0., 0., 0., 0., 0., 0.],\n",
              "       [1., 0., 1., 0., 1., 0., 1., 0.],\n",
              "       [0., 1., 0., 0., 0., 0., 0., 0.],\n",
              "       [1., 0., 1., 0., 1., 0., 1., 0.],\n",
              "       [0., 1., 0., 0., 0., 0., 0., 0.],\n",
              "       [1., 0., 1., 0., 1., 0., 1., 0.],\n",
              "       [0., 1., 0., 0., 0., 0., 0., 0.],\n",
              "       [1., 0., 1., 0., 1., 0., 1., 0.]])"
            ]
          },
          "metadata": {},
          "execution_count": 17
        }
      ]
    },
    {
      "cell_type": "markdown",
      "source": [
        "- ```matrix[start:end:step]```\n",
        "  - start부터 end 이전까지 주어진 step마다 이동"
      ],
      "metadata": {
        "id": "eys3irOQjAtb"
      },
      "id": "eys3irOQjAtb"
    },
    {
      "cell_type": "markdown",
      "metadata": {
        "id": "8837119b"
      },
      "source": [
        "#### 18. Consider a (6,7,8) shape array, what is the index (x,y,z) of the 100th element? (★☆☆)\n",
        "Hint : use 'numpy.unravel_index(value, (x, y, z))"
      ],
      "id": "8837119b"
    },
    {
      "cell_type": "markdown",
      "source": [
        "- ```np.unravel_index(indices, shape)```  \n",
        "  - 1열을 가진 flat index나 array를 튜플 형태로 주어진 shape로 변환\n",
        "  - 해당하는 위치 반환"
      ],
      "metadata": {
        "id": "E0tM0DjcjSeu"
      },
      "id": "E0tM0DjcjSeu"
    },
    {
      "cell_type": "markdown",
      "source": [],
      "metadata": {
        "id": "x9-jpkGKjgh8"
      },
      "id": "x9-jpkGKjgh8"
    },
    {
      "cell_type": "code",
      "metadata": {
        "id": "2c0d16f1",
        "colab": {
          "base_uri": "https://localhost:8080/"
        },
        "outputId": "ac4ed275-264d-422a-e92e-4f4456b685a2"
      },
      "source": [
        "np.unravel_index(99,(6,7,8))  # 100번째 원소의 인덱스: 99\n",
        "# unravel_index(): 인덱스 배열 반환\n",
        "# 6행 7열 8면의 3차원 배열에서 index 99에 해당하는 원소의 위치 "
      ],
      "id": "2c0d16f1",
      "execution_count": 18,
      "outputs": [
        {
          "output_type": "execute_result",
          "data": {
            "text/plain": [
              "(1, 5, 3)"
            ]
          },
          "metadata": {},
          "execution_count": 18
        }
      ]
    },
    {
      "cell_type": "markdown",
      "metadata": {
        "id": "391791e0"
      },
      "source": [
        "#### 19. Normalize a 5x5 random matrix (★☆☆)\n",
        "Hint : $Z = \\frac{X - \\overline{X}}{S}$"
      ],
      "id": "391791e0"
    },
    {
      "cell_type": "code",
      "metadata": {
        "id": "f6533d39",
        "colab": {
          "base_uri": "https://localhost:8080/"
        },
        "outputId": "e50970a0-8ff4-43b3-b38a-52a1bdfce2aa"
      },
      "source": [
        "rand = np.random.random((5,5))\n",
        "norm = (rand - rand.mean()) / rand.std()\n",
        "norm"
      ],
      "id": "f6533d39",
      "execution_count": 19,
      "outputs": [
        {
          "output_type": "execute_result",
          "data": {
            "text/plain": [
              "array([[ 1.31515811e+00,  8.82110921e-01, -4.04563765e-01,\n",
              "        -2.36593853e+00, -4.28513863e-01],\n",
              "       [-1.15130541e+00, -7.72778498e-01, -2.37712624e-01,\n",
              "         3.78310030e-01, -1.17269557e+00],\n",
              "       [ 1.33627528e+00, -1.07832395e+00,  1.30400065e-01,\n",
              "         1.34036328e+00,  1.27254096e+00],\n",
              "       [-1.55654126e+00, -9.48429329e-04,  8.58154520e-01,\n",
              "         5.59367530e-01,  7.00128153e-01],\n",
              "       [-1.75885555e-01,  1.05326443e+00,  8.35374761e-01,\n",
              "        -6.87058404e-01, -6.29182174e-01]])"
            ]
          },
          "metadata": {},
          "execution_count": 19
        }
      ]
    },
    {
      "cell_type": "markdown",
      "metadata": {
        "id": "1e74d39e"
      },
      "source": [
        "#### 20. Create a custom dtype that describes a color as four unsigned bytes (RGBA) (★☆☆)\n",
        "Hint : modify the code below\n",
        "```python\n",
        "numpy.dtype([(value, numpy.ubyte), … , (value, numpy.ubyte)])\n",
        "```"
      ],
      "id": "1e74d39e"
    },
    {
      "cell_type": "markdown",
      "source": [
        "- ```np.dtype()```  \n",
        "  - data type 객체를 생성하는 함수\n",
        "- ```np.ubyte```  \n",
        "  - unsigned integer type"
      ],
      "metadata": {
        "id": "ptsSzil9ku3t"
      },
      "id": "ptsSzil9ku3t"
    },
    {
      "cell_type": "code",
      "metadata": {
        "id": "3f639d33",
        "colab": {
          "base_uri": "https://localhost:8080/"
        },
        "outputId": "0564ffb6-7b63-4770-b9be-697c2268ef3c"
      },
      "source": [
        "color = np.dtype([(\"r\",np.ubyte), # np.ubyte: unsigned byte(자료형)\n",
        "                  (\"g\",np.ubyte),\n",
        "                  (\"b\",np.ubyte),\n",
        "                  (\"a\",np.ubyte)])\n",
        "color"
      ],
      "id": "3f639d33",
      "execution_count": 20,
      "outputs": [
        {
          "output_type": "execute_result",
          "data": {
            "text/plain": [
              "dtype([('r', 'u1'), ('g', 'u1'), ('b', 'u1'), ('a', 'u1')])"
            ]
          },
          "metadata": {},
          "execution_count": 20
        }
      ]
    },
    {
      "cell_type": "markdown",
      "metadata": {
        "id": "78250c14"
      },
      "source": [
        "#### 21. Multiply a 5x3 matrix by a 3x2 matrix (real matrix product) (★☆☆)"
      ],
      "id": "78250c14"
    },
    {
      "cell_type": "markdown",
      "source": [
        "- ```np.dot(matrix1, matrix2)```  \n",
        "  - 두 행렬의 행렬곱을 계산해주는 함수\n",
        "- ```@ 연산자```  \n",
        "  - np.dot()과 동일한 연산 수행"
      ],
      "metadata": {
        "id": "23RBS5FtlzLp"
      },
      "id": "23RBS5FtlzLp"
    },
    {
      "cell_type": "code",
      "source": [
        "np.random.random(1)"
      ],
      "metadata": {
        "colab": {
          "base_uri": "https://localhost:8080/"
        },
        "id": "SrGxCD_4bsM7",
        "outputId": "dec23c90-08ed-49d6-cf6b-53501d8124c4"
      },
      "id": "SrGxCD_4bsM7",
      "execution_count": 21,
      "outputs": [
        {
          "output_type": "execute_result",
          "data": {
            "text/plain": [
              "array([0.73396971])"
            ]
          },
          "metadata": {},
          "execution_count": 21
        }
      ]
    },
    {
      "cell_type": "code",
      "metadata": {
        "id": "9fe729cb",
        "colab": {
          "base_uri": "https://localhost:8080/"
        },
        "outputId": "0085ec70-35cb-450d-bdfe-ba44fda05d75"
      },
      "source": [
        "arr1 = np.random.random((5,3))\n",
        "arr2 = np.random.random((3,2))\n",
        "np.dot(arr1,arr2)"
      ],
      "id": "9fe729cb",
      "execution_count": 22,
      "outputs": [
        {
          "output_type": "execute_result",
          "data": {
            "text/plain": [
              "array([[0.77090064, 0.78455127],\n",
              "       [0.6939612 , 0.77788036],\n",
              "       [0.5359662 , 0.58001956],\n",
              "       [1.15974012, 1.20437068],\n",
              "       [0.49228527, 0.54047391]])"
            ]
          },
          "metadata": {},
          "execution_count": 22
        }
      ]
    },
    {
      "cell_type": "markdown",
      "metadata": {
        "id": "51898680"
      },
      "source": [
        "#### 22. Given a 1D array, negate(음수화) all elements which are between 3 and 8, in place. (★☆☆)"
      ],
      "id": "51898680"
    },
    {
      "cell_type": "code",
      "metadata": {
        "id": "51c90f2d",
        "colab": {
          "base_uri": "https://localhost:8080/"
        },
        "outputId": "b820c223-62a1-49f1-dd3a-a57392b2b40d"
      },
      "source": [
        "arr = np.arange(11)\n",
        "arr[(2<arr) & (arr <9)] *= -1 # boolean indexing\n",
        "arr"
      ],
      "id": "51c90f2d",
      "execution_count": 23,
      "outputs": [
        {
          "output_type": "execute_result",
          "data": {
            "text/plain": [
              "array([ 0,  1,  2, -3, -4, -5, -6, -7, -8,  9, 10])"
            ]
          },
          "metadata": {},
          "execution_count": 23
        }
      ]
    },
    {
      "cell_type": "markdown",
      "metadata": {
        "id": "89e78048"
      },
      "source": [
        "#### 23. What is the output of the following script? (★☆☆)\n",
        "```python\n",
        "# Author: Jake VanderPlas\n",
        "\n",
        "print(sum(range(5),-1))\n",
        "from numpy import *\n",
        "print(sum(range(5),-1))\n",
        "```"
      ],
      "id": "89e78048"
    },
    {
      "cell_type": "code",
      "metadata": {
        "id": "b62e9d1c",
        "colab": {
          "base_uri": "https://localhost:8080/"
        },
        "outputId": "b3a1a990-6bee-49d8-dced-187f0292d55e"
      },
      "source": [
        "print(sum(range(5),-1)) \n",
        "# sum((숫자), -1): -1부터 시작해서 5까지의(5는 포함 x) 정수를 더한다. \n",
        "\n",
        "from numpy import * \n",
        "\n",
        "print(sum(range(5),-1)) \n",
        "# np.sum((숫자),-1): 여기서 -1은 축을 지정하는 것이다. "
      ],
      "id": "b62e9d1c",
      "execution_count": 24,
      "outputs": [
        {
          "output_type": "stream",
          "name": "stdout",
          "text": [
            "9\n",
            "10\n"
          ]
        }
      ]
    },
    {
      "cell_type": "markdown",
      "metadata": {
        "id": "ebd10810"
      },
      "source": [
        "#### 24. Consider an integer vector Z, which of these expressions are legal? (★☆☆)\n",
        "```python\n",
        "Z**Z\n",
        "2 << Z >> 2\n",
        "Z <- Z\n",
        "1j*Z\n",
        "Z/1/1\n",
        "Z<Z>Z\n",
        "```"
      ],
      "id": "ebd10810"
    },
    {
      "cell_type": "markdown",
      "source": [
        "- numpy의 ```>>```, ```<<``` 연산자\n",
        "  - shift bit 연산자\n",
        "  - ex> 2 << z: z = z * 2 ^ z  "
      ],
      "metadata": {
        "id": "XriB-ZjfnSx-"
      },
      "id": "XriB-ZjfnSx-"
    },
    {
      "cell_type": "code",
      "metadata": {
        "id": "6ada209f",
        "colab": {
          "base_uri": "https://localhost:8080/",
          "height": 318
        },
        "outputId": "98c094da-5ce1-499b-82b3-310a373dbf83"
      },
      "source": [
        "# j: 복소수\n",
        "\n",
        "z = np.arange(10)\n",
        "print(z**z) # 가능\n",
        "print(2 << z >> 2) # 가능(쉬프트 연산자)\n",
        "print(z <- z) # 가능\n",
        "print(1j*z) # 가능\n",
        "print(z/1/1) # 가능\n",
        "print(z<z>z) # 불가능"
      ],
      "id": "6ada209f",
      "execution_count": 26,
      "outputs": [
        {
          "output_type": "stream",
          "name": "stdout",
          "text": [
            "[        1         1         4        27       256      3125     46656\n",
            "    823543  16777216 387420489]\n",
            "[  0   1   2   4   8  16  32  64 128 256]\n",
            "[False False False False False False False False False False]\n",
            "[0.+0.j 0.+1.j 0.+2.j 0.+3.j 0.+4.j 0.+5.j 0.+6.j 0.+7.j 0.+8.j 0.+9.j]\n",
            "[0. 1. 2. 3. 4. 5. 6. 7. 8. 9.]\n"
          ]
        },
        {
          "output_type": "error",
          "ename": "ValueError",
          "evalue": "ignored",
          "traceback": [
            "\u001b[0;31m---------------------------------------------------------------------------\u001b[0m",
            "\u001b[0;31mValueError\u001b[0m                                Traceback (most recent call last)",
            "\u001b[0;32m<ipython-input-26-eb73aa7c396e>\u001b[0m in \u001b[0;36m<module>\u001b[0;34m\u001b[0m\n\u001b[1;32m      7\u001b[0m \u001b[0mprint\u001b[0m\u001b[0;34m(\u001b[0m\u001b[0;36m1j\u001b[0m\u001b[0;34m*\u001b[0m\u001b[0mz\u001b[0m\u001b[0;34m)\u001b[0m \u001b[0;31m# 가능\u001b[0m\u001b[0;34m\u001b[0m\u001b[0;34m\u001b[0m\u001b[0m\n\u001b[1;32m      8\u001b[0m \u001b[0mprint\u001b[0m\u001b[0;34m(\u001b[0m\u001b[0mz\u001b[0m\u001b[0;34m/\u001b[0m\u001b[0;36m1\u001b[0m\u001b[0;34m/\u001b[0m\u001b[0;36m1\u001b[0m\u001b[0;34m)\u001b[0m \u001b[0;31m# 가능\u001b[0m\u001b[0;34m\u001b[0m\u001b[0;34m\u001b[0m\u001b[0m\n\u001b[0;32m----> 9\u001b[0;31m \u001b[0mprint\u001b[0m\u001b[0;34m(\u001b[0m\u001b[0mz\u001b[0m\u001b[0;34m<\u001b[0m\u001b[0mz\u001b[0m\u001b[0;34m>\u001b[0m\u001b[0mz\u001b[0m\u001b[0;34m)\u001b[0m \u001b[0;31m# 불가능\u001b[0m\u001b[0;34m\u001b[0m\u001b[0;34m\u001b[0m\u001b[0m\n\u001b[0m",
            "\u001b[0;31mValueError\u001b[0m: The truth value of an array with more than one element is ambiguous. Use a.any() or a.all()"
          ]
        }
      ]
    },
    {
      "cell_type": "markdown",
      "metadata": {
        "id": "c0e940f8"
      },
      "source": [
        "#### 25. What are the result of the following expressions? (★☆☆)\n",
        "```python\n",
        "np.array(0) / np.array(0)\n",
        "np.array(0) // np.array(0)\n",
        "np.array([np.nan]).astype(int).astype(float)\n",
        "```"
      ],
      "id": "c0e940f8"
    },
    {
      "cell_type": "code",
      "metadata": {
        "id": "820dc7a5",
        "colab": {
          "base_uri": "https://localhost:8080/"
        },
        "outputId": "71652510-1352-4e67-c9bb-e75fb2c110e2"
      },
      "source": [
        "# arr의 경우 나누기가 불가능하다.\n",
        "# nan을 리턴함\n",
        "\n",
        "np.array(0) / np.array(0)"
      ],
      "id": "820dc7a5",
      "execution_count": 27,
      "outputs": [
        {
          "output_type": "stream",
          "name": "stderr",
          "text": [
            "<ipython-input-27-9697840a5f24>:4: RuntimeWarning: invalid value encountered in true_divide\n",
            "  np.array(0) / np.array(0)\n"
          ]
        },
        {
          "output_type": "execute_result",
          "data": {
            "text/plain": [
              "nan"
            ]
          },
          "metadata": {},
          "execution_count": 27
        }
      ]
    },
    {
      "cell_type": "code",
      "source": [
        "# 몫만 구하는 것은 가능하다.\n",
        "\n",
        "np.array(0) // np.array(0)"
      ],
      "metadata": {
        "colab": {
          "base_uri": "https://localhost:8080/"
        },
        "id": "GpaTe2hMb9gT",
        "outputId": "bac16a6d-404b-4b5c-fd7c-56e347175513"
      },
      "id": "GpaTe2hMb9gT",
      "execution_count": 28,
      "outputs": [
        {
          "output_type": "stream",
          "name": "stderr",
          "text": [
            "<ipython-input-28-a5bff53b8941>:3: RuntimeWarning: divide by zero encountered in floor_divide\n",
            "  np.array(0) // np.array(0)\n"
          ]
        },
        {
          "output_type": "execute_result",
          "data": {
            "text/plain": [
              "0"
            ]
          },
          "metadata": {},
          "execution_count": 28
        }
      ]
    },
    {
      "cell_type": "code",
      "source": [
        "np.array([np.nan]).astype(int).astype(float)"
      ],
      "metadata": {
        "colab": {
          "base_uri": "https://localhost:8080/"
        },
        "id": "b4DGa1sqePIt",
        "outputId": "91a4c5b6-7c81-40be-a073-fd6d8a4b6cb4"
      },
      "id": "b4DGa1sqePIt",
      "execution_count": 29,
      "outputs": [
        {
          "output_type": "execute_result",
          "data": {
            "text/plain": [
              "array([-9.22337204e+18])"
            ]
          },
          "metadata": {},
          "execution_count": 29
        }
      ]
    },
    {
      "cell_type": "markdown",
      "metadata": {
        "id": "f1ae2c2d"
      },
      "source": [
        "#### 26. How to find common values between two arrays? (★☆☆)\n",
        "```python\n",
        "Z1 = np.random.randint(0,10,10)\n",
        "Z2 = np.random.randint(0,10,10)\n",
        "```\n",
        "Hint : use `numpy.random.randint(start, end, size)`"
      ],
      "id": "f1ae2c2d"
    },
    {
      "cell_type": "markdown",
      "source": [
        "- ```np.intersect1d(arr1, arr2)```  \n",
        "  - arr1, arr2 내의 원소들 중 공통 원소 추출"
      ],
      "metadata": {
        "id": "hh2ANvphoLch"
      },
      "id": "hh2ANvphoLch"
    },
    {
      "cell_type": "code",
      "metadata": {
        "id": "6801c73d",
        "colab": {
          "base_uri": "https://localhost:8080/"
        },
        "outputId": "0cd1ce67-810d-40c0-b5e2-e17e29093b61"
      },
      "source": [
        "Z1 = np.random.randint(0,10,10)\n",
        "Z2 = np.random.randint(0,10,10)\n",
        "print(Z1)\n",
        "print(Z2)\n",
        "print(np.intersect1d(Z1,Z2))"
      ],
      "id": "6801c73d",
      "execution_count": 30,
      "outputs": [
        {
          "output_type": "stream",
          "name": "stdout",
          "text": [
            "[1 7 1 0 1 0 8 5 0 5]\n",
            "[5 8 1 3 5 9 1 6 7 1]\n",
            "[1 5 7 8]\n"
          ]
        }
      ]
    },
    {
      "cell_type": "markdown",
      "metadata": {
        "id": "37bc0973"
      },
      "source": [
        "#### 27. Is the following expressions true? (★☆☆)\n",
        "```python\n",
        "np.sqrt(-1) == np.emath.sqrt(-1)\n",
        "```"
      ],
      "id": "37bc0973"
    },
    {
      "cell_type": "markdown",
      "source": [
        "- np.sqrt(n): 제곱근을 구할 때 n이 음수인 경우 제대로 된 결과값을 계산하지 못한다.\n",
        "- np.emath.sqrt(n): 조금 더 복잡한 계산도 수행할 수 있다."
      ],
      "metadata": {
        "id": "BIoJH1pqpYKP"
      },
      "id": "BIoJH1pqpYKP"
    },
    {
      "cell_type": "code",
      "source": [
        "import numpy as np"
      ],
      "metadata": {
        "id": "uFZqYO0BxrKi"
      },
      "id": "uFZqYO0BxrKi",
      "execution_count": 31,
      "outputs": []
    },
    {
      "cell_type": "code",
      "source": [
        "np.sqrt(-1) == np.emath.sqrt(-1)"
      ],
      "metadata": {
        "colab": {
          "base_uri": "https://localhost:8080/"
        },
        "id": "AJVQ4_Cvod3h",
        "outputId": "8f7f13b5-595e-4b1f-8ce4-5b8a8232d682"
      },
      "id": "AJVQ4_Cvod3h",
      "execution_count": 32,
      "outputs": [
        {
          "output_type": "stream",
          "name": "stderr",
          "text": [
            "<ipython-input-32-16339fbc685e>:1: RuntimeWarning: invalid value encountered in sqrt\n",
            "  np.sqrt(-1) == np.emath.sqrt(-1)\n"
          ]
        },
        {
          "output_type": "execute_result",
          "data": {
            "text/plain": [
              "False"
            ]
          },
          "metadata": {},
          "execution_count": 32
        }
      ]
    },
    {
      "cell_type": "markdown",
      "metadata": {
        "id": "42f8b2f9"
      },
      "source": [
        "#### 28. How to get all the dates corresponding to the month of July 2016? (★★☆)\n",
        "Hint : modify the code below\n",
        "```python\n",
        "Z = np.arange('start', 'end', dtype='datetime64[D]')\n",
        "```"
      ],
      "id": "42f8b2f9"
    },
    {
      "cell_type": "code",
      "source": [
        "Z = np.arange('2016-07','2016-08',dtype = 'datetime64[D]')"
      ],
      "metadata": {
        "id": "3kkl01x3x0NF"
      },
      "id": "3kkl01x3x0NF",
      "execution_count": 33,
      "outputs": []
    },
    {
      "cell_type": "markdown",
      "source": [
        "- 7월과 8월 사이를 dtype = 'datetime64[D]'로 나누어 일별로 분류"
      ],
      "metadata": {
        "id": "_vfDW6ETqELe"
      },
      "id": "_vfDW6ETqELe"
    },
    {
      "cell_type": "markdown",
      "metadata": {
        "id": "252c43e2"
      },
      "source": [
        "#### 29. How to compute ((A+B)*(-A/2)) in place (without copy)? (★★☆)\n",
        "Hint : use `numpy.add`, `numpy.divide`,`numpy.negative`, `numpy.multiply` and parameter `out` of the funtions"
      ],
      "id": "252c43e2"
    },
    {
      "cell_type": "markdown",
      "source": [
        "- ```np.add()```: 더하기\n",
        "- ```np.divide()```: 나누기\n",
        "- ```np.negative()```: 양수 -> 음수, 음수 -> 양수\n",
        "- ```np.multiply()```: 곱하기\n",
        "- ```out``` 매개변수의 역할: 계산 결과를 어느 행렬에 덮어쓸 것인가"
      ],
      "metadata": {
        "id": "ak8fegkQqfOq"
      },
      "id": "ak8fegkQqfOq"
    },
    {
      "cell_type": "code",
      "metadata": {
        "id": "f06ff615",
        "colab": {
          "base_uri": "https://localhost:8080/"
        },
        "outputId": "0e0b7e26-c7f5-4129-f78a-8bfce719b85c"
      },
      "source": [
        "A = np.ones(3) * 1\n",
        "B = np.ones(3) * 2\n",
        "C = np.ones(3) * 3\n",
        "\n",
        "np.add(A,B,out = B) # A와 B의 합을 계산한 결과를 B에 저장\n",
        "np.divide(A,2,out = A)\n",
        "np.negative(A,out = A)\n",
        "np.multiply(A,B,out = A)"
      ],
      "id": "f06ff615",
      "execution_count": 34,
      "outputs": [
        {
          "output_type": "execute_result",
          "data": {
            "text/plain": [
              "array([-1.5, -1.5, -1.5])"
            ]
          },
          "metadata": {},
          "execution_count": 34
        }
      ]
    },
    {
      "cell_type": "markdown",
      "metadata": {
        "id": "486df8ea"
      },
      "source": [
        "#### 30. Extract the integer part of a random array of positive numbers using 2 different methods (★★☆)\n",
        "Hint : `%`, `//`"
      ],
      "id": "486df8ea"
    },
    {
      "cell_type": "code",
      "metadata": {
        "id": "34b4fa08",
        "colab": {
          "base_uri": "https://localhost:8080/"
        },
        "outputId": "be9f3de0-3613-46a1-b97f-b45b574fe27e"
      },
      "source": [
        "Z = np.random.uniform(0,10,10)\n",
        " \n",
        "print(Z - Z%1) # Z에서 Z를1로 나눈 나머지를 빼서 정수 부분을 구함\n",
        "print(np.floor(Z)) # 내림\n",
        "print(np.ceil(Z)) # 올림\n",
        "print(Z.astype(int)) # integer로 형변환 \n",
        "print(np.trunc(Z)) # 소수점 아래 부분 절사"
      ],
      "id": "34b4fa08",
      "execution_count": 35,
      "outputs": [
        {
          "output_type": "stream",
          "name": "stdout",
          "text": [
            "[5. 4. 4. 4. 5. 3. 8. 3. 3. 5.]\n",
            "[5. 4. 4. 4. 5. 3. 8. 3. 3. 5.]\n",
            "[6. 5. 5. 5. 6. 4. 9. 4. 4. 6.]\n",
            "[5 4 4 4 5 3 8 3 3 5]\n",
            "[5. 4. 4. 4. 5. 3. 8. 3. 3. 5.]\n"
          ]
        }
      ]
    },
    {
      "cell_type": "markdown",
      "metadata": {
        "id": "649e89f9"
      },
      "source": [
        "#### 31. Create a 5x5 matrix with row values ranging from 0 to 4 (★★☆)"
      ],
      "id": "649e89f9"
    },
    {
      "cell_type": "code",
      "metadata": {
        "id": "663cc611",
        "colab": {
          "base_uri": "https://localhost:8080/"
        },
        "outputId": "6ba1d1bd-3380-4660-bfc6-b06bbd3c634b"
      },
      "source": [
        "Z = np.zeros((5,5)) # null matrix\n",
        "Z += np.arange(5) # 하나씩 더해주기\n",
        "Z"
      ],
      "id": "663cc611",
      "execution_count": 36,
      "outputs": [
        {
          "output_type": "execute_result",
          "data": {
            "text/plain": [
              "array([[0., 1., 2., 3., 4.],\n",
              "       [0., 1., 2., 3., 4.],\n",
              "       [0., 1., 2., 3., 4.],\n",
              "       [0., 1., 2., 3., 4.],\n",
              "       [0., 1., 2., 3., 4.]])"
            ]
          },
          "metadata": {},
          "execution_count": 36
        }
      ]
    },
    {
      "cell_type": "markdown",
      "metadata": {
        "id": "2d07be1c"
      },
      "source": [
        "#### 32. Create a random vector of size 10 and sort it (★★☆)"
      ],
      "id": "2d07be1c"
    },
    {
      "cell_type": "markdown",
      "source": [
        "- ```np.sort()```  \n",
        "  - 원래 행렬은 그대로 유지한 채 원본 행렬의 정렬된 행렬을 반환\n",
        "- ```ndarray.sort()```\n",
        "  - 원래 행렬 자체를 정렬한 형태로 반환"
      ],
      "metadata": {
        "id": "VKGldFW2s-0F"
      },
      "id": "VKGldFW2s-0F"
    },
    {
      "cell_type": "code",
      "metadata": {
        "id": "4f7cb3ad",
        "colab": {
          "base_uri": "https://localhost:8080/"
        },
        "outputId": "2821e346-e8ba-4214-8b67-cee314e18c66"
      },
      "source": [
        "arr = np.random.random(10)\n",
        "print(arr)\n",
        "\n",
        "arr.sort()\n",
        "arr"
      ],
      "id": "4f7cb3ad",
      "execution_count": 37,
      "outputs": [
        {
          "output_type": "stream",
          "name": "stdout",
          "text": [
            "[0.77283416 0.49450833 0.7472642  0.35514326 0.54473211 0.77100491\n",
            " 0.12821619 0.24541382 0.9211495  0.38505238]\n"
          ]
        },
        {
          "output_type": "execute_result",
          "data": {
            "text/plain": [
              "array([0.12821619, 0.24541382, 0.35514326, 0.38505238, 0.49450833,\n",
              "       0.54473211, 0.7472642 , 0.77100491, 0.77283416, 0.9211495 ])"
            ]
          },
          "metadata": {},
          "execution_count": 37
        }
      ]
    },
    {
      "cell_type": "markdown",
      "metadata": {
        "id": "fe043549"
      },
      "source": [
        "#### 33. Consider two random array A and B, check if they are equal (★★☆)\n",
        "```python\n",
        "A = np.random.randint(0,2,5)\n",
        "B = np.random.randint(0,2,5)\n",
        "```\n",
        "Hint : Use `numpy.array_equal()`"
      ],
      "id": "fe043549"
    },
    {
      "cell_type": "markdown",
      "source": [
        "- ```np.random.randint(start, end, n)```: start에서 end 사이의 수들로 지정된 개수의 난수 발생\n",
        "- ```np.array_equal(A,B)```: 두 개의 배열이 같은 지 비교 "
      ],
      "metadata": {
        "id": "l9a_WbaNPOYO"
      },
      "id": "l9a_WbaNPOYO"
    },
    {
      "cell_type": "code",
      "metadata": {
        "id": "3326a686",
        "colab": {
          "base_uri": "https://localhost:8080/"
        },
        "outputId": "4e013e12-b810-4a1a-c423-864dbebbb6d4"
      },
      "source": [
        "np.array_equal(A,B)"
      ],
      "id": "3326a686",
      "execution_count": 38,
      "outputs": [
        {
          "output_type": "execute_result",
          "data": {
            "text/plain": [
              "False"
            ]
          },
          "metadata": {},
          "execution_count": 38
        }
      ]
    },
    {
      "cell_type": "markdown",
      "metadata": {
        "id": "2002cb03"
      },
      "source": [
        "#### 34. Consider a random 10x2 matrix representing cartesian coordinates(데카르트 좌표계), convert them to polar coordinates(극좌표계) (★★☆)\n",
        "Hint 1 : Note that cartesian coodinate **(x, y)** can be represented as  polar coordinates **(distance from origin to (x,y), angle from the x-axis)**\n",
        "\n",
        "Hint 2 : Use `numpy.sqrt` and `numpy.arctan2`"
      ],
      "id": "2002cb03"
    },
    {
      "cell_type": "markdown",
      "source": [
        "- ```np.sqrt()```: 제곱근 함수\n",
        "- ```np.arctan2(X,Y)```: 역탄젠트 함수 "
      ],
      "metadata": {
        "id": "rqdhmLDKQDFE"
      },
      "id": "rqdhmLDKQDFE"
    },
    {
      "cell_type": "code",
      "metadata": {
        "id": "58be72bc",
        "colab": {
          "base_uri": "https://localhost:8080/"
        },
        "outputId": "cd66c1dc-55a5-4c2d-fefa-84584b57d445"
      },
      "source": [
        "arr = np.random.random((10,2))\n",
        "X,Y = arr[:,0], arr[:,1]\n",
        "\n",
        "R = np.sqrt(X**2 + Y ** 2) # 원점(0,0)에서 해당 점까지의 거리\n",
        "P = np.arctan2(Y,X) # 극좌표계로 변환\n",
        "\n",
        "print(R)\n",
        "print(P)"
      ],
      "id": "58be72bc",
      "execution_count": 39,
      "outputs": [
        {
          "output_type": "stream",
          "name": "stdout",
          "text": [
            "[0.47556597 0.27880904 1.16590371 0.93948377 0.92059989 0.76502974\n",
            " 1.30252915 0.89094984 1.09460703 0.49205789]\n",
            "[0.27378851 0.36140704 0.73940457 0.44949622 0.51180954 1.52952786\n",
            " 0.78580447 0.39282282 0.68273183 1.48201915]\n"
          ]
        }
      ]
    },
    {
      "cell_type": "markdown",
      "metadata": {
        "id": "b7109c9f"
      },
      "source": [
        "#### 35. Create random vector Z of size 10 and replace the maximum value by 0 (★★☆)\n",
        "Hint : We can see the index of maximum value using `Z.argmax()`"
      ],
      "id": "b7109c9f"
    },
    {
      "cell_type": "markdown",
      "source": [
        "- ```ndarray.argmax()```: ndarray에서 가장 큰 값을 가지는 원소의 인덱스 값을 반환"
      ],
      "metadata": {
        "id": "9Ky_j4LbRiW7"
      },
      "id": "9Ky_j4LbRiW7"
    },
    {
      "cell_type": "code",
      "metadata": {
        "id": "f79e79a7",
        "colab": {
          "base_uri": "https://localhost:8080/"
        },
        "outputId": "f2a90ab3-173b-4687-c872-9355784d9fb1"
      },
      "source": [
        "z = np.random.random(10)\n",
        "print(z)\n",
        "print()\n",
        "z[z.argmax()] = 0\n",
        "print(z)"
      ],
      "id": "f79e79a7",
      "execution_count": 41,
      "outputs": [
        {
          "output_type": "stream",
          "name": "stdout",
          "text": [
            "[0.17206855 0.07191628 0.79999882 0.88528673 0.88079511 0.49147094\n",
            " 0.2049784  0.87841917 0.60258926 0.57386256]\n",
            "\n",
            "[0.17206855 0.07191628 0.79999882 0.         0.88079511 0.49147094\n",
            " 0.2049784  0.87841917 0.60258926 0.57386256]\n"
          ]
        }
      ]
    },
    {
      "cell_type": "markdown",
      "metadata": {
        "id": "e6e1ae2f"
      },
      "source": [
        "#### 36. How to find the closest value (to a given scalar v) in a vector Z? (★★☆)\n",
        "```python\n",
        "Z = np.arange(100)\n",
        "v = np.random.uniform(0,100)\n",
        "```\n",
        "Hint : Coumpute the distances between the each elements of Z and the scalar v. After that, we can see the index of minimum value using `argmin()`.  "
      ],
      "id": "e6e1ae2f"
    },
    {
      "cell_type": "markdown",
      "source": [
        "- ```ndarray.argmin()```: ndarray에서 가장 작은 값을 가지는 원소의 인덱스 값을 반환"
      ],
      "metadata": {
        "id": "Y5fgSX1-TPjG"
      },
      "id": "Y5fgSX1-TPjG"
    },
    {
      "cell_type": "code",
      "source": [
        "Z = np.arange(100)\n",
        "v = np.random.uniform(0,100)\n",
        "r = np.abs(Z-v)\n",
        "Z[r.argmin()]"
      ],
      "metadata": {
        "id": "QkQ2Mii77FrE",
        "colab": {
          "base_uri": "https://localhost:8080/"
        },
        "outputId": "2e6bb3b5-55c4-4b0d-b8da-6d376bb7f30e"
      },
      "id": "QkQ2Mii77FrE",
      "execution_count": 52,
      "outputs": [
        {
          "output_type": "execute_result",
          "data": {
            "text/plain": [
              "65"
            ]
          },
          "metadata": {},
          "execution_count": 52
        }
      ]
    },
    {
      "cell_type": "markdown",
      "metadata": {
        "id": "f98713a6"
      },
      "source": [
        "#### 37. What is the equivalent of enumerate for numpy arrays? (★★☆)\n",
        "Hint : Use `numpy.ndenumerate()`or `numpy.ndindex()`\n",
        "\n",
        "Example of the output :\n",
        "```python\n",
        "Z = np.arange(9).reshape(3,3)\n",
        "```\n",
        "```python\n",
        "# output\n",
        "(0, 0) 0\n",
        "(0, 1) 1\n",
        "(0, 2) 2\n",
        "(1, 0) 3\n",
        "(1, 1) 4\n",
        "(1, 2) 5\n",
        "(2, 0) 6\n",
        "(2, 1) 7\n",
        "(2, 2) 8\n",
        "```"
      ],
      "id": "f98713a6"
    },
    {
      "cell_type": "markdown",
      "source": [
        "- ```numpy.ndenumerate()```: 다차원 배열의 index와 value 반환\n",
        "- ```numpy.ndindex()```: 다차원 index 반환"
      ],
      "metadata": {
        "id": "UEw_G5iiTdox"
      },
      "id": "UEw_G5iiTdox"
    },
    {
      "cell_type": "code",
      "metadata": {
        "id": "64795f84",
        "colab": {
          "base_uri": "https://localhost:8080/"
        },
        "outputId": "56bc51ec-a7ef-48d1-8b16-310927f62bc0"
      },
      "source": [
        "Z = np.arange(9).reshape(3,3)\n",
        "\n",
        "for index, value in np.ndenumerate(Z):\n",
        "  print(index, value)\n",
        "\n",
        "for index in np.ndindex(Z.shape):\n",
        "  print(index, Z[index])"
      ],
      "id": "64795f84",
      "execution_count": 53,
      "outputs": [
        {
          "output_type": "stream",
          "name": "stdout",
          "text": [
            "(0, 0) 0\n",
            "(0, 1) 1\n",
            "(0, 2) 2\n",
            "(1, 0) 3\n",
            "(1, 1) 4\n",
            "(1, 2) 5\n",
            "(2, 0) 6\n",
            "(2, 1) 7\n",
            "(2, 2) 8\n",
            "(0, 0) 0\n",
            "(0, 1) 1\n",
            "(0, 2) 2\n",
            "(1, 0) 3\n",
            "(1, 1) 4\n",
            "(1, 2) 5\n",
            "(2, 0) 6\n",
            "(2, 1) 7\n",
            "(2, 2) 8\n"
          ]
        }
      ]
    },
    {
      "cell_type": "markdown",
      "metadata": {
        "id": "0cf413ee"
      },
      "source": [
        "#### 38. How to randomly place p elements in a 2D array? (★★☆)\n",
        "Hint : modify the code below\n",
        "```python\n",
        "n = 'size of a 2D array'\n",
        "p = 'the number of elements that you want to place'\n",
        "Z = np.zeros((n,n))\n",
        "np.put(Z, np.random.choice(range(n*n), p, replace = False),'value that you want to place')\n",
        "print(Z)\n",
        "```"
      ],
      "id": "0cf413ee"
    },
    {
      "cell_type": "markdown",
      "source": [
        "- ```np.put(arr,ind,value)```: arr내의 원소들 중 ind에 해당하는 위치의 원소들의 값을 value로 변경"
      ],
      "metadata": {
        "id": "w4t21zQGUVp7"
      },
      "id": "w4t21zQGUVp7"
    },
    {
      "cell_type": "code",
      "metadata": {
        "id": "dfc57e06",
        "colab": {
          "base_uri": "https://localhost:8080/"
        },
        "outputId": "d85a7a7f-b7cc-4564-c0f1-c2c1b7736982"
      },
      "source": [
        "n = 10\n",
        "p = 3\n",
        "Z = np.zeros((n,n))\n",
        "np.put(Z, np.random.choice(range(n*n), p, replace = False),4)\n",
        "print(Z)"
      ],
      "id": "dfc57e06",
      "execution_count": 55,
      "outputs": [
        {
          "output_type": "stream",
          "name": "stdout",
          "text": [
            "[[0. 0. 0. 0. 0. 0. 0. 0. 0. 0.]\n",
            " [0. 0. 0. 0. 0. 0. 0. 0. 0. 0.]\n",
            " [0. 0. 0. 0. 0. 0. 0. 0. 0. 0.]\n",
            " [0. 0. 0. 0. 0. 0. 0. 0. 0. 0.]\n",
            " [0. 0. 0. 0. 0. 0. 4. 0. 0. 0.]\n",
            " [0. 0. 0. 0. 0. 0. 0. 0. 0. 0.]\n",
            " [0. 0. 4. 0. 0. 0. 0. 0. 0. 0.]\n",
            " [0. 4. 0. 0. 0. 0. 0. 0. 0. 0.]\n",
            " [0. 0. 0. 0. 0. 0. 0. 0. 0. 0.]\n",
            " [0. 0. 0. 0. 0. 0. 0. 0. 0. 0.]]\n"
          ]
        }
      ]
    },
    {
      "cell_type": "markdown",
      "metadata": {
        "id": "c0cf37e0"
      },
      "source": [
        "#### 39. How to sort an array below by the nth column? (★★☆)\n",
        "```python\n",
        "Z = np.random.randint(0,10,(3,3))\n",
        "```"
      ],
      "id": "c0cf37e0"
    },
    {
      "cell_type": "code",
      "source": [
        "Z = np.random.randint(0,10,(3,3))\n",
        "print(Z)\n",
        "print(Z[Z[:,1].argsort()]) # 행의 컬럼 1의 성분의 크기를 보고 순서대로 정렬한다."
      ],
      "metadata": {
        "colab": {
          "base_uri": "https://localhost:8080/"
        },
        "id": "-VVZdK2qU9Vf",
        "outputId": "2805141a-c3b1-4db0-c911-3b12ad6d3037"
      },
      "id": "-VVZdK2qU9Vf",
      "execution_count": 57,
      "outputs": [
        {
          "output_type": "stream",
          "name": "stdout",
          "text": [
            "[[5 7 8]\n",
            " [0 3 5]\n",
            " [8 3 1]]\n",
            "[[0 3 5]\n",
            " [8 3 1]\n",
            " [5 7 8]]\n"
          ]
        }
      ]
    }
  ]
}