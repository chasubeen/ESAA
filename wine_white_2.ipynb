{
 "cells": [
  {
   "cell_type": "markdown",
   "metadata": {},
   "source": [
    "# **0. 라이브러리 import**"
   ]
  },
  {
   "cell_type": "code",
   "execution_count": 1,
   "metadata": {},
   "outputs": [],
   "source": [
    "import numpy as np\n",
    "import pandas as pd\n",
    "%matplotlib inline\n",
    "import matplotlib.pyplot as plt \n",
    "import seaborn as sns \n",
    "\n",
    "from sklearn.model_selection import train_test_split\n",
    "from sklearn.preprocessing import StandardScaler,MinMaxScaler\n",
    "from sklearn.metrics import accuracy_score\n",
    "\n",
    "#경고 메시지 숨기기\n",
    "import warnings\n",
    "warnings.filterwarnings(action = 'ignore')"
   ]
  },
  {
   "cell_type": "markdown",
   "metadata": {},
   "source": [
    "# **1. 데이터 불러오기**"
   ]
  },
  {
   "cell_type": "markdown",
   "metadata": {},
   "source": [
    "## **📌 Data Description**\n",
    "- index: 구분자\n",
    "- quality: 품질(target 변수) - 범주형\n",
    "- fixed acidity: 산도\n",
    "- volatile acidity: 휘발성산\n",
    "- citric acid: 시트르산\n",
    "- residual sugar: 잔당(발효 후 와인 속에 남아있는 당분)\n",
    "- chlorides: 염화물\n",
    "- free sulfur dioxide: 독립 이산화황\n",
    "- total sulfur dioxide: 총 이산화황\n",
    "- density: 밀도\n",
    "- pH: 수소이온농도\n",
    "- sulphates: 황산염\n",
    "- alcohol: 도수\n",
    "- type: 종류(white vs red)"
   ]
  },
  {
   "cell_type": "code",
   "execution_count": 2,
   "metadata": {},
   "outputs": [],
   "source": [
    "train = pd.read_csv('./data/train.csv')\n",
    "test = pd.read_csv('./data/test.csv')"
   ]
  },
  {
   "cell_type": "code",
   "execution_count": 3,
   "metadata": {},
   "outputs": [
    {
     "data": {
      "text/html": [
       "<div>\n",
       "<style scoped>\n",
       "    .dataframe tbody tr th:only-of-type {\n",
       "        vertical-align: middle;\n",
       "    }\n",
       "\n",
       "    .dataframe tbody tr th {\n",
       "        vertical-align: top;\n",
       "    }\n",
       "\n",
       "    .dataframe thead th {\n",
       "        text-align: right;\n",
       "    }\n",
       "</style>\n",
       "<table border=\"1\" class=\"dataframe\">\n",
       "  <thead>\n",
       "    <tr style=\"text-align: right;\">\n",
       "      <th></th>\n",
       "      <th>index</th>\n",
       "      <th>quality</th>\n",
       "      <th>fixed acidity</th>\n",
       "      <th>volatile acidity</th>\n",
       "      <th>citric acid</th>\n",
       "      <th>residual sugar</th>\n",
       "      <th>chlorides</th>\n",
       "      <th>free sulfur dioxide</th>\n",
       "      <th>total sulfur dioxide</th>\n",
       "      <th>density</th>\n",
       "      <th>pH</th>\n",
       "      <th>sulphates</th>\n",
       "      <th>alcohol</th>\n",
       "      <th>type</th>\n",
       "    </tr>\n",
       "  </thead>\n",
       "  <tbody>\n",
       "    <tr>\n",
       "      <th>0</th>\n",
       "      <td>0</td>\n",
       "      <td>5</td>\n",
       "      <td>5.6</td>\n",
       "      <td>0.695</td>\n",
       "      <td>0.06</td>\n",
       "      <td>6.8</td>\n",
       "      <td>0.042</td>\n",
       "      <td>9.0</td>\n",
       "      <td>84.0</td>\n",
       "      <td>0.99432</td>\n",
       "      <td>3.44</td>\n",
       "      <td>0.44</td>\n",
       "      <td>10.2</td>\n",
       "      <td>white</td>\n",
       "    </tr>\n",
       "    <tr>\n",
       "      <th>1</th>\n",
       "      <td>1</td>\n",
       "      <td>5</td>\n",
       "      <td>8.8</td>\n",
       "      <td>0.610</td>\n",
       "      <td>0.14</td>\n",
       "      <td>2.4</td>\n",
       "      <td>0.067</td>\n",
       "      <td>10.0</td>\n",
       "      <td>42.0</td>\n",
       "      <td>0.99690</td>\n",
       "      <td>3.19</td>\n",
       "      <td>0.59</td>\n",
       "      <td>9.5</td>\n",
       "      <td>red</td>\n",
       "    </tr>\n",
       "    <tr>\n",
       "      <th>2</th>\n",
       "      <td>2</td>\n",
       "      <td>5</td>\n",
       "      <td>7.9</td>\n",
       "      <td>0.210</td>\n",
       "      <td>0.39</td>\n",
       "      <td>2.0</td>\n",
       "      <td>0.057</td>\n",
       "      <td>21.0</td>\n",
       "      <td>138.0</td>\n",
       "      <td>0.99176</td>\n",
       "      <td>3.05</td>\n",
       "      <td>0.52</td>\n",
       "      <td>10.9</td>\n",
       "      <td>white</td>\n",
       "    </tr>\n",
       "    <tr>\n",
       "      <th>3</th>\n",
       "      <td>3</td>\n",
       "      <td>6</td>\n",
       "      <td>7.0</td>\n",
       "      <td>0.210</td>\n",
       "      <td>0.31</td>\n",
       "      <td>6.0</td>\n",
       "      <td>0.046</td>\n",
       "      <td>29.0</td>\n",
       "      <td>108.0</td>\n",
       "      <td>0.99390</td>\n",
       "      <td>3.26</td>\n",
       "      <td>0.50</td>\n",
       "      <td>10.8</td>\n",
       "      <td>white</td>\n",
       "    </tr>\n",
       "    <tr>\n",
       "      <th>4</th>\n",
       "      <td>4</td>\n",
       "      <td>6</td>\n",
       "      <td>7.8</td>\n",
       "      <td>0.400</td>\n",
       "      <td>0.26</td>\n",
       "      <td>9.5</td>\n",
       "      <td>0.059</td>\n",
       "      <td>32.0</td>\n",
       "      <td>178.0</td>\n",
       "      <td>0.99550</td>\n",
       "      <td>3.04</td>\n",
       "      <td>0.43</td>\n",
       "      <td>10.9</td>\n",
       "      <td>white</td>\n",
       "    </tr>\n",
       "  </tbody>\n",
       "</table>\n",
       "</div>"
      ],
      "text/plain": [
       "   index  quality  fixed acidity  volatile acidity  citric acid  \\\n",
       "0      0        5            5.6             0.695         0.06   \n",
       "1      1        5            8.8             0.610         0.14   \n",
       "2      2        5            7.9             0.210         0.39   \n",
       "3      3        6            7.0             0.210         0.31   \n",
       "4      4        6            7.8             0.400         0.26   \n",
       "\n",
       "   residual sugar  chlorides  free sulfur dioxide  total sulfur dioxide  \\\n",
       "0             6.8      0.042                  9.0                  84.0   \n",
       "1             2.4      0.067                 10.0                  42.0   \n",
       "2             2.0      0.057                 21.0                 138.0   \n",
       "3             6.0      0.046                 29.0                 108.0   \n",
       "4             9.5      0.059                 32.0                 178.0   \n",
       "\n",
       "   density    pH  sulphates  alcohol   type  \n",
       "0  0.99432  3.44       0.44     10.2  white  \n",
       "1  0.99690  3.19       0.59      9.5    red  \n",
       "2  0.99176  3.05       0.52     10.9  white  \n",
       "3  0.99390  3.26       0.50     10.8  white  \n",
       "4  0.99550  3.04       0.43     10.9  white  "
      ]
     },
     "execution_count": 3,
     "metadata": {},
     "output_type": "execute_result"
    }
   ],
   "source": [
    "### train 데이터\n",
    "# index를 제외하면 총 13개 변수를 가짐\n",
    "# quality(와인의 품질) - target 변수\n",
    "\n",
    "train.head()"
   ]
  },
  {
   "cell_type": "code",
   "execution_count": 4,
   "metadata": {},
   "outputs": [
    {
     "data": {
      "text/html": [
       "<div>\n",
       "<style scoped>\n",
       "    .dataframe tbody tr th:only-of-type {\n",
       "        vertical-align: middle;\n",
       "    }\n",
       "\n",
       "    .dataframe tbody tr th {\n",
       "        vertical-align: top;\n",
       "    }\n",
       "\n",
       "    .dataframe thead th {\n",
       "        text-align: right;\n",
       "    }\n",
       "</style>\n",
       "<table border=\"1\" class=\"dataframe\">\n",
       "  <thead>\n",
       "    <tr style=\"text-align: right;\">\n",
       "      <th></th>\n",
       "      <th>index</th>\n",
       "      <th>fixed acidity</th>\n",
       "      <th>volatile acidity</th>\n",
       "      <th>citric acid</th>\n",
       "      <th>residual sugar</th>\n",
       "      <th>chlorides</th>\n",
       "      <th>free sulfur dioxide</th>\n",
       "      <th>total sulfur dioxide</th>\n",
       "      <th>density</th>\n",
       "      <th>pH</th>\n",
       "      <th>sulphates</th>\n",
       "      <th>alcohol</th>\n",
       "      <th>type</th>\n",
       "    </tr>\n",
       "  </thead>\n",
       "  <tbody>\n",
       "    <tr>\n",
       "      <th>0</th>\n",
       "      <td>0</td>\n",
       "      <td>9.0</td>\n",
       "      <td>0.31</td>\n",
       "      <td>0.48</td>\n",
       "      <td>6.6</td>\n",
       "      <td>0.043</td>\n",
       "      <td>11.0</td>\n",
       "      <td>73.0</td>\n",
       "      <td>0.99380</td>\n",
       "      <td>2.90</td>\n",
       "      <td>0.38</td>\n",
       "      <td>11.6</td>\n",
       "      <td>white</td>\n",
       "    </tr>\n",
       "    <tr>\n",
       "      <th>1</th>\n",
       "      <td>1</td>\n",
       "      <td>13.3</td>\n",
       "      <td>0.43</td>\n",
       "      <td>0.58</td>\n",
       "      <td>1.9</td>\n",
       "      <td>0.070</td>\n",
       "      <td>15.0</td>\n",
       "      <td>40.0</td>\n",
       "      <td>1.00040</td>\n",
       "      <td>3.06</td>\n",
       "      <td>0.49</td>\n",
       "      <td>9.0</td>\n",
       "      <td>red</td>\n",
       "    </tr>\n",
       "    <tr>\n",
       "      <th>2</th>\n",
       "      <td>2</td>\n",
       "      <td>6.5</td>\n",
       "      <td>0.28</td>\n",
       "      <td>0.27</td>\n",
       "      <td>5.2</td>\n",
       "      <td>0.040</td>\n",
       "      <td>44.0</td>\n",
       "      <td>179.0</td>\n",
       "      <td>0.99480</td>\n",
       "      <td>3.19</td>\n",
       "      <td>0.69</td>\n",
       "      <td>9.4</td>\n",
       "      <td>white</td>\n",
       "    </tr>\n",
       "    <tr>\n",
       "      <th>3</th>\n",
       "      <td>3</td>\n",
       "      <td>7.2</td>\n",
       "      <td>0.15</td>\n",
       "      <td>0.39</td>\n",
       "      <td>1.8</td>\n",
       "      <td>0.043</td>\n",
       "      <td>21.0</td>\n",
       "      <td>159.0</td>\n",
       "      <td>0.99480</td>\n",
       "      <td>3.52</td>\n",
       "      <td>0.47</td>\n",
       "      <td>10.0</td>\n",
       "      <td>white</td>\n",
       "    </tr>\n",
       "    <tr>\n",
       "      <th>4</th>\n",
       "      <td>4</td>\n",
       "      <td>6.8</td>\n",
       "      <td>0.26</td>\n",
       "      <td>0.26</td>\n",
       "      <td>2.0</td>\n",
       "      <td>0.019</td>\n",
       "      <td>23.5</td>\n",
       "      <td>72.0</td>\n",
       "      <td>0.99041</td>\n",
       "      <td>3.16</td>\n",
       "      <td>0.47</td>\n",
       "      <td>11.8</td>\n",
       "      <td>white</td>\n",
       "    </tr>\n",
       "  </tbody>\n",
       "</table>\n",
       "</div>"
      ],
      "text/plain": [
       "   index  fixed acidity  volatile acidity  citric acid  residual sugar  \\\n",
       "0      0            9.0              0.31         0.48             6.6   \n",
       "1      1           13.3              0.43         0.58             1.9   \n",
       "2      2            6.5              0.28         0.27             5.2   \n",
       "3      3            7.2              0.15         0.39             1.8   \n",
       "4      4            6.8              0.26         0.26             2.0   \n",
       "\n",
       "   chlorides  free sulfur dioxide  total sulfur dioxide  density    pH  \\\n",
       "0      0.043                 11.0                  73.0  0.99380  2.90   \n",
       "1      0.070                 15.0                  40.0  1.00040  3.06   \n",
       "2      0.040                 44.0                 179.0  0.99480  3.19   \n",
       "3      0.043                 21.0                 159.0  0.99480  3.52   \n",
       "4      0.019                 23.5                  72.0  0.99041  3.16   \n",
       "\n",
       "   sulphates  alcohol   type  \n",
       "0       0.38     11.6  white  \n",
       "1       0.49      9.0    red  \n",
       "2       0.69      9.4  white  \n",
       "3       0.47     10.0  white  \n",
       "4       0.47     11.8  white  "
      ]
     },
     "execution_count": 4,
     "metadata": {},
     "output_type": "execute_result"
    }
   ],
   "source": [
    "### test 데이터\n",
    "# index를 제외하면 총 12개 변수를 가짐\n",
    "\n",
    "test.head()"
   ]
  },
  {
   "cell_type": "markdown",
   "metadata": {},
   "source": [
    "- 와인의 종류에 따라 성질과 품질이 달라질 것이라고 판단함\n",
    "    - red 와인과 white 와인을 **분리**한 후, 각각에 대한 품질 분류 모델 생성"
   ]
  },
  {
   "cell_type": "code",
   "execution_count": 5,
   "metadata": {},
   "outputs": [],
   "source": [
    "white_train = train.loc[train['type'] == 'white',:]\n",
    "white_test = test.loc[test['type'] == 'white',:]"
   ]
  },
  {
   "cell_type": "code",
   "execution_count": 6,
   "metadata": {},
   "outputs": [],
   "source": [
    "# 이후 submission.csv 파일을 만들기 위해 white wine의 원래 위치 index를 저장\n",
    "\n",
    "white_idx = list(white_test['index'])"
   ]
  },
  {
   "cell_type": "code",
   "execution_count": 7,
   "metadata": {},
   "outputs": [],
   "source": [
    "white_train = white_train.reset_index(drop = True)\n",
    "white_test = white_test.reset_index(drop = True)"
   ]
  },
  {
   "cell_type": "markdown",
   "metadata": {},
   "source": [
    "# **2. 데이터 전처리 & EDA**"
   ]
  },
  {
   "cell_type": "code",
   "execution_count": 8,
   "metadata": {},
   "outputs": [],
   "source": [
    "### 필요없는 변수 제거\n",
    "# index는 불필요한 변수이므로 삭제\n",
    "\n",
    "white_train = white_train.drop(['index','type'], axis = 1)\n",
    "white_test = white_test.drop(['index','type'], axis = 1)"
   ]
  },
  {
   "cell_type": "markdown",
   "metadata": {},
   "source": [
    "## **2-2. 데이터 구조 확인**"
   ]
  },
  {
   "cell_type": "code",
   "execution_count": 9,
   "metadata": {},
   "outputs": [
    {
     "name": "stdout",
     "output_type": "stream",
     "text": [
      "<class 'pandas.core.frame.DataFrame'>\n",
      "RangeIndex: 4159 entries, 0 to 4158\n",
      "Data columns (total 12 columns):\n",
      " #   Column                Non-Null Count  Dtype  \n",
      "---  ------                --------------  -----  \n",
      " 0   quality               4159 non-null   int64  \n",
      " 1   fixed acidity         4159 non-null   float64\n",
      " 2   volatile acidity      4159 non-null   float64\n",
      " 3   citric acid           4159 non-null   float64\n",
      " 4   residual sugar        4159 non-null   float64\n",
      " 5   chlorides             4159 non-null   float64\n",
      " 6   free sulfur dioxide   4159 non-null   float64\n",
      " 7   total sulfur dioxide  4159 non-null   float64\n",
      " 8   density               4159 non-null   float64\n",
      " 9   pH                    4159 non-null   float64\n",
      " 10  sulphates             4159 non-null   float64\n",
      " 11  alcohol               4159 non-null   float64\n",
      "dtypes: float64(11), int64(1)\n",
      "memory usage: 390.0 KB\n"
     ]
    }
   ],
   "source": [
    "### train 데이터의 column 정보 확인\n",
    "\n",
    "white_train.info()"
   ]
  },
  {
   "cell_type": "code",
   "execution_count": 10,
   "metadata": {},
   "outputs": [
    {
     "name": "stdout",
     "output_type": "stream",
     "text": [
      "<class 'pandas.core.frame.DataFrame'>\n",
      "RangeIndex: 739 entries, 0 to 738\n",
      "Data columns (total 11 columns):\n",
      " #   Column                Non-Null Count  Dtype  \n",
      "---  ------                --------------  -----  \n",
      " 0   fixed acidity         739 non-null    float64\n",
      " 1   volatile acidity      739 non-null    float64\n",
      " 2   citric acid           739 non-null    float64\n",
      " 3   residual sugar        739 non-null    float64\n",
      " 4   chlorides             739 non-null    float64\n",
      " 5   free sulfur dioxide   739 non-null    float64\n",
      " 6   total sulfur dioxide  739 non-null    float64\n",
      " 7   density               739 non-null    float64\n",
      " 8   pH                    739 non-null    float64\n",
      " 9   sulphates             739 non-null    float64\n",
      " 10  alcohol               739 non-null    float64\n",
      "dtypes: float64(11)\n",
      "memory usage: 63.6 KB\n"
     ]
    }
   ],
   "source": [
    "### test 데이터의 column 정보 확인\n",
    "\n",
    "white_test.info()"
   ]
  },
  {
   "cell_type": "markdown",
   "metadata": {},
   "source": [
    "- type을 제외하고는 모두 숫자형 변수이다.\n",
    "- 결측치는 존재하지 않는다."
   ]
  },
  {
   "cell_type": "code",
   "execution_count": 11,
   "metadata": {},
   "outputs": [
    {
     "data": {
      "text/html": [
       "<div>\n",
       "<style scoped>\n",
       "    .dataframe tbody tr th:only-of-type {\n",
       "        vertical-align: middle;\n",
       "    }\n",
       "\n",
       "    .dataframe tbody tr th {\n",
       "        vertical-align: top;\n",
       "    }\n",
       "\n",
       "    .dataframe thead th {\n",
       "        text-align: right;\n",
       "    }\n",
       "</style>\n",
       "<table border=\"1\" class=\"dataframe\">\n",
       "  <thead>\n",
       "    <tr style=\"text-align: right;\">\n",
       "      <th></th>\n",
       "      <th>quality</th>\n",
       "      <th>fixed acidity</th>\n",
       "      <th>volatile acidity</th>\n",
       "      <th>citric acid</th>\n",
       "      <th>residual sugar</th>\n",
       "      <th>chlorides</th>\n",
       "      <th>free sulfur dioxide</th>\n",
       "      <th>total sulfur dioxide</th>\n",
       "      <th>density</th>\n",
       "      <th>pH</th>\n",
       "      <th>sulphates</th>\n",
       "      <th>alcohol</th>\n",
       "    </tr>\n",
       "  </thead>\n",
       "  <tbody>\n",
       "    <tr>\n",
       "      <th>count</th>\n",
       "      <td>4159.000000</td>\n",
       "      <td>4159.000000</td>\n",
       "      <td>4159.000000</td>\n",
       "      <td>4159.000000</td>\n",
       "      <td>4159.000000</td>\n",
       "      <td>4159.000000</td>\n",
       "      <td>4159.000000</td>\n",
       "      <td>4159.000000</td>\n",
       "      <td>4159.000000</td>\n",
       "      <td>4159.000000</td>\n",
       "      <td>4159.000000</td>\n",
       "      <td>4159.000000</td>\n",
       "    </tr>\n",
       "    <tr>\n",
       "      <th>mean</th>\n",
       "      <td>5.877374</td>\n",
       "      <td>6.856937</td>\n",
       "      <td>0.277772</td>\n",
       "      <td>0.334114</td>\n",
       "      <td>6.372025</td>\n",
       "      <td>0.045611</td>\n",
       "      <td>35.111806</td>\n",
       "      <td>137.905506</td>\n",
       "      <td>0.994010</td>\n",
       "      <td>3.189445</td>\n",
       "      <td>0.489339</td>\n",
       "      <td>10.527956</td>\n",
       "    </tr>\n",
       "    <tr>\n",
       "      <th>std</th>\n",
       "      <td>0.883206</td>\n",
       "      <td>0.847041</td>\n",
       "      <td>0.100247</td>\n",
       "      <td>0.121749</td>\n",
       "      <td>5.068508</td>\n",
       "      <td>0.021484</td>\n",
       "      <td>16.966973</td>\n",
       "      <td>42.567422</td>\n",
       "      <td>0.003009</td>\n",
       "      <td>0.151375</td>\n",
       "      <td>0.113240</td>\n",
       "      <td>1.232421</td>\n",
       "    </tr>\n",
       "    <tr>\n",
       "      <th>min</th>\n",
       "      <td>3.000000</td>\n",
       "      <td>3.800000</td>\n",
       "      <td>0.080000</td>\n",
       "      <td>0.000000</td>\n",
       "      <td>0.600000</td>\n",
       "      <td>0.009000</td>\n",
       "      <td>2.000000</td>\n",
       "      <td>9.000000</td>\n",
       "      <td>0.987110</td>\n",
       "      <td>2.740000</td>\n",
       "      <td>0.220000</td>\n",
       "      <td>8.000000</td>\n",
       "    </tr>\n",
       "    <tr>\n",
       "      <th>25%</th>\n",
       "      <td>5.000000</td>\n",
       "      <td>6.300000</td>\n",
       "      <td>0.210000</td>\n",
       "      <td>0.270000</td>\n",
       "      <td>1.700000</td>\n",
       "      <td>0.036000</td>\n",
       "      <td>23.000000</td>\n",
       "      <td>108.000000</td>\n",
       "      <td>0.991715</td>\n",
       "      <td>3.090000</td>\n",
       "      <td>0.410000</td>\n",
       "      <td>9.500000</td>\n",
       "    </tr>\n",
       "    <tr>\n",
       "      <th>50%</th>\n",
       "      <td>6.000000</td>\n",
       "      <td>6.800000</td>\n",
       "      <td>0.260000</td>\n",
       "      <td>0.320000</td>\n",
       "      <td>5.200000</td>\n",
       "      <td>0.043000</td>\n",
       "      <td>34.000000</td>\n",
       "      <td>134.000000</td>\n",
       "      <td>0.993700</td>\n",
       "      <td>3.180000</td>\n",
       "      <td>0.480000</td>\n",
       "      <td>10.400000</td>\n",
       "    </tr>\n",
       "    <tr>\n",
       "      <th>75%</th>\n",
       "      <td>6.000000</td>\n",
       "      <td>7.300000</td>\n",
       "      <td>0.320000</td>\n",
       "      <td>0.390000</td>\n",
       "      <td>9.800000</td>\n",
       "      <td>0.050000</td>\n",
       "      <td>46.000000</td>\n",
       "      <td>167.000000</td>\n",
       "      <td>0.996040</td>\n",
       "      <td>3.280000</td>\n",
       "      <td>0.550000</td>\n",
       "      <td>11.400000</td>\n",
       "    </tr>\n",
       "    <tr>\n",
       "      <th>max</th>\n",
       "      <td>9.000000</td>\n",
       "      <td>14.200000</td>\n",
       "      <td>1.100000</td>\n",
       "      <td>1.660000</td>\n",
       "      <td>65.800000</td>\n",
       "      <td>0.346000</td>\n",
       "      <td>289.000000</td>\n",
       "      <td>440.000000</td>\n",
       "      <td>1.038980</td>\n",
       "      <td>3.820000</td>\n",
       "      <td>1.080000</td>\n",
       "      <td>14.200000</td>\n",
       "    </tr>\n",
       "  </tbody>\n",
       "</table>\n",
       "</div>"
      ],
      "text/plain": [
       "           quality  fixed acidity  volatile acidity  citric acid  \\\n",
       "count  4159.000000    4159.000000       4159.000000  4159.000000   \n",
       "mean      5.877374       6.856937          0.277772     0.334114   \n",
       "std       0.883206       0.847041          0.100247     0.121749   \n",
       "min       3.000000       3.800000          0.080000     0.000000   \n",
       "25%       5.000000       6.300000          0.210000     0.270000   \n",
       "50%       6.000000       6.800000          0.260000     0.320000   \n",
       "75%       6.000000       7.300000          0.320000     0.390000   \n",
       "max       9.000000      14.200000          1.100000     1.660000   \n",
       "\n",
       "       residual sugar    chlorides  free sulfur dioxide  total sulfur dioxide  \\\n",
       "count     4159.000000  4159.000000          4159.000000           4159.000000   \n",
       "mean         6.372025     0.045611            35.111806            137.905506   \n",
       "std          5.068508     0.021484            16.966973             42.567422   \n",
       "min          0.600000     0.009000             2.000000              9.000000   \n",
       "25%          1.700000     0.036000            23.000000            108.000000   \n",
       "50%          5.200000     0.043000            34.000000            134.000000   \n",
       "75%          9.800000     0.050000            46.000000            167.000000   \n",
       "max         65.800000     0.346000           289.000000            440.000000   \n",
       "\n",
       "           density           pH    sulphates      alcohol  \n",
       "count  4159.000000  4159.000000  4159.000000  4159.000000  \n",
       "mean      0.994010     3.189445     0.489339    10.527956  \n",
       "std       0.003009     0.151375     0.113240     1.232421  \n",
       "min       0.987110     2.740000     0.220000     8.000000  \n",
       "25%       0.991715     3.090000     0.410000     9.500000  \n",
       "50%       0.993700     3.180000     0.480000    10.400000  \n",
       "75%       0.996040     3.280000     0.550000    11.400000  \n",
       "max       1.038980     3.820000     1.080000    14.200000  "
      ]
     },
     "execution_count": 11,
     "metadata": {},
     "output_type": "execute_result"
    }
   ],
   "source": [
    "white_train.describe()"
   ]
  },
  {
   "cell_type": "markdown",
   "metadata": {},
   "source": [
    "- 데이터들 간의 스케일 차이가 존재함을 확인할 수 있다.\n",
    "    - 표준화(StandardScaler) 진행\n",
    "- 데이터 중 일부 이상치가 존재함을 짐작할 수 있다."
   ]
  },
  {
   "cell_type": "markdown",
   "metadata": {},
   "source": [
    "## **2-3. 데이터 분포 확인**"
   ]
  },
  {
   "cell_type": "markdown",
   "metadata": {},
   "source": [
    "### **a) Target 값의 분포**"
   ]
  },
  {
   "cell_type": "code",
   "execution_count": 12,
   "metadata": {},
   "outputs": [
    {
     "data": {
      "text/plain": [
       "6    1881\n",
       "5    1217\n",
       "7     755\n",
       "4     145\n",
       "8     139\n",
       "3      17\n",
       "9       5\n",
       "Name: quality, dtype: int64"
      ]
     },
     "execution_count": 12,
     "metadata": {},
     "output_type": "execute_result"
    }
   ],
   "source": [
    "white_train['quality'].value_counts()"
   ]
  },
  {
   "cell_type": "code",
   "execution_count": 13,
   "metadata": {},
   "outputs": [
    {
     "data": {
      "text/plain": [
       "<AxesSubplot:xlabel='quality', ylabel='count'>"
      ]
     },
     "execution_count": 13,
     "metadata": {},
     "output_type": "execute_result"
    },
    {
     "data": {
      "image/png": "[encoded data removed]",
      "text/plain": [
       "<Figure size 432x288 with 1 Axes>"
      ]
     },
     "metadata": {
      "needs_background": "light"
     },
     "output_type": "display_data"
    }
   ],
   "source": [
    "sns.countplot(x = white_train['quality'])"
   ]
  },
  {
   "cell_type": "markdown",
   "metadata": {},
   "source": [
    "- quality의 클래스가 너무 많다.\n",
    "    - 5,6이 대부분\n",
    "    - 나머지는 매우 적은 수\n",
    "- 품질을 모아서 4개의 클래스로 재분류\n",
    "    - 3 + 4 => 4 (worst)\n",
    "    - 5 (bad)\n",
    "    - 6 (good)\n",
    "    - 7 + 8 + 9 => 7 (best)"
   ]
  },
  {
   "cell_type": "code",
   "execution_count": 14,
   "metadata": {},
   "outputs": [],
   "source": [
    "### 클래스 재분류\n",
    "\n",
    "white_train.loc[white_train['quality'] <= 4, 'new_quality'] = 4\n",
    "white_train.loc[white_train['quality'] == 5, 'new_quality'] = 5\n",
    "white_train.loc[white_train['quality'] == 6, 'new_quality'] = 6\n",
    "white_train.loc[white_train['quality'] >= 7, 'new_quality'] = 7"
   ]
  },
  {
   "cell_type": "code",
   "execution_count": 15,
   "metadata": {},
   "outputs": [],
   "source": [
    "# 클래스이기에 int 형으로 변환해주기\n",
    "\n",
    "white_train = white_train.astype({'new_quality':'int32'})"
   ]
  },
  {
   "cell_type": "code",
   "execution_count": 16,
   "metadata": {},
   "outputs": [
    {
     "data": {
      "text/plain": [
       "6    1881\n",
       "5    1217\n",
       "7     899\n",
       "4     162\n",
       "Name: new_quality, dtype: int64"
      ]
     },
     "execution_count": 16,
     "metadata": {},
     "output_type": "execute_result"
    }
   ],
   "source": [
    "white_train['new_quality'].value_counts()"
   ]
  },
  {
   "cell_type": "code",
   "execution_count": 17,
   "metadata": {},
   "outputs": [
    {
     "data": {
      "text/plain": [
       "<AxesSubplot:xlabel='new_quality', ylabel='count'>"
      ]
     },
     "execution_count": 17,
     "metadata": {},
     "output_type": "execute_result"
    },
    {
     "data": {
      "image/png": "[encoded data removed]",
      "text/plain": [
       "<Figure size 432x288 with 1 Axes>"
      ]
     },
     "metadata": {
      "needs_background": "light"
     },
     "output_type": "display_data"
    }
   ],
   "source": [
    "sns.countplot(x = white_train['new_quality'])"
   ]
  },
  {
   "cell_type": "code",
   "execution_count": 18,
   "metadata": {},
   "outputs": [],
   "source": [
    "### 기존 quality 제거\n",
    "\n",
    "white_train = white_train.drop('quality', axis = 1)"
   ]
  },
  {
   "cell_type": "code",
   "execution_count": 19,
   "metadata": {},
   "outputs": [
    {
     "data": {
      "text/html": [
       "<div>\n",
       "<style scoped>\n",
       "    .dataframe tbody tr th:only-of-type {\n",
       "        vertical-align: middle;\n",
       "    }\n",
       "\n",
       "    .dataframe tbody tr th {\n",
       "        vertical-align: top;\n",
       "    }\n",
       "\n",
       "    .dataframe thead th {\n",
       "        text-align: right;\n",
       "    }\n",
       "</style>\n",
       "<table border=\"1\" class=\"dataframe\">\n",
       "  <thead>\n",
       "    <tr style=\"text-align: right;\">\n",
       "      <th></th>\n",
       "      <th>fixed acidity</th>\n",
       "      <th>volatile acidity</th>\n",
       "      <th>citric acid</th>\n",
       "      <th>residual sugar</th>\n",
       "      <th>chlorides</th>\n",
       "      <th>free sulfur dioxide</th>\n",
       "      <th>total sulfur dioxide</th>\n",
       "      <th>density</th>\n",
       "      <th>pH</th>\n",
       "      <th>sulphates</th>\n",
       "      <th>alcohol</th>\n",
       "      <th>new_quality</th>\n",
       "    </tr>\n",
       "  </thead>\n",
       "  <tbody>\n",
       "    <tr>\n",
       "      <th>0</th>\n",
       "      <td>5.6</td>\n",
       "      <td>0.695</td>\n",
       "      <td>0.06</td>\n",
       "      <td>6.8</td>\n",
       "      <td>0.042</td>\n",
       "      <td>9.0</td>\n",
       "      <td>84.0</td>\n",
       "      <td>0.99432</td>\n",
       "      <td>3.44</td>\n",
       "      <td>0.44</td>\n",
       "      <td>10.2</td>\n",
       "      <td>5</td>\n",
       "    </tr>\n",
       "    <tr>\n",
       "      <th>1</th>\n",
       "      <td>7.9</td>\n",
       "      <td>0.210</td>\n",
       "      <td>0.39</td>\n",
       "      <td>2.0</td>\n",
       "      <td>0.057</td>\n",
       "      <td>21.0</td>\n",
       "      <td>138.0</td>\n",
       "      <td>0.99176</td>\n",
       "      <td>3.05</td>\n",
       "      <td>0.52</td>\n",
       "      <td>10.9</td>\n",
       "      <td>5</td>\n",
       "    </tr>\n",
       "    <tr>\n",
       "      <th>2</th>\n",
       "      <td>7.0</td>\n",
       "      <td>0.210</td>\n",
       "      <td>0.31</td>\n",
       "      <td>6.0</td>\n",
       "      <td>0.046</td>\n",
       "      <td>29.0</td>\n",
       "      <td>108.0</td>\n",
       "      <td>0.99390</td>\n",
       "      <td>3.26</td>\n",
       "      <td>0.50</td>\n",
       "      <td>10.8</td>\n",
       "      <td>6</td>\n",
       "    </tr>\n",
       "    <tr>\n",
       "      <th>3</th>\n",
       "      <td>7.8</td>\n",
       "      <td>0.400</td>\n",
       "      <td>0.26</td>\n",
       "      <td>9.5</td>\n",
       "      <td>0.059</td>\n",
       "      <td>32.0</td>\n",
       "      <td>178.0</td>\n",
       "      <td>0.99550</td>\n",
       "      <td>3.04</td>\n",
       "      <td>0.43</td>\n",
       "      <td>10.9</td>\n",
       "      <td>6</td>\n",
       "    </tr>\n",
       "    <tr>\n",
       "      <th>4</th>\n",
       "      <td>6.0</td>\n",
       "      <td>0.190</td>\n",
       "      <td>0.37</td>\n",
       "      <td>9.7</td>\n",
       "      <td>0.032</td>\n",
       "      <td>17.0</td>\n",
       "      <td>50.0</td>\n",
       "      <td>0.99320</td>\n",
       "      <td>3.08</td>\n",
       "      <td>0.66</td>\n",
       "      <td>12.0</td>\n",
       "      <td>6</td>\n",
       "    </tr>\n",
       "  </tbody>\n",
       "</table>\n",
       "</div>"
      ],
      "text/plain": [
       "   fixed acidity  volatile acidity  citric acid  residual sugar  chlorides  \\\n",
       "0            5.6             0.695         0.06             6.8      0.042   \n",
       "1            7.9             0.210         0.39             2.0      0.057   \n",
       "2            7.0             0.210         0.31             6.0      0.046   \n",
       "3            7.8             0.400         0.26             9.5      0.059   \n",
       "4            6.0             0.190         0.37             9.7      0.032   \n",
       "\n",
       "   free sulfur dioxide  total sulfur dioxide  density    pH  sulphates  \\\n",
       "0                  9.0                  84.0  0.99432  3.44       0.44   \n",
       "1                 21.0                 138.0  0.99176  3.05       0.52   \n",
       "2                 29.0                 108.0  0.99390  3.26       0.50   \n",
       "3                 32.0                 178.0  0.99550  3.04       0.43   \n",
       "4                 17.0                  50.0  0.99320  3.08       0.66   \n",
       "\n",
       "   alcohol  new_quality  \n",
       "0     10.2            5  \n",
       "1     10.9            5  \n",
       "2     10.8            6  \n",
       "3     10.9            6  \n",
       "4     12.0            6  "
      ]
     },
     "execution_count": 19,
     "metadata": {},
     "output_type": "execute_result"
    }
   ],
   "source": [
    "white_train.head()"
   ]
  },
  {
   "cell_type": "code",
   "execution_count": 20,
   "metadata": {},
   "outputs": [],
   "source": [
    "### Label Encoding\n",
    "# class가 4,5,6,7인 경우 XGBoost에서 오류 발생(0부터 class가 시작하기를 기대함)\n",
    "\n",
    "from sklearn.preprocessing import LabelEncoder\n",
    "\n",
    "encoder = LabelEncoder()\n",
    "\n",
    "white_train['new_quality'] = encoder.fit_transform(white_train['new_quality'])"
   ]
  },
  {
   "cell_type": "code",
   "execution_count": 21,
   "metadata": {},
   "outputs": [
    {
     "data": {
      "text/html": [
       "<div>\n",
       "<style scoped>\n",
       "    .dataframe tbody tr th:only-of-type {\n",
       "        vertical-align: middle;\n",
       "    }\n",
       "\n",
       "    .dataframe tbody tr th {\n",
       "        vertical-align: top;\n",
       "    }\n",
       "\n",
       "    .dataframe thead th {\n",
       "        text-align: right;\n",
       "    }\n",
       "</style>\n",
       "<table border=\"1\" class=\"dataframe\">\n",
       "  <thead>\n",
       "    <tr style=\"text-align: right;\">\n",
       "      <th></th>\n",
       "      <th>fixed acidity</th>\n",
       "      <th>volatile acidity</th>\n",
       "      <th>citric acid</th>\n",
       "      <th>residual sugar</th>\n",
       "      <th>chlorides</th>\n",
       "      <th>free sulfur dioxide</th>\n",
       "      <th>total sulfur dioxide</th>\n",
       "      <th>density</th>\n",
       "      <th>pH</th>\n",
       "      <th>sulphates</th>\n",
       "      <th>alcohol</th>\n",
       "      <th>new_quality</th>\n",
       "    </tr>\n",
       "  </thead>\n",
       "  <tbody>\n",
       "    <tr>\n",
       "      <th>0</th>\n",
       "      <td>5.6</td>\n",
       "      <td>0.695</td>\n",
       "      <td>0.06</td>\n",
       "      <td>6.8</td>\n",
       "      <td>0.042</td>\n",
       "      <td>9.0</td>\n",
       "      <td>84.0</td>\n",
       "      <td>0.99432</td>\n",
       "      <td>3.44</td>\n",
       "      <td>0.44</td>\n",
       "      <td>10.2</td>\n",
       "      <td>1</td>\n",
       "    </tr>\n",
       "    <tr>\n",
       "      <th>1</th>\n",
       "      <td>7.9</td>\n",
       "      <td>0.210</td>\n",
       "      <td>0.39</td>\n",
       "      <td>2.0</td>\n",
       "      <td>0.057</td>\n",
       "      <td>21.0</td>\n",
       "      <td>138.0</td>\n",
       "      <td>0.99176</td>\n",
       "      <td>3.05</td>\n",
       "      <td>0.52</td>\n",
       "      <td>10.9</td>\n",
       "      <td>1</td>\n",
       "    </tr>\n",
       "    <tr>\n",
       "      <th>2</th>\n",
       "      <td>7.0</td>\n",
       "      <td>0.210</td>\n",
       "      <td>0.31</td>\n",
       "      <td>6.0</td>\n",
       "      <td>0.046</td>\n",
       "      <td>29.0</td>\n",
       "      <td>108.0</td>\n",
       "      <td>0.99390</td>\n",
       "      <td>3.26</td>\n",
       "      <td>0.50</td>\n",
       "      <td>10.8</td>\n",
       "      <td>2</td>\n",
       "    </tr>\n",
       "    <tr>\n",
       "      <th>3</th>\n",
       "      <td>7.8</td>\n",
       "      <td>0.400</td>\n",
       "      <td>0.26</td>\n",
       "      <td>9.5</td>\n",
       "      <td>0.059</td>\n",
       "      <td>32.0</td>\n",
       "      <td>178.0</td>\n",
       "      <td>0.99550</td>\n",
       "      <td>3.04</td>\n",
       "      <td>0.43</td>\n",
       "      <td>10.9</td>\n",
       "      <td>2</td>\n",
       "    </tr>\n",
       "    <tr>\n",
       "      <th>4</th>\n",
       "      <td>6.0</td>\n",
       "      <td>0.190</td>\n",
       "      <td>0.37</td>\n",
       "      <td>9.7</td>\n",
       "      <td>0.032</td>\n",
       "      <td>17.0</td>\n",
       "      <td>50.0</td>\n",
       "      <td>0.99320</td>\n",
       "      <td>3.08</td>\n",
       "      <td>0.66</td>\n",
       "      <td>12.0</td>\n",
       "      <td>2</td>\n",
       "    </tr>\n",
       "  </tbody>\n",
       "</table>\n",
       "</div>"
      ],
      "text/plain": [
       "   fixed acidity  volatile acidity  citric acid  residual sugar  chlorides  \\\n",
       "0            5.6             0.695         0.06             6.8      0.042   \n",
       "1            7.9             0.210         0.39             2.0      0.057   \n",
       "2            7.0             0.210         0.31             6.0      0.046   \n",
       "3            7.8             0.400         0.26             9.5      0.059   \n",
       "4            6.0             0.190         0.37             9.7      0.032   \n",
       "\n",
       "   free sulfur dioxide  total sulfur dioxide  density    pH  sulphates  \\\n",
       "0                  9.0                  84.0  0.99432  3.44       0.44   \n",
       "1                 21.0                 138.0  0.99176  3.05       0.52   \n",
       "2                 29.0                 108.0  0.99390  3.26       0.50   \n",
       "3                 32.0                 178.0  0.99550  3.04       0.43   \n",
       "4                 17.0                  50.0  0.99320  3.08       0.66   \n",
       "\n",
       "   alcohol  new_quality  \n",
       "0     10.2            1  \n",
       "1     10.9            1  \n",
       "2     10.8            2  \n",
       "3     10.9            2  \n",
       "4     12.0            2  "
      ]
     },
     "execution_count": 21,
     "metadata": {},
     "output_type": "execute_result"
    }
   ],
   "source": [
    "white_train.head()"
   ]
  },
  {
   "cell_type": "markdown",
   "metadata": {},
   "source": [
    "### **b) 각 feature 변수들의 분포**"
   ]
  },
  {
   "cell_type": "code",
   "execution_count": 22,
   "metadata": {},
   "outputs": [
    {
     "data": {
      "image/png": "[encoded data removed]",
      "text/plain": [
       "<Figure size 1440x1008 with 11 Axes>"
      ]
     },
     "metadata": {
      "needs_background": "light"
     },
     "output_type": "display_data"
    }
   ],
   "source": [
    "### 변수별 분포 시각화\n",
    "\n",
    "plt.figure(figsize = (20,14))\n",
    "\n",
    "for i, col in enumerate(list(white_train.iloc[:,:-1].columns.values)):\n",
    "    plt.subplot(4,3,i+1) # 위치 지정\n",
    "    sns.distplot(white_train[col], kde = True, label = 'data')\n",
    "    plt.grid()\n",
    "    plt.legend(loc='upper right')\n",
    "    plt.tight_layout()"
   ]
  },
  {
   "cell_type": "markdown",
   "metadata": {},
   "source": [
    "- 대부분의 feature들이 분포에 편향이 있다고 판단된다.(오른쪽으로 긴 꼬리, **positively skewed**)\n",
    "    - 데이터 변환 방법: 제곱근(square root), 세제곱근(cube root), **로그 변환(log transformation)**"
   ]
  },
  {
   "cell_type": "code",
   "execution_count": 23,
   "metadata": {},
   "outputs": [
    {
     "name": "stdout",
     "output_type": "stream",
     "text": [
      "전체 왜곡 정도: 1.202629\n"
     ]
    }
   ],
   "source": [
    "### 각 변수들의 왜도(skewness) 확인\n",
    "\n",
    "from scipy.stats import skew\n",
    "\n",
    "features_idx = white_train.dtypes[white_train.dtypes != 'object'].index\n",
    "skew_features = white_train[features_idx].apply(lambda x:skew(x))\n",
    "print('전체 왜곡 정도: %f' %skew_features.mean())"
   ]
  },
  {
   "cell_type": "code",
   "execution_count": 24,
   "metadata": {},
   "outputs": [
    {
     "name": "stdout",
     "output_type": "stream",
     "text": [
      "chlorides              4.991482\n",
      "volatile acidity       1.562741\n",
      "free sulfur dioxide    1.528219\n",
      "citric acid            1.327980\n",
      "residual sugar         1.149807\n",
      "density                1.103999\n",
      "dtype: float64\n"
     ]
    }
   ],
   "source": [
    "### 왜도가 1 이상인 변수 파악\n",
    "\n",
    "skew_features_top = skew_features[skew_features > 1]\n",
    "print(skew_features_top.sort_values(ascending = False))"
   ]
  },
  {
   "cell_type": "markdown",
   "metadata": {},
   "source": [
    "### **c) 각 feature 변수와 target 변수 간의 관계**"
   ]
  },
  {
   "cell_type": "code",
   "execution_count": 25,
   "metadata": {},
   "outputs": [
    {
     "data": {
      "image/png": "[encoded data removed]",
      "text/plain": [
       "<Figure size 864x432 with 1 Axes>"
      ]
     },
     "metadata": {
      "needs_background": "light"
     },
     "output_type": "display_data"
    },
    {
     "data": {
      "image/png": "[encoded data removed]",
      "text/plain": [
       "<Figure size 864x432 with 1 Axes>"
      ]
     },
     "metadata": {
      "needs_background": "light"
     },
     "output_type": "display_data"
    },
    {
     "data": {
      "image/png": "[encoded data removed]",
      "text/plain": [
       "<Figure size 864x432 with 1 Axes>"
      ]
     },
     "metadata": {
      "needs_background": "light"
     },
     "output_type": "display_data"
    },
    {
     "data": {
      "image/png": "[encoded data removed]",
      "text/plain": [
       "<Figure size 864x432 with 1 Axes>"
      ]
     },
     "metadata": {
      "needs_background": "light"
     },
     "output_type": "display_data"
    },
    {
     "data": {
      "image/png": "[encoded data removed]",
      "text/plain": [
       "<Figure size 864x432 with 1 Axes>"
      ]
     },
     "metadata": {
      "needs_background": "light"
     },
     "output_type": "display_data"
    },
    {
     "data": {
      "image/png": "[encoded data removed]",
      "text/plain": [
       "<Figure size 864x432 with 1 Axes>"
      ]
     },
     "metadata": {
      "needs_background": "light"
     },
     "output_type": "display_data"
    },
    {
     "data": {
      "image/png": "[encoded data removed]",
      "text/plain": [
       "<Figure size 864x432 with 1 Axes>"
      ]
     },
     "metadata": {
      "needs_background": "light"
     },
     "output_type": "display_data"
    },
    {
     "data": {
      "image/png": "[encoded data removed]",
      "text/plain": [
       "<Figure size 864x432 with 1 Axes>"
      ]
     },
     "metadata": {
      "needs_background": "light"
     },
     "output_type": "display_data"
    },
    {
     "data": {
      "image/png": "[encoded data removed]",
      "text/plain": [
       "<Figure size 864x432 with 1 Axes>"
      ]
     },
     "metadata": {
      "needs_background": "light"
     },
     "output_type": "display_data"
    },
    {
     "data": {
      "image/png": "[encoded data removed]",
      "text/plain": [
       "<Figure size 864x432 with 1 Axes>"
      ]
     },
     "metadata": {
      "needs_background": "light"
     },
     "output_type": "display_data"
    },
    {
     "data": {
      "image/png": "[encoded data removed]",
      "text/plain": [
       "<Figure size 864x432 with 1 Axes>"
      ]
     },
     "metadata": {
      "needs_background": "light"
     },
     "output_type": "display_data"
    }
   ],
   "source": [
    "# train에서 각 변수와 quality 변수 사이 분포를 확인합니다.\n",
    "for i in range(11):\n",
    "    fig = plt.figure(figsize = (12,6))\n",
    "    sns.barplot(x = 'new_quality', \n",
    "                y = white_train.columns[i], \n",
    "                data = white_train)"
   ]
  },
  {
   "cell_type": "code",
   "execution_count": 26,
   "metadata": {},
   "outputs": [
    {
     "data": {
      "image/png": "[encoded data removed]",
      "text/plain": [
       "<Figure size 864x864 with 2 Axes>"
      ]
     },
     "metadata": {
      "needs_background": "light"
     },
     "output_type": "display_data"
    }
   ],
   "source": [
    "### train의 변수 간 상관관계\n",
    "\n",
    "# 사이즈 지정\n",
    "plt.figure(figsize = (12,12))\n",
    "\n",
    "corr = white_train.corr()\n",
    "\n",
    "# 삼각형 마스크 만들기(위 쪽 삼각형에 True, 아래 삼각형에 False)\n",
    "mask = np.zeros_like(corr, dtype = np.bool)\n",
    "mask[np.triu_indices_from(mask)] = True\n",
    "\n",
    "# 하삼각행렬만 시각화(밑에만)\n",
    "sns.heatmap(corr, \n",
    "            cmap = 'RdYlBu_r', \n",
    "            annot = True,   # 실제 값을 표시\n",
    "            mask = mask,      # 표시하지 않을 마스크 부분을 지정\n",
    "            linewidths = .5,  # 경계면을 실선으로 구분하기\n",
    "            vmin = -1,vmax = 1   # 컬러바 범위: -1 ~ 1(상관계수의 범위)\n",
    "           )  \n",
    "\n",
    "plt.title('Correlation Heatmap')\n",
    "plt.show()"
   ]
  },
  {
   "cell_type": "markdown",
   "metadata": {},
   "source": [
    "- target 변수(quality)와 상관도가 가장 높은 변수는 'alcohol'이다.\n",
    "    - 상관계수는 **0.43**으로, 약한 양의 선형 상관관계를 가진다고 할 수 있다.\n",
    "    - 해당 변수에 이상치가 있다면 제거하는 것을 추후에 고려해 볼 수 있다.\n",
    "- total sulfur dioxide와 free sulfur dioxide 간 상관관계가 있다.\n",
    "    - 이름으로 보아 서로 관련있는 변수임을 짐작할 수 있다.\n",
    "- density와 residual sugar, alcohol, total_sulfur_dioxide 간 강한 상관관계가 있다."
   ]
  },
  {
   "cell_type": "markdown",
   "metadata": {},
   "source": [
    "# **3. 기본 Modeling**"
   ]
  },
  {
   "cell_type": "markdown",
   "metadata": {},
   "source": [
    "## **3-1. 데이터 준비**"
   ]
  },
  {
   "cell_type": "code",
   "execution_count": 27,
   "metadata": {},
   "outputs": [],
   "source": [
    "### feature / target 분리\n",
    "\n",
    "white_X = white_train.drop(['new_quality'], axis = 1)\n",
    "white_y = white_train['new_quality']"
   ]
  },
  {
   "cell_type": "code",
   "execution_count": 28,
   "metadata": {},
   "outputs": [
    {
     "data": {
      "text/html": [
       "<div>\n",
       "<style scoped>\n",
       "    .dataframe tbody tr th:only-of-type {\n",
       "        vertical-align: middle;\n",
       "    }\n",
       "\n",
       "    .dataframe tbody tr th {\n",
       "        vertical-align: top;\n",
       "    }\n",
       "\n",
       "    .dataframe thead th {\n",
       "        text-align: right;\n",
       "    }\n",
       "</style>\n",
       "<table border=\"1\" class=\"dataframe\">\n",
       "  <thead>\n",
       "    <tr style=\"text-align: right;\">\n",
       "      <th></th>\n",
       "      <th>fixed acidity</th>\n",
       "      <th>volatile acidity</th>\n",
       "      <th>citric acid</th>\n",
       "      <th>residual sugar</th>\n",
       "      <th>chlorides</th>\n",
       "      <th>free sulfur dioxide</th>\n",
       "      <th>total sulfur dioxide</th>\n",
       "      <th>density</th>\n",
       "      <th>pH</th>\n",
       "      <th>sulphates</th>\n",
       "      <th>alcohol</th>\n",
       "    </tr>\n",
       "  </thead>\n",
       "  <tbody>\n",
       "    <tr>\n",
       "      <th>0</th>\n",
       "      <td>5.6</td>\n",
       "      <td>0.695</td>\n",
       "      <td>0.06</td>\n",
       "      <td>6.8</td>\n",
       "      <td>0.042</td>\n",
       "      <td>9.0</td>\n",
       "      <td>84.0</td>\n",
       "      <td>0.99432</td>\n",
       "      <td>3.44</td>\n",
       "      <td>0.44</td>\n",
       "      <td>10.2</td>\n",
       "    </tr>\n",
       "    <tr>\n",
       "      <th>1</th>\n",
       "      <td>7.9</td>\n",
       "      <td>0.210</td>\n",
       "      <td>0.39</td>\n",
       "      <td>2.0</td>\n",
       "      <td>0.057</td>\n",
       "      <td>21.0</td>\n",
       "      <td>138.0</td>\n",
       "      <td>0.99176</td>\n",
       "      <td>3.05</td>\n",
       "      <td>0.52</td>\n",
       "      <td>10.9</td>\n",
       "    </tr>\n",
       "    <tr>\n",
       "      <th>2</th>\n",
       "      <td>7.0</td>\n",
       "      <td>0.210</td>\n",
       "      <td>0.31</td>\n",
       "      <td>6.0</td>\n",
       "      <td>0.046</td>\n",
       "      <td>29.0</td>\n",
       "      <td>108.0</td>\n",
       "      <td>0.99390</td>\n",
       "      <td>3.26</td>\n",
       "      <td>0.50</td>\n",
       "      <td>10.8</td>\n",
       "    </tr>\n",
       "    <tr>\n",
       "      <th>3</th>\n",
       "      <td>7.8</td>\n",
       "      <td>0.400</td>\n",
       "      <td>0.26</td>\n",
       "      <td>9.5</td>\n",
       "      <td>0.059</td>\n",
       "      <td>32.0</td>\n",
       "      <td>178.0</td>\n",
       "      <td>0.99550</td>\n",
       "      <td>3.04</td>\n",
       "      <td>0.43</td>\n",
       "      <td>10.9</td>\n",
       "    </tr>\n",
       "    <tr>\n",
       "      <th>4</th>\n",
       "      <td>6.0</td>\n",
       "      <td>0.190</td>\n",
       "      <td>0.37</td>\n",
       "      <td>9.7</td>\n",
       "      <td>0.032</td>\n",
       "      <td>17.0</td>\n",
       "      <td>50.0</td>\n",
       "      <td>0.99320</td>\n",
       "      <td>3.08</td>\n",
       "      <td>0.66</td>\n",
       "      <td>12.0</td>\n",
       "    </tr>\n",
       "  </tbody>\n",
       "</table>\n",
       "</div>"
      ],
      "text/plain": [
       "   fixed acidity  volatile acidity  citric acid  residual sugar  chlorides  \\\n",
       "0            5.6             0.695         0.06             6.8      0.042   \n",
       "1            7.9             0.210         0.39             2.0      0.057   \n",
       "2            7.0             0.210         0.31             6.0      0.046   \n",
       "3            7.8             0.400         0.26             9.5      0.059   \n",
       "4            6.0             0.190         0.37             9.7      0.032   \n",
       "\n",
       "   free sulfur dioxide  total sulfur dioxide  density    pH  sulphates  \\\n",
       "0                  9.0                  84.0  0.99432  3.44       0.44   \n",
       "1                 21.0                 138.0  0.99176  3.05       0.52   \n",
       "2                 29.0                 108.0  0.99390  3.26       0.50   \n",
       "3                 32.0                 178.0  0.99550  3.04       0.43   \n",
       "4                 17.0                  50.0  0.99320  3.08       0.66   \n",
       "\n",
       "   alcohol  \n",
       "0     10.2  \n",
       "1     10.9  \n",
       "2     10.8  \n",
       "3     10.9  \n",
       "4     12.0  "
      ]
     },
     "execution_count": 28,
     "metadata": {},
     "output_type": "execute_result"
    }
   ],
   "source": [
    "white_X.head()"
   ]
  },
  {
   "cell_type": "code",
   "execution_count": 29,
   "metadata": {},
   "outputs": [
    {
     "data": {
      "text/plain": [
       "0    1\n",
       "1    1\n",
       "2    2\n",
       "3    2\n",
       "4    2\n",
       "Name: new_quality, dtype: int64"
      ]
     },
     "execution_count": 29,
     "metadata": {},
     "output_type": "execute_result"
    }
   ],
   "source": [
    "white_y.head()"
   ]
  },
  {
   "cell_type": "code",
   "execution_count": 30,
   "metadata": {},
   "outputs": [
    {
     "data": {
      "text/plain": [
       "((4159, 11), (4159,))"
      ]
     },
     "execution_count": 30,
     "metadata": {},
     "output_type": "execute_result"
    }
   ],
   "source": [
    "white_X.shape, white_y.shape"
   ]
  },
  {
   "cell_type": "code",
   "execution_count": 31,
   "metadata": {},
   "outputs": [
    {
     "data": {
      "text/html": [
       "<div>\n",
       "<style scoped>\n",
       "    .dataframe tbody tr th:only-of-type {\n",
       "        vertical-align: middle;\n",
       "    }\n",
       "\n",
       "    .dataframe tbody tr th {\n",
       "        vertical-align: top;\n",
       "    }\n",
       "\n",
       "    .dataframe thead th {\n",
       "        text-align: right;\n",
       "    }\n",
       "</style>\n",
       "<table border=\"1\" class=\"dataframe\">\n",
       "  <thead>\n",
       "    <tr style=\"text-align: right;\">\n",
       "      <th></th>\n",
       "      <th>fixed acidity</th>\n",
       "      <th>volatile acidity</th>\n",
       "      <th>citric acid</th>\n",
       "      <th>residual sugar</th>\n",
       "      <th>chlorides</th>\n",
       "      <th>free sulfur dioxide</th>\n",
       "      <th>total sulfur dioxide</th>\n",
       "      <th>density</th>\n",
       "      <th>pH</th>\n",
       "      <th>sulphates</th>\n",
       "      <th>alcohol</th>\n",
       "    </tr>\n",
       "  </thead>\n",
       "  <tbody>\n",
       "    <tr>\n",
       "      <th>0</th>\n",
       "      <td>-1.484093</td>\n",
       "      <td>4.162508</td>\n",
       "      <td>-2.251738</td>\n",
       "      <td>0.084448</td>\n",
       "      <td>-0.168105</td>\n",
       "      <td>-1.539163</td>\n",
       "      <td>-1.266508</td>\n",
       "      <td>0.103171</td>\n",
       "      <td>1.655391</td>\n",
       "      <td>-0.435754</td>\n",
       "      <td>-0.266139</td>\n",
       "    </tr>\n",
       "    <tr>\n",
       "      <th>1</th>\n",
       "      <td>1.231568</td>\n",
       "      <td>-0.676136</td>\n",
       "      <td>0.459082</td>\n",
       "      <td>-0.862690</td>\n",
       "      <td>0.530160</td>\n",
       "      <td>-0.831822</td>\n",
       "      <td>0.002220</td>\n",
       "      <td>-0.747828</td>\n",
       "      <td>-0.921294</td>\n",
       "      <td>0.270796</td>\n",
       "      <td>0.301917</td>\n",
       "    </tr>\n",
       "    <tr>\n",
       "      <th>2</th>\n",
       "      <td>0.168918</td>\n",
       "      <td>-0.676136</td>\n",
       "      <td>-0.198087</td>\n",
       "      <td>-0.073408</td>\n",
       "      <td>0.018099</td>\n",
       "      <td>-0.360261</td>\n",
       "      <td>-0.702629</td>\n",
       "      <td>-0.036446</td>\n",
       "      <td>0.466152</td>\n",
       "      <td>0.094159</td>\n",
       "      <td>0.220766</td>\n",
       "    </tr>\n",
       "    <tr>\n",
       "      <th>3</th>\n",
       "      <td>1.113495</td>\n",
       "      <td>1.219415</td>\n",
       "      <td>-0.608817</td>\n",
       "      <td>0.617214</td>\n",
       "      <td>0.623262</td>\n",
       "      <td>-0.183426</td>\n",
       "      <td>0.942019</td>\n",
       "      <td>0.495428</td>\n",
       "      <td>-0.987363</td>\n",
       "      <td>-0.524073</td>\n",
       "      <td>0.301917</td>\n",
       "    </tr>\n",
       "    <tr>\n",
       "      <th>4</th>\n",
       "      <td>-1.011804</td>\n",
       "      <td>-0.875668</td>\n",
       "      <td>0.294790</td>\n",
       "      <td>0.656678</td>\n",
       "      <td>-0.633615</td>\n",
       "      <td>-1.067603</td>\n",
       "      <td>-2.065337</td>\n",
       "      <td>-0.269141</td>\n",
       "      <td>-0.723088</td>\n",
       "      <td>1.507259</td>\n",
       "      <td>1.194577</td>\n",
       "    </tr>\n",
       "  </tbody>\n",
       "</table>\n",
       "</div>"
      ],
      "text/plain": [
       "   fixed acidity  volatile acidity  citric acid  residual sugar  chlorides  \\\n",
       "0      -1.484093          4.162508    -2.251738        0.084448  -0.168105   \n",
       "1       1.231568         -0.676136     0.459082       -0.862690   0.530160   \n",
       "2       0.168918         -0.676136    -0.198087       -0.073408   0.018099   \n",
       "3       1.113495          1.219415    -0.608817        0.617214   0.623262   \n",
       "4      -1.011804         -0.875668     0.294790        0.656678  -0.633615   \n",
       "\n",
       "   free sulfur dioxide  total sulfur dioxide   density        pH  sulphates  \\\n",
       "0            -1.539163             -1.266508  0.103171  1.655391  -0.435754   \n",
       "1            -0.831822              0.002220 -0.747828 -0.921294   0.270796   \n",
       "2            -0.360261             -0.702629 -0.036446  0.466152   0.094159   \n",
       "3            -0.183426              0.942019  0.495428 -0.987363  -0.524073   \n",
       "4            -1.067603             -2.065337 -0.269141 -0.723088   1.507259   \n",
       "\n",
       "    alcohol  \n",
       "0 -0.266139  \n",
       "1  0.301917  \n",
       "2  0.220766  \n",
       "3  0.301917  \n",
       "4  1.194577  "
      ]
     },
     "execution_count": 31,
     "metadata": {},
     "output_type": "execute_result"
    }
   ],
   "source": [
    "### 표준화\n",
    "# 데이터 간의 스케일 차이 조정\n",
    "\n",
    "from sklearn.preprocessing import StandardScaler\n",
    "\n",
    "colname = white_X.columns\n",
    "scaler = StandardScaler() \n",
    "white_X = scaler.fit_transform(white_X)\n",
    "white_X = pd.DataFrame(white_X, columns = colname)\n",
    "white_X.head()"
   ]
  },
  {
   "cell_type": "code",
   "execution_count": 32,
   "metadata": {},
   "outputs": [
    {
     "data": {
      "text/html": [
       "<div>\n",
       "<style scoped>\n",
       "    .dataframe tbody tr th:only-of-type {\n",
       "        vertical-align: middle;\n",
       "    }\n",
       "\n",
       "    .dataframe tbody tr th {\n",
       "        vertical-align: top;\n",
       "    }\n",
       "\n",
       "    .dataframe thead th {\n",
       "        text-align: right;\n",
       "    }\n",
       "</style>\n",
       "<table border=\"1\" class=\"dataframe\">\n",
       "  <thead>\n",
       "    <tr style=\"text-align: right;\">\n",
       "      <th></th>\n",
       "      <th>fixed acidity</th>\n",
       "      <th>volatile acidity</th>\n",
       "      <th>citric acid</th>\n",
       "      <th>residual sugar</th>\n",
       "      <th>chlorides</th>\n",
       "      <th>free sulfur dioxide</th>\n",
       "      <th>total sulfur dioxide</th>\n",
       "      <th>density</th>\n",
       "      <th>pH</th>\n",
       "      <th>sulphates</th>\n",
       "      <th>alcohol</th>\n",
       "    </tr>\n",
       "  </thead>\n",
       "  <tbody>\n",
       "    <tr>\n",
       "      <th>0</th>\n",
       "      <td>2.530362</td>\n",
       "      <td>0.321522</td>\n",
       "      <td>1.198396</td>\n",
       "      <td>0.044984</td>\n",
       "      <td>-0.121554</td>\n",
       "      <td>-1.421273</td>\n",
       "      <td>-1.524953</td>\n",
       "      <td>-0.069689</td>\n",
       "      <td>-1.912327</td>\n",
       "      <td>-0.965667</td>\n",
       "      <td>0.869973</td>\n",
       "    </tr>\n",
       "    <tr>\n",
       "      <th>1</th>\n",
       "      <td>-0.421443</td>\n",
       "      <td>0.022225</td>\n",
       "      <td>-0.526671</td>\n",
       "      <td>-0.231264</td>\n",
       "      <td>-0.261207</td>\n",
       "      <td>0.523916</td>\n",
       "      <td>0.965514</td>\n",
       "      <td>0.262733</td>\n",
       "      <td>0.003670</td>\n",
       "      <td>1.772216</td>\n",
       "      <td>-0.915346</td>\n",
       "    </tr>\n",
       "    <tr>\n",
       "      <th>2</th>\n",
       "      <td>0.405062</td>\n",
       "      <td>-1.274731</td>\n",
       "      <td>0.459082</td>\n",
       "      <td>-0.902154</td>\n",
       "      <td>-0.121554</td>\n",
       "      <td>-0.831822</td>\n",
       "      <td>0.495614</td>\n",
       "      <td>0.262733</td>\n",
       "      <td>2.183942</td>\n",
       "      <td>-0.170798</td>\n",
       "      <td>-0.428441</td>\n",
       "    </tr>\n",
       "    <tr>\n",
       "      <th>3</th>\n",
       "      <td>-0.067226</td>\n",
       "      <td>-0.177307</td>\n",
       "      <td>-0.608817</td>\n",
       "      <td>-0.862690</td>\n",
       "      <td>-1.238778</td>\n",
       "      <td>-0.684459</td>\n",
       "      <td>-1.548448</td>\n",
       "      <td>-1.196597</td>\n",
       "      <td>-0.194537</td>\n",
       "      <td>-0.170798</td>\n",
       "      <td>1.032275</td>\n",
       "    </tr>\n",
       "    <tr>\n",
       "      <th>4</th>\n",
       "      <td>-0.421443</td>\n",
       "      <td>-0.177307</td>\n",
       "      <td>-0.444525</td>\n",
       "      <td>1.209175</td>\n",
       "      <td>0.018099</td>\n",
       "      <td>2.645940</td>\n",
       "      <td>2.046282</td>\n",
       "      <td>0.944197</td>\n",
       "      <td>-0.062399</td>\n",
       "      <td>-0.700711</td>\n",
       "      <td>-0.428441</td>\n",
       "    </tr>\n",
       "  </tbody>\n",
       "</table>\n",
       "</div>"
      ],
      "text/plain": [
       "   fixed acidity  volatile acidity  citric acid  residual sugar  chlorides  \\\n",
       "0       2.530362          0.321522     1.198396        0.044984  -0.121554   \n",
       "1      -0.421443          0.022225    -0.526671       -0.231264  -0.261207   \n",
       "2       0.405062         -1.274731     0.459082       -0.902154  -0.121554   \n",
       "3      -0.067226         -0.177307    -0.608817       -0.862690  -1.238778   \n",
       "4      -0.421443         -0.177307    -0.444525        1.209175   0.018099   \n",
       "\n",
       "   free sulfur dioxide  total sulfur dioxide   density        pH  sulphates  \\\n",
       "0            -1.421273             -1.524953 -0.069689 -1.912327  -0.965667   \n",
       "1             0.523916              0.965514  0.262733  0.003670   1.772216   \n",
       "2            -0.831822              0.495614  0.262733  2.183942  -0.170798   \n",
       "3            -0.684459             -1.548448 -1.196597 -0.194537  -0.170798   \n",
       "4             2.645940              2.046282  0.944197 -0.062399  -0.700711   \n",
       "\n",
       "    alcohol  \n",
       "0  0.869973  \n",
       "1 -0.915346  \n",
       "2 -0.428441  \n",
       "3  1.032275  \n",
       "4 -0.428441  "
      ]
     },
     "execution_count": 32,
     "metadata": {},
     "output_type": "execute_result"
    }
   ],
   "source": [
    "white_test = scaler.transform(white_test)\n",
    "white_test = pd.DataFrame(white_test, columns = colname)\n",
    "white_test.head()"
   ]
  },
  {
   "cell_type": "markdown",
   "metadata": {},
   "source": [
    "- 제대로 표준화되었음을 확인할 수 있다."
   ]
  },
  {
   "cell_type": "code",
   "execution_count": 33,
   "metadata": {},
   "outputs": [],
   "source": [
    "### 교차 검증\n",
    "# target 변수의 클래스가 불균형함\n",
    "# target의 속성값의 개수를 동일하게 가져오기 위해 StratifiedKFold 활용\n",
    "\n",
    "from sklearn.model_selection import StratifiedKFold\n",
    "\n",
    "n_splits = 5 # 폴드 수 지정\n",
    "skf = StratifiedKFold(n_splits = n_splits, \n",
    "                      random_state = 0, shuffle = True)"
   ]
  },
  {
   "cell_type": "markdown",
   "metadata": {},
   "source": [
    "## **3-2. 기본 단일 모델** "
   ]
  },
  {
   "cell_type": "markdown",
   "metadata": {},
   "source": [
    "**📌 a) 선형 알고리즘(Linear Algorithm)**  \n",
    "- LDA(Linear Discriminant Analysis)\n",
    "- 경사하강법(SGDClassifier)\n",
    "\n",
    "**📌 b) 비선형 알고리즘(Non-linear Algorithm)**\n",
    "- 최소 근접 알고리즘(k-Nearest Neighbors)\n",
    "- 결정 트리(Decision Tree)\n",
    "- 가우시안 나이브 베이즈(Gaussian Naive Bayes)\n",
    "- 서포트 벡터 머신(SVC)"
   ]
  },
  {
   "cell_type": "code",
   "execution_count": 34,
   "metadata": {},
   "outputs": [],
   "source": [
    "from sklearn.model_selection import cross_val_score\n",
    "from sklearn.metrics import accuracy_score\n",
    "\n",
    "from sklearn.discriminant_analysis import LinearDiscriminantAnalysis\n",
    "from sklearn.linear_model import SGDClassifier\n",
    "\n",
    "from sklearn.neighbors import KNeighborsClassifier\n",
    "from sklearn.tree import DecisionTreeClassifier\n",
    "from sklearn.naive_bayes import GaussianNB\n",
    "from sklearn.svm import SVC"
   ]
  },
  {
   "cell_type": "code",
   "execution_count": 35,
   "metadata": {},
   "outputs": [],
   "source": [
    "### 활용할 모델 정의\n",
    "\n",
    "white_models = []\n",
    "\n",
    "white_models.append(('LDA', LinearDiscriminantAnalysis()))\n",
    "white_models.append(('SGD', SGDClassifier()))\n",
    "white_models.append(('KNN', KNeighborsClassifier()))\n",
    "white_models.append(('DT', DecisionTreeClassifier(random_state = 0)))\n",
    "white_models.append(('NB', GaussianNB()))\n",
    "white_models.append(('SVC', SVC(random_state = 0)))"
   ]
  },
  {
   "cell_type": "code",
   "execution_count": 36,
   "metadata": {},
   "outputs": [
    {
     "name": "stdout",
     "output_type": "stream",
     "text": [
      "LDA: 0.543\n",
      "SGD: 0.503\n",
      "KNN: 0.579\n",
      "DT: 0.612\n",
      "NB: 0.472\n",
      "SVC: 0.586\n",
      "\n",
      "모든 모델의 평균 메트릭(정확도): 0.549\n"
     ]
    }
   ],
   "source": [
    "### 순차적으로 modeling + 학습/예측/검증\n",
    "\n",
    "white_results = []\n",
    "white_names = []\n",
    "white_metrics = []\n",
    "\n",
    "for name, model in white_models:\n",
    "    cv_results = cross_val_score(model, white_X, white_y, \n",
    "                                 cv = skf, scoring = 'accuracy')\n",
    "    white_results.append(cv_results)\n",
    "    white_names.append(name)\n",
    "    white_metrics.append(cv_results.mean())\n",
    "    msg = \"%s: %.3f\" % (name, cv_results.mean())\n",
    "    print(msg)\n",
    "\n",
    "print()\n",
    "print('모든 모델의 평균 메트릭(정확도):',round(np.mean(white_metrics),3))"
   ]
  },
  {
   "cell_type": "markdown",
   "metadata": {},
   "source": [
    "## **3-3. 기본 앙상블 모델 생성**"
   ]
  },
  {
   "cell_type": "code",
   "execution_count": 37,
   "metadata": {},
   "outputs": [],
   "source": [
    "from sklearn.ensemble import RandomForestClassifier\n",
    "from sklearn.ensemble import BaggingClassifier \n",
    "from sklearn.ensemble import GradientBoostingClassifier\n",
    "from xgboost import XGBClassifier\n",
    "from lightgbm import LGBMClassifier\n",
    "from sklearn.ensemble import AdaBoostClassifier\n",
    "from sklearn.ensemble import ExtraTreesClassifier"
   ]
  },
  {
   "cell_type": "code",
   "execution_count": 38,
   "metadata": {},
   "outputs": [],
   "source": [
    "white_ensemble = []\n",
    "\n",
    "white_ensemble.append(('RF', RandomForestClassifier(random_state = 0)))\n",
    "white_ensemble.append(('Bagging',BaggingClassifier(DecisionTreeClassifier(), random_state = 0)))\n",
    "white_ensemble.append(('GB', GradientBoostingClassifier(random_state = 0)))\n",
    "white_ensemble.append(('XGB', XGBClassifier(random_state = 0)))\n",
    "white_ensemble.append(('LGBM', LGBMClassifier(random_state = 0)))\n",
    "white_ensemble.append(('Ada', AdaBoostClassifier(random_state = 0)))\n",
    "white_ensemble.append(('ET', ExtraTreesClassifier(random_state = 0)))"
   ]
  },
  {
   "cell_type": "code",
   "execution_count": 39,
   "metadata": {},
   "outputs": [
    {
     "name": "stdout",
     "output_type": "stream",
     "text": [
      "RF: 0.684\n",
      "Bagging: 0.654\n",
      "GB: 0.602\n",
      "XGB: 0.673\n",
      "LGBM: 0.654\n",
      "Ada: 0.515\n",
      "ET: 0.686\n",
      "\n",
      "모든 모델의 평균 메트릭(정확도): 0.638\n"
     ]
    }
   ],
   "source": [
    "### 순차적으로 modeling + 학습/예측/검증\n",
    "\n",
    "white_en_results = []\n",
    "white_en_names = []\n",
    "white_en_metrics = []\n",
    "\n",
    "for name, model in white_ensemble:\n",
    "    cv_results = cross_val_score(model, white_X, white_y, \n",
    "                                 cv = skf, scoring = 'accuracy')\n",
    "    white_en_results.append(cv_results)\n",
    "    white_en_names.append(name)\n",
    "    white_en_metrics.append(cv_results.mean())\n",
    "    msg = \"%s: %.3f\" % (name, cv_results.mean())\n",
    "    print(msg)\n",
    "\n",
    "print()\n",
    "print('모든 모델의 평균 메트릭(정확도):',round(np.mean(white_en_metrics),3))"
   ]
  },
  {
   "cell_type": "markdown",
   "metadata": {},
   "source": [
    "# **4. 데이터 변환**\n",
    "- 왜곡이 심한 변수들에 대해 로그 변환 수행\n",
    "    - 왜도(skewness)가 1 이상인 변수들만 변환"
   ]
  },
  {
   "cell_type": "code",
   "execution_count": 40,
   "metadata": {},
   "outputs": [
    {
     "data": {
      "text/html": [
       "<div>\n",
       "<style scoped>\n",
       "    .dataframe tbody tr th:only-of-type {\n",
       "        vertical-align: middle;\n",
       "    }\n",
       "\n",
       "    .dataframe tbody tr th {\n",
       "        vertical-align: top;\n",
       "    }\n",
       "\n",
       "    .dataframe thead th {\n",
       "        text-align: right;\n",
       "    }\n",
       "</style>\n",
       "<table border=\"1\" class=\"dataframe\">\n",
       "  <thead>\n",
       "    <tr style=\"text-align: right;\">\n",
       "      <th></th>\n",
       "      <th>fixed acidity</th>\n",
       "      <th>volatile acidity</th>\n",
       "      <th>citric acid</th>\n",
       "      <th>residual sugar</th>\n",
       "      <th>chlorides</th>\n",
       "      <th>free sulfur dioxide</th>\n",
       "      <th>total sulfur dioxide</th>\n",
       "      <th>density</th>\n",
       "      <th>pH</th>\n",
       "      <th>sulphates</th>\n",
       "      <th>alcohol</th>\n",
       "      <th>new_quality</th>\n",
       "    </tr>\n",
       "  </thead>\n",
       "  <tbody>\n",
       "    <tr>\n",
       "      <th>0</th>\n",
       "      <td>5.6</td>\n",
       "      <td>0.695</td>\n",
       "      <td>0.06</td>\n",
       "      <td>6.8</td>\n",
       "      <td>0.042</td>\n",
       "      <td>9.0</td>\n",
       "      <td>84.0</td>\n",
       "      <td>0.99432</td>\n",
       "      <td>3.44</td>\n",
       "      <td>0.44</td>\n",
       "      <td>10.2</td>\n",
       "      <td>1</td>\n",
       "    </tr>\n",
       "    <tr>\n",
       "      <th>1</th>\n",
       "      <td>7.9</td>\n",
       "      <td>0.210</td>\n",
       "      <td>0.39</td>\n",
       "      <td>2.0</td>\n",
       "      <td>0.057</td>\n",
       "      <td>21.0</td>\n",
       "      <td>138.0</td>\n",
       "      <td>0.99176</td>\n",
       "      <td>3.05</td>\n",
       "      <td>0.52</td>\n",
       "      <td>10.9</td>\n",
       "      <td>1</td>\n",
       "    </tr>\n",
       "    <tr>\n",
       "      <th>2</th>\n",
       "      <td>7.0</td>\n",
       "      <td>0.210</td>\n",
       "      <td>0.31</td>\n",
       "      <td>6.0</td>\n",
       "      <td>0.046</td>\n",
       "      <td>29.0</td>\n",
       "      <td>108.0</td>\n",
       "      <td>0.99390</td>\n",
       "      <td>3.26</td>\n",
       "      <td>0.50</td>\n",
       "      <td>10.8</td>\n",
       "      <td>2</td>\n",
       "    </tr>\n",
       "    <tr>\n",
       "      <th>3</th>\n",
       "      <td>7.8</td>\n",
       "      <td>0.400</td>\n",
       "      <td>0.26</td>\n",
       "      <td>9.5</td>\n",
       "      <td>0.059</td>\n",
       "      <td>32.0</td>\n",
       "      <td>178.0</td>\n",
       "      <td>0.99550</td>\n",
       "      <td>3.04</td>\n",
       "      <td>0.43</td>\n",
       "      <td>10.9</td>\n",
       "      <td>2</td>\n",
       "    </tr>\n",
       "    <tr>\n",
       "      <th>4</th>\n",
       "      <td>6.0</td>\n",
       "      <td>0.190</td>\n",
       "      <td>0.37</td>\n",
       "      <td>9.7</td>\n",
       "      <td>0.032</td>\n",
       "      <td>17.0</td>\n",
       "      <td>50.0</td>\n",
       "      <td>0.99320</td>\n",
       "      <td>3.08</td>\n",
       "      <td>0.66</td>\n",
       "      <td>12.0</td>\n",
       "      <td>2</td>\n",
       "    </tr>\n",
       "  </tbody>\n",
       "</table>\n",
       "</div>"
      ],
      "text/plain": [
       "   fixed acidity  volatile acidity  citric acid  residual sugar  chlorides  \\\n",
       "0            5.6             0.695         0.06             6.8      0.042   \n",
       "1            7.9             0.210         0.39             2.0      0.057   \n",
       "2            7.0             0.210         0.31             6.0      0.046   \n",
       "3            7.8             0.400         0.26             9.5      0.059   \n",
       "4            6.0             0.190         0.37             9.7      0.032   \n",
       "\n",
       "   free sulfur dioxide  total sulfur dioxide  density    pH  sulphates  \\\n",
       "0                  9.0                  84.0  0.99432  3.44       0.44   \n",
       "1                 21.0                 138.0  0.99176  3.05       0.52   \n",
       "2                 29.0                 108.0  0.99390  3.26       0.50   \n",
       "3                 32.0                 178.0  0.99550  3.04       0.43   \n",
       "4                 17.0                  50.0  0.99320  3.08       0.66   \n",
       "\n",
       "   alcohol  new_quality  \n",
       "0     10.2            1  \n",
       "1     10.9            1  \n",
       "2     10.8            2  \n",
       "3     10.9            2  \n",
       "4     12.0            2  "
      ]
     },
     "execution_count": 40,
     "metadata": {},
     "output_type": "execute_result"
    }
   ],
   "source": [
    "### 원본 데이터 유지를 위해 복사본 활용\n",
    "\n",
    "white_train_2nd = white_train.copy()\n",
    "white_train_2nd.head()"
   ]
  },
  {
   "cell_type": "code",
   "execution_count": 41,
   "metadata": {},
   "outputs": [
    {
     "name": "stdout",
     "output_type": "stream",
     "text": [
      "전체 왜곡 정도: 1.202629\n"
     ]
    }
   ],
   "source": [
    "### 각 변수들의 왜도(skewness) 확인\n",
    "# 왜도 측정은 표준화되지 않은 원본 데이터로 수행\n",
    "\n",
    "from scipy.stats import skew\n",
    "\n",
    "features_idx = white_train_2nd.dtypes[white_train_2nd.dtypes != 'object'].index\n",
    "skew_features = white_train_2nd[features_idx].apply(lambda x:skew(x))\n",
    "print('전체 왜곡 정도: %f' %skew_features.mean())"
   ]
  },
  {
   "cell_type": "code",
   "execution_count": 42,
   "metadata": {},
   "outputs": [
    {
     "name": "stdout",
     "output_type": "stream",
     "text": [
      "chlorides              4.991482\n",
      "volatile acidity       1.562741\n",
      "free sulfur dioxide    1.528219\n",
      "citric acid            1.327980\n",
      "residual sugar         1.149807\n",
      "density                1.103999\n",
      "dtype: float64\n"
     ]
    }
   ],
   "source": [
    "### 왜도가 1 이상인 변수 파악\n",
    "\n",
    "skew_features_top = skew_features[skew_features > 1]\n",
    "print(skew_features_top.sort_values(ascending = False))"
   ]
  },
  {
   "cell_type": "code",
   "execution_count": 43,
   "metadata": {},
   "outputs": [
    {
     "data": {
      "text/html": [
       "<div>\n",
       "<style scoped>\n",
       "    .dataframe tbody tr th:only-of-type {\n",
       "        vertical-align: middle;\n",
       "    }\n",
       "\n",
       "    .dataframe tbody tr th {\n",
       "        vertical-align: top;\n",
       "    }\n",
       "\n",
       "    .dataframe thead th {\n",
       "        text-align: right;\n",
       "    }\n",
       "</style>\n",
       "<table border=\"1\" class=\"dataframe\">\n",
       "  <thead>\n",
       "    <tr style=\"text-align: right;\">\n",
       "      <th></th>\n",
       "      <th>fixed acidity</th>\n",
       "      <th>volatile acidity</th>\n",
       "      <th>citric acid</th>\n",
       "      <th>residual sugar</th>\n",
       "      <th>chlorides</th>\n",
       "      <th>free sulfur dioxide</th>\n",
       "      <th>total sulfur dioxide</th>\n",
       "      <th>density</th>\n",
       "      <th>pH</th>\n",
       "      <th>sulphates</th>\n",
       "      <th>alcohol</th>\n",
       "      <th>new_quality</th>\n",
       "    </tr>\n",
       "  </thead>\n",
       "  <tbody>\n",
       "    <tr>\n",
       "      <th>0</th>\n",
       "      <td>5.6</td>\n",
       "      <td>0.527683</td>\n",
       "      <td>0.058269</td>\n",
       "      <td>2.054124</td>\n",
       "      <td>0.041142</td>\n",
       "      <td>2.302585</td>\n",
       "      <td>84.0</td>\n",
       "      <td>0.690303</td>\n",
       "      <td>3.44</td>\n",
       "      <td>0.44</td>\n",
       "      <td>10.2</td>\n",
       "      <td>1</td>\n",
       "    </tr>\n",
       "    <tr>\n",
       "      <th>1</th>\n",
       "      <td>7.9</td>\n",
       "      <td>0.190620</td>\n",
       "      <td>0.329304</td>\n",
       "      <td>1.098612</td>\n",
       "      <td>0.055435</td>\n",
       "      <td>3.091042</td>\n",
       "      <td>138.0</td>\n",
       "      <td>0.689019</td>\n",
       "      <td>3.05</td>\n",
       "      <td>0.52</td>\n",
       "      <td>10.9</td>\n",
       "      <td>1</td>\n",
       "    </tr>\n",
       "    <tr>\n",
       "      <th>2</th>\n",
       "      <td>7.0</td>\n",
       "      <td>0.190620</td>\n",
       "      <td>0.270027</td>\n",
       "      <td>1.945910</td>\n",
       "      <td>0.044973</td>\n",
       "      <td>3.401197</td>\n",
       "      <td>108.0</td>\n",
       "      <td>0.690093</td>\n",
       "      <td>3.26</td>\n",
       "      <td>0.50</td>\n",
       "      <td>10.8</td>\n",
       "      <td>2</td>\n",
       "    </tr>\n",
       "    <tr>\n",
       "      <th>3</th>\n",
       "      <td>7.8</td>\n",
       "      <td>0.336472</td>\n",
       "      <td>0.231112</td>\n",
       "      <td>2.351375</td>\n",
       "      <td>0.057325</td>\n",
       "      <td>3.496508</td>\n",
       "      <td>178.0</td>\n",
       "      <td>0.690895</td>\n",
       "      <td>3.04</td>\n",
       "      <td>0.43</td>\n",
       "      <td>10.9</td>\n",
       "      <td>2</td>\n",
       "    </tr>\n",
       "    <tr>\n",
       "      <th>4</th>\n",
       "      <td>6.0</td>\n",
       "      <td>0.173953</td>\n",
       "      <td>0.314811</td>\n",
       "      <td>2.370244</td>\n",
       "      <td>0.031499</td>\n",
       "      <td>2.890372</td>\n",
       "      <td>50.0</td>\n",
       "      <td>0.689741</td>\n",
       "      <td>3.08</td>\n",
       "      <td>0.66</td>\n",
       "      <td>12.0</td>\n",
       "      <td>2</td>\n",
       "    </tr>\n",
       "  </tbody>\n",
       "</table>\n",
       "</div>"
      ],
      "text/plain": [
       "   fixed acidity  volatile acidity  citric acid  residual sugar  chlorides  \\\n",
       "0            5.6          0.527683     0.058269        2.054124   0.041142   \n",
       "1            7.9          0.190620     0.329304        1.098612   0.055435   \n",
       "2            7.0          0.190620     0.270027        1.945910   0.044973   \n",
       "3            7.8          0.336472     0.231112        2.351375   0.057325   \n",
       "4            6.0          0.173953     0.314811        2.370244   0.031499   \n",
       "\n",
       "   free sulfur dioxide  total sulfur dioxide   density    pH  sulphates  \\\n",
       "0             2.302585                  84.0  0.690303  3.44       0.44   \n",
       "1             3.091042                 138.0  0.689019  3.05       0.52   \n",
       "2             3.401197                 108.0  0.690093  3.26       0.50   \n",
       "3             3.496508                 178.0  0.690895  3.04       0.43   \n",
       "4             2.890372                  50.0  0.689741  3.08       0.66   \n",
       "\n",
       "   alcohol  new_quality  \n",
       "0     10.2            1  \n",
       "1     10.9            1  \n",
       "2     10.8            2  \n",
       "3     10.9            2  \n",
       "4     12.0            2  "
      ]
     },
     "execution_count": 43,
     "metadata": {},
     "output_type": "execute_result"
    }
   ],
   "source": [
    "### 로그 변환 적용\n",
    "# 데이터를 변환하기 위해서는 데이터가 양수여야 함\n",
    "# 따라서, 모든 데이터에 1을 더해준 후 로그 변환 수행\n",
    "\n",
    "from scipy import stats\n",
    "\n",
    "skewed = list(skew_features_top.index)\n",
    "\n",
    "for ftr in skewed:\n",
    "    white_train_2nd[ftr] = np.log1p(white_train_2nd[ftr])\n",
    "\n",
    "white_train_2nd.head()"
   ]
  },
  {
   "cell_type": "code",
   "execution_count": 44,
   "metadata": {},
   "outputs": [
    {
     "name": "stdout",
     "output_type": "stream",
     "text": [
      "전체 왜곡 정도: 0.777173\n"
     ]
    }
   ],
   "source": [
    "### 각 변수들의 왜도(skewness) 확인\n",
    "\n",
    "features_idx = white_train_2nd.dtypes[white_train_2nd.dtypes != 'object'].index\n",
    "skew_features = white_train_2nd[features_idx].apply(lambda x:skew(x))\n",
    "print('전체 왜곡 정도: %f' %skew_features.mean())"
   ]
  },
  {
   "cell_type": "code",
   "execution_count": 45,
   "metadata": {},
   "outputs": [
    {
     "name": "stdout",
     "output_type": "stream",
     "text": [
      "chlorides           4.594012\n",
      "volatile acidity    1.133981\n",
      "density             1.076991\n",
      "dtype: float64\n"
     ]
    }
   ],
   "source": [
    "### 왜도가 1 이상인 변수 파악\n",
    "\n",
    "skew_features_top = skew_features[skew_features > 1]\n",
    "print(skew_features_top.sort_values(ascending = False))"
   ]
  },
  {
   "cell_type": "markdown",
   "metadata": {},
   "source": [
    "- 데이터 왜곡 정도가 완화됨"
   ]
  },
  {
   "cell_type": "code",
   "execution_count": 46,
   "metadata": {},
   "outputs": [],
   "source": [
    "### feature / target 분리\n",
    "\n",
    "white_X_2nd = white_train_2nd.drop(['new_quality'], axis = 1)\n",
    "white_y_2nd = white_train_2nd['new_quality']"
   ]
  },
  {
   "cell_type": "code",
   "execution_count": 47,
   "metadata": {},
   "outputs": [
    {
     "data": {
      "text/html": [
       "<div>\n",
       "<style scoped>\n",
       "    .dataframe tbody tr th:only-of-type {\n",
       "        vertical-align: middle;\n",
       "    }\n",
       "\n",
       "    .dataframe tbody tr th {\n",
       "        vertical-align: top;\n",
       "    }\n",
       "\n",
       "    .dataframe thead th {\n",
       "        text-align: right;\n",
       "    }\n",
       "</style>\n",
       "<table border=\"1\" class=\"dataframe\">\n",
       "  <thead>\n",
       "    <tr style=\"text-align: right;\">\n",
       "      <th></th>\n",
       "      <th>fixed acidity</th>\n",
       "      <th>volatile acidity</th>\n",
       "      <th>citric acid</th>\n",
       "      <th>residual sugar</th>\n",
       "      <th>chlorides</th>\n",
       "      <th>free sulfur dioxide</th>\n",
       "      <th>total sulfur dioxide</th>\n",
       "      <th>density</th>\n",
       "      <th>pH</th>\n",
       "      <th>sulphates</th>\n",
       "      <th>alcohol</th>\n",
       "    </tr>\n",
       "  </thead>\n",
       "  <tbody>\n",
       "    <tr>\n",
       "      <th>0</th>\n",
       "      <td>-1.484093</td>\n",
       "      <td>3.812827</td>\n",
       "      <td>-2.567657</td>\n",
       "      <td>0.420810</td>\n",
       "      <td>-0.166343</td>\n",
       "      <td>-2.217249</td>\n",
       "      <td>-1.266508</td>\n",
       "      <td>0.104001</td>\n",
       "      <td>1.655391</td>\n",
       "      <td>-0.435754</td>\n",
       "      <td>-0.266139</td>\n",
       "    </tr>\n",
       "    <tr>\n",
       "      <th>1</th>\n",
       "      <td>1.231568</td>\n",
       "      <td>-0.689400</td>\n",
       "      <td>0.511036</td>\n",
       "      <td>-0.902937</td>\n",
       "      <td>0.562624</td>\n",
       "      <td>-0.714663</td>\n",
       "      <td>0.002220</td>\n",
       "      <td>-0.748109</td>\n",
       "      <td>-0.921294</td>\n",
       "      <td>0.270796</td>\n",
       "      <td>0.301917</td>\n",
       "    </tr>\n",
       "    <tr>\n",
       "      <th>2</th>\n",
       "      <td>0.168918</td>\n",
       "      <td>-0.689400</td>\n",
       "      <td>-0.162289</td>\n",
       "      <td>0.270893</td>\n",
       "      <td>0.029069</td>\n",
       "      <td>-0.123592</td>\n",
       "      <td>-0.702629</td>\n",
       "      <td>-0.035723</td>\n",
       "      <td>0.466152</td>\n",
       "      <td>0.094159</td>\n",
       "      <td>0.220766</td>\n",
       "    </tr>\n",
       "    <tr>\n",
       "      <th>3</th>\n",
       "      <td>1.113495</td>\n",
       "      <td>1.258780</td>\n",
       "      <td>-0.604330</td>\n",
       "      <td>0.832616</td>\n",
       "      <td>0.659038</td>\n",
       "      <td>0.058043</td>\n",
       "      <td>0.942019</td>\n",
       "      <td>0.496403</td>\n",
       "      <td>-0.987363</td>\n",
       "      <td>-0.524073</td>\n",
       "      <td>0.301917</td>\n",
       "    </tr>\n",
       "    <tr>\n",
       "      <th>4</th>\n",
       "      <td>-1.011804</td>\n",
       "      <td>-0.912026</td>\n",
       "      <td>0.346409</td>\n",
       "      <td>0.858756</td>\n",
       "      <td>-0.658175</td>\n",
       "      <td>-1.097087</td>\n",
       "      <td>-2.065337</td>\n",
       "      <td>-0.268663</td>\n",
       "      <td>-0.723088</td>\n",
       "      <td>1.507259</td>\n",
       "      <td>1.194577</td>\n",
       "    </tr>\n",
       "  </tbody>\n",
       "</table>\n",
       "</div>"
      ],
      "text/plain": [
       "   fixed acidity  volatile acidity  citric acid  residual sugar  chlorides  \\\n",
       "0      -1.484093          3.812827    -2.567657        0.420810  -0.166343   \n",
       "1       1.231568         -0.689400     0.511036       -0.902937   0.562624   \n",
       "2       0.168918         -0.689400    -0.162289        0.270893   0.029069   \n",
       "3       1.113495          1.258780    -0.604330        0.832616   0.659038   \n",
       "4      -1.011804         -0.912026     0.346409        0.858756  -0.658175   \n",
       "\n",
       "   free sulfur dioxide  total sulfur dioxide   density        pH  sulphates  \\\n",
       "0            -2.217249             -1.266508  0.104001  1.655391  -0.435754   \n",
       "1            -0.714663              0.002220 -0.748109 -0.921294   0.270796   \n",
       "2            -0.123592             -0.702629 -0.035723  0.466152   0.094159   \n",
       "3             0.058043              0.942019  0.496403 -0.987363  -0.524073   \n",
       "4            -1.097087             -2.065337 -0.268663 -0.723088   1.507259   \n",
       "\n",
       "    alcohol  \n",
       "0 -0.266139  \n",
       "1  0.301917  \n",
       "2  0.220766  \n",
       "3  0.301917  \n",
       "4  1.194577  "
      ]
     },
     "execution_count": 47,
     "metadata": {},
     "output_type": "execute_result"
    }
   ],
   "source": [
    "### 표준화 재수행\n",
    "\n",
    "colname = white_X_2nd.columns\n",
    "scaler = StandardScaler() \n",
    "white_X_2nd = scaler.fit_transform(white_X_2nd)\n",
    "white_X_2nd = pd.DataFrame(white_X_2nd, columns = colname)\n",
    "white_X_2nd.head()"
   ]
  },
  {
   "cell_type": "markdown",
   "metadata": {},
   "source": [
    "### **a) 단일 모델**"
   ]
  },
  {
   "cell_type": "code",
   "execution_count": 48,
   "metadata": {},
   "outputs": [],
   "source": [
    "### 활용할 모델 정의\n",
    "\n",
    "white2_models = []\n",
    "\n",
    "white2_models.append(('LDA', LinearDiscriminantAnalysis()))\n",
    "white2_models.append(('SGD', SGDClassifier()))\n",
    "white2_models.append(('KNN', KNeighborsClassifier()))\n",
    "white2_models.append(('DT', DecisionTreeClassifier(random_state = 0)))\n",
    "white2_models.append(('NB', GaussianNB()))\n",
    "white2_models.append(('SVC', SVC(random_state = 0)))"
   ]
  },
  {
   "cell_type": "code",
   "execution_count": 49,
   "metadata": {},
   "outputs": [
    {
     "name": "stdout",
     "output_type": "stream",
     "text": [
      "LDA: 0.544\n",
      "SGD: 0.489\n",
      "KNN: 0.579\n",
      "DT: 0.613\n",
      "NB: 0.491\n",
      "SVC: 0.590\n",
      "\n",
      "모든 모델의 평균 메트릭(정확도): 0.551\n"
     ]
    }
   ],
   "source": [
    "### 순차적으로 modeling + 학습/예측/검증\n",
    "white2_results = []\n",
    "white2_names = []\n",
    "white2_metrics = []\n",
    "\n",
    "for name, model in white2_models:\n",
    "    cv_results = cross_val_score(model, white_X_2nd, white_y_2nd, \n",
    "                                 cv = skf, scoring = 'accuracy')\n",
    "    white2_results.append(cv_results)\n",
    "    white2_names.append(name)\n",
    "    white2_metrics.append(cv_results.mean())\n",
    "    msg = \"%s: %.3f\" % (name, cv_results.mean())\n",
    "    print(msg)\n",
    "\n",
    "print()\n",
    "print('모든 모델의 평균 메트릭(정확도):',round(np.mean(white2_metrics),3))"
   ]
  },
  {
   "cell_type": "markdown",
   "metadata": {},
   "source": [
    "### **b) 앙상블 모델**"
   ]
  },
  {
   "cell_type": "code",
   "execution_count": 50,
   "metadata": {},
   "outputs": [],
   "source": [
    "white2_ensemble = []\n",
    "\n",
    "white2_ensemble.append(('RF', RandomForestClassifier(random_state = 0)))\n",
    "white2_ensemble.append(('Bagging',BaggingClassifier(DecisionTreeClassifier(), random_state = 0)))\n",
    "white2_ensemble.append(('GB', GradientBoostingClassifier(random_state = 0)))\n",
    "white2_ensemble.append(('XGB', XGBClassifier(random_state = 0)))\n",
    "white2_ensemble.append(('LGBM', LGBMClassifier(random_state = 0)))\n",
    "white2_ensemble.append(('Ada', AdaBoostClassifier(random_state = 0)))\n",
    "white2_ensemble.append(('ET', ExtraTreesClassifier(random_state = 0)))"
   ]
  },
  {
   "cell_type": "code",
   "execution_count": 51,
   "metadata": {},
   "outputs": [
    {
     "name": "stdout",
     "output_type": "stream",
     "text": [
      "RF: 0.686\n",
      "Bagging: 0.655\n",
      "GB: 0.601\n",
      "XGB: 0.672\n",
      "LGBM: 0.660\n",
      "Ada: 0.515\n",
      "ET: 0.696\n",
      "\n",
      "모든 모델의 평균 메트릭(정확도): 0.641\n"
     ]
    }
   ],
   "source": [
    "### 순차적으로 modeling + 학습/예측/검증\n",
    "\n",
    "white2_en_results = []\n",
    "white2_en_names = []\n",
    "white2_en_metrics = []\n",
    "\n",
    "for name, model in white2_ensemble:\n",
    "    cv_results = cross_val_score(model, white_X_2nd, white_y_2nd, \n",
    "                                 cv = skf, scoring = 'accuracy')\n",
    "    white2_en_results.append(cv_results)\n",
    "    white2_en_names.append(name)\n",
    "    white2_en_metrics.append(cv_results.mean())\n",
    "    msg = \"%s: %.3f\" % (name, cv_results.mean())\n",
    "    print(msg)\n",
    "\n",
    "print()\n",
    "print('모든 모델의 평균 메트릭(정확도):',round(np.mean(white2_en_metrics),3))"
   ]
  },
  {
   "cell_type": "markdown",
   "metadata": {},
   "source": [
    "- 성능이 조금씩 향상되었음\n",
    "    - white wine의 경우 **로그 변환** 적용"
   ]
  },
  {
   "cell_type": "markdown",
   "metadata": {},
   "source": [
    "# **5. 변수들 간의 상관도**"
   ]
  },
  {
   "cell_type": "markdown",
   "metadata": {},
   "source": [
    "## **5-1. target 변수와의 상관도**"
   ]
  },
  {
   "cell_type": "markdown",
   "metadata": {},
   "source": [
    "- target 변수와 가장 상관도가 높은 변수는 alcohol이다.\n",
    "- 해당 변수의 이상치를 제거해보자."
   ]
  },
  {
   "cell_type": "code",
   "execution_count": 52,
   "metadata": {},
   "outputs": [],
   "source": [
    "### 데이터 원본을 유지하기 위해 복사본 활용\n",
    "\n",
    "white_X_3rd = white_X_2nd.copy()\n",
    "white_y_3rd = white_y_2nd.copy()"
   ]
  },
  {
   "cell_type": "code",
   "execution_count": 53,
   "metadata": {},
   "outputs": [],
   "source": [
    "white_train_3 = pd.concat([white_X_3rd, white_y_3rd], axis = 1)"
   ]
  },
  {
   "cell_type": "code",
   "execution_count": 54,
   "metadata": {},
   "outputs": [],
   "source": [
    "### 이상치 제거 함수\n",
    "\n",
    "def get_outlier(df = None, column = None, weight = 1.5):\n",
    "    # 1/4 분위와 3/4 분위 지점을 np.percentile로 구함 \n",
    "    df = df[column]\n",
    "    quantile_25 = np.percentile(df.values, 25)\n",
    "    quantile_75 = np.percentile(df.values, 75)\n",
    "    \n",
    "    # IQR을 구하고, IQR에 1.5를 곱하여 최대값과 최소값 지점 구함. \n",
    "    iqr = quantile_75 - quantile_25\n",
    "    iqr_weight = iqr * weight\n",
    "    lowest_val = quantile_25 - iqr_weight\n",
    "    highest_val = quantile_75 + iqr_weight\n",
    "    \n",
    "    # 최대값 보다 크거나, 최소값 보다 작은 값을 아웃라이어로 설정하고 DataFrame index 반환. \n",
    "    outlier_index = df[(df < lowest_val) | (df > highest_val)].index\n",
    "    \n",
    "    return outlier_index"
   ]
  },
  {
   "cell_type": "code",
   "execution_count": 55,
   "metadata": {},
   "outputs": [
    {
     "name": "stdout",
     "output_type": "stream",
     "text": [
      "이상치 데이터 인덱스: Int64Index([], dtype='int64')\n"
     ]
    }
   ],
   "source": [
    "### alcohol에서 이상치 찾기\n",
    "\n",
    "outlier_index = get_outlier(df = white_train_3, column = 'alcohol', weight = 1.5)\n",
    "print('이상치 데이터 인덱스:', outlier_index)"
   ]
  },
  {
   "cell_type": "markdown",
   "metadata": {},
   "source": [
    "- 이상치가 존재 x"
   ]
  },
  {
   "cell_type": "markdown",
   "metadata": {},
   "source": [
    "## **5-2. feature 변수들 간의 상관도**"
   ]
  },
  {
   "attachments": {
    "image-2.png": {
     "image/png": "[encoded data removed]"
    }
   },
   "cell_type": "markdown",
   "metadata": {},
   "source": [
    "![image-2.png](attachment:image-2.png)"
   ]
  },
  {
   "cell_type": "markdown",
   "metadata": {},
   "source": [
    "- target 변수(quality)와 상관도가 가장 높은 변수는 'alcohol'이다.\n",
    "    - 상관계수는 **0.43**으로, 약한 양의 선형 상관관계를 가진다고 할 수 있다.\n",
    "- total sulfur dioxide와 free sulfur dioxide 간 상관관계가 있다.\n",
    "    - target 변수와 상관도가 조금 더 높은 ```free sulfur dioxide```만 남김\n",
    "- density와 residual sugar, alcohol, total_sulfur_dioxide 간 강한 상관관계가 있다.\n",
    "    - ```density```는 산도와 당도 등 여러 가지를 종합하여 사람이 맛으로 느끼는 바디감 등을 수치화 한 것으로, 다른 변수들을 통해 관련된 정보들을 도출할 수 있다. -> 삭제 결정"
   ]
  },
  {
   "cell_type": "markdown",
   "metadata": {},
   "source": [
    "> 최종 삭제 변수: density, free sulfur dioxide"
   ]
  },
  {
   "cell_type": "markdown",
   "metadata": {},
   "source": [
    "- 변수 판단 기준: 아래 링크 활용\n",
    "    - [와인상식](http://the-scent.co.kr/bbs/board.php?bo_table=wine_how_to&wr_id=29&page=7)"
   ]
  },
  {
   "cell_type": "markdown",
   "metadata": {},
   "source": [
    "⭐ **이후 최종 예측 시 test에서도 해당 변수들을 제거해 주는 거 잊지 말기!**"
   ]
  },
  {
   "cell_type": "code",
   "execution_count": 56,
   "metadata": {},
   "outputs": [],
   "source": [
    "### 데이터 원본을 유지하기 위해 복사본 활용\n",
    "# 로그 변환된 2번째 데이터를 계속 활용\n",
    "\n",
    "white_X_4th = white_X_2nd.copy()\n",
    "white_y_4th = white_y_2nd.copy()"
   ]
  },
  {
   "cell_type": "code",
   "execution_count": 57,
   "metadata": {},
   "outputs": [],
   "source": [
    "white_train_4 = pd.concat([white_X_4th, white_y_4th], axis = 1)"
   ]
  },
  {
   "cell_type": "code",
   "execution_count": 58,
   "metadata": {},
   "outputs": [
    {
     "data": {
      "text/html": [
       "<div>\n",
       "<style scoped>\n",
       "    .dataframe tbody tr th:only-of-type {\n",
       "        vertical-align: middle;\n",
       "    }\n",
       "\n",
       "    .dataframe tbody tr th {\n",
       "        vertical-align: top;\n",
       "    }\n",
       "\n",
       "    .dataframe thead th {\n",
       "        text-align: right;\n",
       "    }\n",
       "</style>\n",
       "<table border=\"1\" class=\"dataframe\">\n",
       "  <thead>\n",
       "    <tr style=\"text-align: right;\">\n",
       "      <th></th>\n",
       "      <th>fixed acidity</th>\n",
       "      <th>volatile acidity</th>\n",
       "      <th>citric acid</th>\n",
       "      <th>residual sugar</th>\n",
       "      <th>chlorides</th>\n",
       "      <th>total sulfur dioxide</th>\n",
       "      <th>pH</th>\n",
       "      <th>sulphates</th>\n",
       "      <th>alcohol</th>\n",
       "      <th>new_quality</th>\n",
       "    </tr>\n",
       "  </thead>\n",
       "  <tbody>\n",
       "    <tr>\n",
       "      <th>0</th>\n",
       "      <td>-1.484093</td>\n",
       "      <td>3.812827</td>\n",
       "      <td>-2.567657</td>\n",
       "      <td>0.420810</td>\n",
       "      <td>-0.166343</td>\n",
       "      <td>-1.266508</td>\n",
       "      <td>1.655391</td>\n",
       "      <td>-0.435754</td>\n",
       "      <td>-0.266139</td>\n",
       "      <td>1</td>\n",
       "    </tr>\n",
       "    <tr>\n",
       "      <th>1</th>\n",
       "      <td>1.231568</td>\n",
       "      <td>-0.689400</td>\n",
       "      <td>0.511036</td>\n",
       "      <td>-0.902937</td>\n",
       "      <td>0.562624</td>\n",
       "      <td>0.002220</td>\n",
       "      <td>-0.921294</td>\n",
       "      <td>0.270796</td>\n",
       "      <td>0.301917</td>\n",
       "      <td>1</td>\n",
       "    </tr>\n",
       "    <tr>\n",
       "      <th>2</th>\n",
       "      <td>0.168918</td>\n",
       "      <td>-0.689400</td>\n",
       "      <td>-0.162289</td>\n",
       "      <td>0.270893</td>\n",
       "      <td>0.029069</td>\n",
       "      <td>-0.702629</td>\n",
       "      <td>0.466152</td>\n",
       "      <td>0.094159</td>\n",
       "      <td>0.220766</td>\n",
       "      <td>2</td>\n",
       "    </tr>\n",
       "    <tr>\n",
       "      <th>3</th>\n",
       "      <td>1.113495</td>\n",
       "      <td>1.258780</td>\n",
       "      <td>-0.604330</td>\n",
       "      <td>0.832616</td>\n",
       "      <td>0.659038</td>\n",
       "      <td>0.942019</td>\n",
       "      <td>-0.987363</td>\n",
       "      <td>-0.524073</td>\n",
       "      <td>0.301917</td>\n",
       "      <td>2</td>\n",
       "    </tr>\n",
       "    <tr>\n",
       "      <th>4</th>\n",
       "      <td>-1.011804</td>\n",
       "      <td>-0.912026</td>\n",
       "      <td>0.346409</td>\n",
       "      <td>0.858756</td>\n",
       "      <td>-0.658175</td>\n",
       "      <td>-2.065337</td>\n",
       "      <td>-0.723088</td>\n",
       "      <td>1.507259</td>\n",
       "      <td>1.194577</td>\n",
       "      <td>2</td>\n",
       "    </tr>\n",
       "  </tbody>\n",
       "</table>\n",
       "</div>"
      ],
      "text/plain": [
       "   fixed acidity  volatile acidity  citric acid  residual sugar  chlorides  \\\n",
       "0      -1.484093          3.812827    -2.567657        0.420810  -0.166343   \n",
       "1       1.231568         -0.689400     0.511036       -0.902937   0.562624   \n",
       "2       0.168918         -0.689400    -0.162289        0.270893   0.029069   \n",
       "3       1.113495          1.258780    -0.604330        0.832616   0.659038   \n",
       "4      -1.011804         -0.912026     0.346409        0.858756  -0.658175   \n",
       "\n",
       "   total sulfur dioxide        pH  sulphates   alcohol  new_quality  \n",
       "0             -1.266508  1.655391  -0.435754 -0.266139            1  \n",
       "1              0.002220 -0.921294   0.270796  0.301917            1  \n",
       "2             -0.702629  0.466152   0.094159  0.220766            2  \n",
       "3              0.942019 -0.987363  -0.524073  0.301917            2  \n",
       "4             -2.065337 -0.723088   1.507259  1.194577            2  "
      ]
     },
     "execution_count": 58,
     "metadata": {},
     "output_type": "execute_result"
    }
   ],
   "source": [
    "white_train_4 = white_train_4.drop(['density', 'free sulfur dioxide'], axis = 1)\n",
    "white_train_4.head()"
   ]
  },
  {
   "cell_type": "code",
   "execution_count": 59,
   "metadata": {},
   "outputs": [],
   "source": [
    "### feature/target 분리\n",
    "\n",
    "X_4th = white_train_4.drop(['new_quality'], axis = 1)\n",
    "y_4th = white_train_4['new_quality']"
   ]
  },
  {
   "cell_type": "markdown",
   "metadata": {},
   "source": [
    "### **a) 단일 모델**"
   ]
  },
  {
   "cell_type": "code",
   "execution_count": 60,
   "metadata": {},
   "outputs": [],
   "source": [
    "### 활용할 모델 정의\n",
    "\n",
    "white4_models = []\n",
    "\n",
    "white4_models.append(('LDA', LinearDiscriminantAnalysis()))\n",
    "white4_models.append(('SGD', SGDClassifier()))\n",
    "white4_models.append(('KNN', KNeighborsClassifier()))\n",
    "white4_models.append(('DT', DecisionTreeClassifier(random_state = 0)))\n",
    "white4_models.append(('NB', GaussianNB()))\n",
    "white4_models.append(('SVC', SVC(random_state = 0)))"
   ]
  },
  {
   "cell_type": "code",
   "execution_count": 61,
   "metadata": {},
   "outputs": [
    {
     "name": "stdout",
     "output_type": "stream",
     "text": [
      "LDA: 0.544\n",
      "SGD: 0.505\n",
      "KNN: 0.579\n",
      "DT: 0.613\n",
      "NB: 0.491\n",
      "SVC: 0.590\n",
      "\n",
      "모든 모델의 평균 메트릭(정확도): 0.553\n"
     ]
    }
   ],
   "source": [
    "### 순차적으로 modeling + 학습/예측/검증\n",
    "white4_results = []\n",
    "white4_names = []\n",
    "white4_metrics = []\n",
    "\n",
    "for name, model in white4_models:\n",
    "    cv_results = cross_val_score(model, white_X_4th, white_y_4th, \n",
    "                                 cv = skf, scoring = 'accuracy')\n",
    "    white4_results.append(cv_results)\n",
    "    white4_names.append(name)\n",
    "    white4_metrics.append(cv_results.mean())\n",
    "    msg = \"%s: %.3f\" % (name, cv_results.mean())\n",
    "    print(msg)\n",
    "\n",
    "print()\n",
    "print('모든 모델의 평균 메트릭(정확도):',round(np.mean(white4_metrics),3))"
   ]
  },
  {
   "cell_type": "markdown",
   "metadata": {},
   "source": [
    "### **b) 앙상블 모델**"
   ]
  },
  {
   "cell_type": "code",
   "execution_count": 62,
   "metadata": {},
   "outputs": [],
   "source": [
    "white4_ensemble = []\n",
    "\n",
    "white4_ensemble.append(('RF', RandomForestClassifier(random_state = 0)))\n",
    "white4_ensemble.append(('Bagging',BaggingClassifier(DecisionTreeClassifier(), random_state = 0)))\n",
    "white4_ensemble.append(('GB', GradientBoostingClassifier(random_state = 0)))\n",
    "white4_ensemble.append(('XGB', XGBClassifier(random_state = 0)))\n",
    "white4_ensemble.append(('LGBM', LGBMClassifier(random_state = 0)))\n",
    "white4_ensemble.append(('Ada', AdaBoostClassifier(random_state = 0)))\n",
    "white4_ensemble.append(('ET', ExtraTreesClassifier(random_state = 0)))"
   ]
  },
  {
   "cell_type": "code",
   "execution_count": 63,
   "metadata": {},
   "outputs": [
    {
     "name": "stdout",
     "output_type": "stream",
     "text": [
      "RF: 0.686\n",
      "Bagging: 0.655\n",
      "GB: 0.601\n",
      "XGB: 0.672\n",
      "LGBM: 0.660\n",
      "Ada: 0.515\n",
      "ET: 0.696\n",
      "\n",
      "모든 모델의 평균 메트릭(정확도): 0.641\n"
     ]
    }
   ],
   "source": [
    "### 순차적으로 modeling + 학습/예측/검증\n",
    "\n",
    "white4_en_results = []\n",
    "white4_en_names = []\n",
    "white4_en_metrics = []\n",
    "\n",
    "for name, model in white4_ensemble:\n",
    "    cv_results = cross_val_score(model, white_X_4th, white_y_4th, \n",
    "                                 cv = skf, scoring = 'accuracy')\n",
    "    white4_en_results.append(cv_results)\n",
    "    white4_en_names.append(name)\n",
    "    white4_en_metrics.append(cv_results.mean())\n",
    "    msg = \"%s: %.3f\" % (name, cv_results.mean())\n",
    "    print(msg)\n",
    "\n",
    "print()\n",
    "print('모든 모델의 평균 메트릭(정확도):',round(np.mean(white4_en_metrics),3))"
   ]
  },
  {
   "cell_type": "markdown",
   "metadata": {},
   "source": [
    "- 성능에 별다른 개선은 x"
   ]
  },
  {
   "cell_type": "markdown",
   "metadata": {},
   "source": [
    "**⭐ 데이터는 로그 변환된 ```white_X_2nd```와 ```white_y_2nd```를 계속해서 활용**"
   ]
  },
  {
   "cell_type": "markdown",
   "metadata": {},
   "source": [
    "# **6. 데이터 불균형 처리**"
   ]
  },
  {
   "cell_type": "markdown",
   "metadata": {},
   "source": [
    "## **6-1. 클래스 가중치 부여(Weight Balancing)**"
   ]
  },
  {
   "cell_type": "markdown",
   "metadata": {},
   "source": [
    "- 관련 코드 같은 걸 찾기는 했는데,, 잘못 적용한 건지 성능이 너무 떨어져서 지웠습니다...ㅎ  \n",
    "(원래는 가중치 주면 비슷하거나 성능이 올라가면 올라가지 내려가는 경우는 거의 없음,,)\n",
    "- 혹시 활용할 사람 있을까봐 링크 남겨둘게용\n",
    "    - [Reference](https://medium.com/grabngoinfo/balanced-weights-for-imbalanced-classification-465f0e13c5ad)"
   ]
  },
  {
   "cell_type": "markdown",
   "metadata": {},
   "source": [
    "## **6-2. SMOTE**\n",
    "- 클래스를 모아도 클래스 간의 불균형이 해결되지는 x\n",
    "    - 오버샘플링 적용"
   ]
  },
  {
   "cell_type": "code",
   "execution_count": 64,
   "metadata": {},
   "outputs": [
    {
     "name": "stdout",
     "output_type": "stream",
     "text": [
      "SMOTE 적용 전 학습용 피처/레이블 데이터 세트:  (4159, 11) (4159,)\n",
      "SMOTE 적용 후 학습용 피처/레이블 데이터 세트:  (7524, 11) (7524,)\n",
      "SMOTE 적용 후 레이블 값 분포: \n",
      " 1    1881\n",
      "2    1881\n",
      "3    1881\n",
      "0    1881\n",
      "Name: new_quality, dtype: int64\n"
     ]
    }
   ],
   "source": [
    "from imblearn.over_sampling import SMOTE\n",
    "\n",
    "smote = SMOTE(random_state = 0)\n",
    "white_X_over, white_y_over = smote.fit_resample(white_X_2nd, white_y_2nd)\n",
    "\n",
    "print('SMOTE 적용 전 학습용 피처/레이블 데이터 세트: ', white_X_2nd.shape, white_y_2nd.shape)\n",
    "print('SMOTE 적용 후 학습용 피처/레이블 데이터 세트: ', white_X_over.shape, white_y_over.shape)\n",
    "print('SMOTE 적용 후 레이블 값 분포: \\n', pd.Series(white_y_over).value_counts())"
   ]
  },
  {
   "cell_type": "markdown",
   "metadata": {},
   "source": [
    "- SMOTE 적용 후 클래스 4의 경우 11배 이상 데이터가 증가함\n",
    "- 클래스 7의 경우 3배 정도 증가"
   ]
  },
  {
   "cell_type": "markdown",
   "metadata": {},
   "source": [
    "### **a) 단일 모델**"
   ]
  },
  {
   "cell_type": "code",
   "execution_count": 65,
   "metadata": {},
   "outputs": [],
   "source": [
    "### 활용할 모델 정의\n",
    "\n",
    "white5_models = []\n",
    "\n",
    "white5_models.append(('LDA', LinearDiscriminantAnalysis()))\n",
    "white5_models.append(('SGD', SGDClassifier()))\n",
    "white5_models.append(('KNN', KNeighborsClassifier()))\n",
    "white5_models.append(('DT', DecisionTreeClassifier(random_state = 0)))\n",
    "white5_models.append(('NB', GaussianNB()))\n",
    "white5_models.append(('SVC', SVC(random_state = 0)))"
   ]
  },
  {
   "cell_type": "code",
   "execution_count": 66,
   "metadata": {},
   "outputs": [
    {
     "name": "stdout",
     "output_type": "stream",
     "text": [
      "LDA: 0.541\n",
      "SGD: 0.503\n",
      "KNN: 0.749\n",
      "DT: 0.746\n",
      "NB: 0.522\n",
      "SVC: 0.667\n",
      "\n",
      "모든 모델의 평균 메트릭(정확도): 0.621\n"
     ]
    }
   ],
   "source": [
    "### 순차적으로 modeling + 학습/예측/검증\n",
    "\n",
    "white5_results = []\n",
    "white5_names = []\n",
    "white5_metrics = []\n",
    "\n",
    "for name, model in white5_models:\n",
    "    cv_results = cross_val_score(model, white_X_over, white_y_over, \n",
    "                                 cv = skf, scoring = 'accuracy')\n",
    "    white5_results.append(cv_results)\n",
    "    white5_names.append(name)\n",
    "    white5_metrics.append(cv_results.mean())\n",
    "    msg = \"%s: %.3f\" % (name, cv_results.mean())\n",
    "    print(msg)\n",
    "\n",
    "print()\n",
    "print('모든 모델의 평균 메트릭(정확도):',round(np.mean(white5_metrics),3))"
   ]
  },
  {
   "cell_type": "markdown",
   "metadata": {},
   "source": [
    "### **b) 앙상블 모델**"
   ]
  },
  {
   "cell_type": "code",
   "execution_count": 67,
   "metadata": {},
   "outputs": [],
   "source": [
    "white5_ensemble = []\n",
    "\n",
    "white5_ensemble.append(('RF', RandomForestClassifier(random_state = 0)))\n",
    "white5_ensemble.append(('Bagging',BaggingClassifier(DecisionTreeClassifier(), random_state = 0)))\n",
    "white5_ensemble.append(('GB', GradientBoostingClassifier(random_state = 0)))\n",
    "white5_ensemble.append(('XGB', XGBClassifier(random_state = 0)))\n",
    "white5_ensemble.append(('LGBM', LGBMClassifier(random_state = 0)))\n",
    "white5_ensemble.append(('Ada', AdaBoostClassifier(random_state = 0)))\n",
    "white5_ensemble.append(('ET', ExtraTreesClassifier(random_state = 0)))"
   ]
  },
  {
   "cell_type": "code",
   "execution_count": 68,
   "metadata": {},
   "outputs": [
    {
     "name": "stdout",
     "output_type": "stream",
     "text": [
      "RF: 0.834\n",
      "Bagging: 0.791\n",
      "GB: 0.688\n",
      "XGB: 0.814\n",
      "LGBM: 0.815\n",
      "Ada: 0.551\n",
      "ET: 0.845\n",
      "\n",
      "모든 모델의 평균 메트릭(정확도): 0.763\n"
     ]
    }
   ],
   "source": [
    "### 순차적으로 modeling + 학습/예측/검증\n",
    "\n",
    "white5_en_results = []\n",
    "white5_en_names = []\n",
    "white5_en_metrics = []\n",
    "\n",
    "for name, model in white5_ensemble:\n",
    "    cv_results = cross_val_score(model, white_X_over, white_y_over, \n",
    "                                 cv = skf, scoring = 'accuracy')\n",
    "    white5_en_results.append(cv_results)\n",
    "    white5_en_names.append(name)\n",
    "    white5_en_metrics.append(cv_results.mean())\n",
    "    msg = \"%s: %.3f\" % (name, cv_results.mean())\n",
    "    print(msg)\n",
    "\n",
    "print()\n",
    "print('모든 모델의 평균 메트릭(정확도):',round(np.mean(white5_en_metrics),3))"
   ]
  },
  {
   "cell_type": "markdown",
   "metadata": {},
   "source": [
    "- 성능이 크게 **향상됨**"
   ]
  },
  {
   "cell_type": "markdown",
   "metadata": {},
   "source": [
    "# **7. 하이퍼 파라미터 튜닝**"
   ]
  },
  {
   "cell_type": "markdown",
   "metadata": {},
   "source": [
    "- 성능이 좋은 모델은 **ExtraTrees**, **LGBM**, **XGB**임\n",
    "    - 모두 **Oversampling** 된 데이터로 학습\n",
    "- 해당 모델들에 대해 **하이퍼 파라미터 튜닝**을 적용해 보자.\n",
    "- [extraTrees 설명](https://velog.io/@nata0919/Extra-Trees-%EC%A0%95%EB%A6%AC)"
   ]
  },
  {
   "cell_type": "markdown",
   "metadata": {},
   "source": [
    "### **7-1. ExtraTrees**"
   ]
  },
  {
   "cell_type": "code",
   "execution_count": 104,
   "metadata": {},
   "outputs": [],
   "source": [
    "from sklearn.model_selection import GridSearchCV"
   ]
  },
  {
   "cell_type": "code",
   "execution_count": 105,
   "metadata": {},
   "outputs": [
    {
     "name": "stdout",
     "output_type": "stream",
     "text": [
      "최적 모델: 0.848748 using {'n_estimators': 200}\n"
     ]
    }
   ],
   "source": [
    "params = {\n",
    "    'n_estimators' : [200, 300, 400, 500, 600]\n",
    "}\n",
    "\n",
    "### 모델 객체\n",
    "et = ExtraTreesClassifier(random_state = 0)\n",
    "\n",
    "skf = StratifiedKFold(n_splits = 5, \n",
    "                      random_state = 0, shuffle = True)\n",
    "grid = GridSearchCV(estimator = et, param_grid = params, \n",
    "                    scoring = 'accuracy', cv = skf)\n",
    "grid_result = grid.fit(white_X_over, white_y_over)\n",
    "\n",
    "print(\"최적 모델: %f using %s\" % (grid_result.best_score_, grid_result.best_params_))"
   ]
  },
  {
   "cell_type": "code",
   "execution_count": 106,
   "metadata": {},
   "outputs": [],
   "source": [
    "### 최적 모델 생성\n",
    "\n",
    "et_opt = ExtraTreesClassifier(n_estimators = 200, random_state = 0)"
   ]
  },
  {
   "cell_type": "markdown",
   "metadata": {},
   "source": [
    "### **7-2. LightGBM**\n",
    "- [lgbm 파라미터 튜닝](https://lightgbm.readthedocs.io/en/latest/pythonapi/lightgbm.LGBMClassifier.html)"
   ]
  },
  {
   "cell_type": "code",
   "execution_count": 73,
   "metadata": {},
   "outputs": [
    {
     "name": "stdout",
     "output_type": "stream",
     "text": [
      "최적 모델: 0.841573 using {'boosting_type': 'gbdt', 'learning_rate': 0.15, 'n_estimators': 500, 'num_leaves': 40}\n"
     ]
    }
   ],
   "source": [
    "params = {\n",
    "    'boosting_type' : ['gbdt', 'dart'], \n",
    "    'learning_rate' : [0.01, 0.05, 0.1, 0.15, 0.2],\n",
    "    'n_estimators' : [100, 200, 300, 400, 500],\n",
    "    'num_leaves' : [10, 20, 30, 40, 50]\n",
    "}\n",
    "\n",
    "### 모델 객체\n",
    "lgbm = LGBMClassifier(random_state = 0)\n",
    "\n",
    "skf = StratifiedKFold(n_splits = 5, \n",
    "                      random_state = 0, shuffle = True)\n",
    "grid = GridSearchCV(estimator = lgbm, param_grid = params, \n",
    "                    scoring = 'accuracy', cv = skf)\n",
    "grid_result = grid.fit(white_X_over, white_y_over)\n",
    "\n",
    "print(\"최적 모델: %f using %s\" % (grid_result.best_score_, grid_result.best_params_))"
   ]
  },
  {
   "cell_type": "code",
   "execution_count": 75,
   "metadata": {},
   "outputs": [],
   "source": [
    "lgbm_opt = LGBMClassifier(boosting_type = 'gbdt',learning_rate = 0.15,\n",
    "                          n_estimators = 500,num_leaves = 40, random_state = 0)"
   ]
  },
  {
   "cell_type": "markdown",
   "metadata": {},
   "source": [
    "### **7-3. XGB**"
   ]
  },
  {
   "cell_type": "code",
   "execution_count": 74,
   "metadata": {},
   "outputs": [
    {
     "name": "stdout",
     "output_type": "stream",
     "text": [
      "최적 모델: 0.830675 using {'learning_rate': 0.3, 'max_depth': 8, 'max_leaves': 200, 'tree_method': 'gpu_hist'}\n"
     ]
    }
   ],
   "source": [
    "params = {\n",
    "    'tree_method' : ['exact', 'gpu_hist'],\n",
    "    'learning_rate' : [0.01, 0.1, 0.3],\n",
    "    'max_depth' : [4,6,8],\n",
    "    'max_leaves' : [200, 300, 400],\n",
    "}\n",
    "\n",
    "### 모델 객체\n",
    "xgb = XGBClassifier(random_state = 0)\n",
    "\n",
    "skf = StratifiedKFold(n_splits = 5, \n",
    "                      random_state = 0, shuffle = True)\n",
    "grid = GridSearchCV(estimator = xgb, param_grid = params, \n",
    "                    scoring = 'accuracy', cv = skf)\n",
    "grid_result = grid.fit(white_X_over, white_y_over)\n",
    "\n",
    "print(\"최적 모델: %f using %s\" % (grid_result.best_score_, grid_result.best_params_))"
   ]
  },
  {
   "cell_type": "code",
   "execution_count": 76,
   "metadata": {},
   "outputs": [],
   "source": [
    "xgb_opt = XGBClassifier(learning_rate = 0.3, max_depth = 8, max_leaves = 200, \n",
    "                        tree_method = 'gpu_hist',random_state = 0)"
   ]
  },
  {
   "cell_type": "markdown",
   "metadata": {},
   "source": [
    "# **8. 스태킹 모델 생성**\n",
    "- 개별 모델: hyper parameter tuning을 적용한 ```ET```, ```LGBM```, ```XGB```\n",
    "- 최종 예측 모델: ```RandomForest```"
   ]
  },
  {
   "cell_type": "code",
   "execution_count": 107,
   "metadata": {},
   "outputs": [],
   "source": [
    "from sklearn.model_selection import StratifiedKFold\n",
    "from sklearn.metrics import mean_absolute_error\n",
    "\n",
    "### 개별 기반 모델에서 최종 메타 모델이 사용할 학습/테스트용 데이터를 생성하기 위한 함수\n",
    "def get_stacking_base_datasets(model, X_train_n, y_train_n, X_test_n, n_folds):\n",
    "    # 지정된 n_folds 값으로 KFold 생성\n",
    "    skf = StratifiedKFold(n_splits = n_folds, shuffle = True, random_state = 0)\n",
    "    \n",
    "    # 추후에 메타 모델이 사용할 학습 데이터 반환을 위한 넘파이 배열 초기화 \n",
    "    train_fold_pred = np.zeros((X_train_n.shape[0],1))\n",
    "    test_pred = np.zeros((X_test_n.shape[0], n_folds))\n",
    "    print(model.__class__.__name__ , ' model 시작')\n",
    "    \n",
    "    for folder_counter, (train_index, valid_index) in enumerate(skf.split(X_train_n, y_train_n)):\n",
    "        # 입력된 학습 데이터에서 기반 모델이 학습/예측할 폴드 데이터 셋 추출 \n",
    "        print('\\t 폴드 세트: ',folder_counter,' 시작 ')\n",
    "        X_tr = X_train_n.iloc[train_index] \n",
    "        y_tr = y_train_n.iloc[train_index] \n",
    "        X_te = X_train_n.iloc[valid_index]  \n",
    "        \n",
    "        # 폴드 세트 내부에서 다시 만들어진 학습 데이터로 기반 모델의 학습 수행\n",
    "        model.fit(X_tr, y_tr)       \n",
    "        \n",
    "        # 폴드 세트 내부에서 다시 만들어진 검증 데이터로 기반 모델 예측 후 데이터 저장\n",
    "        train_fold_pred[valid_index, :] = model.predict(X_te).reshape(-1,1)\n",
    "        \n",
    "        # 입력된 원본 테스트 데이터를 폴드 세트내 학습된 기반 모델에서 예측 후 데이터 저장 \n",
    "        test_pred[:, folder_counter] = model.predict(X_test_n)\n",
    "            \n",
    "    # 폴드 세트 내에서 원본 테스트 데이터를 예측한 데이터를 평균하여 테스트 데이터로 생성 \n",
    "    test_pred_mean = np.mean(test_pred, axis = 1).reshape(-1,1)    \n",
    "    \n",
    "    # train_fold_pred는 최종 메타 모델이 사용하는 학습 데이터\n",
    "    # test_pred_mean은 테스트 데이터\n",
    "    \n",
    "    return train_fold_pred, test_pred_mean"
   ]
  },
  {
   "cell_type": "code",
   "execution_count": 108,
   "metadata": {},
   "outputs": [],
   "source": [
    "### 학습용, 검증용 데이터 분한\n",
    "\n",
    "from sklearn.model_selection import train_test_split\n",
    "\n",
    "X_train, X_valid, y_train, y_valid = train_test_split(white_X_over,white_y_over, \n",
    "                                                    test_size = 0.2, random_state = 0)"
   ]
  },
  {
   "cell_type": "code",
   "execution_count": 109,
   "metadata": {},
   "outputs": [
    {
     "name": "stdout",
     "output_type": "stream",
     "text": [
      "ExtraTreesClassifier  model 시작\n",
      "\t 폴드 세트:  0  시작 \n",
      "\t 폴드 세트:  1  시작 \n",
      "\t 폴드 세트:  2  시작 \n",
      "\t 폴드 세트:  3  시작 \n",
      "\t 폴드 세트:  4  시작 \n",
      "LGBMClassifier  model 시작\n",
      "\t 폴드 세트:  0  시작 \n",
      "\t 폴드 세트:  1  시작 \n",
      "\t 폴드 세트:  2  시작 \n",
      "\t 폴드 세트:  3  시작 \n",
      "\t 폴드 세트:  4  시작 \n",
      "XGBClassifier  model 시작\n",
      "\t 폴드 세트:  0  시작 \n",
      "\t 폴드 세트:  1  시작 \n",
      "\t 폴드 세트:  2  시작 \n",
      "\t 폴드 세트:  3  시작 \n",
      "\t 폴드 세트:  4  시작 \n"
     ]
    }
   ],
   "source": [
    "### 1. 각 개별 기반 모델 학습\n",
    "# 각 모델별로 메타 모델이 추후에 사용할 학습용/테스트용 데이터 세트를 생성\n",
    "\n",
    "et_train, et_valid = get_stacking_base_datasets(et_opt, X_train, y_train, X_valid, 5)\n",
    "lgbm_train, lgbm_valid = get_stacking_base_datasets(lgbm_opt, X_train, y_train, X_valid, 5)\n",
    "xgb_train, xgb_valid = get_stacking_base_datasets(xgb_opt, X_train, y_train, X_valid,5)"
   ]
  },
  {
   "cell_type": "code",
   "execution_count": 110,
   "metadata": {},
   "outputs": [
    {
     "name": "stdout",
     "output_type": "stream",
     "text": [
      "최종 메타 모델의 예측 정확도: 0.8478\n"
     ]
    }
   ],
   "source": [
    "### 2. 최종 예측\n",
    "\n",
    "Stack_final_X_train = np.concatenate((et_train, lgbm_train, xgb_train), axis = 1)\n",
    "Stack_final_X_valid = np.concatenate((et_valid, lgbm_valid, xgb_valid), axis = 1)\n",
    "\n",
    "rf_final = RandomForestClassifier(random_state = 0)\n",
    "rf_final.fit(Stack_final_X_train, y_train)\n",
    "stack_final = rf_final.predict(Stack_final_X_valid)\n",
    "\n",
    "print('최종 메타 모델의 예측 정확도: {0:.4f}'.format(accuracy_score(y_valid, stack_final)))"
   ]
  },
  {
   "cell_type": "markdown",
   "metadata": {},
   "source": [
    "- 개별 단일 ET 모델의 성능이 더 좋다."
   ]
  },
  {
   "cell_type": "markdown",
   "metadata": {},
   "source": [
    "# **9. 제출 파일 생성**\n",
    "- class: [4,5,6,7]을 [0,1,2,3]으로 변경한 상태\n",
    "    - XGB 에러(클래스가 0부터 시작하길 바람)\n",
    "    - 최종 예측은 각 예측값 + 4 해야 함"
   ]
  },
  {
   "cell_type": "code",
   "execution_count": 111,
   "metadata": {},
   "outputs": [],
   "source": [
    "submission = pd.read_csv('./data/red_submission.csv') # 이미 red wine에 대한 정보가 있음"
   ]
  },
  {
   "cell_type": "code",
   "execution_count": 112,
   "metadata": {},
   "outputs": [
    {
     "name": "stdout",
     "output_type": "stream",
     "text": [
      "ExtraTreesClassifier  model 시작\n",
      "\t 폴드 세트:  0  시작 \n",
      "\t 폴드 세트:  1  시작 \n",
      "\t 폴드 세트:  2  시작 \n",
      "\t 폴드 세트:  3  시작 \n",
      "\t 폴드 세트:  4  시작 \n",
      "LGBMClassifier  model 시작\n",
      "\t 폴드 세트:  0  시작 \n",
      "\t 폴드 세트:  1  시작 \n",
      "\t 폴드 세트:  2  시작 \n",
      "\t 폴드 세트:  3  시작 \n",
      "\t 폴드 세트:  4  시작 \n",
      "XGBClassifier  model 시작\n",
      "\t 폴드 세트:  0  시작 \n",
      "\t 폴드 세트:  1  시작 \n",
      "\t 폴드 세트:  2  시작 \n",
      "\t 폴드 세트:  3  시작 \n",
      "\t 폴드 세트:  4  시작 \n"
     ]
    }
   ],
   "source": [
    "### 1. 각 개별 기반 모델 학습\n",
    "# 각 모델별로 메타 모델이 추후에 사용할 학습용/테스트용 데이터 세트를 생성\n",
    "\n",
    "et_train, et_test = get_stacking_base_datasets(et_opt,white_X_over,white_y_over, white_test, 5)\n",
    "lgbm_train, lgbm_test = get_stacking_base_datasets(lgbm_opt,white_X_over,white_y_over, white_test, 5)\n",
    "xgb_train, xgb_test = get_stacking_base_datasets(xgb_opt,white_X_over,white_y_over, white_test, 5)"
   ]
  },
  {
   "cell_type": "code",
   "execution_count": 113,
   "metadata": {},
   "outputs": [],
   "source": [
    "### 2. 최종 예측\n",
    "\n",
    "Stack_final_X_train = np.concatenate((et_train, lgbm_train, xgb_train), axis = 1)\n",
    "Stack_final_X_test = np.concatenate((et_test, lgbm_test, xgb_test), axis = 1)\n",
    "\n",
    "rf_final = RandomForestClassifier(random_state = 0)\n",
    "rf_final.fit(Stack_final_X_train, white_y_over)\n",
    "white_stack_final = rf_final.predict(Stack_final_X_test)"
   ]
  },
  {
   "cell_type": "code",
   "execution_count": 114,
   "metadata": {},
   "outputs": [
    {
     "data": {
      "text/html": [
       "<div>\n",
       "<style scoped>\n",
       "    .dataframe tbody tr th:only-of-type {\n",
       "        vertical-align: middle;\n",
       "    }\n",
       "\n",
       "    .dataframe tbody tr th {\n",
       "        vertical-align: top;\n",
       "    }\n",
       "\n",
       "    .dataframe thead th {\n",
       "        text-align: right;\n",
       "    }\n",
       "</style>\n",
       "<table border=\"1\" class=\"dataframe\">\n",
       "  <thead>\n",
       "    <tr style=\"text-align: right;\">\n",
       "      <th></th>\n",
       "      <th>index</th>\n",
       "      <th>quality</th>\n",
       "    </tr>\n",
       "  </thead>\n",
       "  <tbody>\n",
       "    <tr>\n",
       "      <th>0</th>\n",
       "      <td>0</td>\n",
       "      <td>5</td>\n",
       "    </tr>\n",
       "    <tr>\n",
       "      <th>1</th>\n",
       "      <td>1</td>\n",
       "      <td>6</td>\n",
       "    </tr>\n",
       "    <tr>\n",
       "      <th>2</th>\n",
       "      <td>2</td>\n",
       "      <td>6</td>\n",
       "    </tr>\n",
       "    <tr>\n",
       "      <th>3</th>\n",
       "      <td>3</td>\n",
       "      <td>5</td>\n",
       "    </tr>\n",
       "    <tr>\n",
       "      <th>4</th>\n",
       "      <td>4</td>\n",
       "      <td>6</td>\n",
       "    </tr>\n",
       "    <tr>\n",
       "      <th>...</th>\n",
       "      <td>...</td>\n",
       "      <td>...</td>\n",
       "    </tr>\n",
       "    <tr>\n",
       "      <th>995</th>\n",
       "      <td>995</td>\n",
       "      <td>6</td>\n",
       "    </tr>\n",
       "    <tr>\n",
       "      <th>996</th>\n",
       "      <td>996</td>\n",
       "      <td>5</td>\n",
       "    </tr>\n",
       "    <tr>\n",
       "      <th>997</th>\n",
       "      <td>997</td>\n",
       "      <td>5</td>\n",
       "    </tr>\n",
       "    <tr>\n",
       "      <th>998</th>\n",
       "      <td>998</td>\n",
       "      <td>6</td>\n",
       "    </tr>\n",
       "    <tr>\n",
       "      <th>999</th>\n",
       "      <td>999</td>\n",
       "      <td>6</td>\n",
       "    </tr>\n",
       "  </tbody>\n",
       "</table>\n",
       "<p>1000 rows × 2 columns</p>\n",
       "</div>"
      ],
      "text/plain": [
       "     index  quality\n",
       "0        0        5\n",
       "1        1        6\n",
       "2        2        6\n",
       "3        3        5\n",
       "4        4        6\n",
       "..     ...      ...\n",
       "995    995        6\n",
       "996    996        5\n",
       "997    997        5\n",
       "998    998        6\n",
       "999    999        6\n",
       "\n",
       "[1000 rows x 2 columns]"
      ]
     },
     "execution_count": 114,
     "metadata": {},
     "output_type": "execute_result"
    }
   ],
   "source": [
    "submission.iloc[white_idx,-1] =  white_stack_final + 4\n",
    "submission"
   ]
  },
  {
   "cell_type": "code",
   "execution_count": 115,
   "metadata": {},
   "outputs": [],
   "source": [
    "# csv 파일로 저장\n",
    "\n",
    "submission.to_csv('./data/final_submission.csv', index = False)"
   ]
  },
  {
   "cell_type": "code",
   "execution_count": null,
   "metadata": {},
   "outputs": [],
   "source": []
  }
 ],
 "metadata": {
  "kernelspec": {
   "display_name": "Python 3 (ipykernel)",
   "language": "python",
   "name": "python3"
  },
  "language_info": {
   "codemirror_mode": {
    "name": "ipython",
    "version": 3
   },
   "file_extension": ".py",
   "mimetype": "text/x-python",
   "name": "python",
   "nbconvert_exporter": "python",
   "pygments_lexer": "ipython3",
   "version": "3.8.9"
  }
 },
 "nbformat": 4,
 "nbformat_minor": 4
}
